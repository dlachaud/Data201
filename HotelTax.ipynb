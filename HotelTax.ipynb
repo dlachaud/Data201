{
  "nbformat": 4,
  "nbformat_minor": 0,
  "metadata": {
    "colab": {
      "provenance": [],
      "authorship_tag": "ABX9TyP1dbsbdGl+q9HgVE4Ud19d",
      "include_colab_link": true
    },
    "kernelspec": {
      "name": "python3",
      "display_name": "Python 3"
    },
    "language_info": {
      "name": "python"
    }
  },
  "cells": [
    {
      "cell_type": "markdown",
      "metadata": {
        "id": "view-in-github",
        "colab_type": "text"
      },
      "source": [
        "<a href=\"https://colab.research.google.com/github/dlachaud/Data201/blob/main/HotelTax.ipynb\" target=\"_parent\"><img src=\"https://colab.research.google.com/assets/colab-badge.svg\" alt=\"Open In Colab\"/></a>"
      ]
    },
    {
      "cell_type": "markdown",
      "source": [
        "# **By:**\n",
        "\n",
        "Daniel Lachaud\n"
      ],
      "metadata": {
        "id": "SgdXUhdGs9mA"
      }
    },
    {
      "cell_type": "markdown",
      "source": [
        "\"This dataset contains information on the Room Rental-Transient Tax (Hotel Tax): Section 52-16 of the Montgomery County Code, as amended, imposes a Room Rental-Transient Tax upon each and every person, who for a period of thirty or fewer days occupies, for compensation, sleeping accommodations in a public or private hotel, motel, inn, hostelry, tourist home, a residential house or a room within a house, and or any other lodging located in Montgomery County, Maryland.\"\n",
        "\n",
        "The rate of the tax is 7% of the rent."
      ],
      "metadata": {
        "id": "XWouT0yqtVUK"
      }
    },
    {
      "cell_type": "markdown",
      "source": [
        "A quick glance at the variables contained in the Hotel_Tax.csv Dataset.\n",
        "\n",
        "\n",
        "**Name:**\tName of the Business\t\n",
        "\n",
        "**Month:**\tFiling Month\t\n",
        "\n",
        "**Quarter:**\tFiling Quarter\t\n",
        "\n",
        "**Year:**\tFiling Year\t\n",
        "\n",
        "**Filing Frequency:**\tEither Month (M) or Quarter (Q)\t\n",
        "\n",
        "**Due Date:**\tTax Due Date based on the Filing Period\tDate & Time\t\n",
        "\n",
        "**Taxable Amount:**\tTotal Collection minus Total Exemption\t\t\n",
        "\n",
        "**Tax Due:**\tTotal Tax Due\t\n",
        "\n",
        "**Interest:**\tInterest if paid late\t\n",
        "\n",
        "**Penalty:**\tPenalty if paid late\t\t\n",
        "\n",
        "**Total Amount Due:**\tTotal Amount Due. Tax plus interest and penalty\t\n",
        "\t\n",
        "\n",
        "**Source:** https://data.montgomerycountymd.gov/Finance-Tax-Property/Hotel-Tax/2jez-gq75\n"
      ],
      "metadata": {
        "id": "rILKawR_uuVR"
      }
    },
    {
      "cell_type": "markdown",
      "source": [
        "# **Questions of Interest:**\n",
        "\n",
        "\n",
        "What are the top 10 hotels that pay the most taxes from 2019 to 2022?\n",
        "\n",
        "What  is the average tax rate for hotels per year?\n",
        "\n",
        "What impact did Covid have on Hotel Tax revenues in Montgomery County?\n",
        "\n",
        "What happened to Airbnb During the Pandemic?\n",
        "\n",
        "Were there any hotels that went out of business during the pandemic?\n",
        "\n",
        "Were there any new hotels that were added during the pandemic\n",
        "\n",
        "What are the hotels that paid the most penalties from 2019 to 2022?\n",
        "\n",
        "How many hotels paid a penalty per year? How many did pay a penalty?\n",
        "\n",
        "What is the average interest the county gets on taxes?\n",
        "\n",
        "How many hotels were charged interest per year? How many were not charged interests?"
      ],
      "metadata": {
        "id": "KmgGgOJ5KvQ8"
      }
    },
    {
      "cell_type": "markdown",
      "source": [
        "# **Load necessary libraries**"
      ],
      "metadata": {
        "id": "vDcXkK_DvGYY"
      }
    },
    {
      "cell_type": "code",
      "execution_count": 61,
      "metadata": {
        "id": "-nqbuW1iT4Kz"
      },
      "outputs": [],
      "source": [
        "import pandas as pd\n",
        "import matplotlib.pyplot as plt\n",
        "import numpy as np\n",
        "import matplotlib as mpl\n",
        "import plotly.graph_objects as go\n",
        "import seaborn as sns\n",
        "import matplotlib.ticker as ticker\n",
        "from sklearn.model_selection import train_test_split\n",
        "#from sklearn.linear_model import LinearRegression\n",
        "#from sklearn.metrics import mean_absolute_error\n",
        "#from sklearn.metrics import mean_squared_error\n",
        "from sklearn.linear_model import LogisticRegression\n",
        "from sklearn import preprocessing\n",
        "from sklearn.metrics import classification_report, confusion_matrix\n",
        "from sklearn.metrics import roc_auc_score, roc_curve, accuracy_score\n",
        "from sklearn.metrics import precision_score, recall_score\n",
        "%matplotlib inline\n",
        "\n"
      ]
    },
    {
      "cell_type": "markdown",
      "source": [
        "**Read in Dataset**"
      ],
      "metadata": {
        "id": "tRMqbF88xQz1"
      }
    },
    {
      "cell_type": "code",
      "source": [
        "df = pd.read_csv('Hotel_Tax.csv')"
      ],
      "metadata": {
        "id": "D1ZFhuWRUCtd"
      },
      "execution_count": 62,
      "outputs": []
    },
    {
      "cell_type": "code",
      "source": [
        "df.head()"
      ],
      "metadata": {
        "colab": {
          "base_uri": "https://localhost:8080/",
          "height": 206
        },
        "id": "tT_ewO-_Uh8d",
        "outputId": "bfb9c568-d632-489b-e04d-81e8cd597d7c"
      },
      "execution_count": 63,
      "outputs": [
        {
          "output_type": "execute_result",
          "data": {
            "text/plain": [
              "                                            Name  Month  Quarter  Year  \\\n",
              "0                             Rocket Travel Inc.    8.0      NaN  2020   \n",
              "1                  Bethesda Hotel Associates LLC    4.0      NaN  2019   \n",
              "2  Canopy by Hilton-Washington DC-North Bethesda    6.0      NaN  2019   \n",
              "3                                       ELSS LLC    8.0      NaN  2019   \n",
              "4                                TripAdvisor LLC    4.0      NaN  2019   \n",
              "\n",
              "  Filing Frequency   Due Date  Taxable Amount   Tax Due  Interest  Penalty  \\\n",
              "0                M  9/30/2020          748.47     52.39       0.0      0.0   \n",
              "1                M  5/31/2019      1030148.47  72110.39       0.0      0.0   \n",
              "2                M  7/31/2019       805303.00  56371.21       0.0      0.0   \n",
              "3                M  9/30/2019       223343.71  15634.05       0.0      0.0   \n",
              "4                M  5/31/2019         3492.23    244.45       0.0      0.0   \n",
              "\n",
              "   Total Amount Due  \n",
              "0             52.39  \n",
              "1          72110.39  \n",
              "2          56371.21  \n",
              "3          15634.05  \n",
              "4            244.45  "
            ],
            "text/html": [
              "\n",
              "  <div id=\"df-de060f35-e2f4-4c6d-9770-710f0da475e9\">\n",
              "    <div class=\"colab-df-container\">\n",
              "      <div>\n",
              "<style scoped>\n",
              "    .dataframe tbody tr th:only-of-type {\n",
              "        vertical-align: middle;\n",
              "    }\n",
              "\n",
              "    .dataframe tbody tr th {\n",
              "        vertical-align: top;\n",
              "    }\n",
              "\n",
              "    .dataframe thead th {\n",
              "        text-align: right;\n",
              "    }\n",
              "</style>\n",
              "<table border=\"1\" class=\"dataframe\">\n",
              "  <thead>\n",
              "    <tr style=\"text-align: right;\">\n",
              "      <th></th>\n",
              "      <th>Name</th>\n",
              "      <th>Month</th>\n",
              "      <th>Quarter</th>\n",
              "      <th>Year</th>\n",
              "      <th>Filing Frequency</th>\n",
              "      <th>Due Date</th>\n",
              "      <th>Taxable Amount</th>\n",
              "      <th>Tax Due</th>\n",
              "      <th>Interest</th>\n",
              "      <th>Penalty</th>\n",
              "      <th>Total Amount Due</th>\n",
              "    </tr>\n",
              "  </thead>\n",
              "  <tbody>\n",
              "    <tr>\n",
              "      <th>0</th>\n",
              "      <td>Rocket Travel Inc.</td>\n",
              "      <td>8.0</td>\n",
              "      <td>NaN</td>\n",
              "      <td>2020</td>\n",
              "      <td>M</td>\n",
              "      <td>9/30/2020</td>\n",
              "      <td>748.47</td>\n",
              "      <td>52.39</td>\n",
              "      <td>0.0</td>\n",
              "      <td>0.0</td>\n",
              "      <td>52.39</td>\n",
              "    </tr>\n",
              "    <tr>\n",
              "      <th>1</th>\n",
              "      <td>Bethesda Hotel Associates LLC</td>\n",
              "      <td>4.0</td>\n",
              "      <td>NaN</td>\n",
              "      <td>2019</td>\n",
              "      <td>M</td>\n",
              "      <td>5/31/2019</td>\n",
              "      <td>1030148.47</td>\n",
              "      <td>72110.39</td>\n",
              "      <td>0.0</td>\n",
              "      <td>0.0</td>\n",
              "      <td>72110.39</td>\n",
              "    </tr>\n",
              "    <tr>\n",
              "      <th>2</th>\n",
              "      <td>Canopy by Hilton-Washington DC-North Bethesda</td>\n",
              "      <td>6.0</td>\n",
              "      <td>NaN</td>\n",
              "      <td>2019</td>\n",
              "      <td>M</td>\n",
              "      <td>7/31/2019</td>\n",
              "      <td>805303.00</td>\n",
              "      <td>56371.21</td>\n",
              "      <td>0.0</td>\n",
              "      <td>0.0</td>\n",
              "      <td>56371.21</td>\n",
              "    </tr>\n",
              "    <tr>\n",
              "      <th>3</th>\n",
              "      <td>ELSS LLC</td>\n",
              "      <td>8.0</td>\n",
              "      <td>NaN</td>\n",
              "      <td>2019</td>\n",
              "      <td>M</td>\n",
              "      <td>9/30/2019</td>\n",
              "      <td>223343.71</td>\n",
              "      <td>15634.05</td>\n",
              "      <td>0.0</td>\n",
              "      <td>0.0</td>\n",
              "      <td>15634.05</td>\n",
              "    </tr>\n",
              "    <tr>\n",
              "      <th>4</th>\n",
              "      <td>TripAdvisor LLC</td>\n",
              "      <td>4.0</td>\n",
              "      <td>NaN</td>\n",
              "      <td>2019</td>\n",
              "      <td>M</td>\n",
              "      <td>5/31/2019</td>\n",
              "      <td>3492.23</td>\n",
              "      <td>244.45</td>\n",
              "      <td>0.0</td>\n",
              "      <td>0.0</td>\n",
              "      <td>244.45</td>\n",
              "    </tr>\n",
              "  </tbody>\n",
              "</table>\n",
              "</div>\n",
              "      <button class=\"colab-df-convert\" onclick=\"convertToInteractive('df-de060f35-e2f4-4c6d-9770-710f0da475e9')\"\n",
              "              title=\"Convert this dataframe to an interactive table.\"\n",
              "              style=\"display:none;\">\n",
              "        \n",
              "  <svg xmlns=\"http://www.w3.org/2000/svg\" height=\"24px\"viewBox=\"0 0 24 24\"\n",
              "       width=\"24px\">\n",
              "    <path d=\"M0 0h24v24H0V0z\" fill=\"none\"/>\n",
              "    <path d=\"M18.56 5.44l.94 2.06.94-2.06 2.06-.94-2.06-.94-.94-2.06-.94 2.06-2.06.94zm-11 1L8.5 8.5l.94-2.06 2.06-.94-2.06-.94L8.5 2.5l-.94 2.06-2.06.94zm10 10l.94 2.06.94-2.06 2.06-.94-2.06-.94-.94-2.06-.94 2.06-2.06.94z\"/><path d=\"M17.41 7.96l-1.37-1.37c-.4-.4-.92-.59-1.43-.59-.52 0-1.04.2-1.43.59L10.3 9.45l-7.72 7.72c-.78.78-.78 2.05 0 2.83L4 21.41c.39.39.9.59 1.41.59.51 0 1.02-.2 1.41-.59l7.78-7.78 2.81-2.81c.8-.78.8-2.07 0-2.86zM5.41 20L4 18.59l7.72-7.72 1.47 1.35L5.41 20z\"/>\n",
              "  </svg>\n",
              "      </button>\n",
              "      \n",
              "  <style>\n",
              "    .colab-df-container {\n",
              "      display:flex;\n",
              "      flex-wrap:wrap;\n",
              "      gap: 12px;\n",
              "    }\n",
              "\n",
              "    .colab-df-convert {\n",
              "      background-color: #E8F0FE;\n",
              "      border: none;\n",
              "      border-radius: 50%;\n",
              "      cursor: pointer;\n",
              "      display: none;\n",
              "      fill: #1967D2;\n",
              "      height: 32px;\n",
              "      padding: 0 0 0 0;\n",
              "      width: 32px;\n",
              "    }\n",
              "\n",
              "    .colab-df-convert:hover {\n",
              "      background-color: #E2EBFA;\n",
              "      box-shadow: 0px 1px 2px rgba(60, 64, 67, 0.3), 0px 1px 3px 1px rgba(60, 64, 67, 0.15);\n",
              "      fill: #174EA6;\n",
              "    }\n",
              "\n",
              "    [theme=dark] .colab-df-convert {\n",
              "      background-color: #3B4455;\n",
              "      fill: #D2E3FC;\n",
              "    }\n",
              "\n",
              "    [theme=dark] .colab-df-convert:hover {\n",
              "      background-color: #434B5C;\n",
              "      box-shadow: 0px 1px 3px 1px rgba(0, 0, 0, 0.15);\n",
              "      filter: drop-shadow(0px 1px 2px rgba(0, 0, 0, 0.3));\n",
              "      fill: #FFFFFF;\n",
              "    }\n",
              "  </style>\n",
              "\n",
              "      <script>\n",
              "        const buttonEl =\n",
              "          document.querySelector('#df-de060f35-e2f4-4c6d-9770-710f0da475e9 button.colab-df-convert');\n",
              "        buttonEl.style.display =\n",
              "          google.colab.kernel.accessAllowed ? 'block' : 'none';\n",
              "\n",
              "        async function convertToInteractive(key) {\n",
              "          const element = document.querySelector('#df-de060f35-e2f4-4c6d-9770-710f0da475e9');\n",
              "          const dataTable =\n",
              "            await google.colab.kernel.invokeFunction('convertToInteractive',\n",
              "                                                     [key], {});\n",
              "          if (!dataTable) return;\n",
              "\n",
              "          const docLinkHtml = 'Like what you see? Visit the ' +\n",
              "            '<a target=\"_blank\" href=https://colab.research.google.com/notebooks/data_table.ipynb>data table notebook</a>'\n",
              "            + ' to learn more about interactive tables.';\n",
              "          element.innerHTML = '';\n",
              "          dataTable['output_type'] = 'display_data';\n",
              "          await google.colab.output.renderOutput(dataTable, element);\n",
              "          const docLink = document.createElement('div');\n",
              "          docLink.innerHTML = docLinkHtml;\n",
              "          element.appendChild(docLink);\n",
              "        }\n",
              "      </script>\n",
              "    </div>\n",
              "  </div>\n",
              "  "
            ]
          },
          "metadata": {},
          "execution_count": 63
        }
      ]
    },
    {
      "cell_type": "markdown",
      "source": [
        "## **Exploratory Data Analysis**"
      ],
      "metadata": {
        "id": "O8zNBlxaxtzV"
      }
    },
    {
      "cell_type": "code",
      "source": [
        "# There are not enough records for 2018\n",
        "# Filter all 2018 rows out\n",
        "df2=df[df[\"Year\"] != 2018] \n",
        "\n"
      ],
      "metadata": {
        "id": "0IQcS38HxzjL"
      },
      "execution_count": 64,
      "outputs": []
    },
    {
      "cell_type": "code",
      "source": [
        "df2.info()"
      ],
      "metadata": {
        "colab": {
          "base_uri": "https://localhost:8080/"
        },
        "id": "ft3hKZQXzNiy",
        "outputId": "8ba69d46-c647-4f15-85be-571b947fa8c2"
      },
      "execution_count": 65,
      "outputs": [
        {
          "output_type": "stream",
          "name": "stdout",
          "text": [
            "<class 'pandas.core.frame.DataFrame'>\n",
            "Int64Index: 3120 entries, 0 to 3130\n",
            "Data columns (total 11 columns):\n",
            " #   Column            Non-Null Count  Dtype  \n",
            "---  ------            --------------  -----  \n",
            " 0   Name              3120 non-null   object \n",
            " 1   Month             2921 non-null   float64\n",
            " 2   Quarter           199 non-null    float64\n",
            " 3   Year              3120 non-null   int64  \n",
            " 4   Filing Frequency  3120 non-null   object \n",
            " 5   Due Date          3120 non-null   object \n",
            " 6   Taxable Amount    3120 non-null   float64\n",
            " 7   Tax Due           3120 non-null   float64\n",
            " 8   Interest          3120 non-null   float64\n",
            " 9   Penalty           3120 non-null   float64\n",
            " 10  Total Amount Due  3120 non-null   float64\n",
            "dtypes: float64(7), int64(1), object(3)\n",
            "memory usage: 292.5+ KB\n"
          ]
        }
      ]
    },
    {
      "cell_type": "code",
      "source": [
        "df2.isnull().sum()\n"
      ],
      "metadata": {
        "colab": {
          "base_uri": "https://localhost:8080/"
        },
        "id": "QnMU7gqZDar2",
        "outputId": "ff9ac6dc-747f-49be-ce0b-19fbf9798455"
      },
      "execution_count": 66,
      "outputs": [
        {
          "output_type": "execute_result",
          "data": {
            "text/plain": [
              "Name                   0\n",
              "Month                199\n",
              "Quarter             2921\n",
              "Year                   0\n",
              "Filing Frequency       0\n",
              "Due Date               0\n",
              "Taxable Amount         0\n",
              "Tax Due                0\n",
              "Interest               0\n",
              "Penalty                0\n",
              "Total Amount Due       0\n",
              "dtype: int64"
            ]
          },
          "metadata": {},
          "execution_count": 66
        }
      ]
    },
    {
      "cell_type": "code",
      "source": [
        "df2['Name'].value_counts()"
      ],
      "metadata": {
        "colab": {
          "base_uri": "https://localhost:8080/"
        },
        "id": "2PLAxL-JU-8l",
        "outputId": "f384e303-edab-451f-82cc-2dd97dbccc35"
      },
      "execution_count": 67,
      "outputs": [
        {
          "output_type": "execute_result",
          "data": {
            "text/plain": [
              "Maryland National Capital Park & Planning Commission    47\n",
              "Priceline.com LLC                                       47\n",
              "Silver Hospitality Inc                                  47\n",
              "Tusculum Farm Enterprises, LLC                          47\n",
              "Hotel Tonight, LLC                                      47\n",
              "                                                        ..\n",
              "patricia mirsky                                          1\n",
              "Richard & Varda Nowitz                                   1\n",
              "Jane Hall                                                1\n",
              "Jamie Winestone                                          1\n",
              "Charles Oliver                                           1\n",
              "Name: Name, Length: 125, dtype: int64"
            ]
          },
          "metadata": {},
          "execution_count": 67
        }
      ]
    },
    {
      "cell_type": "code",
      "source": [
        "# Number of Distinct names\n",
        "df2['Name'].nunique()"
      ],
      "metadata": {
        "colab": {
          "base_uri": "https://localhost:8080/"
        },
        "id": "E3w7ys1sh6bi",
        "outputId": "4a62c7cf-bd77-4eba-cc87-fcdc747e5fc2"
      },
      "execution_count": 68,
      "outputs": [
        {
          "output_type": "execute_result",
          "data": {
            "text/plain": [
              "125"
            ]
          },
          "metadata": {},
          "execution_count": 68
        }
      ]
    },
    {
      "cell_type": "code",
      "source": [
        "# list all 125 names\n",
        "list_names = list(set(df['Name']))\n",
        "list_names"
      ],
      "metadata": {
        "colab": {
          "base_uri": "https://localhost:8080/"
        },
        "id": "D293dL6SiPFv",
        "outputId": "a1eb2185-ab31-42e0-9aaf-cb4a21801d04"
      },
      "execution_count": 69,
      "outputs": [
        {
          "output_type": "execute_result",
          "data": {
            "text/plain": [
              "['Fairfield Inn & Suites - Germantown',\n",
              " 'Congressional Country Club',\n",
              " 'Renoca',\n",
              " 'Aramark Sports & Entertainment Services, LLC',\n",
              " 'Elizabeth Canterbury Homeowner',\n",
              " 'Dini Sari Djalal',\n",
              " 'Courtyard by Marriott Gaithersburg Washingtonian Center #311DQ',\n",
              " 'Short Term Residential Rental',\n",
              " 'Residence Inn by Marriott Bethesda Downtown #57136',\n",
              " 'RowanLark at Headwaters Farm',\n",
              " 'EXTENDED STAY AMERICA #2504',\n",
              " 'Karuna Skariah',\n",
              " 'Island Hospitality Management - Sheraton Rockville Hotel',\n",
              " 'Hotwire, Inc.',\n",
              " 'AIL Hospitality LLC dba Radisson Hotel',\n",
              " 'Airbnb Inc',\n",
              " 'RGALTD T/A Comfort Inn',\n",
              " 'Khatuna Khvichia',\n",
              " 'Worldwide Corporate Housing LP',\n",
              " 'Eden Park Guest House, LLC',\n",
              " 'Hilton Garden Inn Silver Spring',\n",
              " 'Fallsgrove Hotel Associates LLC',\n",
              " 'Courtyard by Marriott Bethesda/Chevy Chase',\n",
              " 'Sophia Jafrul',\n",
              " 'Daniel Greenspan Airbnb',\n",
              " 'Gaithersburg Operator, LLC',\n",
              " 'Holiday Inn Express Germantown',\n",
              " 'DHM Rockville LLC',\n",
              " 'GAI Enterprises, LLC. DBA - Motel 6',\n",
              " 'INK Lessee, LLC DBA Sheraton Rockville',\n",
              " 'Hampshire Lodging Inc',\n",
              " 'Canopy by Hilton-Washington DC-North Bethesda',\n",
              " 'Marriott Bethesda Downtown #33816',\n",
              " 'EXTENDED STAY AMERICA #2528',\n",
              " 'Basic Overnight Quarters LLC',\n",
              " 'Testing Again LLC',\n",
              " 'Travelscape, LLC',\n",
              " 'Bethesda Hotel Associates LLC',\n",
              " 'Gaithersburg Marriott Washingtonian Center #337K6',\n",
              " 'Duball Rockville LLC dba Cambria Rockville',\n",
              " 'Residence Inn by Marriott Silver Spring #57188',\n",
              " 'Silver Hospitality Inc',\n",
              " 'Motel 6 #1489',\n",
              " 'Nicole Schmitt',\n",
              " 'MAA',\n",
              " 'Sage Client 227 LLC',\n",
              " 'AIL Hospitality LLC dba Sleep Inn Hotel',\n",
              " 'T-R 1775 Rockville Owner LLC dba Rockville Even Hotel',\n",
              " 'Headwaters Farm',\n",
              " 'Chevy Chase Club',\n",
              " 'Amani Elkassabany',\n",
              " 'The Bethesdan Hotel',\n",
              " 'Home 2 Suites by Hilton Silver Spring',\n",
              " 'Best Western Hotel',\n",
              " 'Des Affiches Bed and Breakfast',\n",
              " 'ANNESWAY CONSULTING GROUP, LLC',\n",
              " 'Island Hospitality Management LLC - Residence Inn Gaithersburg',\n",
              " 'Rocket Travel Inc.',\n",
              " 'BW RRI III',\n",
              " 'Michael Morris',\n",
              " 'Demo Company',\n",
              " 'United Corporate Housing',\n",
              " 'airbnb',\n",
              " 'Bethesda North Marriott Hotel & Conference Center #337V9',\n",
              " 'LCOF Silver Spring Operating, LLC',\n",
              " 'Charles Oliver',\n",
              " '5520 Wisconsin Assoc',\n",
              " 'Hoft Properties, LLC DBA Even Hotel Rockville',\n",
              " 'Annika Hamann',\n",
              " 'Nancy Cedar',\n",
              " 'Doubletree Hotel',\n",
              " 'Nonye Uddoh',\n",
              " 'Tusculum Farm Enterprises, LLC',\n",
              " 'Interim Homes',\n",
              " 'TownePlace Suites at Gaithersburg',\n",
              " 'Orbitz, LLC',\n",
              " 'Courtyard by Marriott Rockville #311D1',\n",
              " 'Homewood Suites Silver Spring',\n",
              " 'Maryland National Capital Park & Planning Commission',\n",
              " 'Elizabeth Burgess',\n",
              " 'Hotels.com, L.P.',\n",
              " 'EXTENDED STAY AMERICA #9663',\n",
              " 'Grand Prix Fixed Lessee LLC DBA RI Gaithersburg',\n",
              " 'Hotel Tonight, LLC',\n",
              " 'Egencia LLC',\n",
              " 'Jamie Winestone',\n",
              " 'EXTENDED STAY AMERICA #9662',\n",
              " 'Pauline Rubinstein',\n",
              " 'Agoda International USA LLC',\n",
              " 'Richard Rodrigues',\n",
              " 'Moonshot Global',\n",
              " 'Bethesda Marriott Suites #337P9',\n",
              " 'ELSS LLC',\n",
              " 'TripAdvisor LLC',\n",
              " 'TMG II BETHESDA HOTEL OPERATING COMPANY LLC',\n",
              " 'SpringHill Suites by Marriott Gaithersburg #196A3',\n",
              " 'Patrick Edward Chapman',\n",
              " 'Homewood Suites',\n",
              " 'A-TBC Bethesda Owner, LLC dba Doubletree Bethesda Hotel',\n",
              " 'Wellness Hospitality',\n",
              " 'Churchill Corporate Services Inc',\n",
              " 'Jennifer A. Lukas',\n",
              " 'Courtyard by Marriott Silver Spring #311F1',\n",
              " 'Jane Hall',\n",
              " 'The Oaks',\n",
              " 'HomeAway.com, Inc.',\n",
              " 'Bedford Court',\n",
              " 'Holiday Inn Gaithersburg',\n",
              " 'Bethesda Marriott #33728',\n",
              " 'BEST WESTERN PLUS ROCKVILLE',\n",
              " 'Hampton Inn Silver Spring',\n",
              " 'Hampton Inn & Suites',\n",
              " 'Robert Bishop',\n",
              " 'Richard & Varda Nowitz',\n",
              " 'Sheraton Silver Spring Hotel',\n",
              " 'Rockville Hospitality, LLC',\n",
              " 'KENWOOD GOLF & COUNTRY CLUB',\n",
              " 'American Inn Bethesda',\n",
              " 'Cambria Hotel Rockville',\n",
              " 'Global Serviced Apartments LLC',\n",
              " 'patricia mirsky',\n",
              " 'EVOLVE VACATION RENTAL NETWORK INC',\n",
              " '7359 Wisconsin Avenue, LLC',\n",
              " 'Priceline.com LLC',\n",
              " 'Courtyard by Marriott - Silver Spring Downtown',\n",
              " 'Viktoria Ana D Partalozova',\n",
              " 'EXTENDED STAY AMERICA #2529']"
            ]
          },
          "metadata": {},
          "execution_count": 69
        }
      ]
    },
    {
      "cell_type": "code",
      "source": [
        "# Display a table of statistics\n",
        "#df2.describe(include='all')\n",
        "removcol001= ['Name','Month', 'Quarter', 'Year', 'Filing Frequency', 'Due Date']\n",
        "df2.drop(columns=removcol001).describe()"
      ],
      "metadata": {
        "colab": {
          "base_uri": "https://localhost:8080/",
          "height": 300
        },
        "id": "1XI4FGeODUyX",
        "outputId": "595f4ccd-1aba-4ee4-af3f-3acec814d9fa"
      },
      "execution_count": 70,
      "outputs": [
        {
          "output_type": "execute_result",
          "data": {
            "text/plain": [
              "       Taxable Amount        Tax Due     Interest      Penalty  \\\n",
              "count    3.120000e+03    3120.000000  3120.000000  3120.000000   \n",
              "mean     2.471830e+05   17302.807458     6.284154    20.671631   \n",
              "std      3.262731e+05   22839.119551    79.689545   237.809611   \n",
              "min      0.000000e+00       0.000000     0.000000     0.000000   \n",
              "25%      3.413703e+04    2389.585000     0.000000     0.000000   \n",
              "50%      1.307038e+05    9149.255000     0.000000     0.000000   \n",
              "75%      3.127950e+05   21895.640000     0.000000     0.000000   \n",
              "max      2.646011e+06  185220.770000  2187.930000  5616.630000   \n",
              "\n",
              "       Total Amount Due  \n",
              "count       3120.000000  \n",
              "mean       17329.763349  \n",
              "std        22838.386644  \n",
              "min            0.000000  \n",
              "25%         2389.585000  \n",
              "50%         9168.630000  \n",
              "75%        21957.327500  \n",
              "max       185220.770000  "
            ],
            "text/html": [
              "\n",
              "  <div id=\"df-efec52c8-0ded-44bb-808e-54f469ae1e0c\">\n",
              "    <div class=\"colab-df-container\">\n",
              "      <div>\n",
              "<style scoped>\n",
              "    .dataframe tbody tr th:only-of-type {\n",
              "        vertical-align: middle;\n",
              "    }\n",
              "\n",
              "    .dataframe tbody tr th {\n",
              "        vertical-align: top;\n",
              "    }\n",
              "\n",
              "    .dataframe thead th {\n",
              "        text-align: right;\n",
              "    }\n",
              "</style>\n",
              "<table border=\"1\" class=\"dataframe\">\n",
              "  <thead>\n",
              "    <tr style=\"text-align: right;\">\n",
              "      <th></th>\n",
              "      <th>Taxable Amount</th>\n",
              "      <th>Tax Due</th>\n",
              "      <th>Interest</th>\n",
              "      <th>Penalty</th>\n",
              "      <th>Total Amount Due</th>\n",
              "    </tr>\n",
              "  </thead>\n",
              "  <tbody>\n",
              "    <tr>\n",
              "      <th>count</th>\n",
              "      <td>3.120000e+03</td>\n",
              "      <td>3120.000000</td>\n",
              "      <td>3120.000000</td>\n",
              "      <td>3120.000000</td>\n",
              "      <td>3120.000000</td>\n",
              "    </tr>\n",
              "    <tr>\n",
              "      <th>mean</th>\n",
              "      <td>2.471830e+05</td>\n",
              "      <td>17302.807458</td>\n",
              "      <td>6.284154</td>\n",
              "      <td>20.671631</td>\n",
              "      <td>17329.763349</td>\n",
              "    </tr>\n",
              "    <tr>\n",
              "      <th>std</th>\n",
              "      <td>3.262731e+05</td>\n",
              "      <td>22839.119551</td>\n",
              "      <td>79.689545</td>\n",
              "      <td>237.809611</td>\n",
              "      <td>22838.386644</td>\n",
              "    </tr>\n",
              "    <tr>\n",
              "      <th>min</th>\n",
              "      <td>0.000000e+00</td>\n",
              "      <td>0.000000</td>\n",
              "      <td>0.000000</td>\n",
              "      <td>0.000000</td>\n",
              "      <td>0.000000</td>\n",
              "    </tr>\n",
              "    <tr>\n",
              "      <th>25%</th>\n",
              "      <td>3.413703e+04</td>\n",
              "      <td>2389.585000</td>\n",
              "      <td>0.000000</td>\n",
              "      <td>0.000000</td>\n",
              "      <td>2389.585000</td>\n",
              "    </tr>\n",
              "    <tr>\n",
              "      <th>50%</th>\n",
              "      <td>1.307038e+05</td>\n",
              "      <td>9149.255000</td>\n",
              "      <td>0.000000</td>\n",
              "      <td>0.000000</td>\n",
              "      <td>9168.630000</td>\n",
              "    </tr>\n",
              "    <tr>\n",
              "      <th>75%</th>\n",
              "      <td>3.127950e+05</td>\n",
              "      <td>21895.640000</td>\n",
              "      <td>0.000000</td>\n",
              "      <td>0.000000</td>\n",
              "      <td>21957.327500</td>\n",
              "    </tr>\n",
              "    <tr>\n",
              "      <th>max</th>\n",
              "      <td>2.646011e+06</td>\n",
              "      <td>185220.770000</td>\n",
              "      <td>2187.930000</td>\n",
              "      <td>5616.630000</td>\n",
              "      <td>185220.770000</td>\n",
              "    </tr>\n",
              "  </tbody>\n",
              "</table>\n",
              "</div>\n",
              "      <button class=\"colab-df-convert\" onclick=\"convertToInteractive('df-efec52c8-0ded-44bb-808e-54f469ae1e0c')\"\n",
              "              title=\"Convert this dataframe to an interactive table.\"\n",
              "              style=\"display:none;\">\n",
              "        \n",
              "  <svg xmlns=\"http://www.w3.org/2000/svg\" height=\"24px\"viewBox=\"0 0 24 24\"\n",
              "       width=\"24px\">\n",
              "    <path d=\"M0 0h24v24H0V0z\" fill=\"none\"/>\n",
              "    <path d=\"M18.56 5.44l.94 2.06.94-2.06 2.06-.94-2.06-.94-.94-2.06-.94 2.06-2.06.94zm-11 1L8.5 8.5l.94-2.06 2.06-.94-2.06-.94L8.5 2.5l-.94 2.06-2.06.94zm10 10l.94 2.06.94-2.06 2.06-.94-2.06-.94-.94-2.06-.94 2.06-2.06.94z\"/><path d=\"M17.41 7.96l-1.37-1.37c-.4-.4-.92-.59-1.43-.59-.52 0-1.04.2-1.43.59L10.3 9.45l-7.72 7.72c-.78.78-.78 2.05 0 2.83L4 21.41c.39.39.9.59 1.41.59.51 0 1.02-.2 1.41-.59l7.78-7.78 2.81-2.81c.8-.78.8-2.07 0-2.86zM5.41 20L4 18.59l7.72-7.72 1.47 1.35L5.41 20z\"/>\n",
              "  </svg>\n",
              "      </button>\n",
              "      \n",
              "  <style>\n",
              "    .colab-df-container {\n",
              "      display:flex;\n",
              "      flex-wrap:wrap;\n",
              "      gap: 12px;\n",
              "    }\n",
              "\n",
              "    .colab-df-convert {\n",
              "      background-color: #E8F0FE;\n",
              "      border: none;\n",
              "      border-radius: 50%;\n",
              "      cursor: pointer;\n",
              "      display: none;\n",
              "      fill: #1967D2;\n",
              "      height: 32px;\n",
              "      padding: 0 0 0 0;\n",
              "      width: 32px;\n",
              "    }\n",
              "\n",
              "    .colab-df-convert:hover {\n",
              "      background-color: #E2EBFA;\n",
              "      box-shadow: 0px 1px 2px rgba(60, 64, 67, 0.3), 0px 1px 3px 1px rgba(60, 64, 67, 0.15);\n",
              "      fill: #174EA6;\n",
              "    }\n",
              "\n",
              "    [theme=dark] .colab-df-convert {\n",
              "      background-color: #3B4455;\n",
              "      fill: #D2E3FC;\n",
              "    }\n",
              "\n",
              "    [theme=dark] .colab-df-convert:hover {\n",
              "      background-color: #434B5C;\n",
              "      box-shadow: 0px 1px 3px 1px rgba(0, 0, 0, 0.15);\n",
              "      filter: drop-shadow(0px 1px 2px rgba(0, 0, 0, 0.3));\n",
              "      fill: #FFFFFF;\n",
              "    }\n",
              "  </style>\n",
              "\n",
              "      <script>\n",
              "        const buttonEl =\n",
              "          document.querySelector('#df-efec52c8-0ded-44bb-808e-54f469ae1e0c button.colab-df-convert');\n",
              "        buttonEl.style.display =\n",
              "          google.colab.kernel.accessAllowed ? 'block' : 'none';\n",
              "\n",
              "        async function convertToInteractive(key) {\n",
              "          const element = document.querySelector('#df-efec52c8-0ded-44bb-808e-54f469ae1e0c');\n",
              "          const dataTable =\n",
              "            await google.colab.kernel.invokeFunction('convertToInteractive',\n",
              "                                                     [key], {});\n",
              "          if (!dataTable) return;\n",
              "\n",
              "          const docLinkHtml = 'Like what you see? Visit the ' +\n",
              "            '<a target=\"_blank\" href=https://colab.research.google.com/notebooks/data_table.ipynb>data table notebook</a>'\n",
              "            + ' to learn more about interactive tables.';\n",
              "          element.innerHTML = '';\n",
              "          dataTable['output_type'] = 'display_data';\n",
              "          await google.colab.output.renderOutput(dataTable, element);\n",
              "          const docLink = document.createElement('div');\n",
              "          docLink.innerHTML = docLinkHtml;\n",
              "          element.appendChild(docLink);\n",
              "        }\n",
              "      </script>\n",
              "    </div>\n",
              "  </div>\n",
              "  "
            ]
          },
          "metadata": {},
          "execution_count": 70
        }
      ]
    },
    {
      "cell_type": "code",
      "source": [
        "# Sum of taxes By name\n",
        "dfsum = df2.groupby('Name').sum()\n",
        "removcol0= ['Month','Quarter','Year']\n",
        "dfsum= dfsum.drop(columns=removcol0)\n",
        "#dfsum.style.format('${0:,.0f}')\n",
        "#pd.options.display.float_format = '{:,.2f}'.format\n",
        "#format_dict = {col_name: '${:,.2f}' for col_name in dfsum.select_dtypes(float).columns}\n",
        "#dfsum.head().style.format(format_dict)\n",
        "dfsum.head(15)\n"
      ],
      "metadata": {
        "colab": {
          "base_uri": "https://localhost:8080/",
          "height": 606
        },
        "id": "RGwvL5bBPPX2",
        "outputId": "4d309a55-6eb3-47e1-d183-32b5cfc85197"
      },
      "execution_count": 71,
      "outputs": [
        {
          "output_type": "stream",
          "name": "stderr",
          "text": [
            "<ipython-input-71-802b08a15c0a>:2: FutureWarning: The default value of numeric_only in DataFrameGroupBy.sum is deprecated. In a future version, numeric_only will default to False. Either specify numeric_only or select only columns which should be valid for the function.\n",
            "  dfsum = df2.groupby('Name').sum()\n"
          ]
        },
        {
          "output_type": "execute_result",
          "data": {
            "text/plain": [
              "                                                    Taxable Amount  \\\n",
              "Name                                                                 \n",
              "5520 Wisconsin Assoc                                   11999117.67   \n",
              "7359 Wisconsin Avenue, LLC                              2340139.48   \n",
              "A-TBC Bethesda Owner, LLC dba Doubletree Bethes...     15686991.14   \n",
              "AIL Hospitality LLC dba Radisson Hotel                  7323949.88   \n",
              "AIL Hospitality LLC dba Sleep Inn Hotel                 5039427.09   \n",
              "ANNESWAY CONSULTING GROUP, LLC                             1881.45   \n",
              "Agoda International USA LLC                               68360.94   \n",
              "Airbnb Inc                                             39972490.53   \n",
              "Amani Elkassabany                                           338.00   \n",
              "American Inn Bethesda                                   4977462.34   \n",
              "Annika Hamann                                                 0.00   \n",
              "Aramark Sports & Entertainment Services, LLC           10958739.77   \n",
              "BEST WESTERN PLUS ROCKVILLE                             4589587.44   \n",
              "BW RRI III                                             12332050.92   \n",
              "Basic Overnight Quarters LLC                               7000.00   \n",
              "\n",
              "                                                       Tax Due  Interest  \\\n",
              "Name                                                                       \n",
              "5520 Wisconsin Assoc                                 839938.17     63.84   \n",
              "7359 Wisconsin Avenue, LLC                           163809.74      0.00   \n",
              "A-TBC Bethesda Owner, LLC dba Doubletree Bethes...  1098089.23      0.00   \n",
              "AIL Hospitality LLC dba Radisson Hotel               512676.27    282.76   \n",
              "AIL Hospitality LLC dba Sleep Inn Hotel              352759.65    137.41   \n",
              "ANNESWAY CONSULTING GROUP, LLC                          131.70      0.00   \n",
              "Agoda International USA LLC                            4785.19      0.00   \n",
              "Airbnb Inc                                          2798074.10      0.00   \n",
              "Amani Elkassabany                                        23.66      0.00   \n",
              "American Inn Bethesda                                348422.18     79.56   \n",
              "Annika Hamann                                             0.00      0.00   \n",
              "Aramark Sports & Entertainment Services, LLC         767111.67      0.00   \n",
              "BEST WESTERN PLUS ROCKVILLE                          321271.05      0.00   \n",
              "BW RRI III                                           863243.35    132.32   \n",
              "Basic Overnight Quarters LLC                            490.00      0.00   \n",
              "\n",
              "                                                    Penalty  Total Amount Due  \n",
              "Name                                                                           \n",
              "5520 Wisconsin Assoc                                 319.23         840321.25  \n",
              "7359 Wisconsin Avenue, LLC                             0.00         163809.74  \n",
              "A-TBC Bethesda Owner, LLC dba Doubletree Bethes...     0.00        1098089.23  \n",
              "AIL Hospitality LLC dba Radisson Hotel              1413.82         514372.87  \n",
              "AIL Hospitality LLC dba Sleep Inn Hotel              687.08         353584.16  \n",
              "ANNESWAY CONSULTING GROUP, LLC                         0.00            131.70  \n",
              "Agoda International USA LLC                            0.00           4785.19  \n",
              "Airbnb Inc                                             0.00        2798074.10  \n",
              "Amani Elkassabany                                      0.00             23.66  \n",
              "American Inn Bethesda                                397.81         348899.55  \n",
              "Annika Hamann                                          0.00              0.00  \n",
              "Aramark Sports & Entertainment Services, LLC           0.00         767111.67  \n",
              "BEST WESTERN PLUS ROCKVILLE                            0.00         321271.05  \n",
              "BW RRI III                                           661.62         864037.31  \n",
              "Basic Overnight Quarters LLC                           0.00            490.00  "
            ],
            "text/html": [
              "\n",
              "  <div id=\"df-43192949-24d2-4d8c-917e-1fa6c829f308\">\n",
              "    <div class=\"colab-df-container\">\n",
              "      <div>\n",
              "<style scoped>\n",
              "    .dataframe tbody tr th:only-of-type {\n",
              "        vertical-align: middle;\n",
              "    }\n",
              "\n",
              "    .dataframe tbody tr th {\n",
              "        vertical-align: top;\n",
              "    }\n",
              "\n",
              "    .dataframe thead th {\n",
              "        text-align: right;\n",
              "    }\n",
              "</style>\n",
              "<table border=\"1\" class=\"dataframe\">\n",
              "  <thead>\n",
              "    <tr style=\"text-align: right;\">\n",
              "      <th></th>\n",
              "      <th>Taxable Amount</th>\n",
              "      <th>Tax Due</th>\n",
              "      <th>Interest</th>\n",
              "      <th>Penalty</th>\n",
              "      <th>Total Amount Due</th>\n",
              "    </tr>\n",
              "    <tr>\n",
              "      <th>Name</th>\n",
              "      <th></th>\n",
              "      <th></th>\n",
              "      <th></th>\n",
              "      <th></th>\n",
              "      <th></th>\n",
              "    </tr>\n",
              "  </thead>\n",
              "  <tbody>\n",
              "    <tr>\n",
              "      <th>5520 Wisconsin Assoc</th>\n",
              "      <td>11999117.67</td>\n",
              "      <td>839938.17</td>\n",
              "      <td>63.84</td>\n",
              "      <td>319.23</td>\n",
              "      <td>840321.25</td>\n",
              "    </tr>\n",
              "    <tr>\n",
              "      <th>7359 Wisconsin Avenue, LLC</th>\n",
              "      <td>2340139.48</td>\n",
              "      <td>163809.74</td>\n",
              "      <td>0.00</td>\n",
              "      <td>0.00</td>\n",
              "      <td>163809.74</td>\n",
              "    </tr>\n",
              "    <tr>\n",
              "      <th>A-TBC Bethesda Owner, LLC dba Doubletree Bethesda Hotel</th>\n",
              "      <td>15686991.14</td>\n",
              "      <td>1098089.23</td>\n",
              "      <td>0.00</td>\n",
              "      <td>0.00</td>\n",
              "      <td>1098089.23</td>\n",
              "    </tr>\n",
              "    <tr>\n",
              "      <th>AIL Hospitality LLC dba Radisson Hotel</th>\n",
              "      <td>7323949.88</td>\n",
              "      <td>512676.27</td>\n",
              "      <td>282.76</td>\n",
              "      <td>1413.82</td>\n",
              "      <td>514372.87</td>\n",
              "    </tr>\n",
              "    <tr>\n",
              "      <th>AIL Hospitality LLC dba Sleep Inn Hotel</th>\n",
              "      <td>5039427.09</td>\n",
              "      <td>352759.65</td>\n",
              "      <td>137.41</td>\n",
              "      <td>687.08</td>\n",
              "      <td>353584.16</td>\n",
              "    </tr>\n",
              "    <tr>\n",
              "      <th>ANNESWAY CONSULTING GROUP, LLC</th>\n",
              "      <td>1881.45</td>\n",
              "      <td>131.70</td>\n",
              "      <td>0.00</td>\n",
              "      <td>0.00</td>\n",
              "      <td>131.70</td>\n",
              "    </tr>\n",
              "    <tr>\n",
              "      <th>Agoda International USA LLC</th>\n",
              "      <td>68360.94</td>\n",
              "      <td>4785.19</td>\n",
              "      <td>0.00</td>\n",
              "      <td>0.00</td>\n",
              "      <td>4785.19</td>\n",
              "    </tr>\n",
              "    <tr>\n",
              "      <th>Airbnb Inc</th>\n",
              "      <td>39972490.53</td>\n",
              "      <td>2798074.10</td>\n",
              "      <td>0.00</td>\n",
              "      <td>0.00</td>\n",
              "      <td>2798074.10</td>\n",
              "    </tr>\n",
              "    <tr>\n",
              "      <th>Amani Elkassabany</th>\n",
              "      <td>338.00</td>\n",
              "      <td>23.66</td>\n",
              "      <td>0.00</td>\n",
              "      <td>0.00</td>\n",
              "      <td>23.66</td>\n",
              "    </tr>\n",
              "    <tr>\n",
              "      <th>American Inn Bethesda</th>\n",
              "      <td>4977462.34</td>\n",
              "      <td>348422.18</td>\n",
              "      <td>79.56</td>\n",
              "      <td>397.81</td>\n",
              "      <td>348899.55</td>\n",
              "    </tr>\n",
              "    <tr>\n",
              "      <th>Annika Hamann</th>\n",
              "      <td>0.00</td>\n",
              "      <td>0.00</td>\n",
              "      <td>0.00</td>\n",
              "      <td>0.00</td>\n",
              "      <td>0.00</td>\n",
              "    </tr>\n",
              "    <tr>\n",
              "      <th>Aramark Sports &amp; Entertainment Services, LLC</th>\n",
              "      <td>10958739.77</td>\n",
              "      <td>767111.67</td>\n",
              "      <td>0.00</td>\n",
              "      <td>0.00</td>\n",
              "      <td>767111.67</td>\n",
              "    </tr>\n",
              "    <tr>\n",
              "      <th>BEST WESTERN PLUS ROCKVILLE</th>\n",
              "      <td>4589587.44</td>\n",
              "      <td>321271.05</td>\n",
              "      <td>0.00</td>\n",
              "      <td>0.00</td>\n",
              "      <td>321271.05</td>\n",
              "    </tr>\n",
              "    <tr>\n",
              "      <th>BW RRI III</th>\n",
              "      <td>12332050.92</td>\n",
              "      <td>863243.35</td>\n",
              "      <td>132.32</td>\n",
              "      <td>661.62</td>\n",
              "      <td>864037.31</td>\n",
              "    </tr>\n",
              "    <tr>\n",
              "      <th>Basic Overnight Quarters LLC</th>\n",
              "      <td>7000.00</td>\n",
              "      <td>490.00</td>\n",
              "      <td>0.00</td>\n",
              "      <td>0.00</td>\n",
              "      <td>490.00</td>\n",
              "    </tr>\n",
              "  </tbody>\n",
              "</table>\n",
              "</div>\n",
              "      <button class=\"colab-df-convert\" onclick=\"convertToInteractive('df-43192949-24d2-4d8c-917e-1fa6c829f308')\"\n",
              "              title=\"Convert this dataframe to an interactive table.\"\n",
              "              style=\"display:none;\">\n",
              "        \n",
              "  <svg xmlns=\"http://www.w3.org/2000/svg\" height=\"24px\"viewBox=\"0 0 24 24\"\n",
              "       width=\"24px\">\n",
              "    <path d=\"M0 0h24v24H0V0z\" fill=\"none\"/>\n",
              "    <path d=\"M18.56 5.44l.94 2.06.94-2.06 2.06-.94-2.06-.94-.94-2.06-.94 2.06-2.06.94zm-11 1L8.5 8.5l.94-2.06 2.06-.94-2.06-.94L8.5 2.5l-.94 2.06-2.06.94zm10 10l.94 2.06.94-2.06 2.06-.94-2.06-.94-.94-2.06-.94 2.06-2.06.94z\"/><path d=\"M17.41 7.96l-1.37-1.37c-.4-.4-.92-.59-1.43-.59-.52 0-1.04.2-1.43.59L10.3 9.45l-7.72 7.72c-.78.78-.78 2.05 0 2.83L4 21.41c.39.39.9.59 1.41.59.51 0 1.02-.2 1.41-.59l7.78-7.78 2.81-2.81c.8-.78.8-2.07 0-2.86zM5.41 20L4 18.59l7.72-7.72 1.47 1.35L5.41 20z\"/>\n",
              "  </svg>\n",
              "      </button>\n",
              "      \n",
              "  <style>\n",
              "    .colab-df-container {\n",
              "      display:flex;\n",
              "      flex-wrap:wrap;\n",
              "      gap: 12px;\n",
              "    }\n",
              "\n",
              "    .colab-df-convert {\n",
              "      background-color: #E8F0FE;\n",
              "      border: none;\n",
              "      border-radius: 50%;\n",
              "      cursor: pointer;\n",
              "      display: none;\n",
              "      fill: #1967D2;\n",
              "      height: 32px;\n",
              "      padding: 0 0 0 0;\n",
              "      width: 32px;\n",
              "    }\n",
              "\n",
              "    .colab-df-convert:hover {\n",
              "      background-color: #E2EBFA;\n",
              "      box-shadow: 0px 1px 2px rgba(60, 64, 67, 0.3), 0px 1px 3px 1px rgba(60, 64, 67, 0.15);\n",
              "      fill: #174EA6;\n",
              "    }\n",
              "\n",
              "    [theme=dark] .colab-df-convert {\n",
              "      background-color: #3B4455;\n",
              "      fill: #D2E3FC;\n",
              "    }\n",
              "\n",
              "    [theme=dark] .colab-df-convert:hover {\n",
              "      background-color: #434B5C;\n",
              "      box-shadow: 0px 1px 3px 1px rgba(0, 0, 0, 0.15);\n",
              "      filter: drop-shadow(0px 1px 2px rgba(0, 0, 0, 0.3));\n",
              "      fill: #FFFFFF;\n",
              "    }\n",
              "  </style>\n",
              "\n",
              "      <script>\n",
              "        const buttonEl =\n",
              "          document.querySelector('#df-43192949-24d2-4d8c-917e-1fa6c829f308 button.colab-df-convert');\n",
              "        buttonEl.style.display =\n",
              "          google.colab.kernel.accessAllowed ? 'block' : 'none';\n",
              "\n",
              "        async function convertToInteractive(key) {\n",
              "          const element = document.querySelector('#df-43192949-24d2-4d8c-917e-1fa6c829f308');\n",
              "          const dataTable =\n",
              "            await google.colab.kernel.invokeFunction('convertToInteractive',\n",
              "                                                     [key], {});\n",
              "          if (!dataTable) return;\n",
              "\n",
              "          const docLinkHtml = 'Like what you see? Visit the ' +\n",
              "            '<a target=\"_blank\" href=https://colab.research.google.com/notebooks/data_table.ipynb>data table notebook</a>'\n",
              "            + ' to learn more about interactive tables.';\n",
              "          element.innerHTML = '';\n",
              "          dataTable['output_type'] = 'display_data';\n",
              "          await google.colab.output.renderOutput(dataTable, element);\n",
              "          const docLink = document.createElement('div');\n",
              "          docLink.innerHTML = docLinkHtml;\n",
              "          element.appendChild(docLink);\n",
              "        }\n",
              "      </script>\n",
              "    </div>\n",
              "  </div>\n",
              "  "
            ]
          },
          "metadata": {},
          "execution_count": 71
        }
      ]
    },
    {
      "cell_type": "code",
      "source": [
        "dfsum.shape"
      ],
      "metadata": {
        "colab": {
          "base_uri": "https://localhost:8080/"
        },
        "id": "8fl8Cmn4Okm0",
        "outputId": "23bb451c-32d7-442e-f613-15650229d963"
      },
      "execution_count": 72,
      "outputs": [
        {
          "output_type": "execute_result",
          "data": {
            "text/plain": [
              "(125, 5)"
            ]
          },
          "metadata": {},
          "execution_count": 72
        }
      ]
    },
    {
      "cell_type": "code",
      "source": [
        "# Histogram of total taxes collected (2019 -2022)\n",
        "plt.hist(round(dfsum['Total Amount Due'],0), 30, log = False, color='r')\n",
        "plt.title(\"Histogram of Total Amount Due\")\n",
        "plt.xlabel(\"Total Amount Due ($)\")\n",
        "plt.xticks(rotation=0)\n",
        "plt.ylabel(\"Frequency\")"
      ],
      "metadata": {
        "colab": {
          "base_uri": "https://localhost:8080/",
          "height": 487
        },
        "id": "9BEgzUOnmmGx",
        "outputId": "e4c5de50-1d48-4440-a7f9-d00fe3c8e110"
      },
      "execution_count": 73,
      "outputs": [
        {
          "output_type": "execute_result",
          "data": {
            "text/plain": [
              "Text(0, 0.5, 'Frequency')"
            ]
          },
          "metadata": {},
          "execution_count": 73
        },
        {
          "output_type": "display_data",
          "data": {
            "text/plain": [
              "<Figure size 640x480 with 1 Axes>"
            ],
            "image/png": "[encoded data removed]"
          },
          "metadata": {}
        }
      ]
    },
    {
      "cell_type": "markdown",
      "source": [
        "###***In general, businesses pay taxes monthly or quarterly.  Let's double check this is true for this dataset.***"
      ],
      "metadata": {
        "id": "Nbljw0Cf6H3h"
      }
    },
    {
      "cell_type": "code",
      "source": [
        "# Sum of taxes By name\n",
        "dfsumf = df2.groupby(['Name', 'Filing Frequency']).sum()\n",
        "dfsumf= dfsumf.drop(columns=removcol0)\n"
      ],
      "metadata": {
        "id": "ousnAlZZQROY",
        "colab": {
          "base_uri": "https://localhost:8080/"
        },
        "outputId": "24635536-e21d-4d7e-f5b9-f6d2c2975944"
      },
      "execution_count": 74,
      "outputs": [
        {
          "output_type": "stream",
          "name": "stderr",
          "text": [
            "<ipython-input-74-f8daa89455ce>:2: FutureWarning: The default value of numeric_only in DataFrameGroupBy.sum is deprecated. In a future version, numeric_only will default to False. Either specify numeric_only or select only columns which should be valid for the function.\n",
            "  dfsumf = df2.groupby(['Name', 'Filing Frequency']).sum()\n"
          ]
        }
      ]
    },
    {
      "cell_type": "code",
      "source": [
        "#Convert Series into dataframe\n",
        "dfsumdataframe = dfsumf.reset_index()\n"
      ],
      "metadata": {
        "id": "6CuWALVA2_oR"
      },
      "execution_count": 75,
      "outputs": []
    },
    {
      "cell_type": "code",
      "source": [
        "# Are there any companies/individuals paying their taxes Monthly and Quarterly?\n",
        "#Create contingency table\n",
        "pd.crosstab(index=dfsumdataframe['Name'], columns=dfsumdataframe['Filing Frequency'])"
      ],
      "metadata": {
        "colab": {
          "base_uri": "https://localhost:8080/",
          "height": 455
        },
        "id": "71-_zYmLH-pO",
        "outputId": "c505984d-d44b-4a97-fa69-65684dcf3cbf"
      },
      "execution_count": 76,
      "outputs": [
        {
          "output_type": "execute_result",
          "data": {
            "text/plain": [
              "Filing Frequency                                    M  Q\n",
              "Name                                                    \n",
              "5520 Wisconsin Assoc                                1  0\n",
              "7359 Wisconsin Avenue, LLC                          1  0\n",
              "A-TBC Bethesda Owner, LLC dba Doubletree Bethes...  1  0\n",
              "AIL Hospitality LLC dba Radisson Hotel              1  0\n",
              "AIL Hospitality LLC dba Sleep Inn Hotel             1  0\n",
              "...                                                .. ..\n",
              "Viktoria Ana D Partalozova                          1  0\n",
              "Wellness Hospitality                                1  0\n",
              "Worldwide Corporate Housing LP                      1  0\n",
              "airbnb                                              1  0\n",
              "patricia mirsky                                     1  0\n",
              "\n",
              "[125 rows x 2 columns]"
            ],
            "text/html": [
              "\n",
              "  <div id=\"df-4d6fff60-7571-4856-8035-789aaf1baf2b\">\n",
              "    <div class=\"colab-df-container\">\n",
              "      <div>\n",
              "<style scoped>\n",
              "    .dataframe tbody tr th:only-of-type {\n",
              "        vertical-align: middle;\n",
              "    }\n",
              "\n",
              "    .dataframe tbody tr th {\n",
              "        vertical-align: top;\n",
              "    }\n",
              "\n",
              "    .dataframe thead th {\n",
              "        text-align: right;\n",
              "    }\n",
              "</style>\n",
              "<table border=\"1\" class=\"dataframe\">\n",
              "  <thead>\n",
              "    <tr style=\"text-align: right;\">\n",
              "      <th>Filing Frequency</th>\n",
              "      <th>M</th>\n",
              "      <th>Q</th>\n",
              "    </tr>\n",
              "    <tr>\n",
              "      <th>Name</th>\n",
              "      <th></th>\n",
              "      <th></th>\n",
              "    </tr>\n",
              "  </thead>\n",
              "  <tbody>\n",
              "    <tr>\n",
              "      <th>5520 Wisconsin Assoc</th>\n",
              "      <td>1</td>\n",
              "      <td>0</td>\n",
              "    </tr>\n",
              "    <tr>\n",
              "      <th>7359 Wisconsin Avenue, LLC</th>\n",
              "      <td>1</td>\n",
              "      <td>0</td>\n",
              "    </tr>\n",
              "    <tr>\n",
              "      <th>A-TBC Bethesda Owner, LLC dba Doubletree Bethesda Hotel</th>\n",
              "      <td>1</td>\n",
              "      <td>0</td>\n",
              "    </tr>\n",
              "    <tr>\n",
              "      <th>AIL Hospitality LLC dba Radisson Hotel</th>\n",
              "      <td>1</td>\n",
              "      <td>0</td>\n",
              "    </tr>\n",
              "    <tr>\n",
              "      <th>AIL Hospitality LLC dba Sleep Inn Hotel</th>\n",
              "      <td>1</td>\n",
              "      <td>0</td>\n",
              "    </tr>\n",
              "    <tr>\n",
              "      <th>...</th>\n",
              "      <td>...</td>\n",
              "      <td>...</td>\n",
              "    </tr>\n",
              "    <tr>\n",
              "      <th>Viktoria Ana D Partalozova</th>\n",
              "      <td>1</td>\n",
              "      <td>0</td>\n",
              "    </tr>\n",
              "    <tr>\n",
              "      <th>Wellness Hospitality</th>\n",
              "      <td>1</td>\n",
              "      <td>0</td>\n",
              "    </tr>\n",
              "    <tr>\n",
              "      <th>Worldwide Corporate Housing LP</th>\n",
              "      <td>1</td>\n",
              "      <td>0</td>\n",
              "    </tr>\n",
              "    <tr>\n",
              "      <th>airbnb</th>\n",
              "      <td>1</td>\n",
              "      <td>0</td>\n",
              "    </tr>\n",
              "    <tr>\n",
              "      <th>patricia mirsky</th>\n",
              "      <td>1</td>\n",
              "      <td>0</td>\n",
              "    </tr>\n",
              "  </tbody>\n",
              "</table>\n",
              "<p>125 rows × 2 columns</p>\n",
              "</div>\n",
              "      <button class=\"colab-df-convert\" onclick=\"convertToInteractive('df-4d6fff60-7571-4856-8035-789aaf1baf2b')\"\n",
              "              title=\"Convert this dataframe to an interactive table.\"\n",
              "              style=\"display:none;\">\n",
              "        \n",
              "  <svg xmlns=\"http://www.w3.org/2000/svg\" height=\"24px\"viewBox=\"0 0 24 24\"\n",
              "       width=\"24px\">\n",
              "    <path d=\"M0 0h24v24H0V0z\" fill=\"none\"/>\n",
              "    <path d=\"M18.56 5.44l.94 2.06.94-2.06 2.06-.94-2.06-.94-.94-2.06-.94 2.06-2.06.94zm-11 1L8.5 8.5l.94-2.06 2.06-.94-2.06-.94L8.5 2.5l-.94 2.06-2.06.94zm10 10l.94 2.06.94-2.06 2.06-.94-2.06-.94-.94-2.06-.94 2.06-2.06.94z\"/><path d=\"M17.41 7.96l-1.37-1.37c-.4-.4-.92-.59-1.43-.59-.52 0-1.04.2-1.43.59L10.3 9.45l-7.72 7.72c-.78.78-.78 2.05 0 2.83L4 21.41c.39.39.9.59 1.41.59.51 0 1.02-.2 1.41-.59l7.78-7.78 2.81-2.81c.8-.78.8-2.07 0-2.86zM5.41 20L4 18.59l7.72-7.72 1.47 1.35L5.41 20z\"/>\n",
              "  </svg>\n",
              "      </button>\n",
              "      \n",
              "  <style>\n",
              "    .colab-df-container {\n",
              "      display:flex;\n",
              "      flex-wrap:wrap;\n",
              "      gap: 12px;\n",
              "    }\n",
              "\n",
              "    .colab-df-convert {\n",
              "      background-color: #E8F0FE;\n",
              "      border: none;\n",
              "      border-radius: 50%;\n",
              "      cursor: pointer;\n",
              "      display: none;\n",
              "      fill: #1967D2;\n",
              "      height: 32px;\n",
              "      padding: 0 0 0 0;\n",
              "      width: 32px;\n",
              "    }\n",
              "\n",
              "    .colab-df-convert:hover {\n",
              "      background-color: #E2EBFA;\n",
              "      box-shadow: 0px 1px 2px rgba(60, 64, 67, 0.3), 0px 1px 3px 1px rgba(60, 64, 67, 0.15);\n",
              "      fill: #174EA6;\n",
              "    }\n",
              "\n",
              "    [theme=dark] .colab-df-convert {\n",
              "      background-color: #3B4455;\n",
              "      fill: #D2E3FC;\n",
              "    }\n",
              "\n",
              "    [theme=dark] .colab-df-convert:hover {\n",
              "      background-color: #434B5C;\n",
              "      box-shadow: 0px 1px 3px 1px rgba(0, 0, 0, 0.15);\n",
              "      filter: drop-shadow(0px 1px 2px rgba(0, 0, 0, 0.3));\n",
              "      fill: #FFFFFF;\n",
              "    }\n",
              "  </style>\n",
              "\n",
              "      <script>\n",
              "        const buttonEl =\n",
              "          document.querySelector('#df-4d6fff60-7571-4856-8035-789aaf1baf2b button.colab-df-convert');\n",
              "        buttonEl.style.display =\n",
              "          google.colab.kernel.accessAllowed ? 'block' : 'none';\n",
              "\n",
              "        async function convertToInteractive(key) {\n",
              "          const element = document.querySelector('#df-4d6fff60-7571-4856-8035-789aaf1baf2b');\n",
              "          const dataTable =\n",
              "            await google.colab.kernel.invokeFunction('convertToInteractive',\n",
              "                                                     [key], {});\n",
              "          if (!dataTable) return;\n",
              "\n",
              "          const docLinkHtml = 'Like what you see? Visit the ' +\n",
              "            '<a target=\"_blank\" href=https://colab.research.google.com/notebooks/data_table.ipynb>data table notebook</a>'\n",
              "            + ' to learn more about interactive tables.';\n",
              "          element.innerHTML = '';\n",
              "          dataTable['output_type'] = 'display_data';\n",
              "          await google.colab.output.renderOutput(dataTable, element);\n",
              "          const docLink = document.createElement('div');\n",
              "          docLink.innerHTML = docLinkHtml;\n",
              "          element.appendChild(docLink);\n",
              "        }\n",
              "      </script>\n",
              "    </div>\n",
              "  </div>\n",
              "  "
            ]
          },
          "metadata": {},
          "execution_count": 76
        }
      ]
    },
    {
      "cell_type": "markdown",
      "source": [
        "# The following hotels switched their filing frequency at one point.\n"
      ],
      "metadata": {
        "id": "qkNJ6oilFLFo"
      }
    },
    {
      "cell_type": "code",
      "source": [
        "print(dfsumdataframe[dfsumdataframe.duplicated(subset=['Name'],keep=False)])"
      ],
      "metadata": {
        "colab": {
          "base_uri": "https://localhost:8080/"
        },
        "id": "7zWjmZ5GF4Yo",
        "outputId": "e9dc8ff7-3905-40eb-f450-a90517ac6f68"
      },
      "execution_count": 77,
      "outputs": [
        {
          "output_type": "stream",
          "name": "stdout",
          "text": [
            "                                              Name Filing Frequency  \\\n",
            "8                                Amani Elkassabany                M   \n",
            "9                                Amani Elkassabany                Q   \n",
            "15                    Basic Overnight Quarters LLC                M   \n",
            "16                    Basic Overnight Quarters LLC                Q   \n",
            "47                      Eden Park Guest House, LLC                M   \n",
            "48                      Eden Park Guest House, LLC                Q   \n",
            "51                  Elizabeth Canterbury Homeowner                M   \n",
            "52                  Elizabeth Canterbury Homeowner                Q   \n",
            "65   Hoft Properties, LLC DBA Even Hotel Rockville                M   \n",
            "66   Hoft Properties, LLC DBA Even Hotel Rockville                Q   \n",
            "84                                  Karuna Skariah                M   \n",
            "85                                  Karuna Skariah                Q   \n",
            "92                                 Moonshot Global                M   \n",
            "93                                 Moonshot Global                Q   \n",
            "99                          Patrick Edward Chapman                M   \n",
            "100                         Patrick Edward Chapman                Q   \n",
            "109                                  Robert Bishop                M   \n",
            "110                                  Robert Bishop                Q   \n",
            "\n",
            "     Taxable Amount    Tax Due  Interest  Penalty  Total Amount Due  \n",
            "8              0.00       0.00       0.0      0.0              0.00  \n",
            "9            338.00      23.66       0.0      0.0             23.66  \n",
            "15             0.00       0.00       0.0      0.0              0.00  \n",
            "16          7000.00     490.00       0.0      0.0            490.00  \n",
            "47         11631.00     814.17       0.0      0.0            814.17  \n",
            "48         33210.00    2324.70       0.0      0.0           2324.70  \n",
            "51           765.65      53.59       0.0      0.0             53.59  \n",
            "52          2466.69     172.66       0.0      0.0            172.66  \n",
            "65        858927.83   60124.94       0.0      0.0          60124.94  \n",
            "66       6858580.77  480100.62       0.0      0.0         480100.62  \n",
            "84          3200.00     224.00       0.0      0.0            224.00  \n",
            "85          4448.00     311.36       0.0      0.0            311.36  \n",
            "92          5000.00     350.00       0.0      0.0            350.00  \n",
            "93         10000.00     700.00       0.0      0.0            700.00  \n",
            "99             0.00       0.00       0.0      0.0              0.00  \n",
            "100            0.00       0.00       0.0      0.0              0.00  \n",
            "109         1355.00      94.85       0.0      0.0             94.85  \n",
            "110         2297.86     160.85       0.0      0.0            160.85  \n"
          ]
        }
      ]
    },
    {
      "cell_type": "markdown",
      "source": [
        "# **Top 10 Hotel that paid the most taxes between 2019 and 2022**"
      ],
      "metadata": {
        "id": "eZsE7SF0HeBc"
      }
    },
    {
      "cell_type": "code",
      "source": [
        "df10 = dfsum.nlargest(10, ['Total Amount Due']).groupby('Name').sum()\n",
        "#removcol0= ['Month','Quarter','Year']\n",
        "#df10= df10.drop(columns=removcol0)\n",
        "#format_dict = {col_name: '${:,.2f}' for col_name in df10.select_dtypes(float).columns}\n",
        "#df10.head().style.format(format_dict)\n",
        "df10.head(10)"
      ],
      "metadata": {
        "colab": {
          "base_uri": "https://localhost:8080/",
          "height": 394
        },
        "id": "7tkjJJlkXsau",
        "outputId": "c79ee88f-5d67-49c4-9739-d030c1ec28b9"
      },
      "execution_count": 78,
      "outputs": [
        {
          "output_type": "execute_result",
          "data": {
            "text/plain": [
              "                                                    Taxable Amount  \\\n",
              "Name                                                                 \n",
              "Airbnb Inc                                             39972490.53   \n",
              "Bethesda Hotel Associates LLC                          20476940.23   \n",
              "Bethesda Marriott #33728                               34788364.57   \n",
              "Bethesda North Marriott Hotel & Conference Cent...     41333515.71   \n",
              "Courtyard by Marriott Gaithersburg Washingtonia...     20950050.15   \n",
              "DHM Rockville LLC                                      23421748.47   \n",
              "Fallsgrove Hotel Associates LLC                        20293327.95   \n",
              "Gaithersburg Marriott Washingtonian Center #337K6      28216828.69   \n",
              "Residence Inn by Marriott Bethesda Downtown #57136     23136388.30   \n",
              "TMG II BETHESDA HOTEL OPERATING COMPANY LLC            46707900.53   \n",
              "\n",
              "                                                       Tax Due  Interest  \\\n",
              "Name                                                                       \n",
              "Airbnb Inc                                          2798074.10       0.0   \n",
              "Bethesda Hotel Associates LLC                       1433385.62       0.0   \n",
              "Bethesda Marriott #33728                            2435185.36       0.0   \n",
              "Bethesda North Marriott Hotel & Conference Cent...  2893345.92       0.0   \n",
              "Courtyard by Marriott Gaithersburg Washingtonia...  1466503.32       0.0   \n",
              "DHM Rockville LLC                                   1639522.15       0.0   \n",
              "Fallsgrove Hotel Associates LLC                     1420532.88       0.0   \n",
              "Gaithersburg Marriott Washingtonian Center #337K6   1975177.76       0.0   \n",
              "Residence Inn by Marriott Bethesda Downtown #57136  1619546.98       0.0   \n",
              "TMG II BETHESDA HOTEL OPERATING COMPANY LLC         3269552.82       0.0   \n",
              "\n",
              "                                                    Penalty  Total Amount Due  \n",
              "Name                                                                           \n",
              "Airbnb Inc                                              0.0        2798074.10  \n",
              "Bethesda Hotel Associates LLC                           0.0        1433385.62  \n",
              "Bethesda Marriott #33728                                0.0        2435185.36  \n",
              "Bethesda North Marriott Hotel & Conference Cent...      0.0        2893345.92  \n",
              "Courtyard by Marriott Gaithersburg Washingtonia...      0.0        1466503.32  \n",
              "DHM Rockville LLC                                       0.0        1639522.15  \n",
              "Fallsgrove Hotel Associates LLC                         0.0        1420532.88  \n",
              "Gaithersburg Marriott Washingtonian Center #337K6       0.0        1975177.76  \n",
              "Residence Inn by Marriott Bethesda Downtown #57136      0.0        1619546.98  \n",
              "TMG II BETHESDA HOTEL OPERATING COMPANY LLC             0.0        3269552.82  "
            ],
            "text/html": [
              "\n",
              "  <div id=\"df-17129bb6-77a6-4251-95a4-f3e86c0cbc00\">\n",
              "    <div class=\"colab-df-container\">\n",
              "      <div>\n",
              "<style scoped>\n",
              "    .dataframe tbody tr th:only-of-type {\n",
              "        vertical-align: middle;\n",
              "    }\n",
              "\n",
              "    .dataframe tbody tr th {\n",
              "        vertical-align: top;\n",
              "    }\n",
              "\n",
              "    .dataframe thead th {\n",
              "        text-align: right;\n",
              "    }\n",
              "</style>\n",
              "<table border=\"1\" class=\"dataframe\">\n",
              "  <thead>\n",
              "    <tr style=\"text-align: right;\">\n",
              "      <th></th>\n",
              "      <th>Taxable Amount</th>\n",
              "      <th>Tax Due</th>\n",
              "      <th>Interest</th>\n",
              "      <th>Penalty</th>\n",
              "      <th>Total Amount Due</th>\n",
              "    </tr>\n",
              "    <tr>\n",
              "      <th>Name</th>\n",
              "      <th></th>\n",
              "      <th></th>\n",
              "      <th></th>\n",
              "      <th></th>\n",
              "      <th></th>\n",
              "    </tr>\n",
              "  </thead>\n",
              "  <tbody>\n",
              "    <tr>\n",
              "      <th>Airbnb Inc</th>\n",
              "      <td>39972490.53</td>\n",
              "      <td>2798074.10</td>\n",
              "      <td>0.0</td>\n",
              "      <td>0.0</td>\n",
              "      <td>2798074.10</td>\n",
              "    </tr>\n",
              "    <tr>\n",
              "      <th>Bethesda Hotel Associates LLC</th>\n",
              "      <td>20476940.23</td>\n",
              "      <td>1433385.62</td>\n",
              "      <td>0.0</td>\n",
              "      <td>0.0</td>\n",
              "      <td>1433385.62</td>\n",
              "    </tr>\n",
              "    <tr>\n",
              "      <th>Bethesda Marriott #33728</th>\n",
              "      <td>34788364.57</td>\n",
              "      <td>2435185.36</td>\n",
              "      <td>0.0</td>\n",
              "      <td>0.0</td>\n",
              "      <td>2435185.36</td>\n",
              "    </tr>\n",
              "    <tr>\n",
              "      <th>Bethesda North Marriott Hotel &amp; Conference Center #337V9</th>\n",
              "      <td>41333515.71</td>\n",
              "      <td>2893345.92</td>\n",
              "      <td>0.0</td>\n",
              "      <td>0.0</td>\n",
              "      <td>2893345.92</td>\n",
              "    </tr>\n",
              "    <tr>\n",
              "      <th>Courtyard by Marriott Gaithersburg Washingtonian Center #311DQ</th>\n",
              "      <td>20950050.15</td>\n",
              "      <td>1466503.32</td>\n",
              "      <td>0.0</td>\n",
              "      <td>0.0</td>\n",
              "      <td>1466503.32</td>\n",
              "    </tr>\n",
              "    <tr>\n",
              "      <th>DHM Rockville LLC</th>\n",
              "      <td>23421748.47</td>\n",
              "      <td>1639522.15</td>\n",
              "      <td>0.0</td>\n",
              "      <td>0.0</td>\n",
              "      <td>1639522.15</td>\n",
              "    </tr>\n",
              "    <tr>\n",
              "      <th>Fallsgrove Hotel Associates LLC</th>\n",
              "      <td>20293327.95</td>\n",
              "      <td>1420532.88</td>\n",
              "      <td>0.0</td>\n",
              "      <td>0.0</td>\n",
              "      <td>1420532.88</td>\n",
              "    </tr>\n",
              "    <tr>\n",
              "      <th>Gaithersburg Marriott Washingtonian Center #337K6</th>\n",
              "      <td>28216828.69</td>\n",
              "      <td>1975177.76</td>\n",
              "      <td>0.0</td>\n",
              "      <td>0.0</td>\n",
              "      <td>1975177.76</td>\n",
              "    </tr>\n",
              "    <tr>\n",
              "      <th>Residence Inn by Marriott Bethesda Downtown #57136</th>\n",
              "      <td>23136388.30</td>\n",
              "      <td>1619546.98</td>\n",
              "      <td>0.0</td>\n",
              "      <td>0.0</td>\n",
              "      <td>1619546.98</td>\n",
              "    </tr>\n",
              "    <tr>\n",
              "      <th>TMG II BETHESDA HOTEL OPERATING COMPANY LLC</th>\n",
              "      <td>46707900.53</td>\n",
              "      <td>3269552.82</td>\n",
              "      <td>0.0</td>\n",
              "      <td>0.0</td>\n",
              "      <td>3269552.82</td>\n",
              "    </tr>\n",
              "  </tbody>\n",
              "</table>\n",
              "</div>\n",
              "      <button class=\"colab-df-convert\" onclick=\"convertToInteractive('df-17129bb6-77a6-4251-95a4-f3e86c0cbc00')\"\n",
              "              title=\"Convert this dataframe to an interactive table.\"\n",
              "              style=\"display:none;\">\n",
              "        \n",
              "  <svg xmlns=\"http://www.w3.org/2000/svg\" height=\"24px\"viewBox=\"0 0 24 24\"\n",
              "       width=\"24px\">\n",
              "    <path d=\"M0 0h24v24H0V0z\" fill=\"none\"/>\n",
              "    <path d=\"M18.56 5.44l.94 2.06.94-2.06 2.06-.94-2.06-.94-.94-2.06-.94 2.06-2.06.94zm-11 1L8.5 8.5l.94-2.06 2.06-.94-2.06-.94L8.5 2.5l-.94 2.06-2.06.94zm10 10l.94 2.06.94-2.06 2.06-.94-2.06-.94-.94-2.06-.94 2.06-2.06.94z\"/><path d=\"M17.41 7.96l-1.37-1.37c-.4-.4-.92-.59-1.43-.59-.52 0-1.04.2-1.43.59L10.3 9.45l-7.72 7.72c-.78.78-.78 2.05 0 2.83L4 21.41c.39.39.9.59 1.41.59.51 0 1.02-.2 1.41-.59l7.78-7.78 2.81-2.81c.8-.78.8-2.07 0-2.86zM5.41 20L4 18.59l7.72-7.72 1.47 1.35L5.41 20z\"/>\n",
              "  </svg>\n",
              "      </button>\n",
              "      \n",
              "  <style>\n",
              "    .colab-df-container {\n",
              "      display:flex;\n",
              "      flex-wrap:wrap;\n",
              "      gap: 12px;\n",
              "    }\n",
              "\n",
              "    .colab-df-convert {\n",
              "      background-color: #E8F0FE;\n",
              "      border: none;\n",
              "      border-radius: 50%;\n",
              "      cursor: pointer;\n",
              "      display: none;\n",
              "      fill: #1967D2;\n",
              "      height: 32px;\n",
              "      padding: 0 0 0 0;\n",
              "      width: 32px;\n",
              "    }\n",
              "\n",
              "    .colab-df-convert:hover {\n",
              "      background-color: #E2EBFA;\n",
              "      box-shadow: 0px 1px 2px rgba(60, 64, 67, 0.3), 0px 1px 3px 1px rgba(60, 64, 67, 0.15);\n",
              "      fill: #174EA6;\n",
              "    }\n",
              "\n",
              "    [theme=dark] .colab-df-convert {\n",
              "      background-color: #3B4455;\n",
              "      fill: #D2E3FC;\n",
              "    }\n",
              "\n",
              "    [theme=dark] .colab-df-convert:hover {\n",
              "      background-color: #434B5C;\n",
              "      box-shadow: 0px 1px 3px 1px rgba(0, 0, 0, 0.15);\n",
              "      filter: drop-shadow(0px 1px 2px rgba(0, 0, 0, 0.3));\n",
              "      fill: #FFFFFF;\n",
              "    }\n",
              "  </style>\n",
              "\n",
              "      <script>\n",
              "        const buttonEl =\n",
              "          document.querySelector('#df-17129bb6-77a6-4251-95a4-f3e86c0cbc00 button.colab-df-convert');\n",
              "        buttonEl.style.display =\n",
              "          google.colab.kernel.accessAllowed ? 'block' : 'none';\n",
              "\n",
              "        async function convertToInteractive(key) {\n",
              "          const element = document.querySelector('#df-17129bb6-77a6-4251-95a4-f3e86c0cbc00');\n",
              "          const dataTable =\n",
              "            await google.colab.kernel.invokeFunction('convertToInteractive',\n",
              "                                                     [key], {});\n",
              "          if (!dataTable) return;\n",
              "\n",
              "          const docLinkHtml = 'Like what you see? Visit the ' +\n",
              "            '<a target=\"_blank\" href=https://colab.research.google.com/notebooks/data_table.ipynb>data table notebook</a>'\n",
              "            + ' to learn more about interactive tables.';\n",
              "          element.innerHTML = '';\n",
              "          dataTable['output_type'] = 'display_data';\n",
              "          await google.colab.output.renderOutput(dataTable, element);\n",
              "          const docLink = document.createElement('div');\n",
              "          docLink.innerHTML = docLinkHtml;\n",
              "          element.appendChild(docLink);\n",
              "        }\n",
              "      </script>\n",
              "    </div>\n",
              "  </div>\n",
              "  "
            ]
          },
          "metadata": {},
          "execution_count": 78
        }
      ]
    },
    {
      "cell_type": "code",
      "source": [
        "#df.loc[df['Year'] =='2022'].groupby('Name').sum().sort_values(by=['Total Amount Due']).head(10).plot(kind=\"bar\")\n",
        "removcol= ['Taxable Amount', 'Tax Due', 'Interest', 'Penalty']\n",
        "df10a= df10.drop(columns=removcol)\n",
        "df10a.sort_values(by=['Total Amount Due'],ascending = True).plot(kind=\"barh\", edgecolor='black')\n",
        "\n",
        "plt.suptitle(\"Montgomery County Top 10 Hotel Tax Payers\",fontsize=18, y=1, fontweight='bold', color='red')\n",
        "plt.title(\"2019 - 2022\", fontsize = 18, fontweight='bold', color ='red' )\n",
        "plt.ylabel(\"Total Amount Due in Million ($)\", fontweight='bold',fontsize=18, color ='red')\n",
        "plt.legend(loc='center left', bbox_to_anchor=(1, 0.5))\n",
        "plt.grid(False)\n",
        "plt.show()"
      ],
      "metadata": {
        "colab": {
          "base_uri": "https://localhost:8080/",
          "height": 482
        },
        "id": "zuvkdMyOQMru",
        "outputId": "bee612ce-6b5a-489a-f393-5f5312e57d53"
      },
      "execution_count": 79,
      "outputs": [
        {
          "output_type": "display_data",
          "data": {
            "text/plain": [
              "<Figure size 640x480 with 1 Axes>"
            ],
            "image/png": "[encoded data removed]"
          },
          "metadata": {}
        }
      ]
    },
    {
      "cell_type": "markdown",
      "source": [
        "# **What is the average tax paid per hotels per year (2019 - 2022?**"
      ],
      "metadata": {
        "id": "Q0oR8hFM1-6u"
      }
    },
    {
      "cell_type": "code",
      "source": [
        "dfavera = df2.groupby(['Name', 'Year'])['Total Amount Due'].sum()\n",
        "dfavera1=dfavera.reset_index()\n",
        "dfavera2 = round(dfavera1.groupby(['Name'])['Total Amount Due'].mean(), 2)\n",
        "dfavera2=dfavera2.reset_index()\n",
        "dfavera3 = dfavera2.nlargest(10, ['Total Amount Due'])\n",
        "dfavera3.head(10)"
      ],
      "metadata": {
        "colab": {
          "base_uri": "https://localhost:8080/",
          "height": 363
        },
        "id": "ZrGeyd9UwcKG",
        "outputId": "818e8783-65a8-4cf6-972b-123844c686bd"
      },
      "execution_count": 80,
      "outputs": [
        {
          "output_type": "execute_result",
          "data": {
            "text/plain": [
              "                                                  Name  Total Amount Due\n",
              "112        TMG II BETHESDA HOTEL OPERATING COMPANY LLC         817388.20\n",
              "83                   Marriott Bethesda Downtown #33816         768663.12\n",
              "20   Bethesda North Marriott Hotel & Conference Cen...         723336.48\n",
              "7                                           Airbnb Inc         699518.52\n",
              "18                            Bethesda Marriott #33728         608796.34\n",
              "52   Gaithersburg Marriott Washingtonian Center #337K6         493794.44\n",
              "113                                The Bethesdan Hotel         465532.15\n",
              "105                                Sage Client 227 LLC         456436.96\n",
              "0                                 5520 Wisconsin Assoc         420160.62\n",
              "32                                   DHM Rockville LLC         409880.54"
            ],
            "text/html": [
              "\n",
              "  <div id=\"df-dddf0b89-7a3a-46f3-afc2-c14ed9d07a53\">\n",
              "    <div class=\"colab-df-container\">\n",
              "      <div>\n",
              "<style scoped>\n",
              "    .dataframe tbody tr th:only-of-type {\n",
              "        vertical-align: middle;\n",
              "    }\n",
              "\n",
              "    .dataframe tbody tr th {\n",
              "        vertical-align: top;\n",
              "    }\n",
              "\n",
              "    .dataframe thead th {\n",
              "        text-align: right;\n",
              "    }\n",
              "</style>\n",
              "<table border=\"1\" class=\"dataframe\">\n",
              "  <thead>\n",
              "    <tr style=\"text-align: right;\">\n",
              "      <th></th>\n",
              "      <th>Name</th>\n",
              "      <th>Total Amount Due</th>\n",
              "    </tr>\n",
              "  </thead>\n",
              "  <tbody>\n",
              "    <tr>\n",
              "      <th>112</th>\n",
              "      <td>TMG II BETHESDA HOTEL OPERATING COMPANY LLC</td>\n",
              "      <td>817388.20</td>\n",
              "    </tr>\n",
              "    <tr>\n",
              "      <th>83</th>\n",
              "      <td>Marriott Bethesda Downtown #33816</td>\n",
              "      <td>768663.12</td>\n",
              "    </tr>\n",
              "    <tr>\n",
              "      <th>20</th>\n",
              "      <td>Bethesda North Marriott Hotel &amp; Conference Cen...</td>\n",
              "      <td>723336.48</td>\n",
              "    </tr>\n",
              "    <tr>\n",
              "      <th>7</th>\n",
              "      <td>Airbnb Inc</td>\n",
              "      <td>699518.52</td>\n",
              "    </tr>\n",
              "    <tr>\n",
              "      <th>18</th>\n",
              "      <td>Bethesda Marriott #33728</td>\n",
              "      <td>608796.34</td>\n",
              "    </tr>\n",
              "    <tr>\n",
              "      <th>52</th>\n",
              "      <td>Gaithersburg Marriott Washingtonian Center #337K6</td>\n",
              "      <td>493794.44</td>\n",
              "    </tr>\n",
              "    <tr>\n",
              "      <th>113</th>\n",
              "      <td>The Bethesdan Hotel</td>\n",
              "      <td>465532.15</td>\n",
              "    </tr>\n",
              "    <tr>\n",
              "      <th>105</th>\n",
              "      <td>Sage Client 227 LLC</td>\n",
              "      <td>456436.96</td>\n",
              "    </tr>\n",
              "    <tr>\n",
              "      <th>0</th>\n",
              "      <td>5520 Wisconsin Assoc</td>\n",
              "      <td>420160.62</td>\n",
              "    </tr>\n",
              "    <tr>\n",
              "      <th>32</th>\n",
              "      <td>DHM Rockville LLC</td>\n",
              "      <td>409880.54</td>\n",
              "    </tr>\n",
              "  </tbody>\n",
              "</table>\n",
              "</div>\n",
              "      <button class=\"colab-df-convert\" onclick=\"convertToInteractive('df-dddf0b89-7a3a-46f3-afc2-c14ed9d07a53')\"\n",
              "              title=\"Convert this dataframe to an interactive table.\"\n",
              "              style=\"display:none;\">\n",
              "        \n",
              "  <svg xmlns=\"http://www.w3.org/2000/svg\" height=\"24px\"viewBox=\"0 0 24 24\"\n",
              "       width=\"24px\">\n",
              "    <path d=\"M0 0h24v24H0V0z\" fill=\"none\"/>\n",
              "    <path d=\"M18.56 5.44l.94 2.06.94-2.06 2.06-.94-2.06-.94-.94-2.06-.94 2.06-2.06.94zm-11 1L8.5 8.5l.94-2.06 2.06-.94-2.06-.94L8.5 2.5l-.94 2.06-2.06.94zm10 10l.94 2.06.94-2.06 2.06-.94-2.06-.94-.94-2.06-.94 2.06-2.06.94z\"/><path d=\"M17.41 7.96l-1.37-1.37c-.4-.4-.92-.59-1.43-.59-.52 0-1.04.2-1.43.59L10.3 9.45l-7.72 7.72c-.78.78-.78 2.05 0 2.83L4 21.41c.39.39.9.59 1.41.59.51 0 1.02-.2 1.41-.59l7.78-7.78 2.81-2.81c.8-.78.8-2.07 0-2.86zM5.41 20L4 18.59l7.72-7.72 1.47 1.35L5.41 20z\"/>\n",
              "  </svg>\n",
              "      </button>\n",
              "      \n",
              "  <style>\n",
              "    .colab-df-container {\n",
              "      display:flex;\n",
              "      flex-wrap:wrap;\n",
              "      gap: 12px;\n",
              "    }\n",
              "\n",
              "    .colab-df-convert {\n",
              "      background-color: #E8F0FE;\n",
              "      border: none;\n",
              "      border-radius: 50%;\n",
              "      cursor: pointer;\n",
              "      display: none;\n",
              "      fill: #1967D2;\n",
              "      height: 32px;\n",
              "      padding: 0 0 0 0;\n",
              "      width: 32px;\n",
              "    }\n",
              "\n",
              "    .colab-df-convert:hover {\n",
              "      background-color: #E2EBFA;\n",
              "      box-shadow: 0px 1px 2px rgba(60, 64, 67, 0.3), 0px 1px 3px 1px rgba(60, 64, 67, 0.15);\n",
              "      fill: #174EA6;\n",
              "    }\n",
              "\n",
              "    [theme=dark] .colab-df-convert {\n",
              "      background-color: #3B4455;\n",
              "      fill: #D2E3FC;\n",
              "    }\n",
              "\n",
              "    [theme=dark] .colab-df-convert:hover {\n",
              "      background-color: #434B5C;\n",
              "      box-shadow: 0px 1px 3px 1px rgba(0, 0, 0, 0.15);\n",
              "      filter: drop-shadow(0px 1px 2px rgba(0, 0, 0, 0.3));\n",
              "      fill: #FFFFFF;\n",
              "    }\n",
              "  </style>\n",
              "\n",
              "      <script>\n",
              "        const buttonEl =\n",
              "          document.querySelector('#df-dddf0b89-7a3a-46f3-afc2-c14ed9d07a53 button.colab-df-convert');\n",
              "        buttonEl.style.display =\n",
              "          google.colab.kernel.accessAllowed ? 'block' : 'none';\n",
              "\n",
              "        async function convertToInteractive(key) {\n",
              "          const element = document.querySelector('#df-dddf0b89-7a3a-46f3-afc2-c14ed9d07a53');\n",
              "          const dataTable =\n",
              "            await google.colab.kernel.invokeFunction('convertToInteractive',\n",
              "                                                     [key], {});\n",
              "          if (!dataTable) return;\n",
              "\n",
              "          const docLinkHtml = 'Like what you see? Visit the ' +\n",
              "            '<a target=\"_blank\" href=https://colab.research.google.com/notebooks/data_table.ipynb>data table notebook</a>'\n",
              "            + ' to learn more about interactive tables.';\n",
              "          element.innerHTML = '';\n",
              "          dataTable['output_type'] = 'display_data';\n",
              "          await google.colab.output.renderOutput(dataTable, element);\n",
              "          const docLink = document.createElement('div');\n",
              "          docLink.innerHTML = docLinkHtml;\n",
              "          element.appendChild(docLink);\n",
              "        }\n",
              "      </script>\n",
              "    </div>\n",
              "  </div>\n",
              "  "
            ]
          },
          "metadata": {},
          "execution_count": 80
        }
      ]
    },
    {
      "cell_type": "markdown",
      "source": [
        "# **How did Covid affect Hotel Tax revenues for Montgomery County?**"
      ],
      "metadata": {
        "id": "J9Ocxgt5J7Kc"
      }
    },
    {
      "cell_type": "code",
      "source": [
        "\n",
        "dfsumy = df2.groupby(['Year']).sum()\n",
        "removcol1= ['Month','Quarter','Taxable Amount', 'Tax Due', 'Interest', 'Penalty']\n",
        "dfsumy1= dfsumy.drop(columns=removcol1)\n",
        "dfsumy1.head()\n"
      ],
      "metadata": {
        "colab": {
          "base_uri": "https://localhost:8080/",
          "height": 261
        },
        "id": "UgJsluG2vWTv",
        "outputId": "87f855ee-bbf4-4c4d-b936-84128362cd39"
      },
      "execution_count": 81,
      "outputs": [
        {
          "output_type": "stream",
          "name": "stderr",
          "text": [
            "<ipython-input-81-1a1c5403785c>:1: FutureWarning: The default value of numeric_only in DataFrameGroupBy.sum is deprecated. In a future version, numeric_only will default to False. Either specify numeric_only or select only columns which should be valid for the function.\n",
            "  dfsumy = df2.groupby(['Year']).sum()\n"
          ]
        },
        {
          "output_type": "execute_result",
          "data": {
            "text/plain": [
              "      Total Amount Due\n",
              "Year                  \n",
              "2019       20402389.56\n",
              "2020        7097272.77\n",
              "2021       10179168.12\n",
              "2022       16390031.20"
            ],
            "text/html": [
              "\n",
              "  <div id=\"df-9b1653f5-9725-46e3-b6e1-697f76ce6f28\">\n",
              "    <div class=\"colab-df-container\">\n",
              "      <div>\n",
              "<style scoped>\n",
              "    .dataframe tbody tr th:only-of-type {\n",
              "        vertical-align: middle;\n",
              "    }\n",
              "\n",
              "    .dataframe tbody tr th {\n",
              "        vertical-align: top;\n",
              "    }\n",
              "\n",
              "    .dataframe thead th {\n",
              "        text-align: right;\n",
              "    }\n",
              "</style>\n",
              "<table border=\"1\" class=\"dataframe\">\n",
              "  <thead>\n",
              "    <tr style=\"text-align: right;\">\n",
              "      <th></th>\n",
              "      <th>Total Amount Due</th>\n",
              "    </tr>\n",
              "    <tr>\n",
              "      <th>Year</th>\n",
              "      <th></th>\n",
              "    </tr>\n",
              "  </thead>\n",
              "  <tbody>\n",
              "    <tr>\n",
              "      <th>2019</th>\n",
              "      <td>20402389.56</td>\n",
              "    </tr>\n",
              "    <tr>\n",
              "      <th>2020</th>\n",
              "      <td>7097272.77</td>\n",
              "    </tr>\n",
              "    <tr>\n",
              "      <th>2021</th>\n",
              "      <td>10179168.12</td>\n",
              "    </tr>\n",
              "    <tr>\n",
              "      <th>2022</th>\n",
              "      <td>16390031.20</td>\n",
              "    </tr>\n",
              "  </tbody>\n",
              "</table>\n",
              "</div>\n",
              "      <button class=\"colab-df-convert\" onclick=\"convertToInteractive('df-9b1653f5-9725-46e3-b6e1-697f76ce6f28')\"\n",
              "              title=\"Convert this dataframe to an interactive table.\"\n",
              "              style=\"display:none;\">\n",
              "        \n",
              "  <svg xmlns=\"http://www.w3.org/2000/svg\" height=\"24px\"viewBox=\"0 0 24 24\"\n",
              "       width=\"24px\">\n",
              "    <path d=\"M0 0h24v24H0V0z\" fill=\"none\"/>\n",
              "    <path d=\"M18.56 5.44l.94 2.06.94-2.06 2.06-.94-2.06-.94-.94-2.06-.94 2.06-2.06.94zm-11 1L8.5 8.5l.94-2.06 2.06-.94-2.06-.94L8.5 2.5l-.94 2.06-2.06.94zm10 10l.94 2.06.94-2.06 2.06-.94-2.06-.94-.94-2.06-.94 2.06-2.06.94z\"/><path d=\"M17.41 7.96l-1.37-1.37c-.4-.4-.92-.59-1.43-.59-.52 0-1.04.2-1.43.59L10.3 9.45l-7.72 7.72c-.78.78-.78 2.05 0 2.83L4 21.41c.39.39.9.59 1.41.59.51 0 1.02-.2 1.41-.59l7.78-7.78 2.81-2.81c.8-.78.8-2.07 0-2.86zM5.41 20L4 18.59l7.72-7.72 1.47 1.35L5.41 20z\"/>\n",
              "  </svg>\n",
              "      </button>\n",
              "      \n",
              "  <style>\n",
              "    .colab-df-container {\n",
              "      display:flex;\n",
              "      flex-wrap:wrap;\n",
              "      gap: 12px;\n",
              "    }\n",
              "\n",
              "    .colab-df-convert {\n",
              "      background-color: #E8F0FE;\n",
              "      border: none;\n",
              "      border-radius: 50%;\n",
              "      cursor: pointer;\n",
              "      display: none;\n",
              "      fill: #1967D2;\n",
              "      height: 32px;\n",
              "      padding: 0 0 0 0;\n",
              "      width: 32px;\n",
              "    }\n",
              "\n",
              "    .colab-df-convert:hover {\n",
              "      background-color: #E2EBFA;\n",
              "      box-shadow: 0px 1px 2px rgba(60, 64, 67, 0.3), 0px 1px 3px 1px rgba(60, 64, 67, 0.15);\n",
              "      fill: #174EA6;\n",
              "    }\n",
              "\n",
              "    [theme=dark] .colab-df-convert {\n",
              "      background-color: #3B4455;\n",
              "      fill: #D2E3FC;\n",
              "    }\n",
              "\n",
              "    [theme=dark] .colab-df-convert:hover {\n",
              "      background-color: #434B5C;\n",
              "      box-shadow: 0px 1px 3px 1px rgba(0, 0, 0, 0.15);\n",
              "      filter: drop-shadow(0px 1px 2px rgba(0, 0, 0, 0.3));\n",
              "      fill: #FFFFFF;\n",
              "    }\n",
              "  </style>\n",
              "\n",
              "      <script>\n",
              "        const buttonEl =\n",
              "          document.querySelector('#df-9b1653f5-9725-46e3-b6e1-697f76ce6f28 button.colab-df-convert');\n",
              "        buttonEl.style.display =\n",
              "          google.colab.kernel.accessAllowed ? 'block' : 'none';\n",
              "\n",
              "        async function convertToInteractive(key) {\n",
              "          const element = document.querySelector('#df-9b1653f5-9725-46e3-b6e1-697f76ce6f28');\n",
              "          const dataTable =\n",
              "            await google.colab.kernel.invokeFunction('convertToInteractive',\n",
              "                                                     [key], {});\n",
              "          if (!dataTable) return;\n",
              "\n",
              "          const docLinkHtml = 'Like what you see? Visit the ' +\n",
              "            '<a target=\"_blank\" href=https://colab.research.google.com/notebooks/data_table.ipynb>data table notebook</a>'\n",
              "            + ' to learn more about interactive tables.';\n",
              "          element.innerHTML = '';\n",
              "          dataTable['output_type'] = 'display_data';\n",
              "          await google.colab.output.renderOutput(dataTable, element);\n",
              "          const docLink = document.createElement('div');\n",
              "          docLink.innerHTML = docLinkHtml;\n",
              "          element.appendChild(docLink);\n",
              "        }\n",
              "      </script>\n",
              "    </div>\n",
              "  </div>\n",
              "  "
            ]
          },
          "metadata": {},
          "execution_count": 81
        }
      ]
    },
    {
      "cell_type": "markdown",
      "source": [
        "###*Total tax due (collected) from 2019 - 20222*"
      ],
      "metadata": {
        "id": "FkBg0UXI7kBv"
      }
    },
    {
      "cell_type": "code",
      "source": [
        "# Total Amount Due from 2019 Thru 2022\n",
        "print('The total amount due from 2019 thru 2022:', round(dfsumy1['Total Amount Due'].sum(),2))"
      ],
      "metadata": {
        "colab": {
          "base_uri": "https://localhost:8080/"
        },
        "id": "tBU-PabqpCgq",
        "outputId": "7af5301a-47d3-4448-8970-20c602595d7f"
      },
      "execution_count": 82,
      "outputs": [
        {
          "output_type": "stream",
          "name": "stdout",
          "text": [
            "The total amount due from 2019 thru 2022: 54068861.65\n"
          ]
        }
      ]
    },
    {
      "cell_type": "code",
      "source": [
        "sns.set_style('darkgrid')\n",
        "sns.set(rc={'figure.figsize':(14,8)})\n",
        "\n",
        "labels = [2019, 2020, 2021, 2022]\n",
        "ylabels = [0,5000000,10000000,15000000,20000000,25000000]\n",
        "\n",
        "ax = sns.lineplot(data=dfsumy1, x ='Year', y = 'Total Amount Due',                \n",
        "                  legend='full', lw=3, color='red', marker='o', markersize=10)\n",
        "\n",
        "ax = plt.gca()\n",
        "ax.set_facecolor(\"black\")\n",
        "ax.patch.set_alpha(1.0)\n",
        "\n",
        "plt.suptitle(\"Montgomery County Hotel Taxes to Be Collected\",fontsize=16,fontweight='bold')\n",
        "plt.title(\"2019 - 2022\", fontsize = 16,fontweight='bold')\n",
        "plt.ylabel(\"Total Amount in 10 Million ($)\", fontweight='bold')\n",
        "plt.xticks(labels, rotation='vertical')\n",
        "plt.yticks(ylabels, rotation='vertical')\n",
        "plt.xlabel('Year', fontsize=16,fontweight='bold')\n",
        "plt.grid(True)\n",
        "plt.show()"
      ],
      "metadata": {
        "colab": {
          "base_uri": "https://localhost:8080/",
          "height": 646
        },
        "id": "-0xEF46grAwK",
        "outputId": "aabff665-50fa-4159-b799-87449dda3fc3"
      },
      "execution_count": 83,
      "outputs": [
        {
          "output_type": "display_data",
          "data": {
            "text/plain": [
              "<Figure size 1120x640 with 1 Axes>"
            ],
            "image/png": "[encoded data removed]"
          },
          "metadata": {}
        }
      ]
    },
    {
      "cell_type": "markdown",
      "source": [
        "# **What happened to Airbnb Tax revenue During the Pandemic?**"
      ],
      "metadata": {
        "id": "2SdUg-WqVB-B"
      }
    },
    {
      "cell_type": "markdown",
      "source": [
        "In 2016, Airbnb has reached an agreement with Montgomery County to start collecting a hotel tax on behalf of its hosts.By working with local governments to collect hotel taxes, Airbnb is also showing that it is committed to being a good corporate citizen and contributing to the communities in which it operates. These taxes are often used to support tourism, infrastructure, and other public services in the community."
      ],
      "metadata": {
        "id": "SxzBe0HS9HJh"
      }
    },
    {
      "cell_type": "code",
      "source": [
        "# Airbnb\n",
        "dfsumya= df2.loc[df2['Name']=='Airbnb Inc']\n",
        "dfsumya = dfsumya.groupby(['Year']).sum()\n",
        "removcol1= ['Month','Quarter','Taxable Amount', 'Tax Due', 'Interest', 'Penalty']\n",
        "dfsumy2= dfsumya.drop(columns=removcol1)\n",
        "dfsumy2.head()"
      ],
      "metadata": {
        "colab": {
          "base_uri": "https://localhost:8080/",
          "height": 261
        },
        "id": "zZ84rEu_te36",
        "outputId": "0db33b4f-c94a-4568-ed09-1983c453ff92"
      },
      "execution_count": 84,
      "outputs": [
        {
          "output_type": "stream",
          "name": "stderr",
          "text": [
            "<ipython-input-84-09acd3acd561>:3: FutureWarning: The default value of numeric_only in DataFrameGroupBy.sum is deprecated. In a future version, numeric_only will default to False. Either specify numeric_only or select only columns which should be valid for the function.\n",
            "  dfsumya = dfsumya.groupby(['Year']).sum()\n"
          ]
        },
        {
          "output_type": "execute_result",
          "data": {
            "text/plain": [
              "      Total Amount Due\n",
              "Year                  \n",
              "2019         692545.88\n",
              "2020         401846.97\n",
              "2021         687932.71\n",
              "2022        1015748.54"
            ],
            "text/html": [
              "\n",
              "  <div id=\"df-f2fab584-1601-40d4-a4d7-d3b285187ac1\">\n",
              "    <div class=\"colab-df-container\">\n",
              "      <div>\n",
              "<style scoped>\n",
              "    .dataframe tbody tr th:only-of-type {\n",
              "        vertical-align: middle;\n",
              "    }\n",
              "\n",
              "    .dataframe tbody tr th {\n",
              "        vertical-align: top;\n",
              "    }\n",
              "\n",
              "    .dataframe thead th {\n",
              "        text-align: right;\n",
              "    }\n",
              "</style>\n",
              "<table border=\"1\" class=\"dataframe\">\n",
              "  <thead>\n",
              "    <tr style=\"text-align: right;\">\n",
              "      <th></th>\n",
              "      <th>Total Amount Due</th>\n",
              "    </tr>\n",
              "    <tr>\n",
              "      <th>Year</th>\n",
              "      <th></th>\n",
              "    </tr>\n",
              "  </thead>\n",
              "  <tbody>\n",
              "    <tr>\n",
              "      <th>2019</th>\n",
              "      <td>692545.88</td>\n",
              "    </tr>\n",
              "    <tr>\n",
              "      <th>2020</th>\n",
              "      <td>401846.97</td>\n",
              "    </tr>\n",
              "    <tr>\n",
              "      <th>2021</th>\n",
              "      <td>687932.71</td>\n",
              "    </tr>\n",
              "    <tr>\n",
              "      <th>2022</th>\n",
              "      <td>1015748.54</td>\n",
              "    </tr>\n",
              "  </tbody>\n",
              "</table>\n",
              "</div>\n",
              "      <button class=\"colab-df-convert\" onclick=\"convertToInteractive('df-f2fab584-1601-40d4-a4d7-d3b285187ac1')\"\n",
              "              title=\"Convert this dataframe to an interactive table.\"\n",
              "              style=\"display:none;\">\n",
              "        \n",
              "  <svg xmlns=\"http://www.w3.org/2000/svg\" height=\"24px\"viewBox=\"0 0 24 24\"\n",
              "       width=\"24px\">\n",
              "    <path d=\"M0 0h24v24H0V0z\" fill=\"none\"/>\n",
              "    <path d=\"M18.56 5.44l.94 2.06.94-2.06 2.06-.94-2.06-.94-.94-2.06-.94 2.06-2.06.94zm-11 1L8.5 8.5l.94-2.06 2.06-.94-2.06-.94L8.5 2.5l-.94 2.06-2.06.94zm10 10l.94 2.06.94-2.06 2.06-.94-2.06-.94-.94-2.06-.94 2.06-2.06.94z\"/><path d=\"M17.41 7.96l-1.37-1.37c-.4-.4-.92-.59-1.43-.59-.52 0-1.04.2-1.43.59L10.3 9.45l-7.72 7.72c-.78.78-.78 2.05 0 2.83L4 21.41c.39.39.9.59 1.41.59.51 0 1.02-.2 1.41-.59l7.78-7.78 2.81-2.81c.8-.78.8-2.07 0-2.86zM5.41 20L4 18.59l7.72-7.72 1.47 1.35L5.41 20z\"/>\n",
              "  </svg>\n",
              "      </button>\n",
              "      \n",
              "  <style>\n",
              "    .colab-df-container {\n",
              "      display:flex;\n",
              "      flex-wrap:wrap;\n",
              "      gap: 12px;\n",
              "    }\n",
              "\n",
              "    .colab-df-convert {\n",
              "      background-color: #E8F0FE;\n",
              "      border: none;\n",
              "      border-radius: 50%;\n",
              "      cursor: pointer;\n",
              "      display: none;\n",
              "      fill: #1967D2;\n",
              "      height: 32px;\n",
              "      padding: 0 0 0 0;\n",
              "      width: 32px;\n",
              "    }\n",
              "\n",
              "    .colab-df-convert:hover {\n",
              "      background-color: #E2EBFA;\n",
              "      box-shadow: 0px 1px 2px rgba(60, 64, 67, 0.3), 0px 1px 3px 1px rgba(60, 64, 67, 0.15);\n",
              "      fill: #174EA6;\n",
              "    }\n",
              "\n",
              "    [theme=dark] .colab-df-convert {\n",
              "      background-color: #3B4455;\n",
              "      fill: #D2E3FC;\n",
              "    }\n",
              "\n",
              "    [theme=dark] .colab-df-convert:hover {\n",
              "      background-color: #434B5C;\n",
              "      box-shadow: 0px 1px 3px 1px rgba(0, 0, 0, 0.15);\n",
              "      filter: drop-shadow(0px 1px 2px rgba(0, 0, 0, 0.3));\n",
              "      fill: #FFFFFF;\n",
              "    }\n",
              "  </style>\n",
              "\n",
              "      <script>\n",
              "        const buttonEl =\n",
              "          document.querySelector('#df-f2fab584-1601-40d4-a4d7-d3b285187ac1 button.colab-df-convert');\n",
              "        buttonEl.style.display =\n",
              "          google.colab.kernel.accessAllowed ? 'block' : 'none';\n",
              "\n",
              "        async function convertToInteractive(key) {\n",
              "          const element = document.querySelector('#df-f2fab584-1601-40d4-a4d7-d3b285187ac1');\n",
              "          const dataTable =\n",
              "            await google.colab.kernel.invokeFunction('convertToInteractive',\n",
              "                                                     [key], {});\n",
              "          if (!dataTable) return;\n",
              "\n",
              "          const docLinkHtml = 'Like what you see? Visit the ' +\n",
              "            '<a target=\"_blank\" href=https://colab.research.google.com/notebooks/data_table.ipynb>data table notebook</a>'\n",
              "            + ' to learn more about interactive tables.';\n",
              "          element.innerHTML = '';\n",
              "          dataTable['output_type'] = 'display_data';\n",
              "          await google.colab.output.renderOutput(dataTable, element);\n",
              "          const docLink = document.createElement('div');\n",
              "          docLink.innerHTML = docLinkHtml;\n",
              "          element.appendChild(docLink);\n",
              "        }\n",
              "      </script>\n",
              "    </div>\n",
              "  </div>\n",
              "  "
            ]
          },
          "metadata": {},
          "execution_count": 84
        }
      ]
    },
    {
      "cell_type": "code",
      "source": [
        "# Airbnb Total Amount Due from 2019 Thru 2022\n",
        "print('From 2019 thru 2022 the total amount of taxes collected by Montgomery county from Airbnb is:', round(dfsumy2['Total Amount Due'].sum(),2))"
      ],
      "metadata": {
        "colab": {
          "base_uri": "https://localhost:8080/"
        },
        "id": "2qgqe8skvXiv",
        "outputId": "9ed621e6-f465-48d2-b582-083655c8d38e"
      },
      "execution_count": 85,
      "outputs": [
        {
          "output_type": "stream",
          "name": "stdout",
          "text": [
            "From 2019 thru 2022 the total amount of taxes collected by Montgomery county from Airbnb is: 2798074.1\n"
          ]
        }
      ]
    },
    {
      "cell_type": "code",
      "source": [
        "dfsumy2.sort_values(by=['Year'],ascending = True).plot(kind=\"bar\", edgecolor='black', color='orange')\n",
        "\n",
        "ax = plt.gca()\n",
        "ax.set_facecolor(\"#1f77b4\")\n",
        "ax.patch.set_alpha(1.0)\n",
        "\n",
        "plt.suptitle(\"Montgomery County - Hotel Tax From Airbnb\",fontsize=18, y=1, fontweight='bold', color='red')\n",
        "plt.title(\"2019 - 2022\", fontsize = 18, fontweight='bold', color ='red' )\n",
        "plt.ylabel(\"Total Amount Due in Million ($)\", fontweight='bold',fontsize=18, color ='red')\n",
        "plt.legend(loc='center left', bbox_to_anchor=(1, 0.5))\n",
        "plt.grid(False)\n",
        "plt.show()"
      ],
      "metadata": {
        "colab": {
          "base_uri": "https://localhost:8080/",
          "height": 669
        },
        "id": "WTjc5GWSVtlb",
        "outputId": "dcab3921-1c31-430d-cf32-280765459487"
      },
      "execution_count": 86,
      "outputs": [
        {
          "output_type": "display_data",
          "data": {
            "text/plain": [
              "<Figure size 1120x640 with 1 Axes>"
            ],
            "image/png": "[encoded data removed]"
          },
          "metadata": {}
        }
      ]
    },
    {
      "cell_type": "markdown",
      "source": [
        "The above map does not show any surprises.  Taxes revenue from Airbnb in Montgomery county fell accross Montgomery County, MD to about 42%."
      ],
      "metadata": {
        "id": "btmbgalSttzO"
      }
    },
    {
      "cell_type": "markdown",
      "source": [
        "# **Were there any hotels that went out of business during the pandemic?** \n",
        "# **Were there any new hotels that were added during the pandemic?** "
      ],
      "metadata": {
        "id": "4Xfjv6-IDBlk"
      }
    },
    {
      "cell_type": "code",
      "source": [
        "#First let's create a dataframe with all the hotels that existed prior the pandemic\n",
        "df2019=df[df[\"Year\"] == 2019] \n",
        "df2019['Name'].nunique()\n"
      ],
      "metadata": {
        "colab": {
          "base_uri": "https://localhost:8080/"
        },
        "id": "Ce6h1yDhDYDN",
        "outputId": "4a9fd23c-eb37-4f6f-d74c-3ce87e8a8326"
      },
      "execution_count": 87,
      "outputs": [
        {
          "output_type": "execute_result",
          "data": {
            "text/plain": [
              "96"
            ]
          },
          "metadata": {},
          "execution_count": 87
        }
      ]
    },
    {
      "cell_type": "code",
      "source": [
        "list(set(df2019['Name']))"
      ],
      "metadata": {
        "id": "QEXTrfrWIcKj",
        "colab": {
          "base_uri": "https://localhost:8080/"
        },
        "outputId": "be01d887-3f3b-42ab-81b9-ac64e38fe237"
      },
      "execution_count": 88,
      "outputs": [
        {
          "output_type": "execute_result",
          "data": {
            "text/plain": [
              "['Fairfield Inn & Suites - Germantown',\n",
              " 'Congressional Country Club',\n",
              " 'Aramark Sports & Entertainment Services, LLC',\n",
              " 'Dini Sari Djalal',\n",
              " 'Courtyard by Marriott Gaithersburg Washingtonian Center #311DQ',\n",
              " 'Short Term Residential Rental',\n",
              " 'Residence Inn by Marriott Bethesda Downtown #57136',\n",
              " 'RowanLark at Headwaters Farm',\n",
              " 'EXTENDED STAY AMERICA #2504',\n",
              " 'Karuna Skariah',\n",
              " 'Island Hospitality Management - Sheraton Rockville Hotel',\n",
              " 'Hotwire, Inc.',\n",
              " 'AIL Hospitality LLC dba Radisson Hotel',\n",
              " 'Airbnb Inc',\n",
              " 'RGALTD T/A Comfort Inn',\n",
              " 'Worldwide Corporate Housing LP',\n",
              " 'Eden Park Guest House, LLC',\n",
              " 'Hilton Garden Inn Silver Spring',\n",
              " 'Fallsgrove Hotel Associates LLC',\n",
              " 'Gaithersburg Operator, LLC',\n",
              " 'Holiday Inn Express Germantown',\n",
              " 'DHM Rockville LLC',\n",
              " 'GAI Enterprises, LLC. DBA - Motel 6',\n",
              " 'Hampshire Lodging Inc',\n",
              " 'Canopy by Hilton-Washington DC-North Bethesda',\n",
              " 'EXTENDED STAY AMERICA #2528',\n",
              " 'Basic Overnight Quarters LLC',\n",
              " 'Travelscape, LLC',\n",
              " 'Bethesda Hotel Associates LLC',\n",
              " 'Gaithersburg Marriott Washingtonian Center #337K6',\n",
              " 'Duball Rockville LLC dba Cambria Rockville',\n",
              " 'Residence Inn by Marriott Silver Spring #57188',\n",
              " 'Silver Hospitality Inc',\n",
              " 'Motel 6 #1489',\n",
              " 'Nicole Schmitt',\n",
              " 'MAA',\n",
              " 'AIL Hospitality LLC dba Sleep Inn Hotel',\n",
              " 'Chevy Chase Club',\n",
              " 'Amani Elkassabany',\n",
              " 'Home 2 Suites by Hilton Silver Spring',\n",
              " 'Best Western Hotel',\n",
              " 'ANNESWAY CONSULTING GROUP, LLC',\n",
              " 'Island Hospitality Management LLC - Residence Inn Gaithersburg',\n",
              " 'Rocket Travel Inc.',\n",
              " 'BW RRI III',\n",
              " 'airbnb',\n",
              " 'Bethesda North Marriott Hotel & Conference Center #337V9',\n",
              " 'Charles Oliver',\n",
              " '5520 Wisconsin Assoc',\n",
              " 'Hoft Properties, LLC DBA Even Hotel Rockville',\n",
              " 'Nancy Cedar',\n",
              " 'Doubletree Hotel',\n",
              " 'Nonye Uddoh',\n",
              " 'Tusculum Farm Enterprises, LLC',\n",
              " 'TownePlace Suites at Gaithersburg',\n",
              " 'Orbitz, LLC',\n",
              " 'Interim Homes',\n",
              " 'Courtyard by Marriott Rockville #311D1',\n",
              " 'Homewood Suites Silver Spring',\n",
              " 'Maryland National Capital Park & Planning Commission',\n",
              " 'Hotels.com, L.P.',\n",
              " 'EXTENDED STAY AMERICA #9663',\n",
              " 'Hotel Tonight, LLC',\n",
              " 'Egencia LLC',\n",
              " 'Jamie Winestone',\n",
              " 'EXTENDED STAY AMERICA #9662',\n",
              " 'Pauline Rubinstein',\n",
              " 'Agoda International USA LLC',\n",
              " 'Bethesda Marriott Suites #337P9',\n",
              " 'ELSS LLC',\n",
              " 'TripAdvisor LLC',\n",
              " 'TMG II BETHESDA HOTEL OPERATING COMPANY LLC',\n",
              " 'SpringHill Suites by Marriott Gaithersburg #196A3',\n",
              " 'Patrick Edward Chapman',\n",
              " 'Homewood Suites',\n",
              " 'A-TBC Bethesda Owner, LLC dba Doubletree Bethesda Hotel',\n",
              " 'Churchill Corporate Services Inc',\n",
              " 'Jennifer A. Lukas',\n",
              " 'Courtyard by Marriott Silver Spring #311F1',\n",
              " 'Jane Hall',\n",
              " 'HomeAway.com, Inc.',\n",
              " 'Bedford Court',\n",
              " 'Holiday Inn Gaithersburg',\n",
              " 'Bethesda Marriott #33728',\n",
              " 'Hampton Inn Silver Spring',\n",
              " 'Hampton Inn & Suites',\n",
              " 'Robert Bishop',\n",
              " 'Richard & Varda Nowitz',\n",
              " 'Sheraton Silver Spring Hotel',\n",
              " 'Rockville Hospitality, LLC',\n",
              " 'KENWOOD GOLF & COUNTRY CLUB',\n",
              " 'American Inn Bethesda',\n",
              " 'Global Serviced Apartments LLC',\n",
              " 'Priceline.com LLC',\n",
              " 'Courtyard by Marriott - Silver Spring Downtown',\n",
              " 'EXTENDED STAY AMERICA #2529']"
            ]
          },
          "metadata": {},
          "execution_count": 88
        }
      ]
    },
    {
      "cell_type": "code",
      "source": [
        "#Create a dataframe with all hotels that existed in 2020\n",
        "df2020=df[df[\"Year\"] == 2020] \n",
        "df2020['Name'].nunique()"
      ],
      "metadata": {
        "colab": {
          "base_uri": "https://localhost:8080/"
        },
        "id": "B_2rexkmFIlb",
        "outputId": "32667472-e6a7-40c0-bb8a-6a24a7a4cd3c"
      },
      "execution_count": 89,
      "outputs": [
        {
          "output_type": "execute_result",
          "data": {
            "text/plain": [
              "83"
            ]
          },
          "metadata": {},
          "execution_count": 89
        }
      ]
    },
    {
      "cell_type": "code",
      "source": [
        "list(set(df2020['Name']))"
      ],
      "metadata": {
        "id": "LP4yOdcyKkTK",
        "colab": {
          "base_uri": "https://localhost:8080/"
        },
        "outputId": "8643ea40-5caf-4e87-c88d-f52431549c74"
      },
      "execution_count": 90,
      "outputs": [
        {
          "output_type": "execute_result",
          "data": {
            "text/plain": [
              "['Fairfield Inn & Suites - Germantown',\n",
              " 'Congressional Country Club',\n",
              " 'Renoca',\n",
              " 'Aramark Sports & Entertainment Services, LLC',\n",
              " 'Elizabeth Canterbury Homeowner',\n",
              " 'Dini Sari Djalal',\n",
              " 'Courtyard by Marriott Gaithersburg Washingtonian Center #311DQ',\n",
              " 'Residence Inn by Marriott Bethesda Downtown #57136',\n",
              " 'RowanLark at Headwaters Farm',\n",
              " 'EXTENDED STAY AMERICA #2504',\n",
              " 'Island Hospitality Management - Sheraton Rockville Hotel',\n",
              " 'Hotwire, Inc.',\n",
              " 'AIL Hospitality LLC dba Radisson Hotel',\n",
              " 'Airbnb Inc',\n",
              " 'RGALTD T/A Comfort Inn',\n",
              " 'Khatuna Khvichia',\n",
              " 'Worldwide Corporate Housing LP',\n",
              " 'Hilton Garden Inn Silver Spring',\n",
              " 'Fallsgrove Hotel Associates LLC',\n",
              " 'Gaithersburg Operator, LLC',\n",
              " 'Holiday Inn Express Germantown',\n",
              " 'DHM Rockville LLC',\n",
              " 'GAI Enterprises, LLC. DBA - Motel 6',\n",
              " 'Hampshire Lodging Inc',\n",
              " 'Canopy by Hilton-Washington DC-North Bethesda',\n",
              " 'EXTENDED STAY AMERICA #2528',\n",
              " 'Basic Overnight Quarters LLC',\n",
              " 'Travelscape, LLC',\n",
              " 'Bethesda Hotel Associates LLC',\n",
              " 'Gaithersburg Marriott Washingtonian Center #337K6',\n",
              " 'Duball Rockville LLC dba Cambria Rockville',\n",
              " 'Residence Inn by Marriott Silver Spring #57188',\n",
              " 'Silver Hospitality Inc',\n",
              " 'MAA',\n",
              " 'AIL Hospitality LLC dba Sleep Inn Hotel',\n",
              " 'Chevy Chase Club',\n",
              " 'Home 2 Suites by Hilton Silver Spring',\n",
              " 'Island Hospitality Management LLC - Residence Inn Gaithersburg',\n",
              " 'Rocket Travel Inc.',\n",
              " 'BW RRI III',\n",
              " 'Michael Morris',\n",
              " 'Bethesda North Marriott Hotel & Conference Center #337V9',\n",
              " '5520 Wisconsin Assoc',\n",
              " 'Hoft Properties, LLC DBA Even Hotel Rockville',\n",
              " 'Doubletree Hotel',\n",
              " 'Tusculum Farm Enterprises, LLC',\n",
              " 'Interim Homes',\n",
              " 'TownePlace Suites at Gaithersburg',\n",
              " 'Orbitz, LLC',\n",
              " 'Courtyard by Marriott Rockville #311D1',\n",
              " 'Homewood Suites Silver Spring',\n",
              " 'Maryland National Capital Park & Planning Commission',\n",
              " 'Hotels.com, L.P.',\n",
              " 'EXTENDED STAY AMERICA #9663',\n",
              " 'Hotel Tonight, LLC',\n",
              " 'Egencia LLC',\n",
              " 'EXTENDED STAY AMERICA #9662',\n",
              " 'Agoda International USA LLC',\n",
              " 'Bethesda Marriott Suites #337P9',\n",
              " 'ELSS LLC',\n",
              " 'TripAdvisor LLC',\n",
              " 'TMG II BETHESDA HOTEL OPERATING COMPANY LLC',\n",
              " 'SpringHill Suites by Marriott Gaithersburg #196A3',\n",
              " 'Patrick Edward Chapman',\n",
              " 'A-TBC Bethesda Owner, LLC dba Doubletree Bethesda Hotel',\n",
              " 'Wellness Hospitality',\n",
              " 'Churchill Corporate Services Inc',\n",
              " 'Courtyard by Marriott Silver Spring #311F1',\n",
              " 'HomeAway.com, Inc.',\n",
              " 'Bedford Court',\n",
              " 'Holiday Inn Gaithersburg',\n",
              " 'Bethesda Marriott #33728',\n",
              " 'BEST WESTERN PLUS ROCKVILLE',\n",
              " 'Hampton Inn Silver Spring',\n",
              " 'Hampton Inn & Suites',\n",
              " 'Sheraton Silver Spring Hotel',\n",
              " 'Rockville Hospitality, LLC',\n",
              " 'American Inn Bethesda',\n",
              " 'Global Serviced Apartments LLC',\n",
              " 'patricia mirsky',\n",
              " 'Priceline.com LLC',\n",
              " 'Courtyard by Marriott - Silver Spring Downtown',\n",
              " 'EXTENDED STAY AMERICA #2529']"
            ]
          },
          "metadata": {},
          "execution_count": 90
        }
      ]
    },
    {
      "cell_type": "code",
      "source": [
        "#Create a dataframe with all hotels that existed in 2020\n",
        "df2021=df[df[\"Year\"] == 2021] \n",
        "df2021['Name'].nunique()"
      ],
      "metadata": {
        "colab": {
          "base_uri": "https://localhost:8080/"
        },
        "id": "KWp6OjIaGeCz",
        "outputId": "8b111c5b-e280-45d1-f314-78853d3b6eaa"
      },
      "execution_count": 91,
      "outputs": [
        {
          "output_type": "execute_result",
          "data": {
            "text/plain": [
              "85"
            ]
          },
          "metadata": {},
          "execution_count": 91
        }
      ]
    },
    {
      "cell_type": "code",
      "source": [
        "list(set(df2021['Name']))"
      ],
      "metadata": {
        "id": "rohdEhcyMb5m",
        "colab": {
          "base_uri": "https://localhost:8080/"
        },
        "outputId": "dbca4c69-fd2b-43d7-e837-d068e70b8a50"
      },
      "execution_count": 92,
      "outputs": [
        {
          "output_type": "execute_result",
          "data": {
            "text/plain": [
              "['Fairfield Inn & Suites - Germantown',\n",
              " 'Congressional Country Club',\n",
              " 'Aramark Sports & Entertainment Services, LLC',\n",
              " 'Dini Sari Djalal',\n",
              " 'Courtyard by Marriott Gaithersburg Washingtonian Center #311DQ',\n",
              " 'Residence Inn by Marriott Bethesda Downtown #57136',\n",
              " 'RowanLark at Headwaters Farm',\n",
              " 'EXTENDED STAY AMERICA #2504',\n",
              " 'Island Hospitality Management - Sheraton Rockville Hotel',\n",
              " 'Hotwire, Inc.',\n",
              " 'AIL Hospitality LLC dba Radisson Hotel',\n",
              " 'Airbnb Inc',\n",
              " 'RGALTD T/A Comfort Inn',\n",
              " 'Khatuna Khvichia',\n",
              " 'Courtyard by Marriott Bethesda/Chevy Chase',\n",
              " 'Fallsgrove Hotel Associates LLC',\n",
              " 'Hilton Garden Inn Silver Spring',\n",
              " 'Daniel Greenspan Airbnb',\n",
              " 'Gaithersburg Operator, LLC',\n",
              " 'Holiday Inn Express Germantown',\n",
              " 'DHM Rockville LLC',\n",
              " 'GAI Enterprises, LLC. DBA - Motel 6',\n",
              " 'INK Lessee, LLC DBA Sheraton Rockville',\n",
              " 'Hampshire Lodging Inc',\n",
              " 'Canopy by Hilton-Washington DC-North Bethesda',\n",
              " 'Basic Overnight Quarters LLC',\n",
              " 'EXTENDED STAY AMERICA #2528',\n",
              " 'Travelscape, LLC',\n",
              " 'Duball Rockville LLC dba Cambria Rockville',\n",
              " 'Gaithersburg Marriott Washingtonian Center #337K6',\n",
              " 'Bethesda Hotel Associates LLC',\n",
              " 'Residence Inn by Marriott Silver Spring #57188',\n",
              " 'Silver Hospitality Inc',\n",
              " 'MAA',\n",
              " 'AIL Hospitality LLC dba Sleep Inn Hotel',\n",
              " 'T-R 1775 Rockville Owner LLC dba Rockville Even Hotel',\n",
              " 'Chevy Chase Club',\n",
              " 'Home 2 Suites by Hilton Silver Spring',\n",
              " 'Des Affiches Bed and Breakfast',\n",
              " 'Island Hospitality Management LLC - Residence Inn Gaithersburg',\n",
              " 'BW RRI III',\n",
              " 'Rocket Travel Inc.',\n",
              " 'Michael Morris',\n",
              " 'Bethesda North Marriott Hotel & Conference Center #337V9',\n",
              " 'LCOF Silver Spring Operating, LLC',\n",
              " 'Hoft Properties, LLC DBA Even Hotel Rockville',\n",
              " 'Doubletree Hotel',\n",
              " 'Tusculum Farm Enterprises, LLC',\n",
              " 'TownePlace Suites at Gaithersburg',\n",
              " 'Orbitz, LLC',\n",
              " 'Interim Homes',\n",
              " 'Courtyard by Marriott Rockville #311D1',\n",
              " 'Homewood Suites Silver Spring',\n",
              " 'Maryland National Capital Park & Planning Commission',\n",
              " 'Hotels.com, L.P.',\n",
              " 'EXTENDED STAY AMERICA #9663',\n",
              " 'Hotel Tonight, LLC',\n",
              " 'Egencia LLC',\n",
              " 'EXTENDED STAY AMERICA #9662',\n",
              " 'Agoda International USA LLC',\n",
              " 'Bethesda Marriott Suites #337P9',\n",
              " 'ELSS LLC',\n",
              " 'TripAdvisor LLC',\n",
              " 'TMG II BETHESDA HOTEL OPERATING COMPANY LLC',\n",
              " 'SpringHill Suites by Marriott Gaithersburg #196A3',\n",
              " 'Patrick Edward Chapman',\n",
              " 'A-TBC Bethesda Owner, LLC dba Doubletree Bethesda Hotel',\n",
              " 'Churchill Corporate Services Inc',\n",
              " 'Courtyard by Marriott Silver Spring #311F1',\n",
              " 'The Oaks',\n",
              " 'HomeAway.com, Inc.',\n",
              " 'Bedford Court',\n",
              " 'Holiday Inn Gaithersburg',\n",
              " 'Bethesda Marriott #33728',\n",
              " 'BEST WESTERN PLUS ROCKVILLE',\n",
              " 'Hampton Inn Silver Spring',\n",
              " 'Hampton Inn & Suites',\n",
              " 'Sheraton Silver Spring Hotel',\n",
              " 'Rockville Hospitality, LLC',\n",
              " 'American Inn Bethesda',\n",
              " 'Cambria Hotel Rockville',\n",
              " 'Global Serviced Apartments LLC',\n",
              " 'Priceline.com LLC',\n",
              " 'Courtyard by Marriott - Silver Spring Downtown',\n",
              " 'EXTENDED STAY AMERICA #2529']"
            ]
          },
          "metadata": {},
          "execution_count": 92
        }
      ]
    },
    {
      "cell_type": "code",
      "source": [
        "#Create a dataframe with all hotels that existed in 2020\n",
        "df2022=df[df[\"Year\"] == 2022] \n",
        "df2022['Name'].nunique()"
      ],
      "metadata": {
        "colab": {
          "base_uri": "https://localhost:8080/"
        },
        "id": "u96k3N0dGsfw",
        "outputId": "ff71f5ef-214e-4955-ba89-3ccbe0e473d5"
      },
      "execution_count": 93,
      "outputs": [
        {
          "output_type": "execute_result",
          "data": {
            "text/plain": [
              "84"
            ]
          },
          "metadata": {},
          "execution_count": 93
        }
      ]
    },
    {
      "cell_type": "code",
      "source": [
        "list(set(df2022['Name']))"
      ],
      "metadata": {
        "id": "L2H6fUjQRfSi",
        "colab": {
          "base_uri": "https://localhost:8080/"
        },
        "outputId": "e95a922f-b5aa-453c-d23d-4d8c395b88b6"
      },
      "execution_count": 94,
      "outputs": [
        {
          "output_type": "execute_result",
          "data": {
            "text/plain": [
              "['Fairfield Inn & Suites - Germantown',\n",
              " 'Congressional Country Club',\n",
              " 'Aramark Sports & Entertainment Services, LLC',\n",
              " 'Courtyard by Marriott Gaithersburg Washingtonian Center #311DQ',\n",
              " 'Residence Inn by Marriott Bethesda Downtown #57136',\n",
              " 'RowanLark at Headwaters Farm',\n",
              " 'EXTENDED STAY AMERICA #2504',\n",
              " 'Hotwire, Inc.',\n",
              " 'AIL Hospitality LLC dba Radisson Hotel',\n",
              " 'Airbnb Inc',\n",
              " 'RGALTD T/A Comfort Inn',\n",
              " 'Courtyard by Marriott Bethesda/Chevy Chase',\n",
              " 'Hilton Garden Inn Silver Spring',\n",
              " 'Fallsgrove Hotel Associates LLC',\n",
              " 'Sophia Jafrul',\n",
              " 'Gaithersburg Operator, LLC',\n",
              " 'DHM Rockville LLC',\n",
              " 'Holiday Inn Express Germantown',\n",
              " 'GAI Enterprises, LLC. DBA - Motel 6',\n",
              " 'INK Lessee, LLC DBA Sheraton Rockville',\n",
              " 'Hampshire Lodging Inc',\n",
              " 'Canopy by Hilton-Washington DC-North Bethesda',\n",
              " 'Marriott Bethesda Downtown #33816',\n",
              " 'EXTENDED STAY AMERICA #2528',\n",
              " 'Basic Overnight Quarters LLC',\n",
              " 'Travelscape, LLC',\n",
              " 'Bethesda Hotel Associates LLC',\n",
              " 'Gaithersburg Marriott Washingtonian Center #337K6',\n",
              " 'Residence Inn by Marriott Silver Spring #57188',\n",
              " 'Silver Hospitality Inc',\n",
              " 'Sage Client 227 LLC',\n",
              " 'MAA',\n",
              " 'AIL Hospitality LLC dba Sleep Inn Hotel',\n",
              " 'T-R 1775 Rockville Owner LLC dba Rockville Even Hotel',\n",
              " 'Headwaters Farm',\n",
              " 'Chevy Chase Club',\n",
              " 'The Bethesdan Hotel',\n",
              " 'Home 2 Suites by Hilton Silver Spring',\n",
              " 'BW RRI III',\n",
              " 'Rocket Travel Inc.',\n",
              " 'United Corporate Housing',\n",
              " 'Bethesda North Marriott Hotel & Conference Center #337V9',\n",
              " 'LCOF Silver Spring Operating, LLC',\n",
              " 'Annika Hamann',\n",
              " 'Doubletree Hotel',\n",
              " 'Tusculum Farm Enterprises, LLC',\n",
              " 'TownePlace Suites at Gaithersburg',\n",
              " 'Interim Homes',\n",
              " 'Courtyard by Marriott Rockville #311D1',\n",
              " 'Maryland National Capital Park & Planning Commission',\n",
              " 'Elizabeth Burgess',\n",
              " 'Hotels.com, L.P.',\n",
              " 'EXTENDED STAY AMERICA #9663',\n",
              " 'Grand Prix Fixed Lessee LLC DBA RI Gaithersburg',\n",
              " 'Hotel Tonight, LLC',\n",
              " 'EXTENDED STAY AMERICA #9662',\n",
              " 'Agoda International USA LLC',\n",
              " 'Richard Rodrigues',\n",
              " 'Moonshot Global',\n",
              " 'Bethesda Marriott Suites #337P9',\n",
              " 'ELSS LLC',\n",
              " 'TripAdvisor LLC',\n",
              " 'TMG II BETHESDA HOTEL OPERATING COMPANY LLC',\n",
              " 'SpringHill Suites by Marriott Gaithersburg #196A3',\n",
              " 'A-TBC Bethesda Owner, LLC dba Doubletree Bethesda Hotel',\n",
              " 'Churchill Corporate Services Inc',\n",
              " 'Courtyard by Marriott Silver Spring #311F1',\n",
              " 'HomeAway.com, Inc.',\n",
              " 'Bedford Court',\n",
              " 'Holiday Inn Gaithersburg',\n",
              " 'Bethesda Marriott #33728',\n",
              " 'BEST WESTERN PLUS ROCKVILLE',\n",
              " 'Hampton Inn & Suites',\n",
              " 'Sheraton Silver Spring Hotel',\n",
              " 'Rockville Hospitality, LLC',\n",
              " 'American Inn Bethesda',\n",
              " 'Cambria Hotel Rockville',\n",
              " 'Global Serviced Apartments LLC',\n",
              " 'EVOLVE VACATION RENTAL NETWORK INC',\n",
              " '7359 Wisconsin Avenue, LLC',\n",
              " 'Courtyard by Marriott - Silver Spring Downtown',\n",
              " 'Priceline.com LLC',\n",
              " 'Viktoria Ana D Partalozova',\n",
              " 'EXTENDED STAY AMERICA #2529']"
            ]
          },
          "metadata": {},
          "execution_count": 94
        }
      ]
    },
    {
      "cell_type": "markdown",
      "source": [
        "*Hotels that disapeared in 2020*"
      ],
      "metadata": {
        "id": "eybyzwmSRnA-"
      }
    },
    {
      "cell_type": "code",
      "source": [
        "remaininglist_names = list(set(df2019['Name']) - set(df2020['Name']))\n",
        "remaininglist_names"
      ],
      "metadata": {
        "colab": {
          "base_uri": "https://localhost:8080/"
        },
        "id": "XkxV4KHRG0KZ",
        "outputId": "5e834e50-7e28-4c48-f2ec-830aa044ef52"
      },
      "execution_count": 95,
      "outputs": [
        {
          "output_type": "execute_result",
          "data": {
            "text/plain": [
              "['Nonye Uddoh',\n",
              " 'Homewood Suites',\n",
              " 'Jennifer A. Lukas',\n",
              " 'Motel 6 #1489',\n",
              " 'Jane Hall',\n",
              " 'Short Term Residential Rental',\n",
              " 'Nicole Schmitt',\n",
              " 'Amani Elkassabany',\n",
              " 'Karuna Skariah',\n",
              " 'Jamie Winestone',\n",
              " 'Robert Bishop',\n",
              " 'Best Western Hotel',\n",
              " 'Pauline Rubinstein',\n",
              " 'Richard & Varda Nowitz',\n",
              " 'ANNESWAY CONSULTING GROUP, LLC',\n",
              " 'KENWOOD GOLF & COUNTRY CLUB',\n",
              " 'airbnb',\n",
              " 'Eden Park Guest House, LLC',\n",
              " 'Charles Oliver',\n",
              " 'Nancy Cedar']"
            ]
          },
          "metadata": {},
          "execution_count": 95
        }
      ]
    },
    {
      "cell_type": "markdown",
      "source": [
        "*Hotels that were added in 2020*"
      ],
      "metadata": {
        "id": "KMoZInDWSALQ"
      }
    },
    {
      "cell_type": "code",
      "source": [
        "remaininglist_namesA = list(set(df2020['Name']) - set(df2019['Name']))\n",
        "remaininglist_namesA"
      ],
      "metadata": {
        "colab": {
          "base_uri": "https://localhost:8080/"
        },
        "id": "TbUX5wKYSUW5",
        "outputId": "7ddf9027-faf4-4f15-f35f-ab58ced7675e"
      },
      "execution_count": 96,
      "outputs": [
        {
          "output_type": "execute_result",
          "data": {
            "text/plain": [
              "['Renoca',\n",
              " 'Michael Morris',\n",
              " 'BEST WESTERN PLUS ROCKVILLE',\n",
              " 'Wellness Hospitality',\n",
              " 'Khatuna Khvichia',\n",
              " 'Elizabeth Canterbury Homeowner',\n",
              " 'patricia mirsky']"
            ]
          },
          "metadata": {},
          "execution_count": 96
        }
      ]
    },
    {
      "cell_type": "markdown",
      "source": [
        "*Hotels that disapeared in 2021*"
      ],
      "metadata": {
        "id": "3qhYEZNxWLJJ"
      }
    },
    {
      "cell_type": "code",
      "source": [
        "remaininglist_names2 = list(set(df2020['Name']) - set(df2021['Name']))\n",
        "remaininglist_names2"
      ],
      "metadata": {
        "colab": {
          "base_uri": "https://localhost:8080/"
        },
        "id": "u6fzFjAAKO96",
        "outputId": "1204ca2a-f871-4e62-93ef-f342c53f04f9"
      },
      "execution_count": 97,
      "outputs": [
        {
          "output_type": "execute_result",
          "data": {
            "text/plain": [
              "['Worldwide Corporate Housing LP',\n",
              " '5520 Wisconsin Assoc',\n",
              " 'Renoca',\n",
              " 'Wellness Hospitality',\n",
              " 'Elizabeth Canterbury Homeowner',\n",
              " 'patricia mirsky']"
            ]
          },
          "metadata": {},
          "execution_count": 97
        }
      ]
    },
    {
      "cell_type": "markdown",
      "source": [
        "*Hotels that were added in 2021*"
      ],
      "metadata": {
        "id": "G-NPPME3WtBJ"
      }
    },
    {
      "cell_type": "code",
      "source": [
        "remaininglist_names2A = list(set(df2021['Name']) - set(df2020['Name']))\n",
        "remaininglist_names2A"
      ],
      "metadata": {
        "colab": {
          "base_uri": "https://localhost:8080/"
        },
        "id": "oL6GIieqWu45",
        "outputId": "0d21915a-5ba3-45af-8bc2-ba57a097ea82"
      },
      "execution_count": 98,
      "outputs": [
        {
          "output_type": "execute_result",
          "data": {
            "text/plain": [
              "['Des Affiches Bed and Breakfast',\n",
              " 'Courtyard by Marriott Bethesda/Chevy Chase',\n",
              " 'Daniel Greenspan Airbnb',\n",
              " 'T-R 1775 Rockville Owner LLC dba Rockville Even Hotel',\n",
              " 'INK Lessee, LLC DBA Sheraton Rockville',\n",
              " 'Cambria Hotel Rockville',\n",
              " 'LCOF Silver Spring Operating, LLC',\n",
              " 'The Oaks']"
            ]
          },
          "metadata": {},
          "execution_count": 98
        }
      ]
    },
    {
      "cell_type": "markdown",
      "source": [
        "*Hotels that disapeared in 2022*"
      ],
      "metadata": {
        "id": "0no99sjQe1DZ"
      }
    },
    {
      "cell_type": "code",
      "source": [
        "remaininglist_names3 = list(set(df2021['Name']) - set(df2022['Name']))\n",
        "remaininglist_names3"
      ],
      "metadata": {
        "colab": {
          "base_uri": "https://localhost:8080/"
        },
        "id": "3JYWjbHXL44z",
        "outputId": "0e08bc16-ed57-45a4-d7d0-2cc852f67230"
      },
      "execution_count": 99,
      "outputs": [
        {
          "output_type": "execute_result",
          "data": {
            "text/plain": [
              "['Des Affiches Bed and Breakfast',\n",
              " 'Island Hospitality Management - Sheraton Rockville Hotel',\n",
              " 'Hampton Inn Silver Spring',\n",
              " 'Orbitz, LLC',\n",
              " 'Duball Rockville LLC dba Cambria Rockville',\n",
              " 'Island Hospitality Management LLC - Residence Inn Gaithersburg',\n",
              " 'Hoft Properties, LLC DBA Even Hotel Rockville',\n",
              " 'Daniel Greenspan Airbnb',\n",
              " 'Michael Morris',\n",
              " 'Khatuna Khvichia',\n",
              " 'Homewood Suites Silver Spring',\n",
              " 'Egencia LLC',\n",
              " 'Dini Sari Djalal',\n",
              " 'Patrick Edward Chapman',\n",
              " 'The Oaks']"
            ]
          },
          "metadata": {},
          "execution_count": 99
        }
      ]
    },
    {
      "cell_type": "markdown",
      "source": [
        "*Hotels that were added in 2022*"
      ],
      "metadata": {
        "id": "mP6zCgjkfGYI"
      }
    },
    {
      "cell_type": "code",
      "source": [
        "remaininglist_names4 = list(set(df2022['Name']) - set(df2021['Name']))\n",
        "remaininglist_names4"
      ],
      "metadata": {
        "colab": {
          "base_uri": "https://localhost:8080/"
        },
        "id": "ycDViuFlP7sK",
        "outputId": "a99294a4-8982-44a8-8d98-e5316c791f30"
      },
      "execution_count": 100,
      "outputs": [
        {
          "output_type": "execute_result",
          "data": {
            "text/plain": [
              "['EVOLVE VACATION RENTAL NETWORK INC',\n",
              " 'Marriott Bethesda Downtown #33816',\n",
              " '7359 Wisconsin Avenue, LLC',\n",
              " 'Sage Client 227 LLC',\n",
              " 'Richard Rodrigues',\n",
              " 'Headwaters Farm',\n",
              " 'Sophia Jafrul',\n",
              " 'Annika Hamann',\n",
              " 'Grand Prix Fixed Lessee LLC DBA RI Gaithersburg',\n",
              " 'Moonshot Global',\n",
              " 'Viktoria Ana D Partalozova',\n",
              " 'The Bethesdan Hotel',\n",
              " 'United Corporate Housing',\n",
              " 'Elizabeth Burgess']"
            ]
          },
          "metadata": {},
          "execution_count": 100
        }
      ]
    },
    {
      "cell_type": "markdown",
      "source": [
        "# **What are the hotels that paid the most penalties from 2019 to 2022?**"
      ],
      "metadata": {
        "id": "YLHkTQ0QdKrZ"
      }
    },
    {
      "cell_type": "code",
      "source": [
        "dfpenalty = dfsum.nlargest(10, ['Penalty']).groupby('Name').sum()\n",
        "#removcol0= ['Month','Quarter','Year']\n",
        "#df10= df10.drop(columns=removcol0)\n",
        "dfpenalty.head(10)"
      ],
      "metadata": {
        "colab": {
          "base_uri": "https://localhost:8080/",
          "height": 394
        },
        "id": "zl-fOBhZdp3S",
        "outputId": "4809f08d-ff23-4126-d64d-5ddf2cafd06f"
      },
      "execution_count": 101,
      "outputs": [
        {
          "output_type": "execute_result",
          "data": {
            "text/plain": [
              "                                        Taxable Amount    Tax Due  Interest  \\\n",
              "Name                                                                          \n",
              "AIL Hospitality LLC dba Radisson Hotel      7323949.88  512676.27    282.76   \n",
              "Best Western Hotel                          1458177.03  102072.36   3199.26   \n",
              "Fairfield Inn & Suites - Germantown         8157453.61  571021.51    163.45   \n",
              "GAI Enterprises, LLC. DBA - Motel 6         5568450.63  389791.32    189.23   \n",
              "Hampton Inn & Suites                       10424926.92  729744.65    188.82   \n",
              "Homewood Suites Silver Spring               5169158.94  361840.98    200.09   \n",
              "INK Lessee, LLC DBA Sheraton Rockville      4053322.07  283732.45  13337.21   \n",
              "RGALTD T/A Comfort Inn                      7601030.78  532072.01    449.75   \n",
              "Rockville Hospitality, LLC                 10667457.74  746721.78    185.15   \n",
              "The Bethesdan Hotel                         6601278.58  462089.45    573.78   \n",
              "\n",
              "                                         Penalty  Total Amount Due  \n",
              "Name                                                                \n",
              "AIL Hospitality LLC dba Radisson Hotel   1413.82         514372.87  \n",
              "Best Western Hotel                      11720.79         116992.45  \n",
              "Fairfield Inn & Suites - Germantown       817.25         572002.22  \n",
              "GAI Enterprises, LLC. DBA - Motel 6       946.20         390926.76  \n",
              "Hampton Inn & Suites                      944.13         730877.61  \n",
              "Homewood Suites Silver Spring            1000.50         363041.59  \n",
              "INK Lessee, LLC DBA Sheraton Rockville  37871.97         334941.64  \n",
              "RGALTD T/A Comfort Inn                   2248.78         534770.55  \n",
              "Rockville Hospitality, LLC                925.75         747832.69  \n",
              "The Bethesdan Hotel                      2868.92         465532.15  "
            ],
            "text/html": [
              "\n",
              "  <div id=\"df-45160666-a515-4173-95bf-621d455c36d1\">\n",
              "    <div class=\"colab-df-container\">\n",
              "      <div>\n",
              "<style scoped>\n",
              "    .dataframe tbody tr th:only-of-type {\n",
              "        vertical-align: middle;\n",
              "    }\n",
              "\n",
              "    .dataframe tbody tr th {\n",
              "        vertical-align: top;\n",
              "    }\n",
              "\n",
              "    .dataframe thead th {\n",
              "        text-align: right;\n",
              "    }\n",
              "</style>\n",
              "<table border=\"1\" class=\"dataframe\">\n",
              "  <thead>\n",
              "    <tr style=\"text-align: right;\">\n",
              "      <th></th>\n",
              "      <th>Taxable Amount</th>\n",
              "      <th>Tax Due</th>\n",
              "      <th>Interest</th>\n",
              "      <th>Penalty</th>\n",
              "      <th>Total Amount Due</th>\n",
              "    </tr>\n",
              "    <tr>\n",
              "      <th>Name</th>\n",
              "      <th></th>\n",
              "      <th></th>\n",
              "      <th></th>\n",
              "      <th></th>\n",
              "      <th></th>\n",
              "    </tr>\n",
              "  </thead>\n",
              "  <tbody>\n",
              "    <tr>\n",
              "      <th>AIL Hospitality LLC dba Radisson Hotel</th>\n",
              "      <td>7323949.88</td>\n",
              "      <td>512676.27</td>\n",
              "      <td>282.76</td>\n",
              "      <td>1413.82</td>\n",
              "      <td>514372.87</td>\n",
              "    </tr>\n",
              "    <tr>\n",
              "      <th>Best Western Hotel</th>\n",
              "      <td>1458177.03</td>\n",
              "      <td>102072.36</td>\n",
              "      <td>3199.26</td>\n",
              "      <td>11720.79</td>\n",
              "      <td>116992.45</td>\n",
              "    </tr>\n",
              "    <tr>\n",
              "      <th>Fairfield Inn &amp; Suites - Germantown</th>\n",
              "      <td>8157453.61</td>\n",
              "      <td>571021.51</td>\n",
              "      <td>163.45</td>\n",
              "      <td>817.25</td>\n",
              "      <td>572002.22</td>\n",
              "    </tr>\n",
              "    <tr>\n",
              "      <th>GAI Enterprises, LLC. DBA - Motel 6</th>\n",
              "      <td>5568450.63</td>\n",
              "      <td>389791.32</td>\n",
              "      <td>189.23</td>\n",
              "      <td>946.20</td>\n",
              "      <td>390926.76</td>\n",
              "    </tr>\n",
              "    <tr>\n",
              "      <th>Hampton Inn &amp; Suites</th>\n",
              "      <td>10424926.92</td>\n",
              "      <td>729744.65</td>\n",
              "      <td>188.82</td>\n",
              "      <td>944.13</td>\n",
              "      <td>730877.61</td>\n",
              "    </tr>\n",
              "    <tr>\n",
              "      <th>Homewood Suites Silver Spring</th>\n",
              "      <td>5169158.94</td>\n",
              "      <td>361840.98</td>\n",
              "      <td>200.09</td>\n",
              "      <td>1000.50</td>\n",
              "      <td>363041.59</td>\n",
              "    </tr>\n",
              "    <tr>\n",
              "      <th>INK Lessee, LLC DBA Sheraton Rockville</th>\n",
              "      <td>4053322.07</td>\n",
              "      <td>283732.45</td>\n",
              "      <td>13337.21</td>\n",
              "      <td>37871.97</td>\n",
              "      <td>334941.64</td>\n",
              "    </tr>\n",
              "    <tr>\n",
              "      <th>RGALTD T/A Comfort Inn</th>\n",
              "      <td>7601030.78</td>\n",
              "      <td>532072.01</td>\n",
              "      <td>449.75</td>\n",
              "      <td>2248.78</td>\n",
              "      <td>534770.55</td>\n",
              "    </tr>\n",
              "    <tr>\n",
              "      <th>Rockville Hospitality, LLC</th>\n",
              "      <td>10667457.74</td>\n",
              "      <td>746721.78</td>\n",
              "      <td>185.15</td>\n",
              "      <td>925.75</td>\n",
              "      <td>747832.69</td>\n",
              "    </tr>\n",
              "    <tr>\n",
              "      <th>The Bethesdan Hotel</th>\n",
              "      <td>6601278.58</td>\n",
              "      <td>462089.45</td>\n",
              "      <td>573.78</td>\n",
              "      <td>2868.92</td>\n",
              "      <td>465532.15</td>\n",
              "    </tr>\n",
              "  </tbody>\n",
              "</table>\n",
              "</div>\n",
              "      <button class=\"colab-df-convert\" onclick=\"convertToInteractive('df-45160666-a515-4173-95bf-621d455c36d1')\"\n",
              "              title=\"Convert this dataframe to an interactive table.\"\n",
              "              style=\"display:none;\">\n",
              "        \n",
              "  <svg xmlns=\"http://www.w3.org/2000/svg\" height=\"24px\"viewBox=\"0 0 24 24\"\n",
              "       width=\"24px\">\n",
              "    <path d=\"M0 0h24v24H0V0z\" fill=\"none\"/>\n",
              "    <path d=\"M18.56 5.44l.94 2.06.94-2.06 2.06-.94-2.06-.94-.94-2.06-.94 2.06-2.06.94zm-11 1L8.5 8.5l.94-2.06 2.06-.94-2.06-.94L8.5 2.5l-.94 2.06-2.06.94zm10 10l.94 2.06.94-2.06 2.06-.94-2.06-.94-.94-2.06-.94 2.06-2.06.94z\"/><path d=\"M17.41 7.96l-1.37-1.37c-.4-.4-.92-.59-1.43-.59-.52 0-1.04.2-1.43.59L10.3 9.45l-7.72 7.72c-.78.78-.78 2.05 0 2.83L4 21.41c.39.39.9.59 1.41.59.51 0 1.02-.2 1.41-.59l7.78-7.78 2.81-2.81c.8-.78.8-2.07 0-2.86zM5.41 20L4 18.59l7.72-7.72 1.47 1.35L5.41 20z\"/>\n",
              "  </svg>\n",
              "      </button>\n",
              "      \n",
              "  <style>\n",
              "    .colab-df-container {\n",
              "      display:flex;\n",
              "      flex-wrap:wrap;\n",
              "      gap: 12px;\n",
              "    }\n",
              "\n",
              "    .colab-df-convert {\n",
              "      background-color: #E8F0FE;\n",
              "      border: none;\n",
              "      border-radius: 50%;\n",
              "      cursor: pointer;\n",
              "      display: none;\n",
              "      fill: #1967D2;\n",
              "      height: 32px;\n",
              "      padding: 0 0 0 0;\n",
              "      width: 32px;\n",
              "    }\n",
              "\n",
              "    .colab-df-convert:hover {\n",
              "      background-color: #E2EBFA;\n",
              "      box-shadow: 0px 1px 2px rgba(60, 64, 67, 0.3), 0px 1px 3px 1px rgba(60, 64, 67, 0.15);\n",
              "      fill: #174EA6;\n",
              "    }\n",
              "\n",
              "    [theme=dark] .colab-df-convert {\n",
              "      background-color: #3B4455;\n",
              "      fill: #D2E3FC;\n",
              "    }\n",
              "\n",
              "    [theme=dark] .colab-df-convert:hover {\n",
              "      background-color: #434B5C;\n",
              "      box-shadow: 0px 1px 3px 1px rgba(0, 0, 0, 0.15);\n",
              "      filter: drop-shadow(0px 1px 2px rgba(0, 0, 0, 0.3));\n",
              "      fill: #FFFFFF;\n",
              "    }\n",
              "  </style>\n",
              "\n",
              "      <script>\n",
              "        const buttonEl =\n",
              "          document.querySelector('#df-45160666-a515-4173-95bf-621d455c36d1 button.colab-df-convert');\n",
              "        buttonEl.style.display =\n",
              "          google.colab.kernel.accessAllowed ? 'block' : 'none';\n",
              "\n",
              "        async function convertToInteractive(key) {\n",
              "          const element = document.querySelector('#df-45160666-a515-4173-95bf-621d455c36d1');\n",
              "          const dataTable =\n",
              "            await google.colab.kernel.invokeFunction('convertToInteractive',\n",
              "                                                     [key], {});\n",
              "          if (!dataTable) return;\n",
              "\n",
              "          const docLinkHtml = 'Like what you see? Visit the ' +\n",
              "            '<a target=\"_blank\" href=https://colab.research.google.com/notebooks/data_table.ipynb>data table notebook</a>'\n",
              "            + ' to learn more about interactive tables.';\n",
              "          element.innerHTML = '';\n",
              "          dataTable['output_type'] = 'display_data';\n",
              "          await google.colab.output.renderOutput(dataTable, element);\n",
              "          const docLink = document.createElement('div');\n",
              "          docLink.innerHTML = docLinkHtml;\n",
              "          element.appendChild(docLink);\n",
              "        }\n",
              "      </script>\n",
              "    </div>\n",
              "  </div>\n",
              "  "
            ]
          },
          "metadata": {},
          "execution_count": 101
        }
      ]
    },
    {
      "cell_type": "code",
      "source": [
        "removcol= ['Taxable Amount', 'Tax Due', 'Interest', 'Total Amount Due']\n",
        "dfpenaltya= dfpenalty.drop(columns=removcol)\n",
        "dfpenaltya.sort_values(by=['Penalty'],ascending = True).plot(kind=\"barh\", edgecolor='black', color='red')\n",
        "\n",
        "plt.style.use('classic')\n",
        "\n",
        "#ax = plt.gca()\n",
        "#ax.set_facecolor(\"#7FFFD4\")\n",
        "#ax.patch.set_alpha(1.0)\n",
        "\n",
        "plt.suptitle(\"Montgomery County Top 10 Hotel Tax Penalty\",fontsize=18, y=1, fontweight='bold', color='blue')\n",
        "plt.title(\"2019 - 2022\", fontsize = 18, fontweight='bold', color ='blue' )\n",
        "plt.ylabel(\"Total Amount Due in Million ($)\", fontweight='bold',fontsize=18, color ='blue')\n",
        "plt.legend(loc='center left', bbox_to_anchor=(1, 0.5))\n",
        "plt.grid(True)\n",
        "plt.show()"
      ],
      "metadata": {
        "colab": {
          "base_uri": "https://localhost:8080/",
          "height": 633
        },
        "id": "TwVk5UAMeZFw",
        "outputId": "a8a40991-c8b7-4a32-9c0b-e4a78543035f"
      },
      "execution_count": 102,
      "outputs": [
        {
          "output_type": "display_data",
          "data": {
            "text/plain": [
              "<Figure size 1120x640 with 1 Axes>"
            ],
            "image/png": "[encoded data removed]"
          },
          "metadata": {}
        }
      ]
    },
    {
      "cell_type": "markdown",
      "source": [
        "# **How many hotels paid a penalty per year? How many did not pay a penalty?**"
      ],
      "metadata": {
        "id": "512wDaS2tdS2"
      }
    },
    {
      "cell_type": "code",
      "source": [
        "# Complete list of Hotels that paid penalty between 2019 - 2022\n",
        "dfpenaltycount = df2.groupby('Name').sum()\n",
        "removcol0= ['Month','Quarter','Year']\n",
        "dfpenaltycount= dfpenaltycount.drop(columns=removcol0)\n",
        "dfpenaltycount=dfpenaltycount.reset_index()\n",
        "dfpenaltycountq=dfpenaltycount.loc[dfpenaltycount['Penalty'] > 0]\n",
        "#dfpenaltycountq.head()\n",
        "psum= round(np.sum(dfpenaltycountq['Penalty']), 2)\n",
        "isum= round(np.sum(dfpenaltycountq['Interest']), 2)\n",
        "\n",
        "print(dfpenaltycountq.shape[0],  \"of the 125 hotels paid a total penalty of\", psum, \"and a total of interest of\"\n",
        ", isum)\n",
        "dfpenaltycountq.head(27)"
      ],
      "metadata": {
        "colab": {
          "base_uri": "https://localhost:8080/",
          "height": 968
        },
        "id": "h3n2EIH0KacC",
        "outputId": "daee1aea-3658-4a60-ce0e-380cff57aee8"
      },
      "execution_count": 103,
      "outputs": [
        {
          "output_type": "stream",
          "name": "stdout",
          "text": [
            "27 of the 125 hotels paid a total penalty of 64495.49 and a total of interest of 19606.56\n"
          ]
        },
        {
          "output_type": "stream",
          "name": "stderr",
          "text": [
            "<ipython-input-103-d78d00e59e56>:2: FutureWarning: The default value of numeric_only in DataFrameGroupBy.sum is deprecated. In a future version, numeric_only will default to False. Either specify numeric_only or select only columns which should be valid for the function.\n",
            "  dfpenaltycount = df2.groupby('Name').sum()\n"
          ]
        },
        {
          "output_type": "execute_result",
          "data": {
            "text/plain": [
              "                                                  Name  Taxable Amount  \\\n",
              "0                                 5520 Wisconsin Assoc     11999117.67   \n",
              "3               AIL Hospitality LLC dba Radisson Hotel      7323949.88   \n",
              "4              AIL Hospitality LLC dba Sleep Inn Hotel      5039427.09   \n",
              "9                                American Inn Bethesda      4977462.34   \n",
              "13                                          BW RRI III     12332050.92   \n",
              "16                                  Best Western Hotel      1458177.03   \n",
              "25                    Churchill Corporate Services Inc       290533.83   \n",
              "28          Courtyard by Marriott Bethesda/Chevy Chase     10189720.19   \n",
              "33                             Daniel Greenspan Airbnb         7192.03   \n",
              "34                      Des Affiches Bed and Breakfast          675.00   \n",
              "35                                    Dini Sari Djalal        89320.27   \n",
              "47                                   Elizabeth Burgess        26736.11   \n",
              "49                 Fairfield Inn & Suites - Germantown      8157453.61   \n",
              "51                 GAI Enterprises, LLC. DBA - Motel 6      5568450.63   \n",
              "57                                Hampton Inn & Suites     10424926.92   \n",
              "58                           Hampton Inn Silver Spring      5273491.62   \n",
              "67                       Homewood Suites Silver Spring      5169158.94   \n",
              "71              INK Lessee, LLC DBA Sheraton Rockville      4053322.07   \n",
              "77                                   Jennifer A. Lukas          750.00   \n",
              "78                         KENWOOD GOLF & COUNTRY CLUB        70913.98   \n",
              "84   Maryland National Capital Park & Planning Comm...       140642.72   \n",
              "88                                         Nancy Cedar          698.40   \n",
              "89                                      Nicole Schmitt         3684.06   \n",
              "95                              RGALTD T/A Comfort Inn      7601030.78   \n",
              "103                         Rockville Hospitality, LLC     10667457.74   \n",
              "113                                The Bethesdan Hotel      6601278.58   \n",
              "121                               Wellness Hospitality         3219.68   \n",
              "\n",
              "       Tax Due  Interest   Penalty  Total Amount Due  \n",
              "0    839938.17     63.84    319.23         840321.25  \n",
              "3    512676.27    282.76   1413.82         514372.87  \n",
              "4    352759.65    137.41    687.08         353584.16  \n",
              "9    348422.18     79.56    397.81         348899.55  \n",
              "13   863243.35    132.32    661.62         864037.31  \n",
              "16   102072.36   3199.26  11720.79         116992.45  \n",
              "25    20337.33     32.62    163.14          20533.10  \n",
              "28   713280.31    115.98    579.92         713976.22  \n",
              "33      503.43     53.98    125.86            683.27  \n",
              "34       47.25      7.56     11.81             66.62  \n",
              "35     6252.40    121.97    407.46           6781.86  \n",
              "47     1871.51     12.43     62.14           1946.08  \n",
              "49   571021.51    163.45    817.25         572002.22  \n",
              "51   389791.32    189.23    946.20         390926.76  \n",
              "57   729744.65    188.82    944.13         730877.61  \n",
              "58   369144.29     17.93     89.72         369251.96  \n",
              "67   361840.98    200.09   1000.50         363041.59  \n",
              "71   283732.45  13337.21  37871.97         334941.64  \n",
              "77       52.50      0.52      2.62             55.65  \n",
              "78     4963.96     16.81     84.07           5064.85  \n",
              "84     9844.91     15.64     78.18           9938.73  \n",
              "88       48.88      1.95      9.77             60.62  \n",
              "89      257.87      0.12      0.62            258.62  \n",
              "95   532072.01    449.75   2248.78         534770.55  \n",
              "103  746721.78    185.15    925.75         747832.69  \n",
              "113  462089.45    573.78   2868.92         465532.15  \n",
              "121     225.36     26.42     56.33            308.13  "
            ],
            "text/html": [
              "\n",
              "  <div id=\"df-be68205a-fc16-4247-b1bf-cbf26b66c78f\">\n",
              "    <div class=\"colab-df-container\">\n",
              "      <div>\n",
              "<style scoped>\n",
              "    .dataframe tbody tr th:only-of-type {\n",
              "        vertical-align: middle;\n",
              "    }\n",
              "\n",
              "    .dataframe tbody tr th {\n",
              "        vertical-align: top;\n",
              "    }\n",
              "\n",
              "    .dataframe thead th {\n",
              "        text-align: right;\n",
              "    }\n",
              "</style>\n",
              "<table border=\"1\" class=\"dataframe\">\n",
              "  <thead>\n",
              "    <tr style=\"text-align: right;\">\n",
              "      <th></th>\n",
              "      <th>Name</th>\n",
              "      <th>Taxable Amount</th>\n",
              "      <th>Tax Due</th>\n",
              "      <th>Interest</th>\n",
              "      <th>Penalty</th>\n",
              "      <th>Total Amount Due</th>\n",
              "    </tr>\n",
              "  </thead>\n",
              "  <tbody>\n",
              "    <tr>\n",
              "      <th>0</th>\n",
              "      <td>5520 Wisconsin Assoc</td>\n",
              "      <td>11999117.67</td>\n",
              "      <td>839938.17</td>\n",
              "      <td>63.84</td>\n",
              "      <td>319.23</td>\n",
              "      <td>840321.25</td>\n",
              "    </tr>\n",
              "    <tr>\n",
              "      <th>3</th>\n",
              "      <td>AIL Hospitality LLC dba Radisson Hotel</td>\n",
              "      <td>7323949.88</td>\n",
              "      <td>512676.27</td>\n",
              "      <td>282.76</td>\n",
              "      <td>1413.82</td>\n",
              "      <td>514372.87</td>\n",
              "    </tr>\n",
              "    <tr>\n",
              "      <th>4</th>\n",
              "      <td>AIL Hospitality LLC dba Sleep Inn Hotel</td>\n",
              "      <td>5039427.09</td>\n",
              "      <td>352759.65</td>\n",
              "      <td>137.41</td>\n",
              "      <td>687.08</td>\n",
              "      <td>353584.16</td>\n",
              "    </tr>\n",
              "    <tr>\n",
              "      <th>9</th>\n",
              "      <td>American Inn Bethesda</td>\n",
              "      <td>4977462.34</td>\n",
              "      <td>348422.18</td>\n",
              "      <td>79.56</td>\n",
              "      <td>397.81</td>\n",
              "      <td>348899.55</td>\n",
              "    </tr>\n",
              "    <tr>\n",
              "      <th>13</th>\n",
              "      <td>BW RRI III</td>\n",
              "      <td>12332050.92</td>\n",
              "      <td>863243.35</td>\n",
              "      <td>132.32</td>\n",
              "      <td>661.62</td>\n",
              "      <td>864037.31</td>\n",
              "    </tr>\n",
              "    <tr>\n",
              "      <th>16</th>\n",
              "      <td>Best Western Hotel</td>\n",
              "      <td>1458177.03</td>\n",
              "      <td>102072.36</td>\n",
              "      <td>3199.26</td>\n",
              "      <td>11720.79</td>\n",
              "      <td>116992.45</td>\n",
              "    </tr>\n",
              "    <tr>\n",
              "      <th>25</th>\n",
              "      <td>Churchill Corporate Services Inc</td>\n",
              "      <td>290533.83</td>\n",
              "      <td>20337.33</td>\n",
              "      <td>32.62</td>\n",
              "      <td>163.14</td>\n",
              "      <td>20533.10</td>\n",
              "    </tr>\n",
              "    <tr>\n",
              "      <th>28</th>\n",
              "      <td>Courtyard by Marriott Bethesda/Chevy Chase</td>\n",
              "      <td>10189720.19</td>\n",
              "      <td>713280.31</td>\n",
              "      <td>115.98</td>\n",
              "      <td>579.92</td>\n",
              "      <td>713976.22</td>\n",
              "    </tr>\n",
              "    <tr>\n",
              "      <th>33</th>\n",
              "      <td>Daniel Greenspan Airbnb</td>\n",
              "      <td>7192.03</td>\n",
              "      <td>503.43</td>\n",
              "      <td>53.98</td>\n",
              "      <td>125.86</td>\n",
              "      <td>683.27</td>\n",
              "    </tr>\n",
              "    <tr>\n",
              "      <th>34</th>\n",
              "      <td>Des Affiches Bed and Breakfast</td>\n",
              "      <td>675.00</td>\n",
              "      <td>47.25</td>\n",
              "      <td>7.56</td>\n",
              "      <td>11.81</td>\n",
              "      <td>66.62</td>\n",
              "    </tr>\n",
              "    <tr>\n",
              "      <th>35</th>\n",
              "      <td>Dini Sari Djalal</td>\n",
              "      <td>89320.27</td>\n",
              "      <td>6252.40</td>\n",
              "      <td>121.97</td>\n",
              "      <td>407.46</td>\n",
              "      <td>6781.86</td>\n",
              "    </tr>\n",
              "    <tr>\n",
              "      <th>47</th>\n",
              "      <td>Elizabeth Burgess</td>\n",
              "      <td>26736.11</td>\n",
              "      <td>1871.51</td>\n",
              "      <td>12.43</td>\n",
              "      <td>62.14</td>\n",
              "      <td>1946.08</td>\n",
              "    </tr>\n",
              "    <tr>\n",
              "      <th>49</th>\n",
              "      <td>Fairfield Inn &amp; Suites - Germantown</td>\n",
              "      <td>8157453.61</td>\n",
              "      <td>571021.51</td>\n",
              "      <td>163.45</td>\n",
              "      <td>817.25</td>\n",
              "      <td>572002.22</td>\n",
              "    </tr>\n",
              "    <tr>\n",
              "      <th>51</th>\n",
              "      <td>GAI Enterprises, LLC. DBA - Motel 6</td>\n",
              "      <td>5568450.63</td>\n",
              "      <td>389791.32</td>\n",
              "      <td>189.23</td>\n",
              "      <td>946.20</td>\n",
              "      <td>390926.76</td>\n",
              "    </tr>\n",
              "    <tr>\n",
              "      <th>57</th>\n",
              "      <td>Hampton Inn &amp; Suites</td>\n",
              "      <td>10424926.92</td>\n",
              "      <td>729744.65</td>\n",
              "      <td>188.82</td>\n",
              "      <td>944.13</td>\n",
              "      <td>730877.61</td>\n",
              "    </tr>\n",
              "    <tr>\n",
              "      <th>58</th>\n",
              "      <td>Hampton Inn Silver Spring</td>\n",
              "      <td>5273491.62</td>\n",
              "      <td>369144.29</td>\n",
              "      <td>17.93</td>\n",
              "      <td>89.72</td>\n",
              "      <td>369251.96</td>\n",
              "    </tr>\n",
              "    <tr>\n",
              "      <th>67</th>\n",
              "      <td>Homewood Suites Silver Spring</td>\n",
              "      <td>5169158.94</td>\n",
              "      <td>361840.98</td>\n",
              "      <td>200.09</td>\n",
              "      <td>1000.50</td>\n",
              "      <td>363041.59</td>\n",
              "    </tr>\n",
              "    <tr>\n",
              "      <th>71</th>\n",
              "      <td>INK Lessee, LLC DBA Sheraton Rockville</td>\n",
              "      <td>4053322.07</td>\n",
              "      <td>283732.45</td>\n",
              "      <td>13337.21</td>\n",
              "      <td>37871.97</td>\n",
              "      <td>334941.64</td>\n",
              "    </tr>\n",
              "    <tr>\n",
              "      <th>77</th>\n",
              "      <td>Jennifer A. Lukas</td>\n",
              "      <td>750.00</td>\n",
              "      <td>52.50</td>\n",
              "      <td>0.52</td>\n",
              "      <td>2.62</td>\n",
              "      <td>55.65</td>\n",
              "    </tr>\n",
              "    <tr>\n",
              "      <th>78</th>\n",
              "      <td>KENWOOD GOLF &amp; COUNTRY CLUB</td>\n",
              "      <td>70913.98</td>\n",
              "      <td>4963.96</td>\n",
              "      <td>16.81</td>\n",
              "      <td>84.07</td>\n",
              "      <td>5064.85</td>\n",
              "    </tr>\n",
              "    <tr>\n",
              "      <th>84</th>\n",
              "      <td>Maryland National Capital Park &amp; Planning Comm...</td>\n",
              "      <td>140642.72</td>\n",
              "      <td>9844.91</td>\n",
              "      <td>15.64</td>\n",
              "      <td>78.18</td>\n",
              "      <td>9938.73</td>\n",
              "    </tr>\n",
              "    <tr>\n",
              "      <th>88</th>\n",
              "      <td>Nancy Cedar</td>\n",
              "      <td>698.40</td>\n",
              "      <td>48.88</td>\n",
              "      <td>1.95</td>\n",
              "      <td>9.77</td>\n",
              "      <td>60.62</td>\n",
              "    </tr>\n",
              "    <tr>\n",
              "      <th>89</th>\n",
              "      <td>Nicole Schmitt</td>\n",
              "      <td>3684.06</td>\n",
              "      <td>257.87</td>\n",
              "      <td>0.12</td>\n",
              "      <td>0.62</td>\n",
              "      <td>258.62</td>\n",
              "    </tr>\n",
              "    <tr>\n",
              "      <th>95</th>\n",
              "      <td>RGALTD T/A Comfort Inn</td>\n",
              "      <td>7601030.78</td>\n",
              "      <td>532072.01</td>\n",
              "      <td>449.75</td>\n",
              "      <td>2248.78</td>\n",
              "      <td>534770.55</td>\n",
              "    </tr>\n",
              "    <tr>\n",
              "      <th>103</th>\n",
              "      <td>Rockville Hospitality, LLC</td>\n",
              "      <td>10667457.74</td>\n",
              "      <td>746721.78</td>\n",
              "      <td>185.15</td>\n",
              "      <td>925.75</td>\n",
              "      <td>747832.69</td>\n",
              "    </tr>\n",
              "    <tr>\n",
              "      <th>113</th>\n",
              "      <td>The Bethesdan Hotel</td>\n",
              "      <td>6601278.58</td>\n",
              "      <td>462089.45</td>\n",
              "      <td>573.78</td>\n",
              "      <td>2868.92</td>\n",
              "      <td>465532.15</td>\n",
              "    </tr>\n",
              "    <tr>\n",
              "      <th>121</th>\n",
              "      <td>Wellness Hospitality</td>\n",
              "      <td>3219.68</td>\n",
              "      <td>225.36</td>\n",
              "      <td>26.42</td>\n",
              "      <td>56.33</td>\n",
              "      <td>308.13</td>\n",
              "    </tr>\n",
              "  </tbody>\n",
              "</table>\n",
              "</div>\n",
              "      <button class=\"colab-df-convert\" onclick=\"convertToInteractive('df-be68205a-fc16-4247-b1bf-cbf26b66c78f')\"\n",
              "              title=\"Convert this dataframe to an interactive table.\"\n",
              "              style=\"display:none;\">\n",
              "        \n",
              "  <svg xmlns=\"http://www.w3.org/2000/svg\" height=\"24px\"viewBox=\"0 0 24 24\"\n",
              "       width=\"24px\">\n",
              "    <path d=\"M0 0h24v24H0V0z\" fill=\"none\"/>\n",
              "    <path d=\"M18.56 5.44l.94 2.06.94-2.06 2.06-.94-2.06-.94-.94-2.06-.94 2.06-2.06.94zm-11 1L8.5 8.5l.94-2.06 2.06-.94-2.06-.94L8.5 2.5l-.94 2.06-2.06.94zm10 10l.94 2.06.94-2.06 2.06-.94-2.06-.94-.94-2.06-.94 2.06-2.06.94z\"/><path d=\"M17.41 7.96l-1.37-1.37c-.4-.4-.92-.59-1.43-.59-.52 0-1.04.2-1.43.59L10.3 9.45l-7.72 7.72c-.78.78-.78 2.05 0 2.83L4 21.41c.39.39.9.59 1.41.59.51 0 1.02-.2 1.41-.59l7.78-7.78 2.81-2.81c.8-.78.8-2.07 0-2.86zM5.41 20L4 18.59l7.72-7.72 1.47 1.35L5.41 20z\"/>\n",
              "  </svg>\n",
              "      </button>\n",
              "      \n",
              "  <style>\n",
              "    .colab-df-container {\n",
              "      display:flex;\n",
              "      flex-wrap:wrap;\n",
              "      gap: 12px;\n",
              "    }\n",
              "\n",
              "    .colab-df-convert {\n",
              "      background-color: #E8F0FE;\n",
              "      border: none;\n",
              "      border-radius: 50%;\n",
              "      cursor: pointer;\n",
              "      display: none;\n",
              "      fill: #1967D2;\n",
              "      height: 32px;\n",
              "      padding: 0 0 0 0;\n",
              "      width: 32px;\n",
              "    }\n",
              "\n",
              "    .colab-df-convert:hover {\n",
              "      background-color: #E2EBFA;\n",
              "      box-shadow: 0px 1px 2px rgba(60, 64, 67, 0.3), 0px 1px 3px 1px rgba(60, 64, 67, 0.15);\n",
              "      fill: #174EA6;\n",
              "    }\n",
              "\n",
              "    [theme=dark] .colab-df-convert {\n",
              "      background-color: #3B4455;\n",
              "      fill: #D2E3FC;\n",
              "    }\n",
              "\n",
              "    [theme=dark] .colab-df-convert:hover {\n",
              "      background-color: #434B5C;\n",
              "      box-shadow: 0px 1px 3px 1px rgba(0, 0, 0, 0.15);\n",
              "      filter: drop-shadow(0px 1px 2px rgba(0, 0, 0, 0.3));\n",
              "      fill: #FFFFFF;\n",
              "    }\n",
              "  </style>\n",
              "\n",
              "      <script>\n",
              "        const buttonEl =\n",
              "          document.querySelector('#df-be68205a-fc16-4247-b1bf-cbf26b66c78f button.colab-df-convert');\n",
              "        buttonEl.style.display =\n",
              "          google.colab.kernel.accessAllowed ? 'block' : 'none';\n",
              "\n",
              "        async function convertToInteractive(key) {\n",
              "          const element = document.querySelector('#df-be68205a-fc16-4247-b1bf-cbf26b66c78f');\n",
              "          const dataTable =\n",
              "            await google.colab.kernel.invokeFunction('convertToInteractive',\n",
              "                                                     [key], {});\n",
              "          if (!dataTable) return;\n",
              "\n",
              "          const docLinkHtml = 'Like what you see? Visit the ' +\n",
              "            '<a target=\"_blank\" href=https://colab.research.google.com/notebooks/data_table.ipynb>data table notebook</a>'\n",
              "            + ' to learn more about interactive tables.';\n",
              "          element.innerHTML = '';\n",
              "          dataTable['output_type'] = 'display_data';\n",
              "          await google.colab.output.renderOutput(dataTable, element);\n",
              "          const docLink = document.createElement('div');\n",
              "          docLink.innerHTML = docLinkHtml;\n",
              "          element.appendChild(docLink);\n",
              "        }\n",
              "      </script>\n",
              "    </div>\n",
              "  </div>\n",
              "  "
            ]
          },
          "metadata": {},
          "execution_count": 103
        }
      ]
    },
    {
      "cell_type": "markdown",
      "source": [
        "**How many times each of these hotels were charged penalties?**\n"
      ],
      "metadata": {
        "id": "QtITrNw-2Drh"
      }
    },
    {
      "cell_type": "code",
      "source": [
        "dfpenaltycountfilter=df2.loc[df2['Penalty'] > 0]\n",
        "dfpenaltycountfilter.shape[0]\n",
        "removcol2= ['Month','Quarter','Year', 'Filing Frequency', 'Due Date', 'Taxable Amount', 'Tax Due', 'Interest','Total Amount Due']\n",
        "dfpenaltycountfilter= dfpenaltycountfilter.drop(columns=removcol2)\n",
        "filterresult = dfpenaltycountfilter.groupby(['Name']).count()\n",
        "#filterresult.shape\n",
        "filterresult.head(27)"
      ],
      "metadata": {
        "colab": {
          "base_uri": "https://localhost:8080/",
          "height": 927
        },
        "id": "nbTNU_UilQyU",
        "outputId": "e75b7c0c-bd28-4cee-c0c7-7fd126510265"
      },
      "execution_count": 104,
      "outputs": [
        {
          "output_type": "execute_result",
          "data": {
            "text/plain": [
              "                                                    Penalty\n",
              "Name                                                       \n",
              "5520 Wisconsin Assoc                                      1\n",
              "AIL Hospitality LLC dba Radisson Hotel                    2\n",
              "AIL Hospitality LLC dba Sleep Inn Hotel                   2\n",
              "American Inn Bethesda                                     1\n",
              "BW RRI III                                                1\n",
              "Best Western Hotel                                        3\n",
              "Churchill Corporate Services Inc                          1\n",
              "Courtyard by Marriott Bethesda/Chevy Chase                1\n",
              "Daniel Greenspan Airbnb                                   3\n",
              "Des Affiches Bed and Breakfast                            1\n",
              "Dini Sari Djalal                                          6\n",
              "Elizabeth Burgess                                         2\n",
              "Fairfield Inn & Suites - Germantown                       1\n",
              "GAI Enterprises, LLC. DBA - Motel 6                       2\n",
              "Hampton Inn & Suites                                      1\n",
              "Hampton Inn Silver Spring                                 2\n",
              "Homewood Suites Silver Spring                             2\n",
              "INK Lessee, LLC DBA Sheraton Rockville                   16\n",
              "Jennifer A. Lukas                                         1\n",
              "KENWOOD GOLF & COUNTRY CLUB                               2\n",
              "Maryland National Capital Park & Planning Commi...        3\n",
              "Nancy Cedar                                               1\n",
              "Nicole Schmitt                                            1\n",
              "RGALTD T/A Comfort Inn                                    2\n",
              "Rockville Hospitality, LLC                                1\n",
              "The Bethesdan Hotel                                       2\n",
              "Wellness Hospitality                                      4"
            ],
            "text/html": [
              "\n",
              "  <div id=\"df-9e74d493-3a65-46c7-900a-182692bd38fb\">\n",
              "    <div class=\"colab-df-container\">\n",
              "      <div>\n",
              "<style scoped>\n",
              "    .dataframe tbody tr th:only-of-type {\n",
              "        vertical-align: middle;\n",
              "    }\n",
              "\n",
              "    .dataframe tbody tr th {\n",
              "        vertical-align: top;\n",
              "    }\n",
              "\n",
              "    .dataframe thead th {\n",
              "        text-align: right;\n",
              "    }\n",
              "</style>\n",
              "<table border=\"1\" class=\"dataframe\">\n",
              "  <thead>\n",
              "    <tr style=\"text-align: right;\">\n",
              "      <th></th>\n",
              "      <th>Penalty</th>\n",
              "    </tr>\n",
              "    <tr>\n",
              "      <th>Name</th>\n",
              "      <th></th>\n",
              "    </tr>\n",
              "  </thead>\n",
              "  <tbody>\n",
              "    <tr>\n",
              "      <th>5520 Wisconsin Assoc</th>\n",
              "      <td>1</td>\n",
              "    </tr>\n",
              "    <tr>\n",
              "      <th>AIL Hospitality LLC dba Radisson Hotel</th>\n",
              "      <td>2</td>\n",
              "    </tr>\n",
              "    <tr>\n",
              "      <th>AIL Hospitality LLC dba Sleep Inn Hotel</th>\n",
              "      <td>2</td>\n",
              "    </tr>\n",
              "    <tr>\n",
              "      <th>American Inn Bethesda</th>\n",
              "      <td>1</td>\n",
              "    </tr>\n",
              "    <tr>\n",
              "      <th>BW RRI III</th>\n",
              "      <td>1</td>\n",
              "    </tr>\n",
              "    <tr>\n",
              "      <th>Best Western Hotel</th>\n",
              "      <td>3</td>\n",
              "    </tr>\n",
              "    <tr>\n",
              "      <th>Churchill Corporate Services Inc</th>\n",
              "      <td>1</td>\n",
              "    </tr>\n",
              "    <tr>\n",
              "      <th>Courtyard by Marriott Bethesda/Chevy Chase</th>\n",
              "      <td>1</td>\n",
              "    </tr>\n",
              "    <tr>\n",
              "      <th>Daniel Greenspan Airbnb</th>\n",
              "      <td>3</td>\n",
              "    </tr>\n",
              "    <tr>\n",
              "      <th>Des Affiches Bed and Breakfast</th>\n",
              "      <td>1</td>\n",
              "    </tr>\n",
              "    <tr>\n",
              "      <th>Dini Sari Djalal</th>\n",
              "      <td>6</td>\n",
              "    </tr>\n",
              "    <tr>\n",
              "      <th>Elizabeth Burgess</th>\n",
              "      <td>2</td>\n",
              "    </tr>\n",
              "    <tr>\n",
              "      <th>Fairfield Inn &amp; Suites - Germantown</th>\n",
              "      <td>1</td>\n",
              "    </tr>\n",
              "    <tr>\n",
              "      <th>GAI Enterprises, LLC. DBA - Motel 6</th>\n",
              "      <td>2</td>\n",
              "    </tr>\n",
              "    <tr>\n",
              "      <th>Hampton Inn &amp; Suites</th>\n",
              "      <td>1</td>\n",
              "    </tr>\n",
              "    <tr>\n",
              "      <th>Hampton Inn Silver Spring</th>\n",
              "      <td>2</td>\n",
              "    </tr>\n",
              "    <tr>\n",
              "      <th>Homewood Suites Silver Spring</th>\n",
              "      <td>2</td>\n",
              "    </tr>\n",
              "    <tr>\n",
              "      <th>INK Lessee, LLC DBA Sheraton Rockville</th>\n",
              "      <td>16</td>\n",
              "    </tr>\n",
              "    <tr>\n",
              "      <th>Jennifer A. Lukas</th>\n",
              "      <td>1</td>\n",
              "    </tr>\n",
              "    <tr>\n",
              "      <th>KENWOOD GOLF &amp; COUNTRY CLUB</th>\n",
              "      <td>2</td>\n",
              "    </tr>\n",
              "    <tr>\n",
              "      <th>Maryland National Capital Park &amp; Planning Commission</th>\n",
              "      <td>3</td>\n",
              "    </tr>\n",
              "    <tr>\n",
              "      <th>Nancy Cedar</th>\n",
              "      <td>1</td>\n",
              "    </tr>\n",
              "    <tr>\n",
              "      <th>Nicole Schmitt</th>\n",
              "      <td>1</td>\n",
              "    </tr>\n",
              "    <tr>\n",
              "      <th>RGALTD T/A Comfort Inn</th>\n",
              "      <td>2</td>\n",
              "    </tr>\n",
              "    <tr>\n",
              "      <th>Rockville Hospitality, LLC</th>\n",
              "      <td>1</td>\n",
              "    </tr>\n",
              "    <tr>\n",
              "      <th>The Bethesdan Hotel</th>\n",
              "      <td>2</td>\n",
              "    </tr>\n",
              "    <tr>\n",
              "      <th>Wellness Hospitality</th>\n",
              "      <td>4</td>\n",
              "    </tr>\n",
              "  </tbody>\n",
              "</table>\n",
              "</div>\n",
              "      <button class=\"colab-df-convert\" onclick=\"convertToInteractive('df-9e74d493-3a65-46c7-900a-182692bd38fb')\"\n",
              "              title=\"Convert this dataframe to an interactive table.\"\n",
              "              style=\"display:none;\">\n",
              "        \n",
              "  <svg xmlns=\"http://www.w3.org/2000/svg\" height=\"24px\"viewBox=\"0 0 24 24\"\n",
              "       width=\"24px\">\n",
              "    <path d=\"M0 0h24v24H0V0z\" fill=\"none\"/>\n",
              "    <path d=\"M18.56 5.44l.94 2.06.94-2.06 2.06-.94-2.06-.94-.94-2.06-.94 2.06-2.06.94zm-11 1L8.5 8.5l.94-2.06 2.06-.94-2.06-.94L8.5 2.5l-.94 2.06-2.06.94zm10 10l.94 2.06.94-2.06 2.06-.94-2.06-.94-.94-2.06-.94 2.06-2.06.94z\"/><path d=\"M17.41 7.96l-1.37-1.37c-.4-.4-.92-.59-1.43-.59-.52 0-1.04.2-1.43.59L10.3 9.45l-7.72 7.72c-.78.78-.78 2.05 0 2.83L4 21.41c.39.39.9.59 1.41.59.51 0 1.02-.2 1.41-.59l7.78-7.78 2.81-2.81c.8-.78.8-2.07 0-2.86zM5.41 20L4 18.59l7.72-7.72 1.47 1.35L5.41 20z\"/>\n",
              "  </svg>\n",
              "      </button>\n",
              "      \n",
              "  <style>\n",
              "    .colab-df-container {\n",
              "      display:flex;\n",
              "      flex-wrap:wrap;\n",
              "      gap: 12px;\n",
              "    }\n",
              "\n",
              "    .colab-df-convert {\n",
              "      background-color: #E8F0FE;\n",
              "      border: none;\n",
              "      border-radius: 50%;\n",
              "      cursor: pointer;\n",
              "      display: none;\n",
              "      fill: #1967D2;\n",
              "      height: 32px;\n",
              "      padding: 0 0 0 0;\n",
              "      width: 32px;\n",
              "    }\n",
              "\n",
              "    .colab-df-convert:hover {\n",
              "      background-color: #E2EBFA;\n",
              "      box-shadow: 0px 1px 2px rgba(60, 64, 67, 0.3), 0px 1px 3px 1px rgba(60, 64, 67, 0.15);\n",
              "      fill: #174EA6;\n",
              "    }\n",
              "\n",
              "    [theme=dark] .colab-df-convert {\n",
              "      background-color: #3B4455;\n",
              "      fill: #D2E3FC;\n",
              "    }\n",
              "\n",
              "    [theme=dark] .colab-df-convert:hover {\n",
              "      background-color: #434B5C;\n",
              "      box-shadow: 0px 1px 3px 1px rgba(0, 0, 0, 0.15);\n",
              "      filter: drop-shadow(0px 1px 2px rgba(0, 0, 0, 0.3));\n",
              "      fill: #FFFFFF;\n",
              "    }\n",
              "  </style>\n",
              "\n",
              "      <script>\n",
              "        const buttonEl =\n",
              "          document.querySelector('#df-9e74d493-3a65-46c7-900a-182692bd38fb button.colab-df-convert');\n",
              "        buttonEl.style.display =\n",
              "          google.colab.kernel.accessAllowed ? 'block' : 'none';\n",
              "\n",
              "        async function convertToInteractive(key) {\n",
              "          const element = document.querySelector('#df-9e74d493-3a65-46c7-900a-182692bd38fb');\n",
              "          const dataTable =\n",
              "            await google.colab.kernel.invokeFunction('convertToInteractive',\n",
              "                                                     [key], {});\n",
              "          if (!dataTable) return;\n",
              "\n",
              "          const docLinkHtml = 'Like what you see? Visit the ' +\n",
              "            '<a target=\"_blank\" href=https://colab.research.google.com/notebooks/data_table.ipynb>data table notebook</a>'\n",
              "            + ' to learn more about interactive tables.';\n",
              "          element.innerHTML = '';\n",
              "          dataTable['output_type'] = 'display_data';\n",
              "          await google.colab.output.renderOutput(dataTable, element);\n",
              "          const docLink = document.createElement('div');\n",
              "          docLink.innerHTML = docLinkHtml;\n",
              "          element.appendChild(docLink);\n",
              "        }\n",
              "      </script>\n",
              "    </div>\n",
              "  </div>\n",
              "  "
            ]
          },
          "metadata": {},
          "execution_count": 104
        }
      ]
    },
    {
      "cell_type": "markdown",
      "source": [
        "#***What is the Filing Frequency for the hotels that paid penalties?***"
      ],
      "metadata": {
        "id": "wvg43iiz-xkp"
      }
    },
    {
      "cell_type": "code",
      "source": [
        "#dfpenaltycountfilter['Filing Frequency'].value_counts()\n",
        "dfp1=df2.loc[df2['Penalty'] > 0]\n",
        "removcol3= ['Month','Quarter','Year']\n",
        "dfp1= dfp1.drop(columns=removcol3)\n",
        "dfp1.head()\n",
        "dfp2=dfp1.groupby(['Name', 'Filing Frequency']).sum()\n",
        "dfp2=dfp2.reset_index()\n",
        "dfp2.head()\n",
        "dfp2['Name'].nunique()\n",
        "dfp2['Filing Frequency'].value_counts()\n",
        "#list_names = list(set(dfpenaltycountfilter['Name']))\n",
        "#list_names"
      ],
      "metadata": {
        "colab": {
          "base_uri": "https://localhost:8080/"
        },
        "id": "AtAiLHk4_nlB",
        "outputId": "996290fd-2d8a-48d9-c45c-9da860030a46"
      },
      "execution_count": 105,
      "outputs": [
        {
          "output_type": "stream",
          "name": "stderr",
          "text": [
            "<ipython-input-105-6d4860e7c54b>:6: FutureWarning: The default value of numeric_only in DataFrameGroupBy.sum is deprecated. In a future version, numeric_only will default to False. Either specify numeric_only or select only columns which should be valid for the function.\n",
            "  dfp2=dfp1.groupby(['Name', 'Filing Frequency']).sum()\n"
          ]
        },
        {
          "output_type": "execute_result",
          "data": {
            "text/plain": [
              "M    25\n",
              "Q     2\n",
              "Name: Filing Frequency, dtype: int64"
            ]
          },
          "metadata": {},
          "execution_count": 105
        }
      ]
    },
    {
      "cell_type": "markdown",
      "source": [
        "The above shows that most hotels that paid late (25 of 27) had chosen to pay their taxes on a monthly basis.  This suggests that perhaps that \"Filing Frequency\" plays a role in whether a hotel pays penalty."
      ],
      "metadata": {
        "id": "4PjnRkJvJkP7"
      }
    },
    {
      "cell_type": "markdown",
      "source": [
        "# **Building a model**\n",
        "\n",
        "**Use scikit-learn logistic regression to train, test and predict Penalty.**\n"
      ],
      "metadata": {
        "id": "iB67A3r9hPel"
      }
    },
    {
      "cell_type": "markdown",
      "source": [
        "Train Test Split: Creating and Training a Model in Scikit-Learn"
      ],
      "metadata": {
        "id": "Y-6imK41vorf"
      }
    },
    {
      "cell_type": "markdown",
      "source": [
        "#Getting dataset ready "
      ],
      "metadata": {
        "id": "fholoNrg--78"
      }
    },
    {
      "cell_type": "code",
      "source": [
        "# Arrange the data into features and target\n",
        "dfsumodel = dfsumf.reset_index()\n",
        "\n",
        "dfsumodel.head()\n",
        "dfsumodel.shape"
      ],
      "metadata": {
        "colab": {
          "base_uri": "https://localhost:8080/"
        },
        "id": "0-f2Ts58ErX4",
        "outputId": "0c7a2e79-75b6-4f65-b279-2bec807364a5"
      },
      "execution_count": 106,
      "outputs": [
        {
          "output_type": "execute_result",
          "data": {
            "text/plain": [
              "(134, 7)"
            ]
          },
          "metadata": {},
          "execution_count": 106
        }
      ]
    },
    {
      "cell_type": "code",
      "source": [
        "# Adding a new column using the np.select() function\n",
        "# create a list of our conditions\n",
        "conditions = [\n",
        "    (dfsumodel['Penalty'] == 0.00),\n",
        "    (dfsumodel['Penalty'] > 0) \n",
        "    ]\n",
        "\n",
        "# create a list of the values we want to assign for each condition\n",
        "values = [0,1]\n",
        "\n",
        "# create a new column and use np.select to assign values to it using our lists as arguments\n",
        "dfsumodel['Outcome'] = np.select(conditions, values)\n",
        "\n",
        "\n"
      ],
      "metadata": {
        "id": "wAiIbsIuAzlu"
      },
      "execution_count": 107,
      "outputs": []
    },
    {
      "cell_type": "code",
      "source": [
        "# Replace Filing Frequency Values with Numbers\n",
        "# Adding a new column using the np.select() function\n",
        "# create a list of our conditions\n",
        "conditions = [\n",
        "    (dfsumodel['Filing Frequency'] == 'M'),\n",
        "    (dfsumodel['Filing Frequency'] == 'Q') \n",
        "    ]\n",
        "\n",
        "# create a list of the values we want to assign for each condition\n",
        "values = [0,1]\n",
        "\n",
        "# create a new column and use np.select to assign values to it using our lists as arguments\n",
        "dfsumodel['Mode'] = np.select(conditions, values)\n",
        "\n",
        "dfsumodel.head(5)"
      ],
      "metadata": {
        "colab": {
          "base_uri": "https://localhost:8080/",
          "height": 206
        },
        "id": "T56KkVQL9vr8",
        "outputId": "5b091330-3cdd-4ec0-d7e1-da3905b33974"
      },
      "execution_count": 108,
      "outputs": [
        {
          "output_type": "execute_result",
          "data": {
            "text/plain": [
              "                                                Name Filing Frequency  \\\n",
              "0                               5520 Wisconsin Assoc                M   \n",
              "1                         7359 Wisconsin Avenue, LLC                M   \n",
              "2  A-TBC Bethesda Owner, LLC dba Doubletree Bethe...                M   \n",
              "3             AIL Hospitality LLC dba Radisson Hotel                M   \n",
              "4            AIL Hospitality LLC dba Sleep Inn Hotel                M   \n",
              "\n",
              "   Taxable Amount     Tax Due  Interest  Penalty  Total Amount Due  Outcome  \\\n",
              "0     11999117.67   839938.17     63.84   319.23         840321.25        1   \n",
              "1      2340139.48   163809.74      0.00     0.00         163809.74        0   \n",
              "2     15686991.14  1098089.23      0.00     0.00        1098089.23        0   \n",
              "3      7323949.88   512676.27    282.76  1413.82         514372.87        1   \n",
              "4      5039427.09   352759.65    137.41   687.08         353584.16        1   \n",
              "\n",
              "   Mode  \n",
              "0     0  \n",
              "1     0  \n",
              "2     0  \n",
              "3     0  \n",
              "4     0  "
            ],
            "text/html": [
              "\n",
              "  <div id=\"df-aa11cdb7-213b-4b0c-bafe-b4e854f15832\">\n",
              "    <div class=\"colab-df-container\">\n",
              "      <div>\n",
              "<style scoped>\n",
              "    .dataframe tbody tr th:only-of-type {\n",
              "        vertical-align: middle;\n",
              "    }\n",
              "\n",
              "    .dataframe tbody tr th {\n",
              "        vertical-align: top;\n",
              "    }\n",
              "\n",
              "    .dataframe thead th {\n",
              "        text-align: right;\n",
              "    }\n",
              "</style>\n",
              "<table border=\"1\" class=\"dataframe\">\n",
              "  <thead>\n",
              "    <tr style=\"text-align: right;\">\n",
              "      <th></th>\n",
              "      <th>Name</th>\n",
              "      <th>Filing Frequency</th>\n",
              "      <th>Taxable Amount</th>\n",
              "      <th>Tax Due</th>\n",
              "      <th>Interest</th>\n",
              "      <th>Penalty</th>\n",
              "      <th>Total Amount Due</th>\n",
              "      <th>Outcome</th>\n",
              "      <th>Mode</th>\n",
              "    </tr>\n",
              "  </thead>\n",
              "  <tbody>\n",
              "    <tr>\n",
              "      <th>0</th>\n",
              "      <td>5520 Wisconsin Assoc</td>\n",
              "      <td>M</td>\n",
              "      <td>11999117.67</td>\n",
              "      <td>839938.17</td>\n",
              "      <td>63.84</td>\n",
              "      <td>319.23</td>\n",
              "      <td>840321.25</td>\n",
              "      <td>1</td>\n",
              "      <td>0</td>\n",
              "    </tr>\n",
              "    <tr>\n",
              "      <th>1</th>\n",
              "      <td>7359 Wisconsin Avenue, LLC</td>\n",
              "      <td>M</td>\n",
              "      <td>2340139.48</td>\n",
              "      <td>163809.74</td>\n",
              "      <td>0.00</td>\n",
              "      <td>0.00</td>\n",
              "      <td>163809.74</td>\n",
              "      <td>0</td>\n",
              "      <td>0</td>\n",
              "    </tr>\n",
              "    <tr>\n",
              "      <th>2</th>\n",
              "      <td>A-TBC Bethesda Owner, LLC dba Doubletree Bethe...</td>\n",
              "      <td>M</td>\n",
              "      <td>15686991.14</td>\n",
              "      <td>1098089.23</td>\n",
              "      <td>0.00</td>\n",
              "      <td>0.00</td>\n",
              "      <td>1098089.23</td>\n",
              "      <td>0</td>\n",
              "      <td>0</td>\n",
              "    </tr>\n",
              "    <tr>\n",
              "      <th>3</th>\n",
              "      <td>AIL Hospitality LLC dba Radisson Hotel</td>\n",
              "      <td>M</td>\n",
              "      <td>7323949.88</td>\n",
              "      <td>512676.27</td>\n",
              "      <td>282.76</td>\n",
              "      <td>1413.82</td>\n",
              "      <td>514372.87</td>\n",
              "      <td>1</td>\n",
              "      <td>0</td>\n",
              "    </tr>\n",
              "    <tr>\n",
              "      <th>4</th>\n",
              "      <td>AIL Hospitality LLC dba Sleep Inn Hotel</td>\n",
              "      <td>M</td>\n",
              "      <td>5039427.09</td>\n",
              "      <td>352759.65</td>\n",
              "      <td>137.41</td>\n",
              "      <td>687.08</td>\n",
              "      <td>353584.16</td>\n",
              "      <td>1</td>\n",
              "      <td>0</td>\n",
              "    </tr>\n",
              "  </tbody>\n",
              "</table>\n",
              "</div>\n",
              "      <button class=\"colab-df-convert\" onclick=\"convertToInteractive('df-aa11cdb7-213b-4b0c-bafe-b4e854f15832')\"\n",
              "              title=\"Convert this dataframe to an interactive table.\"\n",
              "              style=\"display:none;\">\n",
              "        \n",
              "  <svg xmlns=\"http://www.w3.org/2000/svg\" height=\"24px\"viewBox=\"0 0 24 24\"\n",
              "       width=\"24px\">\n",
              "    <path d=\"M0 0h24v24H0V0z\" fill=\"none\"/>\n",
              "    <path d=\"M18.56 5.44l.94 2.06.94-2.06 2.06-.94-2.06-.94-.94-2.06-.94 2.06-2.06.94zm-11 1L8.5 8.5l.94-2.06 2.06-.94-2.06-.94L8.5 2.5l-.94 2.06-2.06.94zm10 10l.94 2.06.94-2.06 2.06-.94-2.06-.94-.94-2.06-.94 2.06-2.06.94z\"/><path d=\"M17.41 7.96l-1.37-1.37c-.4-.4-.92-.59-1.43-.59-.52 0-1.04.2-1.43.59L10.3 9.45l-7.72 7.72c-.78.78-.78 2.05 0 2.83L4 21.41c.39.39.9.59 1.41.59.51 0 1.02-.2 1.41-.59l7.78-7.78 2.81-2.81c.8-.78.8-2.07 0-2.86zM5.41 20L4 18.59l7.72-7.72 1.47 1.35L5.41 20z\"/>\n",
              "  </svg>\n",
              "      </button>\n",
              "      \n",
              "  <style>\n",
              "    .colab-df-container {\n",
              "      display:flex;\n",
              "      flex-wrap:wrap;\n",
              "      gap: 12px;\n",
              "    }\n",
              "\n",
              "    .colab-df-convert {\n",
              "      background-color: #E8F0FE;\n",
              "      border: none;\n",
              "      border-radius: 50%;\n",
              "      cursor: pointer;\n",
              "      display: none;\n",
              "      fill: #1967D2;\n",
              "      height: 32px;\n",
              "      padding: 0 0 0 0;\n",
              "      width: 32px;\n",
              "    }\n",
              "\n",
              "    .colab-df-convert:hover {\n",
              "      background-color: #E2EBFA;\n",
              "      box-shadow: 0px 1px 2px rgba(60, 64, 67, 0.3), 0px 1px 3px 1px rgba(60, 64, 67, 0.15);\n",
              "      fill: #174EA6;\n",
              "    }\n",
              "\n",
              "    [theme=dark] .colab-df-convert {\n",
              "      background-color: #3B4455;\n",
              "      fill: #D2E3FC;\n",
              "    }\n",
              "\n",
              "    [theme=dark] .colab-df-convert:hover {\n",
              "      background-color: #434B5C;\n",
              "      box-shadow: 0px 1px 3px 1px rgba(0, 0, 0, 0.15);\n",
              "      filter: drop-shadow(0px 1px 2px rgba(0, 0, 0, 0.3));\n",
              "      fill: #FFFFFF;\n",
              "    }\n",
              "  </style>\n",
              "\n",
              "      <script>\n",
              "        const buttonEl =\n",
              "          document.querySelector('#df-aa11cdb7-213b-4b0c-bafe-b4e854f15832 button.colab-df-convert');\n",
              "        buttonEl.style.display =\n",
              "          google.colab.kernel.accessAllowed ? 'block' : 'none';\n",
              "\n",
              "        async function convertToInteractive(key) {\n",
              "          const element = document.querySelector('#df-aa11cdb7-213b-4b0c-bafe-b4e854f15832');\n",
              "          const dataTable =\n",
              "            await google.colab.kernel.invokeFunction('convertToInteractive',\n",
              "                                                     [key], {});\n",
              "          if (!dataTable) return;\n",
              "\n",
              "          const docLinkHtml = 'Like what you see? Visit the ' +\n",
              "            '<a target=\"_blank\" href=https://colab.research.google.com/notebooks/data_table.ipynb>data table notebook</a>'\n",
              "            + ' to learn more about interactive tables.';\n",
              "          element.innerHTML = '';\n",
              "          dataTable['output_type'] = 'display_data';\n",
              "          await google.colab.output.renderOutput(dataTable, element);\n",
              "          const docLink = document.createElement('div');\n",
              "          docLink.innerHTML = docLinkHtml;\n",
              "          element.appendChild(docLink);\n",
              "        }\n",
              "      </script>\n",
              "    </div>\n",
              "  </div>\n",
              "  "
            ]
          },
          "metadata": {},
          "execution_count": 108
        }
      ]
    },
    {
      "cell_type": "code",
      "source": [
        "dfsumodel.shape"
      ],
      "metadata": {
        "colab": {
          "base_uri": "https://localhost:8080/"
        },
        "id": "kyzPs5Ai6I2U",
        "outputId": "acaf4fb7-b496-4650-e8e0-2d42ce8bf105"
      },
      "execution_count": 109,
      "outputs": [
        {
          "output_type": "execute_result",
          "data": {
            "text/plain": [
              "(134, 9)"
            ]
          },
          "metadata": {},
          "execution_count": 109
        }
      ]
    },
    {
      "cell_type": "markdown",
      "source": [
        "#Selecting Features and Test/Train"
      ],
      "metadata": {
        "id": "H3ryXs5r_OuL"
      }
    },
    {
      "cell_type": "code",
      "source": [
        "features = [ 'Mode']\n",
        "X = dfsumodel.loc[:,features]\n",
        "target = ['Outcome']\n",
        "y = dfsumodel.loc[:, target]"
      ],
      "metadata": {
        "id": "-nPLQ1o2AmTt"
      },
      "execution_count": 110,
      "outputs": []
    },
    {
      "cell_type": "markdown",
      "source": [
        "In the code below, train_test_split splits the data and returns a list which contains four NumPy arrays, while train_size = .70 puts 70 percent of the data into a training set and the remaining 30 percent into a testing set."
      ],
      "metadata": {
        "id": "Cw_hQkWpYqQI"
      }
    },
    {
      "cell_type": "code",
      "source": [
        "#Split the data into training and testing\n",
        "\n",
        "X_train, X_test, y_train, y_test = train_test_split( X, y, test_size=0.30)"
      ],
      "metadata": {
        "id": "0LT1qCvlY2yo"
      },
      "execution_count": 111,
      "outputs": []
    },
    {
      "cell_type": "code",
      "source": [
        "# Shows the number of rows and columns for each variable\n",
        "X_train.shape, y_train.shape"
      ],
      "metadata": {
        "colab": {
          "base_uri": "https://localhost:8080/"
        },
        "id": "d2fkrU__wEnM",
        "outputId": "4ec56e6b-ba96-41db-9303-4a24e5fb4af7"
      },
      "execution_count": 112,
      "outputs": [
        {
          "output_type": "execute_result",
          "data": {
            "text/plain": [
              "((93, 1), (93, 1))"
            ]
          },
          "metadata": {},
          "execution_count": 112
        }
      ]
    },
    {
      "cell_type": "code",
      "source": [
        "X_test.shape, y_test.shape"
      ],
      "metadata": {
        "colab": {
          "base_uri": "https://localhost:8080/"
        },
        "id": "AL3qIJcR_9NE",
        "outputId": "77460fdb-2229-46d5-cba0-89284b2109ea"
      },
      "execution_count": 113,
      "outputs": [
        {
          "output_type": "execute_result",
          "data": {
            "text/plain": [
              "((41, 1), (41, 1))"
            ]
          },
          "metadata": {},
          "execution_count": 113
        }
      ]
    },
    {
      "cell_type": "markdown",
      "source": [
        "#Instantiate, preprocess, train, and predict (test)"
      ],
      "metadata": {
        "id": "swPloEosAIBJ"
      }
    },
    {
      "cell_type": "code",
      "source": [
        "LogReg = LogisticRegression()\n",
        "\n",
        "\n",
        "scaler = preprocessing.StandardScaler()\n",
        "X_train = scaler.fit_transform(X_train)\n",
        "X_test = scaler.transform(X_test)\n",
        "\n",
        "LogReg.fit(X_train,y_train)\n",
        "\n",
        "\n",
        "y_pred=LogReg.predict(X_test)"
      ],
      "metadata": {
        "colab": {
          "base_uri": "https://localhost:8080/"
        },
        "id": "KfFXkR0kAGfE",
        "outputId": "2279cdf9-d14e-4e27-a7d6-3981687fc7e5"
      },
      "execution_count": 114,
      "outputs": [
        {
          "output_type": "stream",
          "name": "stderr",
          "text": [
            "/usr/local/lib/python3.9/dist-packages/sklearn/utils/validation.py:1143: DataConversionWarning: A column-vector y was passed when a 1d array was expected. Please change the shape of y to (n_samples, ), for example using ravel().\n",
            "  y = column_or_1d(y, warn=True)\n"
          ]
        }
      ]
    },
    {
      "cell_type": "code",
      "source": [
        "print('Classes', LogReg.classes_)\n",
        "print(\"\")\n",
        "print('Intercept',LogReg.intercept_)\n",
        "print(\"\")\n",
        "print(\"Coefficients\", LogReg.coef_ )"
      ],
      "metadata": {
        "colab": {
          "base_uri": "https://localhost:8080/"
        },
        "id": "HJ9GWp8zArvK",
        "outputId": "457f82f8-a435-4ccb-a2c0-4acb2589f313"
      },
      "execution_count": 115,
      "outputs": [
        {
          "output_type": "stream",
          "name": "stdout",
          "text": [
            "Classes [0 1]\n",
            "\n",
            "Intercept [-1.41329168]\n",
            "\n",
            "Coefficients [[-0.66705634]]\n"
          ]
        }
      ]
    },
    {
      "cell_type": "markdown",
      "source": [
        "#Accuracy Score and Classification Report"
      ],
      "metadata": {
        "id": "sEr9VrcvA0LD"
      }
    },
    {
      "cell_type": "code",
      "source": [
        "print(\"Accuracy\", LogReg.score(X_test, y_test))\n",
        "print(classification_report(y_test, LogReg.predict(X_test)))"
      ],
      "metadata": {
        "colab": {
          "base_uri": "https://localhost:8080/"
        },
        "id": "BhthzCg2Ay6F",
        "outputId": "e419f1ad-329a-49d3-c35a-3b8fd0cc3831"
      },
      "execution_count": 116,
      "outputs": [
        {
          "output_type": "stream",
          "name": "stdout",
          "text": [
            "Accuracy 0.8292682926829268\n",
            "              precision    recall  f1-score   support\n",
            "\n",
            "           0       0.83      1.00      0.91        34\n",
            "           1       0.00      0.00      0.00         7\n",
            "\n",
            "    accuracy                           0.83        41\n",
            "   macro avg       0.41      0.50      0.45        41\n",
            "weighted avg       0.69      0.83      0.75        41\n",
            "\n"
          ]
        },
        {
          "output_type": "stream",
          "name": "stderr",
          "text": [
            "/usr/local/lib/python3.9/dist-packages/sklearn/metrics/_classification.py:1344: UndefinedMetricWarning: Precision and F-score are ill-defined and being set to 0.0 in labels with no predicted samples. Use `zero_division` parameter to control this behavior.\n",
            "  _warn_prf(average, modifier, msg_start, len(result))\n",
            "/usr/local/lib/python3.9/dist-packages/sklearn/metrics/_classification.py:1344: UndefinedMetricWarning: Precision and F-score are ill-defined and being set to 0.0 in labels with no predicted samples. Use `zero_division` parameter to control this behavior.\n",
            "  _warn_prf(average, modifier, msg_start, len(result))\n",
            "/usr/local/lib/python3.9/dist-packages/sklearn/metrics/_classification.py:1344: UndefinedMetricWarning: Precision and F-score are ill-defined and being set to 0.0 in labels with no predicted samples. Use `zero_division` parameter to control this behavior.\n",
            "  _warn_prf(average, modifier, msg_start, len(result))\n"
          ]
        }
      ]
    },
    {
      "cell_type": "code",
      "source": [
        "conf_mat = confusion_matrix(y_test, y_pred)\n",
        "conf_mat"
      ],
      "metadata": {
        "colab": {
          "base_uri": "https://localhost:8080/"
        },
        "id": "sUq-FSlHWmjU",
        "outputId": "9dab83d8-68b9-415a-8bec-1b42f58be936"
      },
      "execution_count": 117,
      "outputs": [
        {
          "output_type": "execute_result",
          "data": {
            "text/plain": [
              "array([[34,  0],\n",
              "       [ 7,  0]])"
            ]
          },
          "metadata": {},
          "execution_count": 117
        }
      ]
    },
    {
      "cell_type": "code",
      "source": [
        "# Create chart for confusion matrix\n",
        "categories = [0,1] \n",
        "fig, ax = plt.subplots()\n",
        "plt.xticks([0,1], categories)\n",
        "plt.yticks([0,1], categories)\n",
        "# create heatmap\n",
        "sns.heatmap(pd.DataFrame(conf_mat), annot=True, cmap=\"YlGnBu\" ,fmt='g')\n",
        "ax.xaxis.set_label_position(\"bottom\")\n",
        "plt.tight_layout()\n",
        "plt.title('Confusion matrix', y=1.1)\n",
        "plt.ylabel('Actual label')\n",
        "plt.xlabel('Predicted label')"
      ],
      "metadata": {
        "colab": {
          "base_uri": "https://localhost:8080/",
          "height": 580
        },
        "id": "Ioa6anjMXsEL",
        "outputId": "c6cbde76-28d8-410f-98d6-5cb4d04b8b00"
      },
      "execution_count": 118,
      "outputs": [
        {
          "output_type": "execute_result",
          "data": {
            "text/plain": [
              "Text(0.5, 24.999999999999986, 'Predicted label')"
            ]
          },
          "metadata": {},
          "execution_count": 118
        },
        {
          "output_type": "display_data",
          "data": {
            "text/plain": [
              "<Figure size 640x480 with 2 Axes>"
            ],
            "image/png": "[encoded data removed]"
          },
          "metadata": {}
        }
      ]
    },
    {
      "cell_type": "markdown",
      "source": [
        "True Positive (TP) which refers to a sample belonging to the positive class being classified correctly.\n",
        "\n",
        "The True Negative (TN) refers to a sample belonging to the negative class being classified correctly.\n",
        "\n",
        "The False Positive (FP) refers to a sample belonging to the negative class but being classified wrongly as belonging to the positive class.\n",
        "\n",
        "The False Negative (FN) refers to a sample belonging to the positive class but being classified wrongly as belonging to the negative class."
      ],
      "metadata": {
        "id": "IvC_PDxkYL3A"
      }
    },
    {
      "cell_type": "markdown",
      "source": [
        "# **Conclusion**"
      ],
      "metadata": {
        "id": "VpHR7QHDgLr_"
      }
    },
    {
      "cell_type": "markdown",
      "source": [
        "Overall, our model has a decent accuracy score of 0.7.  This also suggests that businesses that are paying taxes monthly are more likely to incur penalties. \n",
        "In addition, hotels worldwide have struggled to stay open during the pandemic and the ones in Montgomery county were no exception. In fact, we have observed that a few hotels were closed during the pandemic. However, because some new ones were also added, it’s hard to say for sure covid-19 was the main factor of these closures - at least based on this dataset.  Nonetheless, hotel taxes revenues have increased in Montgomery County as economies rebounded from the pandemic.\n"
      ],
      "metadata": {
        "id": "Fr1QdBrpxZ7-"
      }
    }
  ]
}