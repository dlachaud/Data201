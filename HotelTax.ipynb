{
  "nbformat": 4,
  "nbformat_minor": 0,
  "metadata": {
    "colab": {
      "provenance": [],
      "authorship_tag": "ABX9TyPwpm0dyC89RB9tz3OdhsZW",
      "include_colab_link": true
    },
    "kernelspec": {
      "name": "python3",
      "display_name": "Python 3"
    },
    "language_info": {
      "name": "python"
    }
  },
  "cells": [
    {
      "cell_type": "markdown",
      "metadata": {
        "id": "view-in-github",
        "colab_type": "text"
      },
      "source": [
        "<a href=\"https://colab.research.google.com/github/dlachaud/Data201/blob/main/HotelTax.ipynb\" target=\"_parent\"><img src=\"https://colab.research.google.com/assets/colab-badge.svg\" alt=\"Open In Colab\"/></a>"
      ]
    },
    {
      "cell_type": "markdown",
      "source": [
        "# **By:**\n",
        "\n",
        "Daniel Lachaud\n"
      ],
      "metadata": {
        "id": "SgdXUhdGs9mA"
      }
    },
    {
      "cell_type": "markdown",
      "source": [
        "\"This dataset contains information on the Room Rental-Transient Tax (Hotel Tax): Section 52-16 of the Montgomery County Code, as amended, imposes a Room Rental-Transient Tax upon each and every person, who for a period of thirty or fewer days occupies, for compensation, sleeping accommodations in a public or private hotel, motel, inn, hostelry, tourist home, a residential house or a room within a house, and or any other lodging located in Montgomery County, Maryland.\"\n",
        "\n",
        "The rate of the tax is 7% of the rent."
      ],
      "metadata": {
        "id": "XWouT0yqtVUK"
      }
    },
    {
      "cell_type": "markdown",
      "source": [
        "A quick glance at the variables contained in the Hotel_Tax.csv Dataset.\n",
        "\n",
        "\n",
        "**Name:**\tName of the Business\t\n",
        "\n",
        "**Month:**\tFiling Month\t\n",
        "\n",
        "**Quarter:**\tFiling Quarter\t\n",
        "\n",
        "**Year:**\tFiling Year\t\n",
        "\n",
        "**Filing Frequency:**\tEither Month (M) or Quarter (Q)\t\n",
        "\n",
        "**Due Date:**\tTax Due Date based on the Filing Period\tDate & Time\t\n",
        "\n",
        "**Taxable Amount:**\tTotal Collection minus Total Exemption\t\t\n",
        "\n",
        "**Tax Due:**\tTotal Tax Due\t\n",
        "\n",
        "**Interest:**\tInterest if paid late\t\n",
        "\n",
        "**Penalty:**\tPenalty if paid late\t\t\n",
        "\n",
        "**Total Amount Due:**\tTotal Amount Due. Tax plus interest and penalty\t\n",
        "\t\n",
        "\n",
        "**Source:** https://data.montgomerycountymd.gov/Finance-Tax-Property/Hotel-Tax/2jez-gq75\n"
      ],
      "metadata": {
        "id": "rILKawR_uuVR"
      }
    },
    {
      "cell_type": "markdown",
      "source": [
        "# **Questions of Interest:**\n",
        "\n",
        "\n",
        "What are the top 10 hotels that pay the most taxes from 2019 to 2022?\n",
        "\n",
        "What  is the average tax rate for hotels per year?\n",
        "\n",
        "What impact did Covid have on Hotel Tax revenues in Montgomery County?\n",
        "\n",
        "What happened to Airbnb During the Pandemic?\n",
        "\n",
        "Were there any hotels that went out of business during the pandemic?\n",
        "\n",
        "Were there any new hotels that were added during the pandemic\n",
        "\n",
        "What are the hotels that paid the most penalties from 2019 to 2022?\n",
        "\n",
        "How many hotels paid a penalty per year? How many did pay a penalty?\n",
        "\n",
        "What is the average interest the county gets on taxes?\n",
        "\n",
        "How many hotels were charged interest per year? How many were not charged interests?\n",
        "\n",
        "What are the busiest seasons for hotels in Montgomery County?"
      ],
      "metadata": {
        "id": "KmgGgOJ5KvQ8"
      }
    },
    {
      "cell_type": "markdown",
      "source": [
        "# **Load necessary libraries**"
      ],
      "metadata": {
        "id": "vDcXkK_DvGYY"
      }
    },
    {
      "cell_type": "code",
      "execution_count": null,
      "metadata": {
        "id": "-nqbuW1iT4Kz"
      },
      "outputs": [],
      "source": [
        "import pandas as pd\n",
        "import matplotlib.pyplot as plt\n",
        "import numpy as np\n",
        "import matplotlib as mpl\n",
        "import plotly.graph_objects as go\n",
        "import seaborn as sns\n",
        "import matplotlib.ticker as ticker\n",
        "from sklearn.model_selection import train_test_split\n",
        "#from sklearn.linear_model import LinearRegression\n",
        "#from sklearn.metrics import mean_absolute_error\n",
        "#from sklearn.metrics import mean_squared_error\n",
        "from sklearn.linear_model import LogisticRegression\n",
        "from sklearn import preprocessing\n",
        "from sklearn.metrics import classification_report, confusion_matrix\n",
        "from sklearn.metrics import roc_auc_score, roc_curve, accuracy_score\n",
        "from sklearn.metrics import precision_score, recall_score\n",
        "%matplotlib inline\n",
        "\n"
      ]
    },
    {
      "cell_type": "markdown",
      "source": [
        "**Read in Dataset**"
      ],
      "metadata": {
        "id": "tRMqbF88xQz1"
      }
    },
    {
      "cell_type": "code",
      "source": [
        "df = pd.read_csv('Hotel_Tax.csv')"
      ],
      "metadata": {
        "id": "D1ZFhuWRUCtd"
      },
      "execution_count": null,
      "outputs": []
    },
    {
      "cell_type": "code",
      "source": [
        "df.head()"
      ],
      "metadata": {
        "colab": {
          "base_uri": "https://localhost:8080/",
          "height": 206
        },
        "id": "tT_ewO-_Uh8d",
        "outputId": "6355fb4d-744e-47f8-8fa4-34064f51a32f"
      },
      "execution_count": null,
      "outputs": [
        {
          "output_type": "execute_result",
          "data": {
            "text/plain": [
              "                                            Name  Month  Quarter  Year  \\\n",
              "0                             Rocket Travel Inc.    8.0      NaN  2020   \n",
              "1                  Bethesda Hotel Associates LLC    4.0      NaN  2019   \n",
              "2  Canopy by Hilton-Washington DC-North Bethesda    6.0      NaN  2019   \n",
              "3                                       ELSS LLC    8.0      NaN  2019   \n",
              "4                                TripAdvisor LLC    4.0      NaN  2019   \n",
              "\n",
              "  Filing Frequency   Due Date  Taxable Amount   Tax Due  Interest  Penalty  \\\n",
              "0                M  9/30/2020          748.47     52.39       0.0      0.0   \n",
              "1                M  5/31/2019      1030148.47  72110.39       0.0      0.0   \n",
              "2                M  7/31/2019       805303.00  56371.21       0.0      0.0   \n",
              "3                M  9/30/2019       223343.71  15634.05       0.0      0.0   \n",
              "4                M  5/31/2019         3492.23    244.45       0.0      0.0   \n",
              "\n",
              "   Total Amount Due  \n",
              "0             52.39  \n",
              "1          72110.39  \n",
              "2          56371.21  \n",
              "3          15634.05  \n",
              "4            244.45  "
            ],
            "text/html": [
              "\n",
              "  <div id=\"df-32ce2989-c67b-4158-9517-eb32d11cb369\">\n",
              "    <div class=\"colab-df-container\">\n",
              "      <div>\n",
              "<style scoped>\n",
              "    .dataframe tbody tr th:only-of-type {\n",
              "        vertical-align: middle;\n",
              "    }\n",
              "\n",
              "    .dataframe tbody tr th {\n",
              "        vertical-align: top;\n",
              "    }\n",
              "\n",
              "    .dataframe thead th {\n",
              "        text-align: right;\n",
              "    }\n",
              "</style>\n",
              "<table border=\"1\" class=\"dataframe\">\n",
              "  <thead>\n",
              "    <tr style=\"text-align: right;\">\n",
              "      <th></th>\n",
              "      <th>Name</th>\n",
              "      <th>Month</th>\n",
              "      <th>Quarter</th>\n",
              "      <th>Year</th>\n",
              "      <th>Filing Frequency</th>\n",
              "      <th>Due Date</th>\n",
              "      <th>Taxable Amount</th>\n",
              "      <th>Tax Due</th>\n",
              "      <th>Interest</th>\n",
              "      <th>Penalty</th>\n",
              "      <th>Total Amount Due</th>\n",
              "    </tr>\n",
              "  </thead>\n",
              "  <tbody>\n",
              "    <tr>\n",
              "      <th>0</th>\n",
              "      <td>Rocket Travel Inc.</td>\n",
              "      <td>8.0</td>\n",
              "      <td>NaN</td>\n",
              "      <td>2020</td>\n",
              "      <td>M</td>\n",
              "      <td>9/30/2020</td>\n",
              "      <td>748.47</td>\n",
              "      <td>52.39</td>\n",
              "      <td>0.0</td>\n",
              "      <td>0.0</td>\n",
              "      <td>52.39</td>\n",
              "    </tr>\n",
              "    <tr>\n",
              "      <th>1</th>\n",
              "      <td>Bethesda Hotel Associates LLC</td>\n",
              "      <td>4.0</td>\n",
              "      <td>NaN</td>\n",
              "      <td>2019</td>\n",
              "      <td>M</td>\n",
              "      <td>5/31/2019</td>\n",
              "      <td>1030148.47</td>\n",
              "      <td>72110.39</td>\n",
              "      <td>0.0</td>\n",
              "      <td>0.0</td>\n",
              "      <td>72110.39</td>\n",
              "    </tr>\n",
              "    <tr>\n",
              "      <th>2</th>\n",
              "      <td>Canopy by Hilton-Washington DC-North Bethesda</td>\n",
              "      <td>6.0</td>\n",
              "      <td>NaN</td>\n",
              "      <td>2019</td>\n",
              "      <td>M</td>\n",
              "      <td>7/31/2019</td>\n",
              "      <td>805303.00</td>\n",
              "      <td>56371.21</td>\n",
              "      <td>0.0</td>\n",
              "      <td>0.0</td>\n",
              "      <td>56371.21</td>\n",
              "    </tr>\n",
              "    <tr>\n",
              "      <th>3</th>\n",
              "      <td>ELSS LLC</td>\n",
              "      <td>8.0</td>\n",
              "      <td>NaN</td>\n",
              "      <td>2019</td>\n",
              "      <td>M</td>\n",
              "      <td>9/30/2019</td>\n",
              "      <td>223343.71</td>\n",
              "      <td>15634.05</td>\n",
              "      <td>0.0</td>\n",
              "      <td>0.0</td>\n",
              "      <td>15634.05</td>\n",
              "    </tr>\n",
              "    <tr>\n",
              "      <th>4</th>\n",
              "      <td>TripAdvisor LLC</td>\n",
              "      <td>4.0</td>\n",
              "      <td>NaN</td>\n",
              "      <td>2019</td>\n",
              "      <td>M</td>\n",
              "      <td>5/31/2019</td>\n",
              "      <td>3492.23</td>\n",
              "      <td>244.45</td>\n",
              "      <td>0.0</td>\n",
              "      <td>0.0</td>\n",
              "      <td>244.45</td>\n",
              "    </tr>\n",
              "  </tbody>\n",
              "</table>\n",
              "</div>\n",
              "      <button class=\"colab-df-convert\" onclick=\"convertToInteractive('df-32ce2989-c67b-4158-9517-eb32d11cb369')\"\n",
              "              title=\"Convert this dataframe to an interactive table.\"\n",
              "              style=\"display:none;\">\n",
              "        \n",
              "  <svg xmlns=\"http://www.w3.org/2000/svg\" height=\"24px\"viewBox=\"0 0 24 24\"\n",
              "       width=\"24px\">\n",
              "    <path d=\"M0 0h24v24H0V0z\" fill=\"none\"/>\n",
              "    <path d=\"M18.56 5.44l.94 2.06.94-2.06 2.06-.94-2.06-.94-.94-2.06-.94 2.06-2.06.94zm-11 1L8.5 8.5l.94-2.06 2.06-.94-2.06-.94L8.5 2.5l-.94 2.06-2.06.94zm10 10l.94 2.06.94-2.06 2.06-.94-2.06-.94-.94-2.06-.94 2.06-2.06.94z\"/><path d=\"M17.41 7.96l-1.37-1.37c-.4-.4-.92-.59-1.43-.59-.52 0-1.04.2-1.43.59L10.3 9.45l-7.72 7.72c-.78.78-.78 2.05 0 2.83L4 21.41c.39.39.9.59 1.41.59.51 0 1.02-.2 1.41-.59l7.78-7.78 2.81-2.81c.8-.78.8-2.07 0-2.86zM5.41 20L4 18.59l7.72-7.72 1.47 1.35L5.41 20z\"/>\n",
              "  </svg>\n",
              "      </button>\n",
              "      \n",
              "  <style>\n",
              "    .colab-df-container {\n",
              "      display:flex;\n",
              "      flex-wrap:wrap;\n",
              "      gap: 12px;\n",
              "    }\n",
              "\n",
              "    .colab-df-convert {\n",
              "      background-color: #E8F0FE;\n",
              "      border: none;\n",
              "      border-radius: 50%;\n",
              "      cursor: pointer;\n",
              "      display: none;\n",
              "      fill: #1967D2;\n",
              "      height: 32px;\n",
              "      padding: 0 0 0 0;\n",
              "      width: 32px;\n",
              "    }\n",
              "\n",
              "    .colab-df-convert:hover {\n",
              "      background-color: #E2EBFA;\n",
              "      box-shadow: 0px 1px 2px rgba(60, 64, 67, 0.3), 0px 1px 3px 1px rgba(60, 64, 67, 0.15);\n",
              "      fill: #174EA6;\n",
              "    }\n",
              "\n",
              "    [theme=dark] .colab-df-convert {\n",
              "      background-color: #3B4455;\n",
              "      fill: #D2E3FC;\n",
              "    }\n",
              "\n",
              "    [theme=dark] .colab-df-convert:hover {\n",
              "      background-color: #434B5C;\n",
              "      box-shadow: 0px 1px 3px 1px rgba(0, 0, 0, 0.15);\n",
              "      filter: drop-shadow(0px 1px 2px rgba(0, 0, 0, 0.3));\n",
              "      fill: #FFFFFF;\n",
              "    }\n",
              "  </style>\n",
              "\n",
              "      <script>\n",
              "        const buttonEl =\n",
              "          document.querySelector('#df-32ce2989-c67b-4158-9517-eb32d11cb369 button.colab-df-convert');\n",
              "        buttonEl.style.display =\n",
              "          google.colab.kernel.accessAllowed ? 'block' : 'none';\n",
              "\n",
              "        async function convertToInteractive(key) {\n",
              "          const element = document.querySelector('#df-32ce2989-c67b-4158-9517-eb32d11cb369');\n",
              "          const dataTable =\n",
              "            await google.colab.kernel.invokeFunction('convertToInteractive',\n",
              "                                                     [key], {});\n",
              "          if (!dataTable) return;\n",
              "\n",
              "          const docLinkHtml = 'Like what you see? Visit the ' +\n",
              "            '<a target=\"_blank\" href=https://colab.research.google.com/notebooks/data_table.ipynb>data table notebook</a>'\n",
              "            + ' to learn more about interactive tables.';\n",
              "          element.innerHTML = '';\n",
              "          dataTable['output_type'] = 'display_data';\n",
              "          await google.colab.output.renderOutput(dataTable, element);\n",
              "          const docLink = document.createElement('div');\n",
              "          docLink.innerHTML = docLinkHtml;\n",
              "          element.appendChild(docLink);\n",
              "        }\n",
              "      </script>\n",
              "    </div>\n",
              "  </div>\n",
              "  "
            ]
          },
          "metadata": {},
          "execution_count": 3
        }
      ]
    },
    {
      "cell_type": "code",
      "source": [
        "# Number of observations\n",
        "df.shape"
      ],
      "metadata": {
        "colab": {
          "base_uri": "https://localhost:8080/"
        },
        "id": "mAEAQA-WKb45",
        "outputId": "1c401a2b-e423-4a21-81c7-27aca21f61c2"
      },
      "execution_count": null,
      "outputs": [
        {
          "output_type": "execute_result",
          "data": {
            "text/plain": [
              "(3131, 11)"
            ]
          },
          "metadata": {},
          "execution_count": 4
        }
      ]
    },
    {
      "cell_type": "markdown",
      "source": [
        "## **Exploratory Data Analysis**"
      ],
      "metadata": {
        "id": "O8zNBlxaxtzV"
      }
    },
    {
      "cell_type": "code",
      "source": [
        "# There are not enough records for 2018\n",
        "# Filter all 2018 rows out\n",
        "df2=df[df[\"Year\"] != 2018] \n",
        "\n"
      ],
      "metadata": {
        "id": "0IQcS38HxzjL"
      },
      "execution_count": null,
      "outputs": []
    },
    {
      "cell_type": "code",
      "source": [
        "df2.info()"
      ],
      "metadata": {
        "colab": {
          "base_uri": "https://localhost:8080/"
        },
        "id": "ft3hKZQXzNiy",
        "outputId": "d8fa0b17-d70b-4ebf-f09b-d8cd3d334189"
      },
      "execution_count": null,
      "outputs": [
        {
          "output_type": "stream",
          "name": "stdout",
          "text": [
            "<class 'pandas.core.frame.DataFrame'>\n",
            "Int64Index: 3120 entries, 0 to 3130\n",
            "Data columns (total 11 columns):\n",
            " #   Column            Non-Null Count  Dtype  \n",
            "---  ------            --------------  -----  \n",
            " 0   Name              3120 non-null   object \n",
            " 1   Month             2921 non-null   float64\n",
            " 2   Quarter           199 non-null    float64\n",
            " 3   Year              3120 non-null   int64  \n",
            " 4   Filing Frequency  3120 non-null   object \n",
            " 5   Due Date          3120 non-null   object \n",
            " 6   Taxable Amount    3120 non-null   float64\n",
            " 7   Tax Due           3120 non-null   float64\n",
            " 8   Interest          3120 non-null   float64\n",
            " 9   Penalty           3120 non-null   float64\n",
            " 10  Total Amount Due  3120 non-null   float64\n",
            "dtypes: float64(7), int64(1), object(3)\n",
            "memory usage: 292.5+ KB\n"
          ]
        }
      ]
    },
    {
      "cell_type": "code",
      "source": [
        "df2.isnull().sum()\n"
      ],
      "metadata": {
        "colab": {
          "base_uri": "https://localhost:8080/"
        },
        "id": "QnMU7gqZDar2",
        "outputId": "d94eee16-68b2-43b6-810a-f4fdbe79a7c0"
      },
      "execution_count": null,
      "outputs": [
        {
          "output_type": "execute_result",
          "data": {
            "text/plain": [
              "Name                   0\n",
              "Month                199\n",
              "Quarter             2921\n",
              "Year                   0\n",
              "Filing Frequency       0\n",
              "Due Date               0\n",
              "Taxable Amount         0\n",
              "Tax Due                0\n",
              "Interest               0\n",
              "Penalty                0\n",
              "Total Amount Due       0\n",
              "dtype: int64"
            ]
          },
          "metadata": {},
          "execution_count": 7
        }
      ]
    },
    {
      "cell_type": "code",
      "source": [
        "df2['Name'].value_counts()"
      ],
      "metadata": {
        "colab": {
          "base_uri": "https://localhost:8080/"
        },
        "id": "2PLAxL-JU-8l",
        "outputId": "32bace94-5027-4d11-af34-44e320ec3419"
      },
      "execution_count": null,
      "outputs": [
        {
          "output_type": "execute_result",
          "data": {
            "text/plain": [
              "Maryland National Capital Park & Planning Commission    47\n",
              "Priceline.com LLC                                       47\n",
              "Silver Hospitality Inc                                  47\n",
              "Tusculum Farm Enterprises, LLC                          47\n",
              "Hotel Tonight, LLC                                      47\n",
              "                                                        ..\n",
              "patricia mirsky                                          1\n",
              "Richard & Varda Nowitz                                   1\n",
              "Jane Hall                                                1\n",
              "Jamie Winestone                                          1\n",
              "Charles Oliver                                           1\n",
              "Name: Name, Length: 125, dtype: int64"
            ]
          },
          "metadata": {},
          "execution_count": 8
        }
      ]
    },
    {
      "cell_type": "code",
      "source": [
        "# Number of Distinct names\n",
        "df2['Name'].nunique()"
      ],
      "metadata": {
        "colab": {
          "base_uri": "https://localhost:8080/"
        },
        "id": "E3w7ys1sh6bi",
        "outputId": "15dadedc-a0eb-49ad-b78e-b0b4188395bf"
      },
      "execution_count": null,
      "outputs": [
        {
          "output_type": "execute_result",
          "data": {
            "text/plain": [
              "125"
            ]
          },
          "metadata": {},
          "execution_count": 9
        }
      ]
    },
    {
      "cell_type": "code",
      "source": [
        "# list all 125 names\n",
        "list_names = list(set(df['Name']))\n",
        "list_names"
      ],
      "metadata": {
        "id": "D293dL6SiPFv",
        "colab": {
          "base_uri": "https://localhost:8080/"
        },
        "outputId": "c5429bdd-bb9d-4498-bc48-932bb7753f2a"
      },
      "execution_count": null,
      "outputs": [
        {
          "output_type": "execute_result",
          "data": {
            "text/plain": [
              "['Courtyard by Marriott Silver Spring #311F1',\n",
              " 'Khatuna Khvichia',\n",
              " 'Island Hospitality Management LLC - Residence Inn Gaithersburg',\n",
              " 'GAI Enterprises, LLC. DBA - Motel 6',\n",
              " 'ELSS LLC',\n",
              " 'Annika Hamann',\n",
              " 'Headwaters Farm',\n",
              " 'Moonshot Global',\n",
              " 'Agoda International USA LLC',\n",
              " 'Homewood Suites',\n",
              " 'EVOLVE VACATION RENTAL NETWORK INC',\n",
              " 'Interim Homes',\n",
              " 'Viktoria Ana D Partalozova',\n",
              " 'A-TBC Bethesda Owner, LLC dba Doubletree Bethesda Hotel',\n",
              " 'RowanLark at Headwaters Farm',\n",
              " 'Silver Hospitality Inc',\n",
              " 'Orbitz, LLC',\n",
              " 'Testing Again LLC',\n",
              " 'Best Western Hotel',\n",
              " 'Jane Hall',\n",
              " 'Des Affiches Bed and Breakfast',\n",
              " 'Nicole Schmitt',\n",
              " 'EXTENDED STAY AMERICA #2528',\n",
              " 'Chevy Chase Club',\n",
              " 'Motel 6 #1489',\n",
              " 'Bethesda Marriott #33728',\n",
              " 'Bedford Court',\n",
              " '5520 Wisconsin Assoc',\n",
              " 'TownePlace Suites at Gaithersburg',\n",
              " 'BEST WESTERN PLUS ROCKVILLE',\n",
              " 'DHM Rockville LLC',\n",
              " 'Aramark Sports & Entertainment Services, LLC',\n",
              " 'Travelscape, LLC',\n",
              " 'Maryland National Capital Park & Planning Commission',\n",
              " 'Courtyard by Marriott Gaithersburg Washingtonian Center #311DQ',\n",
              " 'EXTENDED STAY AMERICA #9662',\n",
              " 'Home 2 Suites by Hilton Silver Spring',\n",
              " 'Airbnb Inc',\n",
              " 'Hotel Tonight, LLC',\n",
              " 'Tusculum Farm Enterprises, LLC',\n",
              " 'Hilton Garden Inn Silver Spring',\n",
              " 'Worldwide Corporate Housing LP',\n",
              " 'TripAdvisor LLC',\n",
              " 'Robert Bishop',\n",
              " 'Gaithersburg Marriott Washingtonian Center #337K6',\n",
              " 'patricia mirsky',\n",
              " 'Residence Inn by Marriott Silver Spring #57188',\n",
              " 'Jamie Winestone',\n",
              " 'Bethesda Marriott Suites #337P9',\n",
              " 'Churchill Corporate Services Inc',\n",
              " 'Richard & Varda Nowitz',\n",
              " 'Elizabeth Canterbury Homeowner',\n",
              " 'Hotwire, Inc.',\n",
              " 'AIL Hospitality LLC dba Radisson Hotel',\n",
              " 'EXTENDED STAY AMERICA #2529',\n",
              " 'RGALTD T/A Comfort Inn',\n",
              " 'Nancy Cedar',\n",
              " 'AIL Hospitality LLC dba Sleep Inn Hotel',\n",
              " 'Holiday Inn Gaithersburg',\n",
              " 'HomeAway.com, Inc.',\n",
              " 'Courtyard by Marriott Rockville #311D1',\n",
              " 'Karuna Skariah',\n",
              " 'T-R 1775 Rockville Owner LLC dba Rockville Even Hotel',\n",
              " 'American Inn Bethesda',\n",
              " 'Wellness Hospitality',\n",
              " 'Courtyard by Marriott Bethesda/Chevy Chase',\n",
              " 'Grand Prix Fixed Lessee LLC DBA RI Gaithersburg',\n",
              " 'Hampton Inn Silver Spring',\n",
              " 'Cambria Hotel Rockville',\n",
              " 'Eden Park Guest House, LLC',\n",
              " 'TMG II BETHESDA HOTEL OPERATING COMPANY LLC',\n",
              " 'Short Term Residential Rental',\n",
              " 'Hampshire Lodging Inc',\n",
              " 'SpringHill Suites by Marriott Gaithersburg #196A3',\n",
              " 'Daniel Greenspan Airbnb',\n",
              " 'Hampton Inn & Suites',\n",
              " 'Marriott Bethesda Downtown #33816',\n",
              " 'Residence Inn by Marriott Bethesda Downtown #57136',\n",
              " 'EXTENDED STAY AMERICA #9663',\n",
              " 'Charles Oliver',\n",
              " 'BW RRI III',\n",
              " 'Bethesda North Marriott Hotel & Conference Center #337V9',\n",
              " 'Dini Sari Djalal',\n",
              " 'ANNESWAY CONSULTING GROUP, LLC',\n",
              " 'Homewood Suites Silver Spring',\n",
              " 'Demo Company',\n",
              " 'Holiday Inn Express Germantown',\n",
              " 'INK Lessee, LLC DBA Sheraton Rockville',\n",
              " 'Hotels.com, L.P.',\n",
              " 'Duball Rockville LLC dba Cambria Rockville',\n",
              " '7359 Wisconsin Avenue, LLC',\n",
              " 'Sage Client 227 LLC',\n",
              " 'Egencia LLC',\n",
              " 'Basic Overnight Quarters LLC',\n",
              " 'EXTENDED STAY AMERICA #2504',\n",
              " 'Global Serviced Apartments LLC',\n",
              " 'Island Hospitality Management - Sheraton Rockville Hotel',\n",
              " 'Michael Morris',\n",
              " 'Bethesda Hotel Associates LLC',\n",
              " 'Fallsgrove Hotel Associates LLC',\n",
              " 'Pauline Rubinstein',\n",
              " 'Hoft Properties, LLC DBA Even Hotel Rockville',\n",
              " 'Nonye Uddoh',\n",
              " 'Jennifer A. Lukas',\n",
              " 'airbnb',\n",
              " 'Courtyard by Marriott - Silver Spring Downtown',\n",
              " 'Gaithersburg Operator, LLC',\n",
              " 'United Corporate Housing',\n",
              " 'Priceline.com LLC',\n",
              " 'Patrick Edward Chapman',\n",
              " 'Fairfield Inn & Suites - Germantown',\n",
              " 'The Oaks',\n",
              " 'KENWOOD GOLF & COUNTRY CLUB',\n",
              " 'Renoca',\n",
              " 'MAA',\n",
              " 'Canopy by Hilton-Washington DC-North Bethesda',\n",
              " 'Doubletree Hotel',\n",
              " 'Sheraton Silver Spring Hotel',\n",
              " 'Rocket Travel Inc.',\n",
              " 'Amani Elkassabany',\n",
              " 'Elizabeth Burgess',\n",
              " 'Sophia Jafrul',\n",
              " 'LCOF Silver Spring Operating, LLC',\n",
              " 'Congressional Country Club',\n",
              " 'Rockville Hospitality, LLC',\n",
              " 'The Bethesdan Hotel',\n",
              " 'Richard Rodrigues']"
            ]
          },
          "metadata": {},
          "execution_count": 10
        }
      ]
    },
    {
      "cell_type": "code",
      "source": [
        "# Display a table of statistics\n",
        "#df2.describe(include='all')\n",
        "removcol001= ['Name','Month', 'Quarter', 'Year', 'Filing Frequency', 'Due Date']\n",
        "df2.drop(columns=removcol001).describe()"
      ],
      "metadata": {
        "colab": {
          "base_uri": "https://localhost:8080/",
          "height": 300
        },
        "id": "1XI4FGeODUyX",
        "outputId": "3f8f8ee0-f613-4108-a36c-2e55159d88b5"
      },
      "execution_count": null,
      "outputs": [
        {
          "output_type": "execute_result",
          "data": {
            "text/plain": [
              "       Taxable Amount        Tax Due     Interest      Penalty  \\\n",
              "count    3.120000e+03    3120.000000  3120.000000  3120.000000   \n",
              "mean     2.471830e+05   17302.807458     6.284154    20.671631   \n",
              "std      3.262731e+05   22839.119551    79.689545   237.809611   \n",
              "min      0.000000e+00       0.000000     0.000000     0.000000   \n",
              "25%      3.413703e+04    2389.585000     0.000000     0.000000   \n",
              "50%      1.307038e+05    9149.255000     0.000000     0.000000   \n",
              "75%      3.127950e+05   21895.640000     0.000000     0.000000   \n",
              "max      2.646011e+06  185220.770000  2187.930000  5616.630000   \n",
              "\n",
              "       Total Amount Due  \n",
              "count       3120.000000  \n",
              "mean       17329.763349  \n",
              "std        22838.386644  \n",
              "min            0.000000  \n",
              "25%         2389.585000  \n",
              "50%         9168.630000  \n",
              "75%        21957.327500  \n",
              "max       185220.770000  "
            ],
            "text/html": [
              "\n",
              "  <div id=\"df-f64abdaf-8451-49bd-ba49-630e7531ec1c\">\n",
              "    <div class=\"colab-df-container\">\n",
              "      <div>\n",
              "<style scoped>\n",
              "    .dataframe tbody tr th:only-of-type {\n",
              "        vertical-align: middle;\n",
              "    }\n",
              "\n",
              "    .dataframe tbody tr th {\n",
              "        vertical-align: top;\n",
              "    }\n",
              "\n",
              "    .dataframe thead th {\n",
              "        text-align: right;\n",
              "    }\n",
              "</style>\n",
              "<table border=\"1\" class=\"dataframe\">\n",
              "  <thead>\n",
              "    <tr style=\"text-align: right;\">\n",
              "      <th></th>\n",
              "      <th>Taxable Amount</th>\n",
              "      <th>Tax Due</th>\n",
              "      <th>Interest</th>\n",
              "      <th>Penalty</th>\n",
              "      <th>Total Amount Due</th>\n",
              "    </tr>\n",
              "  </thead>\n",
              "  <tbody>\n",
              "    <tr>\n",
              "      <th>count</th>\n",
              "      <td>3.120000e+03</td>\n",
              "      <td>3120.000000</td>\n",
              "      <td>3120.000000</td>\n",
              "      <td>3120.000000</td>\n",
              "      <td>3120.000000</td>\n",
              "    </tr>\n",
              "    <tr>\n",
              "      <th>mean</th>\n",
              "      <td>2.471830e+05</td>\n",
              "      <td>17302.807458</td>\n",
              "      <td>6.284154</td>\n",
              "      <td>20.671631</td>\n",
              "      <td>17329.763349</td>\n",
              "    </tr>\n",
              "    <tr>\n",
              "      <th>std</th>\n",
              "      <td>3.262731e+05</td>\n",
              "      <td>22839.119551</td>\n",
              "      <td>79.689545</td>\n",
              "      <td>237.809611</td>\n",
              "      <td>22838.386644</td>\n",
              "    </tr>\n",
              "    <tr>\n",
              "      <th>min</th>\n",
              "      <td>0.000000e+00</td>\n",
              "      <td>0.000000</td>\n",
              "      <td>0.000000</td>\n",
              "      <td>0.000000</td>\n",
              "      <td>0.000000</td>\n",
              "    </tr>\n",
              "    <tr>\n",
              "      <th>25%</th>\n",
              "      <td>3.413703e+04</td>\n",
              "      <td>2389.585000</td>\n",
              "      <td>0.000000</td>\n",
              "      <td>0.000000</td>\n",
              "      <td>2389.585000</td>\n",
              "    </tr>\n",
              "    <tr>\n",
              "      <th>50%</th>\n",
              "      <td>1.307038e+05</td>\n",
              "      <td>9149.255000</td>\n",
              "      <td>0.000000</td>\n",
              "      <td>0.000000</td>\n",
              "      <td>9168.630000</td>\n",
              "    </tr>\n",
              "    <tr>\n",
              "      <th>75%</th>\n",
              "      <td>3.127950e+05</td>\n",
              "      <td>21895.640000</td>\n",
              "      <td>0.000000</td>\n",
              "      <td>0.000000</td>\n",
              "      <td>21957.327500</td>\n",
              "    </tr>\n",
              "    <tr>\n",
              "      <th>max</th>\n",
              "      <td>2.646011e+06</td>\n",
              "      <td>185220.770000</td>\n",
              "      <td>2187.930000</td>\n",
              "      <td>5616.630000</td>\n",
              "      <td>185220.770000</td>\n",
              "    </tr>\n",
              "  </tbody>\n",
              "</table>\n",
              "</div>\n",
              "      <button class=\"colab-df-convert\" onclick=\"convertToInteractive('df-f64abdaf-8451-49bd-ba49-630e7531ec1c')\"\n",
              "              title=\"Convert this dataframe to an interactive table.\"\n",
              "              style=\"display:none;\">\n",
              "        \n",
              "  <svg xmlns=\"http://www.w3.org/2000/svg\" height=\"24px\"viewBox=\"0 0 24 24\"\n",
              "       width=\"24px\">\n",
              "    <path d=\"M0 0h24v24H0V0z\" fill=\"none\"/>\n",
              "    <path d=\"M18.56 5.44l.94 2.06.94-2.06 2.06-.94-2.06-.94-.94-2.06-.94 2.06-2.06.94zm-11 1L8.5 8.5l.94-2.06 2.06-.94-2.06-.94L8.5 2.5l-.94 2.06-2.06.94zm10 10l.94 2.06.94-2.06 2.06-.94-2.06-.94-.94-2.06-.94 2.06-2.06.94z\"/><path d=\"M17.41 7.96l-1.37-1.37c-.4-.4-.92-.59-1.43-.59-.52 0-1.04.2-1.43.59L10.3 9.45l-7.72 7.72c-.78.78-.78 2.05 0 2.83L4 21.41c.39.39.9.59 1.41.59.51 0 1.02-.2 1.41-.59l7.78-7.78 2.81-2.81c.8-.78.8-2.07 0-2.86zM5.41 20L4 18.59l7.72-7.72 1.47 1.35L5.41 20z\"/>\n",
              "  </svg>\n",
              "      </button>\n",
              "      \n",
              "  <style>\n",
              "    .colab-df-container {\n",
              "      display:flex;\n",
              "      flex-wrap:wrap;\n",
              "      gap: 12px;\n",
              "    }\n",
              "\n",
              "    .colab-df-convert {\n",
              "      background-color: #E8F0FE;\n",
              "      border: none;\n",
              "      border-radius: 50%;\n",
              "      cursor: pointer;\n",
              "      display: none;\n",
              "      fill: #1967D2;\n",
              "      height: 32px;\n",
              "      padding: 0 0 0 0;\n",
              "      width: 32px;\n",
              "    }\n",
              "\n",
              "    .colab-df-convert:hover {\n",
              "      background-color: #E2EBFA;\n",
              "      box-shadow: 0px 1px 2px rgba(60, 64, 67, 0.3), 0px 1px 3px 1px rgba(60, 64, 67, 0.15);\n",
              "      fill: #174EA6;\n",
              "    }\n",
              "\n",
              "    [theme=dark] .colab-df-convert {\n",
              "      background-color: #3B4455;\n",
              "      fill: #D2E3FC;\n",
              "    }\n",
              "\n",
              "    [theme=dark] .colab-df-convert:hover {\n",
              "      background-color: #434B5C;\n",
              "      box-shadow: 0px 1px 3px 1px rgba(0, 0, 0, 0.15);\n",
              "      filter: drop-shadow(0px 1px 2px rgba(0, 0, 0, 0.3));\n",
              "      fill: #FFFFFF;\n",
              "    }\n",
              "  </style>\n",
              "\n",
              "      <script>\n",
              "        const buttonEl =\n",
              "          document.querySelector('#df-f64abdaf-8451-49bd-ba49-630e7531ec1c button.colab-df-convert');\n",
              "        buttonEl.style.display =\n",
              "          google.colab.kernel.accessAllowed ? 'block' : 'none';\n",
              "\n",
              "        async function convertToInteractive(key) {\n",
              "          const element = document.querySelector('#df-f64abdaf-8451-49bd-ba49-630e7531ec1c');\n",
              "          const dataTable =\n",
              "            await google.colab.kernel.invokeFunction('convertToInteractive',\n",
              "                                                     [key], {});\n",
              "          if (!dataTable) return;\n",
              "\n",
              "          const docLinkHtml = 'Like what you see? Visit the ' +\n",
              "            '<a target=\"_blank\" href=https://colab.research.google.com/notebooks/data_table.ipynb>data table notebook</a>'\n",
              "            + ' to learn more about interactive tables.';\n",
              "          element.innerHTML = '';\n",
              "          dataTable['output_type'] = 'display_data';\n",
              "          await google.colab.output.renderOutput(dataTable, element);\n",
              "          const docLink = document.createElement('div');\n",
              "          docLink.innerHTML = docLinkHtml;\n",
              "          element.appendChild(docLink);\n",
              "        }\n",
              "      </script>\n",
              "    </div>\n",
              "  </div>\n",
              "  "
            ]
          },
          "metadata": {},
          "execution_count": 11
        }
      ]
    },
    {
      "cell_type": "code",
      "source": [
        "# Sum of taxes By name\n",
        "dfsum = df2.groupby('Name').sum()\n",
        "removcol0= ['Month','Quarter','Year']\n",
        "dfsum= dfsum.drop(columns=removcol0)\n",
        "#dfsum.style.format('${0:,.0f}')\n",
        "pd.options.display.float_format = '{:,.2f}'.format\n",
        "format_dict = {col_name: '${:,.2f}' for col_name in dfsum.select_dtypes(float).columns}\n",
        "dfsum.head().style.format(format_dict)\n",
        "#dfsum.head(15)\n"
      ],
      "metadata": {
        "colab": {
          "base_uri": "https://localhost:8080/",
          "height": 292
        },
        "id": "RGwvL5bBPPX2",
        "outputId": "8de0c05b-7e4e-4a35-cae7-55b8b266a6a8"
      },
      "execution_count": null,
      "outputs": [
        {
          "output_type": "stream",
          "name": "stderr",
          "text": [
            "<ipython-input-12-84d56ace1ca1>:2: FutureWarning: The default value of numeric_only in DataFrameGroupBy.sum is deprecated. In a future version, numeric_only will default to False. Either specify numeric_only or select only columns which should be valid for the function.\n",
            "  dfsum = df2.groupby('Name').sum()\n"
          ]
        },
        {
          "output_type": "execute_result",
          "data": {
            "text/plain": [
              "<pandas.io.formats.style.Styler at 0x7f7dcaaf33d0>"
            ],
            "text/html": [
              "<style type=\"text/css\">\n",
              "</style>\n",
              "<table id=\"T_d0b7e\" class=\"dataframe\">\n",
              "  <thead>\n",
              "    <tr>\n",
              "      <th class=\"blank level0\" >&nbsp;</th>\n",
              "      <th id=\"T_d0b7e_level0_col0\" class=\"col_heading level0 col0\" >Taxable Amount</th>\n",
              "      <th id=\"T_d0b7e_level0_col1\" class=\"col_heading level0 col1\" >Tax Due</th>\n",
              "      <th id=\"T_d0b7e_level0_col2\" class=\"col_heading level0 col2\" >Interest</th>\n",
              "      <th id=\"T_d0b7e_level0_col3\" class=\"col_heading level0 col3\" >Penalty</th>\n",
              "      <th id=\"T_d0b7e_level0_col4\" class=\"col_heading level0 col4\" >Total Amount Due</th>\n",
              "    </tr>\n",
              "    <tr>\n",
              "      <th class=\"index_name level0\" >Name</th>\n",
              "      <th class=\"blank col0\" >&nbsp;</th>\n",
              "      <th class=\"blank col1\" >&nbsp;</th>\n",
              "      <th class=\"blank col2\" >&nbsp;</th>\n",
              "      <th class=\"blank col3\" >&nbsp;</th>\n",
              "      <th class=\"blank col4\" >&nbsp;</th>\n",
              "    </tr>\n",
              "  </thead>\n",
              "  <tbody>\n",
              "    <tr>\n",
              "      <th id=\"T_d0b7e_level0_row0\" class=\"row_heading level0 row0\" >5520 Wisconsin Assoc</th>\n",
              "      <td id=\"T_d0b7e_row0_col0\" class=\"data row0 col0\" >$11,999,117.67</td>\n",
              "      <td id=\"T_d0b7e_row0_col1\" class=\"data row0 col1\" >$839,938.17</td>\n",
              "      <td id=\"T_d0b7e_row0_col2\" class=\"data row0 col2\" >$63.84</td>\n",
              "      <td id=\"T_d0b7e_row0_col3\" class=\"data row0 col3\" >$319.23</td>\n",
              "      <td id=\"T_d0b7e_row0_col4\" class=\"data row0 col4\" >$840,321.25</td>\n",
              "    </tr>\n",
              "    <tr>\n",
              "      <th id=\"T_d0b7e_level0_row1\" class=\"row_heading level0 row1\" >7359 Wisconsin Avenue, LLC</th>\n",
              "      <td id=\"T_d0b7e_row1_col0\" class=\"data row1 col0\" >$2,340,139.48</td>\n",
              "      <td id=\"T_d0b7e_row1_col1\" class=\"data row1 col1\" >$163,809.74</td>\n",
              "      <td id=\"T_d0b7e_row1_col2\" class=\"data row1 col2\" >$0.00</td>\n",
              "      <td id=\"T_d0b7e_row1_col3\" class=\"data row1 col3\" >$0.00</td>\n",
              "      <td id=\"T_d0b7e_row1_col4\" class=\"data row1 col4\" >$163,809.74</td>\n",
              "    </tr>\n",
              "    <tr>\n",
              "      <th id=\"T_d0b7e_level0_row2\" class=\"row_heading level0 row2\" >A-TBC Bethesda Owner, LLC dba Doubletree Bethesda Hotel</th>\n",
              "      <td id=\"T_d0b7e_row2_col0\" class=\"data row2 col0\" >$15,686,991.14</td>\n",
              "      <td id=\"T_d0b7e_row2_col1\" class=\"data row2 col1\" >$1,098,089.23</td>\n",
              "      <td id=\"T_d0b7e_row2_col2\" class=\"data row2 col2\" >$0.00</td>\n",
              "      <td id=\"T_d0b7e_row2_col3\" class=\"data row2 col3\" >$0.00</td>\n",
              "      <td id=\"T_d0b7e_row2_col4\" class=\"data row2 col4\" >$1,098,089.23</td>\n",
              "    </tr>\n",
              "    <tr>\n",
              "      <th id=\"T_d0b7e_level0_row3\" class=\"row_heading level0 row3\" >AIL Hospitality LLC dba Radisson Hotel</th>\n",
              "      <td id=\"T_d0b7e_row3_col0\" class=\"data row3 col0\" >$7,323,949.88</td>\n",
              "      <td id=\"T_d0b7e_row3_col1\" class=\"data row3 col1\" >$512,676.27</td>\n",
              "      <td id=\"T_d0b7e_row3_col2\" class=\"data row3 col2\" >$282.76</td>\n",
              "      <td id=\"T_d0b7e_row3_col3\" class=\"data row3 col3\" >$1,413.82</td>\n",
              "      <td id=\"T_d0b7e_row3_col4\" class=\"data row3 col4\" >$514,372.87</td>\n",
              "    </tr>\n",
              "    <tr>\n",
              "      <th id=\"T_d0b7e_level0_row4\" class=\"row_heading level0 row4\" >AIL Hospitality LLC dba Sleep Inn Hotel</th>\n",
              "      <td id=\"T_d0b7e_row4_col0\" class=\"data row4 col0\" >$5,039,427.09</td>\n",
              "      <td id=\"T_d0b7e_row4_col1\" class=\"data row4 col1\" >$352,759.65</td>\n",
              "      <td id=\"T_d0b7e_row4_col2\" class=\"data row4 col2\" >$137.41</td>\n",
              "      <td id=\"T_d0b7e_row4_col3\" class=\"data row4 col3\" >$687.08</td>\n",
              "      <td id=\"T_d0b7e_row4_col4\" class=\"data row4 col4\" >$353,584.16</td>\n",
              "    </tr>\n",
              "  </tbody>\n",
              "</table>\n"
            ]
          },
          "metadata": {},
          "execution_count": 12
        }
      ]
    },
    {
      "cell_type": "code",
      "source": [
        "dfsum.shape"
      ],
      "metadata": {
        "colab": {
          "base_uri": "https://localhost:8080/"
        },
        "id": "8fl8Cmn4Okm0",
        "outputId": "28d98d6d-1fab-4281-e1e1-77e9fb8ef29e"
      },
      "execution_count": null,
      "outputs": [
        {
          "output_type": "execute_result",
          "data": {
            "text/plain": [
              "(125, 5)"
            ]
          },
          "metadata": {},
          "execution_count": 13
        }
      ]
    },
    {
      "cell_type": "code",
      "source": [
        "# Histogram of total taxes collected (2019 -2022)\n",
        "plt.hist(round(dfsum['Total Amount Due'],0), 30, log = False, color='r')\n",
        "plt.title(\"Histogram of Total Amount Due\")\n",
        "plt.xlabel(\"Total Amount Due ($)\")\n",
        "plt.xticks(rotation=0)\n",
        "plt.ylabel(\"Frequency\")"
      ],
      "metadata": {
        "colab": {
          "base_uri": "https://localhost:8080/",
          "height": 489
        },
        "id": "9BEgzUOnmmGx",
        "outputId": "b56ba16d-f7bc-4de8-ba6f-e83afa293187"
      },
      "execution_count": null,
      "outputs": [
        {
          "output_type": "execute_result",
          "data": {
            "text/plain": [
              "Text(0, 0.5, 'Frequency')"
            ]
          },
          "metadata": {},
          "execution_count": 14
        },
        {
          "output_type": "display_data",
          "data": {
            "text/plain": [
              "<Figure size 640x480 with 1 Axes>"
            ],
            "image/png": "[encoded data removed]"
          },
          "metadata": {}
        }
      ]
    },
    {
      "cell_type": "markdown",
      "source": [
        "###***In general, businesses pay taxes monthly or quarterly.  Let's double check this is true for this dataset.***"
      ],
      "metadata": {
        "id": "Nbljw0Cf6H3h"
      }
    },
    {
      "cell_type": "code",
      "source": [
        "# Sum of taxes By name\n",
        "dfsumf = df2.groupby(['Name', 'Filing Frequency']).sum()\n",
        "dfsumf= dfsumf.drop(columns=removcol0)\n"
      ],
      "metadata": {
        "id": "ousnAlZZQROY",
        "colab": {
          "base_uri": "https://localhost:8080/"
        },
        "outputId": "2803950f-db7a-4b8e-dc82-e6db66f73bfb"
      },
      "execution_count": null,
      "outputs": [
        {
          "output_type": "stream",
          "name": "stderr",
          "text": [
            "<ipython-input-15-f8daa89455ce>:2: FutureWarning: The default value of numeric_only in DataFrameGroupBy.sum is deprecated. In a future version, numeric_only will default to False. Either specify numeric_only or select only columns which should be valid for the function.\n",
            "  dfsumf = df2.groupby(['Name', 'Filing Frequency']).sum()\n"
          ]
        }
      ]
    },
    {
      "cell_type": "code",
      "source": [
        "#Convert Series into dataframe\n",
        "dfsumdataframe = dfsumf.reset_index()\n"
      ],
      "metadata": {
        "id": "6CuWALVA2_oR"
      },
      "execution_count": null,
      "outputs": []
    },
    {
      "cell_type": "code",
      "source": [
        "# Are there any companies/individuals paying their taxes Monthly and Quarterly?\n",
        "#Create contingency table\n",
        "pd.crosstab(index=dfsumdataframe['Name'], columns=dfsumdataframe['Filing Frequency'])"
      ],
      "metadata": {
        "colab": {
          "base_uri": "https://localhost:8080/",
          "height": 455
        },
        "id": "71-_zYmLH-pO",
        "outputId": "5268dc03-67dd-4b76-b78d-8bec672e1c33"
      },
      "execution_count": null,
      "outputs": [
        {
          "output_type": "execute_result",
          "data": {
            "text/plain": [
              "Filing Frequency                                    M  Q\n",
              "Name                                                    \n",
              "5520 Wisconsin Assoc                                1  0\n",
              "7359 Wisconsin Avenue, LLC                          1  0\n",
              "A-TBC Bethesda Owner, LLC dba Doubletree Bethes...  1  0\n",
              "AIL Hospitality LLC dba Radisson Hotel              1  0\n",
              "AIL Hospitality LLC dba Sleep Inn Hotel             1  0\n",
              "...                                                .. ..\n",
              "Viktoria Ana D Partalozova                          1  0\n",
              "Wellness Hospitality                                1  0\n",
              "Worldwide Corporate Housing LP                      1  0\n",
              "airbnb                                              1  0\n",
              "patricia mirsky                                     1  0\n",
              "\n",
              "[125 rows x 2 columns]"
            ],
            "text/html": [
              "\n",
              "  <div id=\"df-acdca0f4-c5c1-41f5-b758-e35e3c7aa8b0\">\n",
              "    <div class=\"colab-df-container\">\n",
              "      <div>\n",
              "<style scoped>\n",
              "    .dataframe tbody tr th:only-of-type {\n",
              "        vertical-align: middle;\n",
              "    }\n",
              "\n",
              "    .dataframe tbody tr th {\n",
              "        vertical-align: top;\n",
              "    }\n",
              "\n",
              "    .dataframe thead th {\n",
              "        text-align: right;\n",
              "    }\n",
              "</style>\n",
              "<table border=\"1\" class=\"dataframe\">\n",
              "  <thead>\n",
              "    <tr style=\"text-align: right;\">\n",
              "      <th>Filing Frequency</th>\n",
              "      <th>M</th>\n",
              "      <th>Q</th>\n",
              "    </tr>\n",
              "    <tr>\n",
              "      <th>Name</th>\n",
              "      <th></th>\n",
              "      <th></th>\n",
              "    </tr>\n",
              "  </thead>\n",
              "  <tbody>\n",
              "    <tr>\n",
              "      <th>5520 Wisconsin Assoc</th>\n",
              "      <td>1</td>\n",
              "      <td>0</td>\n",
              "    </tr>\n",
              "    <tr>\n",
              "      <th>7359 Wisconsin Avenue, LLC</th>\n",
              "      <td>1</td>\n",
              "      <td>0</td>\n",
              "    </tr>\n",
              "    <tr>\n",
              "      <th>A-TBC Bethesda Owner, LLC dba Doubletree Bethesda Hotel</th>\n",
              "      <td>1</td>\n",
              "      <td>0</td>\n",
              "    </tr>\n",
              "    <tr>\n",
              "      <th>AIL Hospitality LLC dba Radisson Hotel</th>\n",
              "      <td>1</td>\n",
              "      <td>0</td>\n",
              "    </tr>\n",
              "    <tr>\n",
              "      <th>AIL Hospitality LLC dba Sleep Inn Hotel</th>\n",
              "      <td>1</td>\n",
              "      <td>0</td>\n",
              "    </tr>\n",
              "    <tr>\n",
              "      <th>...</th>\n",
              "      <td>...</td>\n",
              "      <td>...</td>\n",
              "    </tr>\n",
              "    <tr>\n",
              "      <th>Viktoria Ana D Partalozova</th>\n",
              "      <td>1</td>\n",
              "      <td>0</td>\n",
              "    </tr>\n",
              "    <tr>\n",
              "      <th>Wellness Hospitality</th>\n",
              "      <td>1</td>\n",
              "      <td>0</td>\n",
              "    </tr>\n",
              "    <tr>\n",
              "      <th>Worldwide Corporate Housing LP</th>\n",
              "      <td>1</td>\n",
              "      <td>0</td>\n",
              "    </tr>\n",
              "    <tr>\n",
              "      <th>airbnb</th>\n",
              "      <td>1</td>\n",
              "      <td>0</td>\n",
              "    </tr>\n",
              "    <tr>\n",
              "      <th>patricia mirsky</th>\n",
              "      <td>1</td>\n",
              "      <td>0</td>\n",
              "    </tr>\n",
              "  </tbody>\n",
              "</table>\n",
              "<p>125 rows × 2 columns</p>\n",
              "</div>\n",
              "      <button class=\"colab-df-convert\" onclick=\"convertToInteractive('df-acdca0f4-c5c1-41f5-b758-e35e3c7aa8b0')\"\n",
              "              title=\"Convert this dataframe to an interactive table.\"\n",
              "              style=\"display:none;\">\n",
              "        \n",
              "  <svg xmlns=\"http://www.w3.org/2000/svg\" height=\"24px\"viewBox=\"0 0 24 24\"\n",
              "       width=\"24px\">\n",
              "    <path d=\"M0 0h24v24H0V0z\" fill=\"none\"/>\n",
              "    <path d=\"M18.56 5.44l.94 2.06.94-2.06 2.06-.94-2.06-.94-.94-2.06-.94 2.06-2.06.94zm-11 1L8.5 8.5l.94-2.06 2.06-.94-2.06-.94L8.5 2.5l-.94 2.06-2.06.94zm10 10l.94 2.06.94-2.06 2.06-.94-2.06-.94-.94-2.06-.94 2.06-2.06.94z\"/><path d=\"M17.41 7.96l-1.37-1.37c-.4-.4-.92-.59-1.43-.59-.52 0-1.04.2-1.43.59L10.3 9.45l-7.72 7.72c-.78.78-.78 2.05 0 2.83L4 21.41c.39.39.9.59 1.41.59.51 0 1.02-.2 1.41-.59l7.78-7.78 2.81-2.81c.8-.78.8-2.07 0-2.86zM5.41 20L4 18.59l7.72-7.72 1.47 1.35L5.41 20z\"/>\n",
              "  </svg>\n",
              "      </button>\n",
              "      \n",
              "  <style>\n",
              "    .colab-df-container {\n",
              "      display:flex;\n",
              "      flex-wrap:wrap;\n",
              "      gap: 12px;\n",
              "    }\n",
              "\n",
              "    .colab-df-convert {\n",
              "      background-color: #E8F0FE;\n",
              "      border: none;\n",
              "      border-radius: 50%;\n",
              "      cursor: pointer;\n",
              "      display: none;\n",
              "      fill: #1967D2;\n",
              "      height: 32px;\n",
              "      padding: 0 0 0 0;\n",
              "      width: 32px;\n",
              "    }\n",
              "\n",
              "    .colab-df-convert:hover {\n",
              "      background-color: #E2EBFA;\n",
              "      box-shadow: 0px 1px 2px rgba(60, 64, 67, 0.3), 0px 1px 3px 1px rgba(60, 64, 67, 0.15);\n",
              "      fill: #174EA6;\n",
              "    }\n",
              "\n",
              "    [theme=dark] .colab-df-convert {\n",
              "      background-color: #3B4455;\n",
              "      fill: #D2E3FC;\n",
              "    }\n",
              "\n",
              "    [theme=dark] .colab-df-convert:hover {\n",
              "      background-color: #434B5C;\n",
              "      box-shadow: 0px 1px 3px 1px rgba(0, 0, 0, 0.15);\n",
              "      filter: drop-shadow(0px 1px 2px rgba(0, 0, 0, 0.3));\n",
              "      fill: #FFFFFF;\n",
              "    }\n",
              "  </style>\n",
              "\n",
              "      <script>\n",
              "        const buttonEl =\n",
              "          document.querySelector('#df-acdca0f4-c5c1-41f5-b758-e35e3c7aa8b0 button.colab-df-convert');\n",
              "        buttonEl.style.display =\n",
              "          google.colab.kernel.accessAllowed ? 'block' : 'none';\n",
              "\n",
              "        async function convertToInteractive(key) {\n",
              "          const element = document.querySelector('#df-acdca0f4-c5c1-41f5-b758-e35e3c7aa8b0');\n",
              "          const dataTable =\n",
              "            await google.colab.kernel.invokeFunction('convertToInteractive',\n",
              "                                                     [key], {});\n",
              "          if (!dataTable) return;\n",
              "\n",
              "          const docLinkHtml = 'Like what you see? Visit the ' +\n",
              "            '<a target=\"_blank\" href=https://colab.research.google.com/notebooks/data_table.ipynb>data table notebook</a>'\n",
              "            + ' to learn more about interactive tables.';\n",
              "          element.innerHTML = '';\n",
              "          dataTable['output_type'] = 'display_data';\n",
              "          await google.colab.output.renderOutput(dataTable, element);\n",
              "          const docLink = document.createElement('div');\n",
              "          docLink.innerHTML = docLinkHtml;\n",
              "          element.appendChild(docLink);\n",
              "        }\n",
              "      </script>\n",
              "    </div>\n",
              "  </div>\n",
              "  "
            ]
          },
          "metadata": {},
          "execution_count": 17
        }
      ]
    },
    {
      "cell_type": "markdown",
      "source": [
        "# The following hotels switched their filing frequency at one point.\n"
      ],
      "metadata": {
        "id": "qkNJ6oilFLFo"
      }
    },
    {
      "cell_type": "code",
      "source": [
        "print(dfsumdataframe[dfsumdataframe.duplicated(subset=['Name'],keep=False)])"
      ],
      "metadata": {
        "colab": {
          "base_uri": "https://localhost:8080/"
        },
        "id": "7zWjmZ5GF4Yo",
        "outputId": "03d2488e-14fc-4307-ff97-da848bd5e472"
      },
      "execution_count": null,
      "outputs": [
        {
          "output_type": "stream",
          "name": "stdout",
          "text": [
            "                                              Name Filing Frequency  \\\n",
            "8                                Amani Elkassabany                M   \n",
            "9                                Amani Elkassabany                Q   \n",
            "15                    Basic Overnight Quarters LLC                M   \n",
            "16                    Basic Overnight Quarters LLC                Q   \n",
            "47                      Eden Park Guest House, LLC                M   \n",
            "48                      Eden Park Guest House, LLC                Q   \n",
            "51                  Elizabeth Canterbury Homeowner                M   \n",
            "52                  Elizabeth Canterbury Homeowner                Q   \n",
            "65   Hoft Properties, LLC DBA Even Hotel Rockville                M   \n",
            "66   Hoft Properties, LLC DBA Even Hotel Rockville                Q   \n",
            "84                                  Karuna Skariah                M   \n",
            "85                                  Karuna Skariah                Q   \n",
            "92                                 Moonshot Global                M   \n",
            "93                                 Moonshot Global                Q   \n",
            "99                          Patrick Edward Chapman                M   \n",
            "100                         Patrick Edward Chapman                Q   \n",
            "109                                  Robert Bishop                M   \n",
            "110                                  Robert Bishop                Q   \n",
            "\n",
            "     Taxable Amount    Tax Due  Interest  Penalty  Total Amount Due  \n",
            "8              0.00       0.00      0.00     0.00              0.00  \n",
            "9            338.00      23.66      0.00     0.00             23.66  \n",
            "15             0.00       0.00      0.00     0.00              0.00  \n",
            "16         7,000.00     490.00      0.00     0.00            490.00  \n",
            "47        11,631.00     814.17      0.00     0.00            814.17  \n",
            "48        33,210.00   2,324.70      0.00     0.00          2,324.70  \n",
            "51           765.65      53.59      0.00     0.00             53.59  \n",
            "52         2,466.69     172.66      0.00     0.00            172.66  \n",
            "65       858,927.83  60,124.94      0.00     0.00         60,124.94  \n",
            "66     6,858,580.77 480,100.62      0.00     0.00        480,100.62  \n",
            "84         3,200.00     224.00      0.00     0.00            224.00  \n",
            "85         4,448.00     311.36      0.00     0.00            311.36  \n",
            "92         5,000.00     350.00      0.00     0.00            350.00  \n",
            "93        10,000.00     700.00      0.00     0.00            700.00  \n",
            "99             0.00       0.00      0.00     0.00              0.00  \n",
            "100            0.00       0.00      0.00     0.00              0.00  \n",
            "109        1,355.00      94.85      0.00     0.00             94.85  \n",
            "110        2,297.86     160.85      0.00     0.00            160.85  \n"
          ]
        }
      ]
    },
    {
      "cell_type": "markdown",
      "source": [
        "# **Top 10 Hotel that paid the most taxes between 2019 and 2022**"
      ],
      "metadata": {
        "id": "eZsE7SF0HeBc"
      }
    },
    {
      "cell_type": "code",
      "source": [
        "df10 = dfsum.nlargest(10, ['Total Amount Due']).groupby('Name').sum()\n",
        "#removcol0= ['Month','Quarter','Year']\n",
        "#df10= df10.drop(columns=removcol0)\n",
        "format_dict = {col_name: '${:,.2f}' for col_name in df10.select_dtypes(float).columns}\n",
        "df10.head(10).style.format(format_dict)\n",
        "#df10.head(10)"
      ],
      "metadata": {
        "colab": {
          "base_uri": "https://localhost:8080/",
          "height": 394
        },
        "id": "7tkjJJlkXsau",
        "outputId": "59584917-aa03-47b9-d5e7-646c72b72cbf"
      },
      "execution_count": null,
      "outputs": [
        {
          "output_type": "execute_result",
          "data": {
            "text/plain": [
              "<pandas.io.formats.style.Styler at 0x7f7dcaaf2dd0>"
            ],
            "text/html": [
              "<style type=\"text/css\">\n",
              "</style>\n",
              "<table id=\"T_302d9\" class=\"dataframe\">\n",
              "  <thead>\n",
              "    <tr>\n",
              "      <th class=\"blank level0\" >&nbsp;</th>\n",
              "      <th id=\"T_302d9_level0_col0\" class=\"col_heading level0 col0\" >Taxable Amount</th>\n",
              "      <th id=\"T_302d9_level0_col1\" class=\"col_heading level0 col1\" >Tax Due</th>\n",
              "      <th id=\"T_302d9_level0_col2\" class=\"col_heading level0 col2\" >Interest</th>\n",
              "      <th id=\"T_302d9_level0_col3\" class=\"col_heading level0 col3\" >Penalty</th>\n",
              "      <th id=\"T_302d9_level0_col4\" class=\"col_heading level0 col4\" >Total Amount Due</th>\n",
              "    </tr>\n",
              "    <tr>\n",
              "      <th class=\"index_name level0\" >Name</th>\n",
              "      <th class=\"blank col0\" >&nbsp;</th>\n",
              "      <th class=\"blank col1\" >&nbsp;</th>\n",
              "      <th class=\"blank col2\" >&nbsp;</th>\n",
              "      <th class=\"blank col3\" >&nbsp;</th>\n",
              "      <th class=\"blank col4\" >&nbsp;</th>\n",
              "    </tr>\n",
              "  </thead>\n",
              "  <tbody>\n",
              "    <tr>\n",
              "      <th id=\"T_302d9_level0_row0\" class=\"row_heading level0 row0\" >Airbnb Inc</th>\n",
              "      <td id=\"T_302d9_row0_col0\" class=\"data row0 col0\" >$39,972,490.53</td>\n",
              "      <td id=\"T_302d9_row0_col1\" class=\"data row0 col1\" >$2,798,074.10</td>\n",
              "      <td id=\"T_302d9_row0_col2\" class=\"data row0 col2\" >$0.00</td>\n",
              "      <td id=\"T_302d9_row0_col3\" class=\"data row0 col3\" >$0.00</td>\n",
              "      <td id=\"T_302d9_row0_col4\" class=\"data row0 col4\" >$2,798,074.10</td>\n",
              "    </tr>\n",
              "    <tr>\n",
              "      <th id=\"T_302d9_level0_row1\" class=\"row_heading level0 row1\" >Bethesda Hotel Associates LLC</th>\n",
              "      <td id=\"T_302d9_row1_col0\" class=\"data row1 col0\" >$20,476,940.23</td>\n",
              "      <td id=\"T_302d9_row1_col1\" class=\"data row1 col1\" >$1,433,385.62</td>\n",
              "      <td id=\"T_302d9_row1_col2\" class=\"data row1 col2\" >$0.00</td>\n",
              "      <td id=\"T_302d9_row1_col3\" class=\"data row1 col3\" >$0.00</td>\n",
              "      <td id=\"T_302d9_row1_col4\" class=\"data row1 col4\" >$1,433,385.62</td>\n",
              "    </tr>\n",
              "    <tr>\n",
              "      <th id=\"T_302d9_level0_row2\" class=\"row_heading level0 row2\" >Bethesda Marriott #33728</th>\n",
              "      <td id=\"T_302d9_row2_col0\" class=\"data row2 col0\" >$34,788,364.57</td>\n",
              "      <td id=\"T_302d9_row2_col1\" class=\"data row2 col1\" >$2,435,185.36</td>\n",
              "      <td id=\"T_302d9_row2_col2\" class=\"data row2 col2\" >$0.00</td>\n",
              "      <td id=\"T_302d9_row2_col3\" class=\"data row2 col3\" >$0.00</td>\n",
              "      <td id=\"T_302d9_row2_col4\" class=\"data row2 col4\" >$2,435,185.36</td>\n",
              "    </tr>\n",
              "    <tr>\n",
              "      <th id=\"T_302d9_level0_row3\" class=\"row_heading level0 row3\" >Bethesda North Marriott Hotel & Conference Center #337V9</th>\n",
              "      <td id=\"T_302d9_row3_col0\" class=\"data row3 col0\" >$41,333,515.71</td>\n",
              "      <td id=\"T_302d9_row3_col1\" class=\"data row3 col1\" >$2,893,345.92</td>\n",
              "      <td id=\"T_302d9_row3_col2\" class=\"data row3 col2\" >$0.00</td>\n",
              "      <td id=\"T_302d9_row3_col3\" class=\"data row3 col3\" >$0.00</td>\n",
              "      <td id=\"T_302d9_row3_col4\" class=\"data row3 col4\" >$2,893,345.92</td>\n",
              "    </tr>\n",
              "    <tr>\n",
              "      <th id=\"T_302d9_level0_row4\" class=\"row_heading level0 row4\" >Courtyard by Marriott Gaithersburg Washingtonian Center #311DQ</th>\n",
              "      <td id=\"T_302d9_row4_col0\" class=\"data row4 col0\" >$20,950,050.15</td>\n",
              "      <td id=\"T_302d9_row4_col1\" class=\"data row4 col1\" >$1,466,503.32</td>\n",
              "      <td id=\"T_302d9_row4_col2\" class=\"data row4 col2\" >$0.00</td>\n",
              "      <td id=\"T_302d9_row4_col3\" class=\"data row4 col3\" >$0.00</td>\n",
              "      <td id=\"T_302d9_row4_col4\" class=\"data row4 col4\" >$1,466,503.32</td>\n",
              "    </tr>\n",
              "    <tr>\n",
              "      <th id=\"T_302d9_level0_row5\" class=\"row_heading level0 row5\" >DHM Rockville LLC</th>\n",
              "      <td id=\"T_302d9_row5_col0\" class=\"data row5 col0\" >$23,421,748.47</td>\n",
              "      <td id=\"T_302d9_row5_col1\" class=\"data row5 col1\" >$1,639,522.15</td>\n",
              "      <td id=\"T_302d9_row5_col2\" class=\"data row5 col2\" >$0.00</td>\n",
              "      <td id=\"T_302d9_row5_col3\" class=\"data row5 col3\" >$0.00</td>\n",
              "      <td id=\"T_302d9_row5_col4\" class=\"data row5 col4\" >$1,639,522.15</td>\n",
              "    </tr>\n",
              "    <tr>\n",
              "      <th id=\"T_302d9_level0_row6\" class=\"row_heading level0 row6\" >Fallsgrove Hotel Associates LLC</th>\n",
              "      <td id=\"T_302d9_row6_col0\" class=\"data row6 col0\" >$20,293,327.95</td>\n",
              "      <td id=\"T_302d9_row6_col1\" class=\"data row6 col1\" >$1,420,532.88</td>\n",
              "      <td id=\"T_302d9_row6_col2\" class=\"data row6 col2\" >$0.00</td>\n",
              "      <td id=\"T_302d9_row6_col3\" class=\"data row6 col3\" >$0.00</td>\n",
              "      <td id=\"T_302d9_row6_col4\" class=\"data row6 col4\" >$1,420,532.88</td>\n",
              "    </tr>\n",
              "    <tr>\n",
              "      <th id=\"T_302d9_level0_row7\" class=\"row_heading level0 row7\" >Gaithersburg Marriott Washingtonian Center #337K6</th>\n",
              "      <td id=\"T_302d9_row7_col0\" class=\"data row7 col0\" >$28,216,828.69</td>\n",
              "      <td id=\"T_302d9_row7_col1\" class=\"data row7 col1\" >$1,975,177.76</td>\n",
              "      <td id=\"T_302d9_row7_col2\" class=\"data row7 col2\" >$0.00</td>\n",
              "      <td id=\"T_302d9_row7_col3\" class=\"data row7 col3\" >$0.00</td>\n",
              "      <td id=\"T_302d9_row7_col4\" class=\"data row7 col4\" >$1,975,177.76</td>\n",
              "    </tr>\n",
              "    <tr>\n",
              "      <th id=\"T_302d9_level0_row8\" class=\"row_heading level0 row8\" >Residence Inn by Marriott Bethesda Downtown #57136</th>\n",
              "      <td id=\"T_302d9_row8_col0\" class=\"data row8 col0\" >$23,136,388.30</td>\n",
              "      <td id=\"T_302d9_row8_col1\" class=\"data row8 col1\" >$1,619,546.98</td>\n",
              "      <td id=\"T_302d9_row8_col2\" class=\"data row8 col2\" >$0.00</td>\n",
              "      <td id=\"T_302d9_row8_col3\" class=\"data row8 col3\" >$0.00</td>\n",
              "      <td id=\"T_302d9_row8_col4\" class=\"data row8 col4\" >$1,619,546.98</td>\n",
              "    </tr>\n",
              "    <tr>\n",
              "      <th id=\"T_302d9_level0_row9\" class=\"row_heading level0 row9\" >TMG II BETHESDA HOTEL OPERATING COMPANY LLC</th>\n",
              "      <td id=\"T_302d9_row9_col0\" class=\"data row9 col0\" >$46,707,900.53</td>\n",
              "      <td id=\"T_302d9_row9_col1\" class=\"data row9 col1\" >$3,269,552.82</td>\n",
              "      <td id=\"T_302d9_row9_col2\" class=\"data row9 col2\" >$0.00</td>\n",
              "      <td id=\"T_302d9_row9_col3\" class=\"data row9 col3\" >$0.00</td>\n",
              "      <td id=\"T_302d9_row9_col4\" class=\"data row9 col4\" >$3,269,552.82</td>\n",
              "    </tr>\n",
              "  </tbody>\n",
              "</table>\n"
            ]
          },
          "metadata": {},
          "execution_count": 19
        }
      ]
    },
    {
      "cell_type": "code",
      "source": [
        "#df.loc[df['Year'] =='2022'].groupby('Name').sum().sort_values(by=['Total Amount Due']).head(10).plot(kind=\"bar\")\n",
        "removcol= ['Taxable Amount', 'Tax Due', 'Interest', 'Penalty']\n",
        "df10a= df10.drop(columns=removcol)\n",
        "df10a.sort_values(by=['Total Amount Due'],ascending = True).plot(kind=\"barh\", edgecolor='black')\n",
        "\n",
        "plt.suptitle(\"Montgomery County Top 10 Hotel Tax Payers\",fontsize=18, y=1, fontweight='bold', color='red')\n",
        "plt.title(\"2019 - 2022\", fontsize = 18, fontweight='bold', color ='red' )\n",
        "plt.ylabel(\"Total Amount Due in Million ($)\", fontweight='bold',fontsize=18, color ='red')\n",
        "plt.legend(loc='center left', bbox_to_anchor=(1, 0.5))\n",
        "plt.grid(False)\n",
        "plt.show()"
      ],
      "metadata": {
        "colab": {
          "base_uri": "https://localhost:8080/",
          "height": 506
        },
        "id": "zuvkdMyOQMru",
        "outputId": "d33a1dd3-bc57-458a-a4ed-997f4fa85549"
      },
      "execution_count": null,
      "outputs": [
        {
          "output_type": "display_data",
          "data": {
            "text/plain": [
              "<Figure size 640x480 with 1 Axes>"
            ],
            "image/png": "[encoded data removed]"
          },
          "metadata": {}
        }
      ]
    },
    {
      "cell_type": "markdown",
      "source": [
        "# **What is the average tax paid per hotels per year (2019 - 2022?**"
      ],
      "metadata": {
        "id": "Q0oR8hFM1-6u"
      }
    },
    {
      "cell_type": "code",
      "source": [
        "dfavera = df2.groupby(['Name', 'Year'])['Total Amount Due'].sum()\n",
        "dfavera1=dfavera.reset_index()\n",
        "dfavera2 = round(dfavera1.groupby(['Name'])['Total Amount Due'].mean(), 2)\n",
        "dfavera2=dfavera2.reset_index()\n",
        "dfavera3 = dfavera2.nlargest(10, ['Total Amount Due'])\n",
        "dfavera3.head(10)"
      ],
      "metadata": {
        "colab": {
          "base_uri": "https://localhost:8080/",
          "height": 363
        },
        "id": "ZrGeyd9UwcKG",
        "outputId": "aecc5644-a5c8-4ece-fb34-cf6cf247c32a"
      },
      "execution_count": null,
      "outputs": [
        {
          "output_type": "execute_result",
          "data": {
            "text/plain": [
              "                                                  Name  Total Amount Due\n",
              "112        TMG II BETHESDA HOTEL OPERATING COMPANY LLC        817,388.20\n",
              "83                   Marriott Bethesda Downtown #33816        768,663.12\n",
              "20   Bethesda North Marriott Hotel & Conference Cen...        723,336.48\n",
              "7                                           Airbnb Inc        699,518.52\n",
              "18                            Bethesda Marriott #33728        608,796.34\n",
              "52   Gaithersburg Marriott Washingtonian Center #337K6        493,794.44\n",
              "113                                The Bethesdan Hotel        465,532.15\n",
              "105                                Sage Client 227 LLC        456,436.96\n",
              "0                                 5520 Wisconsin Assoc        420,160.62\n",
              "32                                   DHM Rockville LLC        409,880.54"
            ],
            "text/html": [
              "\n",
              "  <div id=\"df-6f15373f-25a6-458c-b198-ea483c5b730c\">\n",
              "    <div class=\"colab-df-container\">\n",
              "      <div>\n",
              "<style scoped>\n",
              "    .dataframe tbody tr th:only-of-type {\n",
              "        vertical-align: middle;\n",
              "    }\n",
              "\n",
              "    .dataframe tbody tr th {\n",
              "        vertical-align: top;\n",
              "    }\n",
              "\n",
              "    .dataframe thead th {\n",
              "        text-align: right;\n",
              "    }\n",
              "</style>\n",
              "<table border=\"1\" class=\"dataframe\">\n",
              "  <thead>\n",
              "    <tr style=\"text-align: right;\">\n",
              "      <th></th>\n",
              "      <th>Name</th>\n",
              "      <th>Total Amount Due</th>\n",
              "    </tr>\n",
              "  </thead>\n",
              "  <tbody>\n",
              "    <tr>\n",
              "      <th>112</th>\n",
              "      <td>TMG II BETHESDA HOTEL OPERATING COMPANY LLC</td>\n",
              "      <td>817,388.20</td>\n",
              "    </tr>\n",
              "    <tr>\n",
              "      <th>83</th>\n",
              "      <td>Marriott Bethesda Downtown #33816</td>\n",
              "      <td>768,663.12</td>\n",
              "    </tr>\n",
              "    <tr>\n",
              "      <th>20</th>\n",
              "      <td>Bethesda North Marriott Hotel &amp; Conference Cen...</td>\n",
              "      <td>723,336.48</td>\n",
              "    </tr>\n",
              "    <tr>\n",
              "      <th>7</th>\n",
              "      <td>Airbnb Inc</td>\n",
              "      <td>699,518.52</td>\n",
              "    </tr>\n",
              "    <tr>\n",
              "      <th>18</th>\n",
              "      <td>Bethesda Marriott #33728</td>\n",
              "      <td>608,796.34</td>\n",
              "    </tr>\n",
              "    <tr>\n",
              "      <th>52</th>\n",
              "      <td>Gaithersburg Marriott Washingtonian Center #337K6</td>\n",
              "      <td>493,794.44</td>\n",
              "    </tr>\n",
              "    <tr>\n",
              "      <th>113</th>\n",
              "      <td>The Bethesdan Hotel</td>\n",
              "      <td>465,532.15</td>\n",
              "    </tr>\n",
              "    <tr>\n",
              "      <th>105</th>\n",
              "      <td>Sage Client 227 LLC</td>\n",
              "      <td>456,436.96</td>\n",
              "    </tr>\n",
              "    <tr>\n",
              "      <th>0</th>\n",
              "      <td>5520 Wisconsin Assoc</td>\n",
              "      <td>420,160.62</td>\n",
              "    </tr>\n",
              "    <tr>\n",
              "      <th>32</th>\n",
              "      <td>DHM Rockville LLC</td>\n",
              "      <td>409,880.54</td>\n",
              "    </tr>\n",
              "  </tbody>\n",
              "</table>\n",
              "</div>\n",
              "      <button class=\"colab-df-convert\" onclick=\"convertToInteractive('df-6f15373f-25a6-458c-b198-ea483c5b730c')\"\n",
              "              title=\"Convert this dataframe to an interactive table.\"\n",
              "              style=\"display:none;\">\n",
              "        \n",
              "  <svg xmlns=\"http://www.w3.org/2000/svg\" height=\"24px\"viewBox=\"0 0 24 24\"\n",
              "       width=\"24px\">\n",
              "    <path d=\"M0 0h24v24H0V0z\" fill=\"none\"/>\n",
              "    <path d=\"M18.56 5.44l.94 2.06.94-2.06 2.06-.94-2.06-.94-.94-2.06-.94 2.06-2.06.94zm-11 1L8.5 8.5l.94-2.06 2.06-.94-2.06-.94L8.5 2.5l-.94 2.06-2.06.94zm10 10l.94 2.06.94-2.06 2.06-.94-2.06-.94-.94-2.06-.94 2.06-2.06.94z\"/><path d=\"M17.41 7.96l-1.37-1.37c-.4-.4-.92-.59-1.43-.59-.52 0-1.04.2-1.43.59L10.3 9.45l-7.72 7.72c-.78.78-.78 2.05 0 2.83L4 21.41c.39.39.9.59 1.41.59.51 0 1.02-.2 1.41-.59l7.78-7.78 2.81-2.81c.8-.78.8-2.07 0-2.86zM5.41 20L4 18.59l7.72-7.72 1.47 1.35L5.41 20z\"/>\n",
              "  </svg>\n",
              "      </button>\n",
              "      \n",
              "  <style>\n",
              "    .colab-df-container {\n",
              "      display:flex;\n",
              "      flex-wrap:wrap;\n",
              "      gap: 12px;\n",
              "    }\n",
              "\n",
              "    .colab-df-convert {\n",
              "      background-color: #E8F0FE;\n",
              "      border: none;\n",
              "      border-radius: 50%;\n",
              "      cursor: pointer;\n",
              "      display: none;\n",
              "      fill: #1967D2;\n",
              "      height: 32px;\n",
              "      padding: 0 0 0 0;\n",
              "      width: 32px;\n",
              "    }\n",
              "\n",
              "    .colab-df-convert:hover {\n",
              "      background-color: #E2EBFA;\n",
              "      box-shadow: 0px 1px 2px rgba(60, 64, 67, 0.3), 0px 1px 3px 1px rgba(60, 64, 67, 0.15);\n",
              "      fill: #174EA6;\n",
              "    }\n",
              "\n",
              "    [theme=dark] .colab-df-convert {\n",
              "      background-color: #3B4455;\n",
              "      fill: #D2E3FC;\n",
              "    }\n",
              "\n",
              "    [theme=dark] .colab-df-convert:hover {\n",
              "      background-color: #434B5C;\n",
              "      box-shadow: 0px 1px 3px 1px rgba(0, 0, 0, 0.15);\n",
              "      filter: drop-shadow(0px 1px 2px rgba(0, 0, 0, 0.3));\n",
              "      fill: #FFFFFF;\n",
              "    }\n",
              "  </style>\n",
              "\n",
              "      <script>\n",
              "        const buttonEl =\n",
              "          document.querySelector('#df-6f15373f-25a6-458c-b198-ea483c5b730c button.colab-df-convert');\n",
              "        buttonEl.style.display =\n",
              "          google.colab.kernel.accessAllowed ? 'block' : 'none';\n",
              "\n",
              "        async function convertToInteractive(key) {\n",
              "          const element = document.querySelector('#df-6f15373f-25a6-458c-b198-ea483c5b730c');\n",
              "          const dataTable =\n",
              "            await google.colab.kernel.invokeFunction('convertToInteractive',\n",
              "                                                     [key], {});\n",
              "          if (!dataTable) return;\n",
              "\n",
              "          const docLinkHtml = 'Like what you see? Visit the ' +\n",
              "            '<a target=\"_blank\" href=https://colab.research.google.com/notebooks/data_table.ipynb>data table notebook</a>'\n",
              "            + ' to learn more about interactive tables.';\n",
              "          element.innerHTML = '';\n",
              "          dataTable['output_type'] = 'display_data';\n",
              "          await google.colab.output.renderOutput(dataTable, element);\n",
              "          const docLink = document.createElement('div');\n",
              "          docLink.innerHTML = docLinkHtml;\n",
              "          element.appendChild(docLink);\n",
              "        }\n",
              "      </script>\n",
              "    </div>\n",
              "  </div>\n",
              "  "
            ]
          },
          "metadata": {},
          "execution_count": 21
        }
      ]
    },
    {
      "cell_type": "markdown",
      "source": [
        "# **How did Covid affect Hotel Tax revenues for Montgomery County?**"
      ],
      "metadata": {
        "id": "J9Ocxgt5J7Kc"
      }
    },
    {
      "cell_type": "code",
      "source": [
        "\n",
        "dfsumy = df2.groupby(['Year']).sum()\n",
        "removcol1= ['Month','Quarter','Taxable Amount', 'Tax Due', 'Interest', 'Penalty']\n",
        "dfsumy1= dfsumy.drop(columns=removcol1)\n",
        "dfsumy1.head()\n"
      ],
      "metadata": {
        "colab": {
          "base_uri": "https://localhost:8080/",
          "height": 261
        },
        "id": "UgJsluG2vWTv",
        "outputId": "a9489245-4ec0-4afb-cca3-c238041b9e2b"
      },
      "execution_count": null,
      "outputs": [
        {
          "output_type": "stream",
          "name": "stderr",
          "text": [
            "<ipython-input-22-1a1c5403785c>:1: FutureWarning: The default value of numeric_only in DataFrameGroupBy.sum is deprecated. In a future version, numeric_only will default to False. Either specify numeric_only or select only columns which should be valid for the function.\n",
            "  dfsumy = df2.groupby(['Year']).sum()\n"
          ]
        },
        {
          "output_type": "execute_result",
          "data": {
            "text/plain": [
              "      Total Amount Due\n",
              "Year                  \n",
              "2019     20,402,389.56\n",
              "2020      7,097,272.77\n",
              "2021     10,179,168.12\n",
              "2022     16,390,031.20"
            ],
            "text/html": [
              "\n",
              "  <div id=\"df-d69a52f4-4383-44e0-8ad4-9f67f568ca4d\">\n",
              "    <div class=\"colab-df-container\">\n",
              "      <div>\n",
              "<style scoped>\n",
              "    .dataframe tbody tr th:only-of-type {\n",
              "        vertical-align: middle;\n",
              "    }\n",
              "\n",
              "    .dataframe tbody tr th {\n",
              "        vertical-align: top;\n",
              "    }\n",
              "\n",
              "    .dataframe thead th {\n",
              "        text-align: right;\n",
              "    }\n",
              "</style>\n",
              "<table border=\"1\" class=\"dataframe\">\n",
              "  <thead>\n",
              "    <tr style=\"text-align: right;\">\n",
              "      <th></th>\n",
              "      <th>Total Amount Due</th>\n",
              "    </tr>\n",
              "    <tr>\n",
              "      <th>Year</th>\n",
              "      <th></th>\n",
              "    </tr>\n",
              "  </thead>\n",
              "  <tbody>\n",
              "    <tr>\n",
              "      <th>2019</th>\n",
              "      <td>20,402,389.56</td>\n",
              "    </tr>\n",
              "    <tr>\n",
              "      <th>2020</th>\n",
              "      <td>7,097,272.77</td>\n",
              "    </tr>\n",
              "    <tr>\n",
              "      <th>2021</th>\n",
              "      <td>10,179,168.12</td>\n",
              "    </tr>\n",
              "    <tr>\n",
              "      <th>2022</th>\n",
              "      <td>16,390,031.20</td>\n",
              "    </tr>\n",
              "  </tbody>\n",
              "</table>\n",
              "</div>\n",
              "      <button class=\"colab-df-convert\" onclick=\"convertToInteractive('df-d69a52f4-4383-44e0-8ad4-9f67f568ca4d')\"\n",
              "              title=\"Convert this dataframe to an interactive table.\"\n",
              "              style=\"display:none;\">\n",
              "        \n",
              "  <svg xmlns=\"http://www.w3.org/2000/svg\" height=\"24px\"viewBox=\"0 0 24 24\"\n",
              "       width=\"24px\">\n",
              "    <path d=\"M0 0h24v24H0V0z\" fill=\"none\"/>\n",
              "    <path d=\"M18.56 5.44l.94 2.06.94-2.06 2.06-.94-2.06-.94-.94-2.06-.94 2.06-2.06.94zm-11 1L8.5 8.5l.94-2.06 2.06-.94-2.06-.94L8.5 2.5l-.94 2.06-2.06.94zm10 10l.94 2.06.94-2.06 2.06-.94-2.06-.94-.94-2.06-.94 2.06-2.06.94z\"/><path d=\"M17.41 7.96l-1.37-1.37c-.4-.4-.92-.59-1.43-.59-.52 0-1.04.2-1.43.59L10.3 9.45l-7.72 7.72c-.78.78-.78 2.05 0 2.83L4 21.41c.39.39.9.59 1.41.59.51 0 1.02-.2 1.41-.59l7.78-7.78 2.81-2.81c.8-.78.8-2.07 0-2.86zM5.41 20L4 18.59l7.72-7.72 1.47 1.35L5.41 20z\"/>\n",
              "  </svg>\n",
              "      </button>\n",
              "      \n",
              "  <style>\n",
              "    .colab-df-container {\n",
              "      display:flex;\n",
              "      flex-wrap:wrap;\n",
              "      gap: 12px;\n",
              "    }\n",
              "\n",
              "    .colab-df-convert {\n",
              "      background-color: #E8F0FE;\n",
              "      border: none;\n",
              "      border-radius: 50%;\n",
              "      cursor: pointer;\n",
              "      display: none;\n",
              "      fill: #1967D2;\n",
              "      height: 32px;\n",
              "      padding: 0 0 0 0;\n",
              "      width: 32px;\n",
              "    }\n",
              "\n",
              "    .colab-df-convert:hover {\n",
              "      background-color: #E2EBFA;\n",
              "      box-shadow: 0px 1px 2px rgba(60, 64, 67, 0.3), 0px 1px 3px 1px rgba(60, 64, 67, 0.15);\n",
              "      fill: #174EA6;\n",
              "    }\n",
              "\n",
              "    [theme=dark] .colab-df-convert {\n",
              "      background-color: #3B4455;\n",
              "      fill: #D2E3FC;\n",
              "    }\n",
              "\n",
              "    [theme=dark] .colab-df-convert:hover {\n",
              "      background-color: #434B5C;\n",
              "      box-shadow: 0px 1px 3px 1px rgba(0, 0, 0, 0.15);\n",
              "      filter: drop-shadow(0px 1px 2px rgba(0, 0, 0, 0.3));\n",
              "      fill: #FFFFFF;\n",
              "    }\n",
              "  </style>\n",
              "\n",
              "      <script>\n",
              "        const buttonEl =\n",
              "          document.querySelector('#df-d69a52f4-4383-44e0-8ad4-9f67f568ca4d button.colab-df-convert');\n",
              "        buttonEl.style.display =\n",
              "          google.colab.kernel.accessAllowed ? 'block' : 'none';\n",
              "\n",
              "        async function convertToInteractive(key) {\n",
              "          const element = document.querySelector('#df-d69a52f4-4383-44e0-8ad4-9f67f568ca4d');\n",
              "          const dataTable =\n",
              "            await google.colab.kernel.invokeFunction('convertToInteractive',\n",
              "                                                     [key], {});\n",
              "          if (!dataTable) return;\n",
              "\n",
              "          const docLinkHtml = 'Like what you see? Visit the ' +\n",
              "            '<a target=\"_blank\" href=https://colab.research.google.com/notebooks/data_table.ipynb>data table notebook</a>'\n",
              "            + ' to learn more about interactive tables.';\n",
              "          element.innerHTML = '';\n",
              "          dataTable['output_type'] = 'display_data';\n",
              "          await google.colab.output.renderOutput(dataTable, element);\n",
              "          const docLink = document.createElement('div');\n",
              "          docLink.innerHTML = docLinkHtml;\n",
              "          element.appendChild(docLink);\n",
              "        }\n",
              "      </script>\n",
              "    </div>\n",
              "  </div>\n",
              "  "
            ]
          },
          "metadata": {},
          "execution_count": 22
        }
      ]
    },
    {
      "cell_type": "markdown",
      "source": [
        "###*Total tax due (collected) from 2019 - 20222*"
      ],
      "metadata": {
        "id": "FkBg0UXI7kBv"
      }
    },
    {
      "cell_type": "code",
      "source": [
        "# Total Amount Due from 2019 Thru 2022\n",
        "print('The total amount due from 2019 thru 2022:', round(dfsumy1['Total Amount Due'].sum(),2))"
      ],
      "metadata": {
        "colab": {
          "base_uri": "https://localhost:8080/"
        },
        "id": "tBU-PabqpCgq",
        "outputId": "ce51341c-4663-4736-e17c-ac79154af70f"
      },
      "execution_count": null,
      "outputs": [
        {
          "output_type": "stream",
          "name": "stdout",
          "text": [
            "The total amount due from 2019 thru 2022: 54068861.65\n"
          ]
        }
      ]
    },
    {
      "cell_type": "code",
      "source": [
        "sns.set_style('darkgrid')\n",
        "sns.set(rc={'figure.figsize':(14,8)})\n",
        "\n",
        "labels = [2019, 2020, 2021, 2022]\n",
        "ylabels = [0,5000000,10000000,15000000,20000000,25000000]\n",
        "\n",
        "ax = sns.lineplot(data=dfsumy1, x ='Year', y = 'Total Amount Due',                \n",
        "                  legend='full', lw=3, color='red', marker='o', markersize=10)\n",
        "\n",
        "ax = plt.gca()\n",
        "ax.set_facecolor(\"black\")\n",
        "ax.patch.set_alpha(1.0)\n",
        "\n",
        "plt.suptitle(\"Montgomery County Hotel Taxes to Be Collected\",fontsize=16,fontweight='bold')\n",
        "plt.title(\"2019 - 2022\", fontsize = 16,fontweight='bold')\n",
        "plt.ylabel(\"Total Amount in 10 Million ($)\", fontweight='bold')\n",
        "plt.xticks(labels, rotation='vertical')\n",
        "plt.yticks(ylabels, rotation='vertical')\n",
        "plt.xlabel('Year', fontsize=16,fontweight='bold')\n",
        "plt.grid(True)\n",
        "plt.show()"
      ],
      "metadata": {
        "colab": {
          "base_uri": "https://localhost:8080/",
          "height": 646
        },
        "id": "-0xEF46grAwK",
        "outputId": "8a395e3a-f081-4f86-b161-0d1d276eef85"
      },
      "execution_count": null,
      "outputs": [
        {
          "output_type": "display_data",
          "data": {
            "text/plain": [
              "<Figure size 1120x640 with 1 Axes>"
            ],
            "image/png": "[encoded data removed]"
          },
          "metadata": {}
        }
      ]
    },
    {
      "cell_type": "markdown",
      "source": [
        "# **What happened to Airbnb Tax revenue During the Pandemic?**"
      ],
      "metadata": {
        "id": "2SdUg-WqVB-B"
      }
    },
    {
      "cell_type": "markdown",
      "source": [
        "In 2016, Airbnb has reached an agreement with Montgomery County to start collecting a hotel tax on behalf of its hosts.By working with local governments to collect hotel taxes, Airbnb is also showing that it is committed to being a good corporate citizen and contributing to the communities in which it operates. These taxes are often used to support tourism, infrastructure, and other public services in the community."
      ],
      "metadata": {
        "id": "SxzBe0HS9HJh"
      }
    },
    {
      "cell_type": "code",
      "source": [
        "# Airbnb\n",
        "dfsumya= df2.loc[df2['Name']=='Airbnb Inc']\n",
        "dfsumya = dfsumya.groupby(['Year']).sum()\n",
        "removcol1= ['Month','Quarter','Taxable Amount', 'Tax Due', 'Interest', 'Penalty']\n",
        "dfsumy2= dfsumya.drop(columns=removcol1)\n",
        "dfsumy2.head()"
      ],
      "metadata": {
        "colab": {
          "base_uri": "https://localhost:8080/",
          "height": 261
        },
        "id": "zZ84rEu_te36",
        "outputId": "407b1feb-5899-41c4-c75c-10b50707d543"
      },
      "execution_count": null,
      "outputs": [
        {
          "output_type": "stream",
          "name": "stderr",
          "text": [
            "<ipython-input-25-09acd3acd561>:3: FutureWarning: The default value of numeric_only in DataFrameGroupBy.sum is deprecated. In a future version, numeric_only will default to False. Either specify numeric_only or select only columns which should be valid for the function.\n",
            "  dfsumya = dfsumya.groupby(['Year']).sum()\n"
          ]
        },
        {
          "output_type": "execute_result",
          "data": {
            "text/plain": [
              "      Total Amount Due\n",
              "Year                  \n",
              "2019        692,545.88\n",
              "2020        401,846.97\n",
              "2021        687,932.71\n",
              "2022      1,015,748.54"
            ],
            "text/html": [
              "\n",
              "  <div id=\"df-6af75cc7-0983-4be1-9c93-5dc0b1585679\">\n",
              "    <div class=\"colab-df-container\">\n",
              "      <div>\n",
              "<style scoped>\n",
              "    .dataframe tbody tr th:only-of-type {\n",
              "        vertical-align: middle;\n",
              "    }\n",
              "\n",
              "    .dataframe tbody tr th {\n",
              "        vertical-align: top;\n",
              "    }\n",
              "\n",
              "    .dataframe thead th {\n",
              "        text-align: right;\n",
              "    }\n",
              "</style>\n",
              "<table border=\"1\" class=\"dataframe\">\n",
              "  <thead>\n",
              "    <tr style=\"text-align: right;\">\n",
              "      <th></th>\n",
              "      <th>Total Amount Due</th>\n",
              "    </tr>\n",
              "    <tr>\n",
              "      <th>Year</th>\n",
              "      <th></th>\n",
              "    </tr>\n",
              "  </thead>\n",
              "  <tbody>\n",
              "    <tr>\n",
              "      <th>2019</th>\n",
              "      <td>692,545.88</td>\n",
              "    </tr>\n",
              "    <tr>\n",
              "      <th>2020</th>\n",
              "      <td>401,846.97</td>\n",
              "    </tr>\n",
              "    <tr>\n",
              "      <th>2021</th>\n",
              "      <td>687,932.71</td>\n",
              "    </tr>\n",
              "    <tr>\n",
              "      <th>2022</th>\n",
              "      <td>1,015,748.54</td>\n",
              "    </tr>\n",
              "  </tbody>\n",
              "</table>\n",
              "</div>\n",
              "      <button class=\"colab-df-convert\" onclick=\"convertToInteractive('df-6af75cc7-0983-4be1-9c93-5dc0b1585679')\"\n",
              "              title=\"Convert this dataframe to an interactive table.\"\n",
              "              style=\"display:none;\">\n",
              "        \n",
              "  <svg xmlns=\"http://www.w3.org/2000/svg\" height=\"24px\"viewBox=\"0 0 24 24\"\n",
              "       width=\"24px\">\n",
              "    <path d=\"M0 0h24v24H0V0z\" fill=\"none\"/>\n",
              "    <path d=\"M18.56 5.44l.94 2.06.94-2.06 2.06-.94-2.06-.94-.94-2.06-.94 2.06-2.06.94zm-11 1L8.5 8.5l.94-2.06 2.06-.94-2.06-.94L8.5 2.5l-.94 2.06-2.06.94zm10 10l.94 2.06.94-2.06 2.06-.94-2.06-.94-.94-2.06-.94 2.06-2.06.94z\"/><path d=\"M17.41 7.96l-1.37-1.37c-.4-.4-.92-.59-1.43-.59-.52 0-1.04.2-1.43.59L10.3 9.45l-7.72 7.72c-.78.78-.78 2.05 0 2.83L4 21.41c.39.39.9.59 1.41.59.51 0 1.02-.2 1.41-.59l7.78-7.78 2.81-2.81c.8-.78.8-2.07 0-2.86zM5.41 20L4 18.59l7.72-7.72 1.47 1.35L5.41 20z\"/>\n",
              "  </svg>\n",
              "      </button>\n",
              "      \n",
              "  <style>\n",
              "    .colab-df-container {\n",
              "      display:flex;\n",
              "      flex-wrap:wrap;\n",
              "      gap: 12px;\n",
              "    }\n",
              "\n",
              "    .colab-df-convert {\n",
              "      background-color: #E8F0FE;\n",
              "      border: none;\n",
              "      border-radius: 50%;\n",
              "      cursor: pointer;\n",
              "      display: none;\n",
              "      fill: #1967D2;\n",
              "      height: 32px;\n",
              "      padding: 0 0 0 0;\n",
              "      width: 32px;\n",
              "    }\n",
              "\n",
              "    .colab-df-convert:hover {\n",
              "      background-color: #E2EBFA;\n",
              "      box-shadow: 0px 1px 2px rgba(60, 64, 67, 0.3), 0px 1px 3px 1px rgba(60, 64, 67, 0.15);\n",
              "      fill: #174EA6;\n",
              "    }\n",
              "\n",
              "    [theme=dark] .colab-df-convert {\n",
              "      background-color: #3B4455;\n",
              "      fill: #D2E3FC;\n",
              "    }\n",
              "\n",
              "    [theme=dark] .colab-df-convert:hover {\n",
              "      background-color: #434B5C;\n",
              "      box-shadow: 0px 1px 3px 1px rgba(0, 0, 0, 0.15);\n",
              "      filter: drop-shadow(0px 1px 2px rgba(0, 0, 0, 0.3));\n",
              "      fill: #FFFFFF;\n",
              "    }\n",
              "  </style>\n",
              "\n",
              "      <script>\n",
              "        const buttonEl =\n",
              "          document.querySelector('#df-6af75cc7-0983-4be1-9c93-5dc0b1585679 button.colab-df-convert');\n",
              "        buttonEl.style.display =\n",
              "          google.colab.kernel.accessAllowed ? 'block' : 'none';\n",
              "\n",
              "        async function convertToInteractive(key) {\n",
              "          const element = document.querySelector('#df-6af75cc7-0983-4be1-9c93-5dc0b1585679');\n",
              "          const dataTable =\n",
              "            await google.colab.kernel.invokeFunction('convertToInteractive',\n",
              "                                                     [key], {});\n",
              "          if (!dataTable) return;\n",
              "\n",
              "          const docLinkHtml = 'Like what you see? Visit the ' +\n",
              "            '<a target=\"_blank\" href=https://colab.research.google.com/notebooks/data_table.ipynb>data table notebook</a>'\n",
              "            + ' to learn more about interactive tables.';\n",
              "          element.innerHTML = '';\n",
              "          dataTable['output_type'] = 'display_data';\n",
              "          await google.colab.output.renderOutput(dataTable, element);\n",
              "          const docLink = document.createElement('div');\n",
              "          docLink.innerHTML = docLinkHtml;\n",
              "          element.appendChild(docLink);\n",
              "        }\n",
              "      </script>\n",
              "    </div>\n",
              "  </div>\n",
              "  "
            ]
          },
          "metadata": {},
          "execution_count": 25
        }
      ]
    },
    {
      "cell_type": "code",
      "source": [
        "# Airbnb Total Amount Due from 2019 Thru 2022\n",
        "print('From 2019 thru 2022 the total amount of taxes collected by Montgomery county from Airbnb is:', round(dfsumy2['Total Amount Due'].sum(),2))"
      ],
      "metadata": {
        "colab": {
          "base_uri": "https://localhost:8080/"
        },
        "id": "2qgqe8skvXiv",
        "outputId": "bfd7e2d7-84cb-4d3a-cec9-bc66d945af97"
      },
      "execution_count": null,
      "outputs": [
        {
          "output_type": "stream",
          "name": "stdout",
          "text": [
            "From 2019 thru 2022 the total amount of taxes collected by Montgomery county from Airbnb is: 2798074.1\n"
          ]
        }
      ]
    },
    {
      "cell_type": "code",
      "source": [
        "dfsumy2.sort_values(by=['Year'],ascending = True).plot(kind=\"bar\", edgecolor='black', color='orange')\n",
        "\n",
        "ax = plt.gca()\n",
        "ax.set_facecolor(\"#1f77b4\")\n",
        "ax.patch.set_alpha(1.0)\n",
        "\n",
        "plt.suptitle(\"Montgomery County - Hotel Tax From Airbnb\",fontsize=18, y=1, fontweight='bold', color='red')\n",
        "plt.title(\"2019 - 2022\", fontsize = 18, fontweight='bold', color ='red' )\n",
        "plt.ylabel(\"Total Amount Due in Million ($)\", fontweight='bold',fontsize=18, color ='red')\n",
        "plt.legend(loc='center left', bbox_to_anchor=(1, 0.5))\n",
        "plt.grid(False)\n",
        "plt.show()"
      ],
      "metadata": {
        "colab": {
          "base_uri": "https://localhost:8080/",
          "height": 824
        },
        "id": "WTjc5GWSVtlb",
        "outputId": "b991edbb-57e4-4203-f4fe-23ae4caa364d"
      },
      "execution_count": null,
      "outputs": [
        {
          "output_type": "display_data",
          "data": {
            "text/plain": [
              "<Figure size 1400x800 with 1 Axes>"
            ],
            "image/png": "[encoded data removed]"
          },
          "metadata": {}
        }
      ]
    },
    {
      "cell_type": "markdown",
      "source": [
        "The above map does not show any surprises.  Taxes revenue from Airbnb in Montgomery county fell across Montgomery County, MD to about 42%."
      ],
      "metadata": {
        "id": "btmbgalSttzO"
      }
    },
    {
      "cell_type": "markdown",
      "source": [
        "# **Were there any hotels that went out of business during the pandemic?** \n",
        "# **Were there any new hotels that were added during the pandemic?** "
      ],
      "metadata": {
        "id": "4Xfjv6-IDBlk"
      }
    },
    {
      "cell_type": "code",
      "source": [
        "#First let's create a dataframe with all the hotels that existed prior the pandemic\n",
        "df2019=df[df[\"Year\"] == 2019] \n",
        "df2019['Name'].nunique()\n"
      ],
      "metadata": {
        "colab": {
          "base_uri": "https://localhost:8080/"
        },
        "id": "Ce6h1yDhDYDN",
        "outputId": "137d7e5b-07be-438c-ccf0-7e1c3afa026e"
      },
      "execution_count": null,
      "outputs": [
        {
          "output_type": "execute_result",
          "data": {
            "text/plain": [
              "96"
            ]
          },
          "metadata": {},
          "execution_count": 28
        }
      ]
    },
    {
      "cell_type": "code",
      "source": [
        "list(set(df2019['Name']))"
      ],
      "metadata": {
        "id": "QEXTrfrWIcKj",
        "colab": {
          "base_uri": "https://localhost:8080/"
        },
        "outputId": "60d5a8c6-c4df-475e-fc45-620c34a62e77"
      },
      "execution_count": null,
      "outputs": [
        {
          "output_type": "execute_result",
          "data": {
            "text/plain": [
              "['Courtyard by Marriott Silver Spring #311F1',\n",
              " 'Island Hospitality Management LLC - Residence Inn Gaithersburg',\n",
              " 'GAI Enterprises, LLC. DBA - Motel 6',\n",
              " 'ELSS LLC',\n",
              " 'Agoda International USA LLC',\n",
              " 'Homewood Suites',\n",
              " 'Interim Homes',\n",
              " 'A-TBC Bethesda Owner, LLC dba Doubletree Bethesda Hotel',\n",
              " 'RowanLark at Headwaters Farm',\n",
              " 'Silver Hospitality Inc',\n",
              " 'Orbitz, LLC',\n",
              " 'Best Western Hotel',\n",
              " 'Jane Hall',\n",
              " 'Nicole Schmitt',\n",
              " 'EXTENDED STAY AMERICA #2528',\n",
              " 'Chevy Chase Club',\n",
              " 'Motel 6 #1489',\n",
              " 'Bethesda Marriott #33728',\n",
              " 'Bedford Court',\n",
              " '5520 Wisconsin Assoc',\n",
              " 'TownePlace Suites at Gaithersburg',\n",
              " 'DHM Rockville LLC',\n",
              " 'Aramark Sports & Entertainment Services, LLC',\n",
              " 'Travelscape, LLC',\n",
              " 'Home 2 Suites by Hilton Silver Spring',\n",
              " 'Maryland National Capital Park & Planning Commission',\n",
              " 'Courtyard by Marriott Gaithersburg Washingtonian Center #311DQ',\n",
              " 'EXTENDED STAY AMERICA #9662',\n",
              " 'Airbnb Inc',\n",
              " 'Hotel Tonight, LLC',\n",
              " 'Tusculum Farm Enterprises, LLC',\n",
              " 'Hilton Garden Inn Silver Spring',\n",
              " 'Worldwide Corporate Housing LP',\n",
              " 'TripAdvisor LLC',\n",
              " 'Robert Bishop',\n",
              " 'Gaithersburg Marriott Washingtonian Center #337K6',\n",
              " 'Residence Inn by Marriott Silver Spring #57188',\n",
              " 'Jamie Winestone',\n",
              " 'Bethesda Marriott Suites #337P9',\n",
              " 'Churchill Corporate Services Inc',\n",
              " 'Richard & Varda Nowitz',\n",
              " 'Hotwire, Inc.',\n",
              " 'AIL Hospitality LLC dba Radisson Hotel',\n",
              " 'EXTENDED STAY AMERICA #2529',\n",
              " 'RGALTD T/A Comfort Inn',\n",
              " 'Nancy Cedar',\n",
              " 'AIL Hospitality LLC dba Sleep Inn Hotel',\n",
              " 'Holiday Inn Gaithersburg',\n",
              " 'HomeAway.com, Inc.',\n",
              " 'Courtyard by Marriott Rockville #311D1',\n",
              " 'Karuna Skariah',\n",
              " 'American Inn Bethesda',\n",
              " 'Hampton Inn Silver Spring',\n",
              " 'Eden Park Guest House, LLC',\n",
              " 'TMG II BETHESDA HOTEL OPERATING COMPANY LLC',\n",
              " 'Short Term Residential Rental',\n",
              " 'Hampshire Lodging Inc',\n",
              " 'SpringHill Suites by Marriott Gaithersburg #196A3',\n",
              " 'Hampton Inn & Suites',\n",
              " 'Residence Inn by Marriott Bethesda Downtown #57136',\n",
              " 'EXTENDED STAY AMERICA #9663',\n",
              " 'Charles Oliver',\n",
              " 'BW RRI III',\n",
              " 'Bethesda North Marriott Hotel & Conference Center #337V9',\n",
              " 'Dini Sari Djalal',\n",
              " 'ANNESWAY CONSULTING GROUP, LLC',\n",
              " 'Homewood Suites Silver Spring',\n",
              " 'Holiday Inn Express Germantown',\n",
              " 'Hotels.com, L.P.',\n",
              " 'Duball Rockville LLC dba Cambria Rockville',\n",
              " 'Egencia LLC',\n",
              " 'Basic Overnight Quarters LLC',\n",
              " 'EXTENDED STAY AMERICA #2504',\n",
              " 'Global Serviced Apartments LLC',\n",
              " 'Island Hospitality Management - Sheraton Rockville Hotel',\n",
              " 'Bethesda Hotel Associates LLC',\n",
              " 'Fallsgrove Hotel Associates LLC',\n",
              " 'Pauline Rubinstein',\n",
              " 'Hoft Properties, LLC DBA Even Hotel Rockville',\n",
              " 'Nonye Uddoh',\n",
              " 'Jennifer A. Lukas',\n",
              " 'airbnb',\n",
              " 'Courtyard by Marriott - Silver Spring Downtown',\n",
              " 'Gaithersburg Operator, LLC',\n",
              " 'Priceline.com LLC',\n",
              " 'Patrick Edward Chapman',\n",
              " 'Fairfield Inn & Suites - Germantown',\n",
              " 'KENWOOD GOLF & COUNTRY CLUB',\n",
              " 'MAA',\n",
              " 'Canopy by Hilton-Washington DC-North Bethesda',\n",
              " 'Doubletree Hotel',\n",
              " 'Sheraton Silver Spring Hotel',\n",
              " 'Rocket Travel Inc.',\n",
              " 'Amani Elkassabany',\n",
              " 'Congressional Country Club',\n",
              " 'Rockville Hospitality, LLC']"
            ]
          },
          "metadata": {},
          "execution_count": 29
        }
      ]
    },
    {
      "cell_type": "code",
      "source": [
        "#Create a dataframe with all hotels that existed in 2020\n",
        "df2020=df[df[\"Year\"] == 2020] \n",
        "df2020['Name'].nunique()"
      ],
      "metadata": {
        "colab": {
          "base_uri": "https://localhost:8080/"
        },
        "id": "B_2rexkmFIlb",
        "outputId": "b2773032-51b1-4bdd-bd01-309c39dc4386"
      },
      "execution_count": null,
      "outputs": [
        {
          "output_type": "execute_result",
          "data": {
            "text/plain": [
              "83"
            ]
          },
          "metadata": {},
          "execution_count": 30
        }
      ]
    },
    {
      "cell_type": "code",
      "source": [
        "list(set(df2020['Name']))"
      ],
      "metadata": {
        "id": "LP4yOdcyKkTK",
        "colab": {
          "base_uri": "https://localhost:8080/"
        },
        "outputId": "92e4043c-d5fc-483e-db7a-45587c7bccf8"
      },
      "execution_count": null,
      "outputs": [
        {
          "output_type": "execute_result",
          "data": {
            "text/plain": [
              "['Courtyard by Marriott Silver Spring #311F1',\n",
              " 'Khatuna Khvichia',\n",
              " 'Island Hospitality Management LLC - Residence Inn Gaithersburg',\n",
              " 'GAI Enterprises, LLC. DBA - Motel 6',\n",
              " 'ELSS LLC',\n",
              " 'Agoda International USA LLC',\n",
              " 'Interim Homes',\n",
              " 'A-TBC Bethesda Owner, LLC dba Doubletree Bethesda Hotel',\n",
              " 'RowanLark at Headwaters Farm',\n",
              " 'Silver Hospitality Inc',\n",
              " 'Orbitz, LLC',\n",
              " 'EXTENDED STAY AMERICA #2528',\n",
              " 'Chevy Chase Club',\n",
              " 'Bethesda Marriott #33728',\n",
              " 'Bedford Court',\n",
              " '5520 Wisconsin Assoc',\n",
              " 'TownePlace Suites at Gaithersburg',\n",
              " 'BEST WESTERN PLUS ROCKVILLE',\n",
              " 'DHM Rockville LLC',\n",
              " 'Aramark Sports & Entertainment Services, LLC',\n",
              " 'Courtyard by Marriott Gaithersburg Washingtonian Center #311DQ',\n",
              " 'Home 2 Suites by Hilton Silver Spring',\n",
              " 'EXTENDED STAY AMERICA #9662',\n",
              " 'Travelscape, LLC',\n",
              " 'Maryland National Capital Park & Planning Commission',\n",
              " 'Airbnb Inc',\n",
              " 'Hotel Tonight, LLC',\n",
              " 'Tusculum Farm Enterprises, LLC',\n",
              " 'Hilton Garden Inn Silver Spring',\n",
              " 'Worldwide Corporate Housing LP',\n",
              " 'TripAdvisor LLC',\n",
              " 'Gaithersburg Marriott Washingtonian Center #337K6',\n",
              " 'patricia mirsky',\n",
              " 'Residence Inn by Marriott Silver Spring #57188',\n",
              " 'Bethesda Marriott Suites #337P9',\n",
              " 'Churchill Corporate Services Inc',\n",
              " 'Elizabeth Canterbury Homeowner',\n",
              " 'Hotwire, Inc.',\n",
              " 'AIL Hospitality LLC dba Radisson Hotel',\n",
              " 'EXTENDED STAY AMERICA #2529',\n",
              " 'RGALTD T/A Comfort Inn',\n",
              " 'AIL Hospitality LLC dba Sleep Inn Hotel',\n",
              " 'Holiday Inn Gaithersburg',\n",
              " 'HomeAway.com, Inc.',\n",
              " 'Courtyard by Marriott Rockville #311D1',\n",
              " 'American Inn Bethesda',\n",
              " 'Wellness Hospitality',\n",
              " 'Hampton Inn Silver Spring',\n",
              " 'TMG II BETHESDA HOTEL OPERATING COMPANY LLC',\n",
              " 'Hampshire Lodging Inc',\n",
              " 'SpringHill Suites by Marriott Gaithersburg #196A3',\n",
              " 'Hampton Inn & Suites',\n",
              " 'Residence Inn by Marriott Bethesda Downtown #57136',\n",
              " 'EXTENDED STAY AMERICA #9663',\n",
              " 'BW RRI III',\n",
              " 'Bethesda North Marriott Hotel & Conference Center #337V9',\n",
              " 'Dini Sari Djalal',\n",
              " 'Homewood Suites Silver Spring',\n",
              " 'Holiday Inn Express Germantown',\n",
              " 'Hotels.com, L.P.',\n",
              " 'Duball Rockville LLC dba Cambria Rockville',\n",
              " 'Egencia LLC',\n",
              " 'Basic Overnight Quarters LLC',\n",
              " 'EXTENDED STAY AMERICA #2504',\n",
              " 'Global Serviced Apartments LLC',\n",
              " 'Island Hospitality Management - Sheraton Rockville Hotel',\n",
              " 'Michael Morris',\n",
              " 'Bethesda Hotel Associates LLC',\n",
              " 'Fallsgrove Hotel Associates LLC',\n",
              " 'Hoft Properties, LLC DBA Even Hotel Rockville',\n",
              " 'Courtyard by Marriott - Silver Spring Downtown',\n",
              " 'Gaithersburg Operator, LLC',\n",
              " 'Priceline.com LLC',\n",
              " 'Patrick Edward Chapman',\n",
              " 'Fairfield Inn & Suites - Germantown',\n",
              " 'Renoca',\n",
              " 'MAA',\n",
              " 'Canopy by Hilton-Washington DC-North Bethesda',\n",
              " 'Doubletree Hotel',\n",
              " 'Sheraton Silver Spring Hotel',\n",
              " 'Rocket Travel Inc.',\n",
              " 'Congressional Country Club',\n",
              " 'Rockville Hospitality, LLC']"
            ]
          },
          "metadata": {},
          "execution_count": 31
        }
      ]
    },
    {
      "cell_type": "code",
      "source": [
        "#Create a dataframe with all hotels that existed in 2020\n",
        "df2021=df[df[\"Year\"] == 2021] \n",
        "df2021['Name'].nunique()"
      ],
      "metadata": {
        "colab": {
          "base_uri": "https://localhost:8080/"
        },
        "id": "KWp6OjIaGeCz",
        "outputId": "908745bb-8aeb-4b4a-b16a-da8c6b4a2bee"
      },
      "execution_count": null,
      "outputs": [
        {
          "output_type": "execute_result",
          "data": {
            "text/plain": [
              "85"
            ]
          },
          "metadata": {},
          "execution_count": 32
        }
      ]
    },
    {
      "cell_type": "code",
      "source": [
        "list(set(df2021['Name']))"
      ],
      "metadata": {
        "id": "rohdEhcyMb5m",
        "colab": {
          "base_uri": "https://localhost:8080/"
        },
        "outputId": "036f6594-5d18-4273-d4f5-0d274e8d35fc"
      },
      "execution_count": null,
      "outputs": [
        {
          "output_type": "execute_result",
          "data": {
            "text/plain": [
              "['Courtyard by Marriott Silver Spring #311F1',\n",
              " 'Khatuna Khvichia',\n",
              " 'Island Hospitality Management LLC - Residence Inn Gaithersburg',\n",
              " 'GAI Enterprises, LLC. DBA - Motel 6',\n",
              " 'ELSS LLC',\n",
              " 'Agoda International USA LLC',\n",
              " 'Interim Homes',\n",
              " 'A-TBC Bethesda Owner, LLC dba Doubletree Bethesda Hotel',\n",
              " 'RowanLark at Headwaters Farm',\n",
              " 'Silver Hospitality Inc',\n",
              " 'Orbitz, LLC',\n",
              " 'Des Affiches Bed and Breakfast',\n",
              " 'EXTENDED STAY AMERICA #2528',\n",
              " 'Chevy Chase Club',\n",
              " 'Bethesda Marriott #33728',\n",
              " 'Bedford Court',\n",
              " 'TownePlace Suites at Gaithersburg',\n",
              " 'BEST WESTERN PLUS ROCKVILLE',\n",
              " 'DHM Rockville LLC',\n",
              " 'Aramark Sports & Entertainment Services, LLC',\n",
              " 'Courtyard by Marriott Gaithersburg Washingtonian Center #311DQ',\n",
              " 'Home 2 Suites by Hilton Silver Spring',\n",
              " 'Maryland National Capital Park & Planning Commission',\n",
              " 'Travelscape, LLC',\n",
              " 'EXTENDED STAY AMERICA #9662',\n",
              " 'Airbnb Inc',\n",
              " 'Hotel Tonight, LLC',\n",
              " 'Tusculum Farm Enterprises, LLC',\n",
              " 'Hilton Garden Inn Silver Spring',\n",
              " 'TripAdvisor LLC',\n",
              " 'Gaithersburg Marriott Washingtonian Center #337K6',\n",
              " 'Residence Inn by Marriott Silver Spring #57188',\n",
              " 'Churchill Corporate Services Inc',\n",
              " 'Bethesda Marriott Suites #337P9',\n",
              " 'Hotwire, Inc.',\n",
              " 'AIL Hospitality LLC dba Radisson Hotel',\n",
              " 'EXTENDED STAY AMERICA #2529',\n",
              " 'RGALTD T/A Comfort Inn',\n",
              " 'AIL Hospitality LLC dba Sleep Inn Hotel',\n",
              " 'Holiday Inn Gaithersburg',\n",
              " 'HomeAway.com, Inc.',\n",
              " 'Courtyard by Marriott Rockville #311D1',\n",
              " 'T-R 1775 Rockville Owner LLC dba Rockville Even Hotel',\n",
              " 'American Inn Bethesda',\n",
              " 'Courtyard by Marriott Bethesda/Chevy Chase',\n",
              " 'Hampton Inn Silver Spring',\n",
              " 'Cambria Hotel Rockville',\n",
              " 'TMG II BETHESDA HOTEL OPERATING COMPANY LLC',\n",
              " 'SpringHill Suites by Marriott Gaithersburg #196A3',\n",
              " 'Hampshire Lodging Inc',\n",
              " 'Daniel Greenspan Airbnb',\n",
              " 'Hampton Inn & Suites',\n",
              " 'EXTENDED STAY AMERICA #9663',\n",
              " 'Residence Inn by Marriott Bethesda Downtown #57136',\n",
              " 'BW RRI III',\n",
              " 'Bethesda North Marriott Hotel & Conference Center #337V9',\n",
              " 'Dini Sari Djalal',\n",
              " 'Homewood Suites Silver Spring',\n",
              " 'Holiday Inn Express Germantown',\n",
              " 'INK Lessee, LLC DBA Sheraton Rockville',\n",
              " 'Hotels.com, L.P.',\n",
              " 'Duball Rockville LLC dba Cambria Rockville',\n",
              " 'Egencia LLC',\n",
              " 'Basic Overnight Quarters LLC',\n",
              " 'EXTENDED STAY AMERICA #2504',\n",
              " 'Global Serviced Apartments LLC',\n",
              " 'Island Hospitality Management - Sheraton Rockville Hotel',\n",
              " 'Michael Morris',\n",
              " 'Bethesda Hotel Associates LLC',\n",
              " 'Fallsgrove Hotel Associates LLC',\n",
              " 'Hoft Properties, LLC DBA Even Hotel Rockville',\n",
              " 'Courtyard by Marriott - Silver Spring Downtown',\n",
              " 'Gaithersburg Operator, LLC',\n",
              " 'Priceline.com LLC',\n",
              " 'Patrick Edward Chapman',\n",
              " 'Fairfield Inn & Suites - Germantown',\n",
              " 'The Oaks',\n",
              " 'MAA',\n",
              " 'Canopy by Hilton-Washington DC-North Bethesda',\n",
              " 'Doubletree Hotel',\n",
              " 'Sheraton Silver Spring Hotel',\n",
              " 'Rocket Travel Inc.',\n",
              " 'LCOF Silver Spring Operating, LLC',\n",
              " 'Congressional Country Club',\n",
              " 'Rockville Hospitality, LLC']"
            ]
          },
          "metadata": {},
          "execution_count": 33
        }
      ]
    },
    {
      "cell_type": "code",
      "source": [
        "#Create a dataframe with all hotels that existed in 2020\n",
        "df2022=df[df[\"Year\"] == 2022] \n",
        "df2022['Name'].nunique()"
      ],
      "metadata": {
        "colab": {
          "base_uri": "https://localhost:8080/"
        },
        "id": "u96k3N0dGsfw",
        "outputId": "9bb4b327-d2ca-4567-83d7-2e8e4912ce20"
      },
      "execution_count": null,
      "outputs": [
        {
          "output_type": "execute_result",
          "data": {
            "text/plain": [
              "84"
            ]
          },
          "metadata": {},
          "execution_count": 34
        }
      ]
    },
    {
      "cell_type": "code",
      "source": [
        "list(set(df2022['Name']))"
      ],
      "metadata": {
        "id": "L2H6fUjQRfSi",
        "colab": {
          "base_uri": "https://localhost:8080/"
        },
        "outputId": "9c8f9220-dbf1-4b52-8ac7-4604f4d39c9c"
      },
      "execution_count": null,
      "outputs": [
        {
          "output_type": "execute_result",
          "data": {
            "text/plain": [
              "['Courtyard by Marriott Silver Spring #311F1',\n",
              " 'Annika Hamann',\n",
              " 'GAI Enterprises, LLC. DBA - Motel 6',\n",
              " 'ELSS LLC',\n",
              " 'Headwaters Farm',\n",
              " 'Moonshot Global',\n",
              " 'Agoda International USA LLC',\n",
              " 'EVOLVE VACATION RENTAL NETWORK INC',\n",
              " 'Viktoria Ana D Partalozova',\n",
              " 'Interim Homes',\n",
              " 'A-TBC Bethesda Owner, LLC dba Doubletree Bethesda Hotel',\n",
              " 'RowanLark at Headwaters Farm',\n",
              " 'Silver Hospitality Inc',\n",
              " 'EXTENDED STAY AMERICA #2528',\n",
              " 'Chevy Chase Club',\n",
              " 'Bethesda Marriott #33728',\n",
              " 'Bedford Court',\n",
              " 'TownePlace Suites at Gaithersburg',\n",
              " 'BEST WESTERN PLUS ROCKVILLE',\n",
              " 'DHM Rockville LLC',\n",
              " 'Aramark Sports & Entertainment Services, LLC',\n",
              " 'Travelscape, LLC',\n",
              " 'Home 2 Suites by Hilton Silver Spring',\n",
              " 'EXTENDED STAY AMERICA #9662',\n",
              " 'Courtyard by Marriott Gaithersburg Washingtonian Center #311DQ',\n",
              " 'Maryland National Capital Park & Planning Commission',\n",
              " 'Airbnb Inc',\n",
              " 'Hotel Tonight, LLC',\n",
              " 'Tusculum Farm Enterprises, LLC',\n",
              " 'Hilton Garden Inn Silver Spring',\n",
              " 'TripAdvisor LLC',\n",
              " 'Gaithersburg Marriott Washingtonian Center #337K6',\n",
              " 'Residence Inn by Marriott Silver Spring #57188',\n",
              " 'Churchill Corporate Services Inc',\n",
              " 'Bethesda Marriott Suites #337P9',\n",
              " 'Hotwire, Inc.',\n",
              " 'AIL Hospitality LLC dba Radisson Hotel',\n",
              " 'EXTENDED STAY AMERICA #2529',\n",
              " 'RGALTD T/A Comfort Inn',\n",
              " 'AIL Hospitality LLC dba Sleep Inn Hotel',\n",
              " 'Holiday Inn Gaithersburg',\n",
              " 'HomeAway.com, Inc.',\n",
              " 'Courtyard by Marriott Rockville #311D1',\n",
              " 'T-R 1775 Rockville Owner LLC dba Rockville Even Hotel',\n",
              " 'American Inn Bethesda',\n",
              " 'Courtyard by Marriott Bethesda/Chevy Chase',\n",
              " 'Grand Prix Fixed Lessee LLC DBA RI Gaithersburg',\n",
              " 'Cambria Hotel Rockville',\n",
              " 'TMG II BETHESDA HOTEL OPERATING COMPANY LLC',\n",
              " 'SpringHill Suites by Marriott Gaithersburg #196A3',\n",
              " 'Hampshire Lodging Inc',\n",
              " 'Hampton Inn & Suites',\n",
              " 'Marriott Bethesda Downtown #33816',\n",
              " 'EXTENDED STAY AMERICA #9663',\n",
              " 'Residence Inn by Marriott Bethesda Downtown #57136',\n",
              " 'BW RRI III',\n",
              " 'Bethesda North Marriott Hotel & Conference Center #337V9',\n",
              " 'Holiday Inn Express Germantown',\n",
              " 'INK Lessee, LLC DBA Sheraton Rockville',\n",
              " 'Hotels.com, L.P.',\n",
              " '7359 Wisconsin Avenue, LLC',\n",
              " 'Sage Client 227 LLC',\n",
              " 'Basic Overnight Quarters LLC',\n",
              " 'EXTENDED STAY AMERICA #2504',\n",
              " 'Global Serviced Apartments LLC',\n",
              " 'Bethesda Hotel Associates LLC',\n",
              " 'Fallsgrove Hotel Associates LLC',\n",
              " 'Courtyard by Marriott - Silver Spring Downtown',\n",
              " 'Gaithersburg Operator, LLC',\n",
              " 'United Corporate Housing',\n",
              " 'Priceline.com LLC',\n",
              " 'Fairfield Inn & Suites - Germantown',\n",
              " 'MAA',\n",
              " 'Canopy by Hilton-Washington DC-North Bethesda',\n",
              " 'Doubletree Hotel',\n",
              " 'Sheraton Silver Spring Hotel',\n",
              " 'Rocket Travel Inc.',\n",
              " 'Elizabeth Burgess',\n",
              " 'Sophia Jafrul',\n",
              " 'LCOF Silver Spring Operating, LLC',\n",
              " 'Congressional Country Club',\n",
              " 'Rockville Hospitality, LLC',\n",
              " 'The Bethesdan Hotel',\n",
              " 'Richard Rodrigues']"
            ]
          },
          "metadata": {},
          "execution_count": 35
        }
      ]
    },
    {
      "cell_type": "markdown",
      "source": [
        "*Hotels that disapeared in 2020*"
      ],
      "metadata": {
        "id": "eybyzwmSRnA-"
      }
    },
    {
      "cell_type": "code",
      "source": [
        "remaininglist_names = list(set(df2019['Name']) - set(df2020['Name']))\n",
        "remaininglist_names"
      ],
      "metadata": {
        "colab": {
          "base_uri": "https://localhost:8080/"
        },
        "id": "XkxV4KHRG0KZ",
        "outputId": "4f572b99-e8f8-4cb3-93d5-b3cb38f576b2"
      },
      "execution_count": null,
      "outputs": [
        {
          "output_type": "execute_result",
          "data": {
            "text/plain": [
              "['Short Term Residential Rental',\n",
              " 'Pauline Rubinstein',\n",
              " 'Nonye Uddoh',\n",
              " 'Charles Oliver',\n",
              " 'Jennifer A. Lukas',\n",
              " 'Robert Bishop',\n",
              " 'ANNESWAY CONSULTING GROUP, LLC',\n",
              " 'airbnb',\n",
              " 'Homewood Suites',\n",
              " 'Jamie Winestone',\n",
              " 'Richard & Varda Nowitz',\n",
              " 'Best Western Hotel',\n",
              " 'Jane Hall',\n",
              " 'Nicole Schmitt',\n",
              " 'KENWOOD GOLF & COUNTRY CLUB',\n",
              " 'Nancy Cedar',\n",
              " 'Motel 6 #1489',\n",
              " 'Amani Elkassabany',\n",
              " 'Karuna Skariah',\n",
              " 'Eden Park Guest House, LLC']"
            ]
          },
          "metadata": {},
          "execution_count": 36
        }
      ]
    },
    {
      "cell_type": "markdown",
      "source": [
        "*Hotels that were added in 2020*"
      ],
      "metadata": {
        "id": "KMoZInDWSALQ"
      }
    },
    {
      "cell_type": "code",
      "source": [
        "remaininglist_namesA = list(set(df2020['Name']) - set(df2019['Name']))\n",
        "remaininglist_namesA"
      ],
      "metadata": {
        "colab": {
          "base_uri": "https://localhost:8080/"
        },
        "id": "TbUX5wKYSUW5",
        "outputId": "747976ee-b254-4ea8-e55b-11ce373a5dfe"
      },
      "execution_count": null,
      "outputs": [
        {
          "output_type": "execute_result",
          "data": {
            "text/plain": [
              "['Renoca',\n",
              " 'Elizabeth Canterbury Homeowner',\n",
              " 'Khatuna Khvichia',\n",
              " 'Wellness Hospitality',\n",
              " 'Michael Morris',\n",
              " 'BEST WESTERN PLUS ROCKVILLE',\n",
              " 'patricia mirsky']"
            ]
          },
          "metadata": {},
          "execution_count": 37
        }
      ]
    },
    {
      "cell_type": "markdown",
      "source": [
        "*Hotels that disapeared in 2021*"
      ],
      "metadata": {
        "id": "3qhYEZNxWLJJ"
      }
    },
    {
      "cell_type": "code",
      "source": [
        "remaininglist_names2 = list(set(df2020['Name']) - set(df2021['Name']))\n",
        "remaininglist_names2"
      ],
      "metadata": {
        "colab": {
          "base_uri": "https://localhost:8080/"
        },
        "id": "u6fzFjAAKO96",
        "outputId": "e49538eb-7bff-4e11-b4ab-6a83f615c681"
      },
      "execution_count": null,
      "outputs": [
        {
          "output_type": "execute_result",
          "data": {
            "text/plain": [
              "['Renoca',\n",
              " 'Elizabeth Canterbury Homeowner',\n",
              " 'Worldwide Corporate Housing LP',\n",
              " '5520 Wisconsin Assoc',\n",
              " 'Wellness Hospitality',\n",
              " 'patricia mirsky']"
            ]
          },
          "metadata": {},
          "execution_count": 38
        }
      ]
    },
    {
      "cell_type": "markdown",
      "source": [
        "*Hotels that were added in 2021*"
      ],
      "metadata": {
        "id": "G-NPPME3WtBJ"
      }
    },
    {
      "cell_type": "code",
      "source": [
        "remaininglist_names2A = list(set(df2021['Name']) - set(df2020['Name']))\n",
        "remaininglist_names2A"
      ],
      "metadata": {
        "colab": {
          "base_uri": "https://localhost:8080/"
        },
        "id": "oL6GIieqWu45",
        "outputId": "544f7076-267e-41a1-901f-a54bc0137b8f"
      },
      "execution_count": null,
      "outputs": [
        {
          "output_type": "execute_result",
          "data": {
            "text/plain": [
              "['Des Affiches Bed and Breakfast',\n",
              " 'Daniel Greenspan Airbnb',\n",
              " 'T-R 1775 Rockville Owner LLC dba Rockville Even Hotel',\n",
              " 'LCOF Silver Spring Operating, LLC',\n",
              " 'Courtyard by Marriott Bethesda/Chevy Chase',\n",
              " 'The Oaks',\n",
              " 'INK Lessee, LLC DBA Sheraton Rockville',\n",
              " 'Cambria Hotel Rockville']"
            ]
          },
          "metadata": {},
          "execution_count": 39
        }
      ]
    },
    {
      "cell_type": "markdown",
      "source": [
        "*Hotels that disapeared in 2022*"
      ],
      "metadata": {
        "id": "0no99sjQe1DZ"
      }
    },
    {
      "cell_type": "code",
      "source": [
        "remaininglist_names3 = list(set(df2021['Name']) - set(df2022['Name']))\n",
        "remaininglist_names3"
      ],
      "metadata": {
        "colab": {
          "base_uri": "https://localhost:8080/"
        },
        "id": "3JYWjbHXL44z",
        "outputId": "312ebe92-e51c-44af-a830-0b9445dda055"
      },
      "execution_count": null,
      "outputs": [
        {
          "output_type": "execute_result",
          "data": {
            "text/plain": [
              "['Des Affiches Bed and Breakfast',\n",
              " 'Homewood Suites Silver Spring',\n",
              " 'The Oaks',\n",
              " 'Duball Rockville LLC dba Cambria Rockville',\n",
              " 'Daniel Greenspan Airbnb',\n",
              " 'Hoft Properties, LLC DBA Even Hotel Rockville',\n",
              " 'Khatuna Khvichia',\n",
              " 'Island Hospitality Management LLC - Residence Inn Gaithersburg',\n",
              " 'Egencia LLC',\n",
              " 'Patrick Edward Chapman',\n",
              " 'Island Hospitality Management - Sheraton Rockville Hotel',\n",
              " 'Orbitz, LLC',\n",
              " 'Dini Sari Djalal',\n",
              " 'Hampton Inn Silver Spring',\n",
              " 'Michael Morris']"
            ]
          },
          "metadata": {},
          "execution_count": 40
        }
      ]
    },
    {
      "cell_type": "markdown",
      "source": [
        "*Hotels that were added in 2022*"
      ],
      "metadata": {
        "id": "mP6zCgjkfGYI"
      }
    },
    {
      "cell_type": "code",
      "source": [
        "remaininglist_names4 = list(set(df2022['Name']) - set(df2021['Name']))\n",
        "remaininglist_names4"
      ],
      "metadata": {
        "colab": {
          "base_uri": "https://localhost:8080/"
        },
        "id": "ycDViuFlP7sK",
        "outputId": "b96bb1e5-8f30-4db1-b197-a119774c7c89"
      },
      "execution_count": null,
      "outputs": [
        {
          "output_type": "execute_result",
          "data": {
            "text/plain": [
              "['Viktoria Ana D Partalozova',\n",
              " 'Marriott Bethesda Downtown #33816',\n",
              " '7359 Wisconsin Avenue, LLC',\n",
              " 'Annika Hamann',\n",
              " 'Headwaters Farm',\n",
              " 'Sage Client 227 LLC',\n",
              " 'United Corporate Housing',\n",
              " 'Moonshot Global',\n",
              " 'The Bethesdan Hotel',\n",
              " 'Grand Prix Fixed Lessee LLC DBA RI Gaithersburg',\n",
              " 'Richard Rodrigues',\n",
              " 'Elizabeth Burgess',\n",
              " 'Sophia Jafrul',\n",
              " 'EVOLVE VACATION RENTAL NETWORK INC']"
            ]
          },
          "metadata": {},
          "execution_count": 41
        }
      ]
    },
    {
      "cell_type": "markdown",
      "source": [
        "# **What are the hotels that paid the most penalties from 2019 to 2022?**"
      ],
      "metadata": {
        "id": "YLHkTQ0QdKrZ"
      }
    },
    {
      "cell_type": "code",
      "source": [
        "dfpenalty = dfsum.nlargest(10, ['Penalty']).groupby('Name').sum()\n",
        "#removcol0= ['Month','Quarter','Year']\n",
        "#df10= df10.drop(columns=removcol0)\n",
        "dfpenalty.head(10)"
      ],
      "metadata": {
        "colab": {
          "base_uri": "https://localhost:8080/",
          "height": 394
        },
        "id": "zl-fOBhZdp3S",
        "outputId": "e60ca3df-2885-491c-cef8-e4b27896b968"
      },
      "execution_count": null,
      "outputs": [
        {
          "output_type": "execute_result",
          "data": {
            "text/plain": [
              "                                        Taxable Amount    Tax Due  Interest  \\\n",
              "Name                                                                          \n",
              "AIL Hospitality LLC dba Radisson Hotel    7,323,949.88 512,676.27    282.76   \n",
              "Best Western Hotel                        1,458,177.03 102,072.36  3,199.26   \n",
              "Fairfield Inn & Suites - Germantown       8,157,453.61 571,021.51    163.45   \n",
              "GAI Enterprises, LLC. DBA - Motel 6       5,568,450.63 389,791.32    189.23   \n",
              "Hampton Inn & Suites                     10,424,926.92 729,744.65    188.82   \n",
              "Homewood Suites Silver Spring             5,169,158.94 361,840.98    200.09   \n",
              "INK Lessee, LLC DBA Sheraton Rockville    4,053,322.07 283,732.45 13,337.21   \n",
              "RGALTD T/A Comfort Inn                    7,601,030.78 532,072.01    449.75   \n",
              "Rockville Hospitality, LLC               10,667,457.74 746,721.78    185.15   \n",
              "The Bethesdan Hotel                       6,601,278.58 462,089.45    573.78   \n",
              "\n",
              "                                         Penalty  Total Amount Due  \n",
              "Name                                                                \n",
              "AIL Hospitality LLC dba Radisson Hotel  1,413.82        514,372.87  \n",
              "Best Western Hotel                     11,720.79        116,992.45  \n",
              "Fairfield Inn & Suites - Germantown       817.25        572,002.22  \n",
              "GAI Enterprises, LLC. DBA - Motel 6       946.20        390,926.76  \n",
              "Hampton Inn & Suites                      944.13        730,877.61  \n",
              "Homewood Suites Silver Spring           1,000.50        363,041.59  \n",
              "INK Lessee, LLC DBA Sheraton Rockville 37,871.97        334,941.64  \n",
              "RGALTD T/A Comfort Inn                  2,248.78        534,770.55  \n",
              "Rockville Hospitality, LLC                925.75        747,832.69  \n",
              "The Bethesdan Hotel                     2,868.92        465,532.15  "
            ],
            "text/html": [
              "\n",
              "  <div id=\"df-d9ec3b55-1dd6-490f-bd6b-5e8d87492f8e\">\n",
              "    <div class=\"colab-df-container\">\n",
              "      <div>\n",
              "<style scoped>\n",
              "    .dataframe tbody tr th:only-of-type {\n",
              "        vertical-align: middle;\n",
              "    }\n",
              "\n",
              "    .dataframe tbody tr th {\n",
              "        vertical-align: top;\n",
              "    }\n",
              "\n",
              "    .dataframe thead th {\n",
              "        text-align: right;\n",
              "    }\n",
              "</style>\n",
              "<table border=\"1\" class=\"dataframe\">\n",
              "  <thead>\n",
              "    <tr style=\"text-align: right;\">\n",
              "      <th></th>\n",
              "      <th>Taxable Amount</th>\n",
              "      <th>Tax Due</th>\n",
              "      <th>Interest</th>\n",
              "      <th>Penalty</th>\n",
              "      <th>Total Amount Due</th>\n",
              "    </tr>\n",
              "    <tr>\n",
              "      <th>Name</th>\n",
              "      <th></th>\n",
              "      <th></th>\n",
              "      <th></th>\n",
              "      <th></th>\n",
              "      <th></th>\n",
              "    </tr>\n",
              "  </thead>\n",
              "  <tbody>\n",
              "    <tr>\n",
              "      <th>AIL Hospitality LLC dba Radisson Hotel</th>\n",
              "      <td>7,323,949.88</td>\n",
              "      <td>512,676.27</td>\n",
              "      <td>282.76</td>\n",
              "      <td>1,413.82</td>\n",
              "      <td>514,372.87</td>\n",
              "    </tr>\n",
              "    <tr>\n",
              "      <th>Best Western Hotel</th>\n",
              "      <td>1,458,177.03</td>\n",
              "      <td>102,072.36</td>\n",
              "      <td>3,199.26</td>\n",
              "      <td>11,720.79</td>\n",
              "      <td>116,992.45</td>\n",
              "    </tr>\n",
              "    <tr>\n",
              "      <th>Fairfield Inn &amp; Suites - Germantown</th>\n",
              "      <td>8,157,453.61</td>\n",
              "      <td>571,021.51</td>\n",
              "      <td>163.45</td>\n",
              "      <td>817.25</td>\n",
              "      <td>572,002.22</td>\n",
              "    </tr>\n",
              "    <tr>\n",
              "      <th>GAI Enterprises, LLC. DBA - Motel 6</th>\n",
              "      <td>5,568,450.63</td>\n",
              "      <td>389,791.32</td>\n",
              "      <td>189.23</td>\n",
              "      <td>946.20</td>\n",
              "      <td>390,926.76</td>\n",
              "    </tr>\n",
              "    <tr>\n",
              "      <th>Hampton Inn &amp; Suites</th>\n",
              "      <td>10,424,926.92</td>\n",
              "      <td>729,744.65</td>\n",
              "      <td>188.82</td>\n",
              "      <td>944.13</td>\n",
              "      <td>730,877.61</td>\n",
              "    </tr>\n",
              "    <tr>\n",
              "      <th>Homewood Suites Silver Spring</th>\n",
              "      <td>5,169,158.94</td>\n",
              "      <td>361,840.98</td>\n",
              "      <td>200.09</td>\n",
              "      <td>1,000.50</td>\n",
              "      <td>363,041.59</td>\n",
              "    </tr>\n",
              "    <tr>\n",
              "      <th>INK Lessee, LLC DBA Sheraton Rockville</th>\n",
              "      <td>4,053,322.07</td>\n",
              "      <td>283,732.45</td>\n",
              "      <td>13,337.21</td>\n",
              "      <td>37,871.97</td>\n",
              "      <td>334,941.64</td>\n",
              "    </tr>\n",
              "    <tr>\n",
              "      <th>RGALTD T/A Comfort Inn</th>\n",
              "      <td>7,601,030.78</td>\n",
              "      <td>532,072.01</td>\n",
              "      <td>449.75</td>\n",
              "      <td>2,248.78</td>\n",
              "      <td>534,770.55</td>\n",
              "    </tr>\n",
              "    <tr>\n",
              "      <th>Rockville Hospitality, LLC</th>\n",
              "      <td>10,667,457.74</td>\n",
              "      <td>746,721.78</td>\n",
              "      <td>185.15</td>\n",
              "      <td>925.75</td>\n",
              "      <td>747,832.69</td>\n",
              "    </tr>\n",
              "    <tr>\n",
              "      <th>The Bethesdan Hotel</th>\n",
              "      <td>6,601,278.58</td>\n",
              "      <td>462,089.45</td>\n",
              "      <td>573.78</td>\n",
              "      <td>2,868.92</td>\n",
              "      <td>465,532.15</td>\n",
              "    </tr>\n",
              "  </tbody>\n",
              "</table>\n",
              "</div>\n",
              "      <button class=\"colab-df-convert\" onclick=\"convertToInteractive('df-d9ec3b55-1dd6-490f-bd6b-5e8d87492f8e')\"\n",
              "              title=\"Convert this dataframe to an interactive table.\"\n",
              "              style=\"display:none;\">\n",
              "        \n",
              "  <svg xmlns=\"http://www.w3.org/2000/svg\" height=\"24px\"viewBox=\"0 0 24 24\"\n",
              "       width=\"24px\">\n",
              "    <path d=\"M0 0h24v24H0V0z\" fill=\"none\"/>\n",
              "    <path d=\"M18.56 5.44l.94 2.06.94-2.06 2.06-.94-2.06-.94-.94-2.06-.94 2.06-2.06.94zm-11 1L8.5 8.5l.94-2.06 2.06-.94-2.06-.94L8.5 2.5l-.94 2.06-2.06.94zm10 10l.94 2.06.94-2.06 2.06-.94-2.06-.94-.94-2.06-.94 2.06-2.06.94z\"/><path d=\"M17.41 7.96l-1.37-1.37c-.4-.4-.92-.59-1.43-.59-.52 0-1.04.2-1.43.59L10.3 9.45l-7.72 7.72c-.78.78-.78 2.05 0 2.83L4 21.41c.39.39.9.59 1.41.59.51 0 1.02-.2 1.41-.59l7.78-7.78 2.81-2.81c.8-.78.8-2.07 0-2.86zM5.41 20L4 18.59l7.72-7.72 1.47 1.35L5.41 20z\"/>\n",
              "  </svg>\n",
              "      </button>\n",
              "      \n",
              "  <style>\n",
              "    .colab-df-container {\n",
              "      display:flex;\n",
              "      flex-wrap:wrap;\n",
              "      gap: 12px;\n",
              "    }\n",
              "\n",
              "    .colab-df-convert {\n",
              "      background-color: #E8F0FE;\n",
              "      border: none;\n",
              "      border-radius: 50%;\n",
              "      cursor: pointer;\n",
              "      display: none;\n",
              "      fill: #1967D2;\n",
              "      height: 32px;\n",
              "      padding: 0 0 0 0;\n",
              "      width: 32px;\n",
              "    }\n",
              "\n",
              "    .colab-df-convert:hover {\n",
              "      background-color: #E2EBFA;\n",
              "      box-shadow: 0px 1px 2px rgba(60, 64, 67, 0.3), 0px 1px 3px 1px rgba(60, 64, 67, 0.15);\n",
              "      fill: #174EA6;\n",
              "    }\n",
              "\n",
              "    [theme=dark] .colab-df-convert {\n",
              "      background-color: #3B4455;\n",
              "      fill: #D2E3FC;\n",
              "    }\n",
              "\n",
              "    [theme=dark] .colab-df-convert:hover {\n",
              "      background-color: #434B5C;\n",
              "      box-shadow: 0px 1px 3px 1px rgba(0, 0, 0, 0.15);\n",
              "      filter: drop-shadow(0px 1px 2px rgba(0, 0, 0, 0.3));\n",
              "      fill: #FFFFFF;\n",
              "    }\n",
              "  </style>\n",
              "\n",
              "      <script>\n",
              "        const buttonEl =\n",
              "          document.querySelector('#df-d9ec3b55-1dd6-490f-bd6b-5e8d87492f8e button.colab-df-convert');\n",
              "        buttonEl.style.display =\n",
              "          google.colab.kernel.accessAllowed ? 'block' : 'none';\n",
              "\n",
              "        async function convertToInteractive(key) {\n",
              "          const element = document.querySelector('#df-d9ec3b55-1dd6-490f-bd6b-5e8d87492f8e');\n",
              "          const dataTable =\n",
              "            await google.colab.kernel.invokeFunction('convertToInteractive',\n",
              "                                                     [key], {});\n",
              "          if (!dataTable) return;\n",
              "\n",
              "          const docLinkHtml = 'Like what you see? Visit the ' +\n",
              "            '<a target=\"_blank\" href=https://colab.research.google.com/notebooks/data_table.ipynb>data table notebook</a>'\n",
              "            + ' to learn more about interactive tables.';\n",
              "          element.innerHTML = '';\n",
              "          dataTable['output_type'] = 'display_data';\n",
              "          await google.colab.output.renderOutput(dataTable, element);\n",
              "          const docLink = document.createElement('div');\n",
              "          docLink.innerHTML = docLinkHtml;\n",
              "          element.appendChild(docLink);\n",
              "        }\n",
              "      </script>\n",
              "    </div>\n",
              "  </div>\n",
              "  "
            ]
          },
          "metadata": {},
          "execution_count": 42
        }
      ]
    },
    {
      "cell_type": "code",
      "source": [
        "removcol= ['Taxable Amount', 'Tax Due', 'Interest', 'Total Amount Due']\n",
        "dfpenaltya= dfpenalty.drop(columns=removcol)\n",
        "dfpenaltya.sort_values(by=['Penalty'],ascending = True).plot(kind=\"barh\", edgecolor='black', color='red')\n",
        "\n",
        "plt.style.use('classic')\n",
        "\n",
        "#ax = plt.gca()\n",
        "#ax.set_facecolor(\"#7FFFD4\")\n",
        "#ax.patch.set_alpha(1.0)\n",
        "\n",
        "plt.suptitle(\"Montgomery County Top 10 Hotel Tax Penalty\",fontsize=18, y=1, fontweight='bold', color='blue')\n",
        "plt.title(\"2019 - 2022\", fontsize = 18, fontweight='bold', color ='blue' )\n",
        "plt.ylabel(\"Total Amount Due in Million ($)\", fontweight='bold',fontsize=18, color ='blue')\n",
        "plt.legend(loc='center left', bbox_to_anchor=(1, 0.5))\n",
        "plt.grid(True)\n",
        "plt.show()"
      ],
      "metadata": {
        "colab": {
          "base_uri": "https://localhost:8080/",
          "height": 724
        },
        "id": "TwVk5UAMeZFw",
        "outputId": "e6040c32-deb8-4ab3-98c0-ab346ecb53e9"
      },
      "execution_count": null,
      "outputs": [
        {
          "output_type": "display_data",
          "data": {
            "text/plain": [
              "<Figure size 1400x800 with 1 Axes>"
            ],
            "image/png": "[encoded data removed]"
          },
          "metadata": {}
        }
      ]
    },
    {
      "cell_type": "markdown",
      "source": [
        "# **How many hotels paid a penalty (2019-2022)? How many did not pay a penalty?**"
      ],
      "metadata": {
        "id": "512wDaS2tdS2"
      }
    },
    {
      "cell_type": "code",
      "source": [
        "# Complete list of Hotels that paid penalty between 2019 - 2022\n",
        "dfpenaltycount = df2.groupby('Name').sum()\n",
        "removcol0= ['Month','Quarter','Year']\n",
        "dfpenaltycount= dfpenaltycount.drop(columns=removcol0)\n",
        "dfpenaltycount=dfpenaltycount.reset_index()\n",
        "dfpenaltycountq=dfpenaltycount.loc[dfpenaltycount['Penalty'] > 0]\n",
        "#dfpenaltycountq.head()\n",
        "psum= round(np.sum(dfpenaltycountq['Penalty']), 2)\n",
        "isum= round(np.sum(dfpenaltycountq['Interest']), 2)\n",
        "\n",
        "print(dfpenaltycountq.shape[0],  \"of the 125 hotels paid a total penalty of\", psum, \"and a total of interest of\"\n",
        ", isum)\n",
        "dfpenaltycountq.head(27)"
      ],
      "metadata": {
        "colab": {
          "base_uri": "https://localhost:8080/",
          "height": 968
        },
        "id": "h3n2EIH0KacC",
        "outputId": "eefd6184-40b7-4506-910f-46c27bf512e2"
      },
      "execution_count": null,
      "outputs": [
        {
          "output_type": "stream",
          "name": "stdout",
          "text": [
            "27 of the 125 hotels paid a total penalty of 64495.49 and a total of interest of 19606.56\n"
          ]
        },
        {
          "output_type": "stream",
          "name": "stderr",
          "text": [
            "<ipython-input-44-d78d00e59e56>:2: FutureWarning: The default value of numeric_only in DataFrameGroupBy.sum is deprecated. In a future version, numeric_only will default to False. Either specify numeric_only or select only columns which should be valid for the function.\n",
            "  dfpenaltycount = df2.groupby('Name').sum()\n"
          ]
        },
        {
          "output_type": "execute_result",
          "data": {
            "text/plain": [
              "                                                  Name  Taxable Amount  \\\n",
              "0                                 5520 Wisconsin Assoc   11,999,117.67   \n",
              "3               AIL Hospitality LLC dba Radisson Hotel    7,323,949.88   \n",
              "4              AIL Hospitality LLC dba Sleep Inn Hotel    5,039,427.09   \n",
              "9                                American Inn Bethesda    4,977,462.34   \n",
              "13                                          BW RRI III   12,332,050.92   \n",
              "16                                  Best Western Hotel    1,458,177.03   \n",
              "25                    Churchill Corporate Services Inc      290,533.83   \n",
              "28          Courtyard by Marriott Bethesda/Chevy Chase   10,189,720.19   \n",
              "33                             Daniel Greenspan Airbnb        7,192.03   \n",
              "34                      Des Affiches Bed and Breakfast          675.00   \n",
              "35                                    Dini Sari Djalal       89,320.27   \n",
              "47                                   Elizabeth Burgess       26,736.11   \n",
              "49                 Fairfield Inn & Suites - Germantown    8,157,453.61   \n",
              "51                 GAI Enterprises, LLC. DBA - Motel 6    5,568,450.63   \n",
              "57                                Hampton Inn & Suites   10,424,926.92   \n",
              "58                           Hampton Inn Silver Spring    5,273,491.62   \n",
              "67                       Homewood Suites Silver Spring    5,169,158.94   \n",
              "71              INK Lessee, LLC DBA Sheraton Rockville    4,053,322.07   \n",
              "77                                   Jennifer A. Lukas          750.00   \n",
              "78                         KENWOOD GOLF & COUNTRY CLUB       70,913.98   \n",
              "84   Maryland National Capital Park & Planning Comm...      140,642.72   \n",
              "88                                         Nancy Cedar          698.40   \n",
              "89                                      Nicole Schmitt        3,684.06   \n",
              "95                              RGALTD T/A Comfort Inn    7,601,030.78   \n",
              "103                         Rockville Hospitality, LLC   10,667,457.74   \n",
              "113                                The Bethesdan Hotel    6,601,278.58   \n",
              "121                               Wellness Hospitality        3,219.68   \n",
              "\n",
              "       Tax Due  Interest   Penalty  Total Amount Due  \n",
              "0   839,938.17     63.84    319.23        840,321.25  \n",
              "3   512,676.27    282.76  1,413.82        514,372.87  \n",
              "4   352,759.65    137.41    687.08        353,584.16  \n",
              "9   348,422.18     79.56    397.81        348,899.55  \n",
              "13  863,243.35    132.32    661.62        864,037.31  \n",
              "16  102,072.36  3,199.26 11,720.79        116,992.45  \n",
              "25   20,337.33     32.62    163.14         20,533.10  \n",
              "28  713,280.31    115.98    579.92        713,976.22  \n",
              "33      503.43     53.98    125.86            683.27  \n",
              "34       47.25      7.56     11.81             66.62  \n",
              "35    6,252.40    121.97    407.46          6,781.86  \n",
              "47    1,871.51     12.43     62.14          1,946.08  \n",
              "49  571,021.51    163.45    817.25        572,002.22  \n",
              "51  389,791.32    189.23    946.20        390,926.76  \n",
              "57  729,744.65    188.82    944.13        730,877.61  \n",
              "58  369,144.29     17.93     89.72        369,251.96  \n",
              "67  361,840.98    200.09  1,000.50        363,041.59  \n",
              "71  283,732.45 13,337.21 37,871.97        334,941.64  \n",
              "77       52.50      0.52      2.62             55.65  \n",
              "78    4,963.96     16.81     84.07          5,064.85  \n",
              "84    9,844.91     15.64     78.18          9,938.73  \n",
              "88       48.88      1.95      9.77             60.62  \n",
              "89      257.87      0.12      0.62            258.62  \n",
              "95  532,072.01    449.75  2,248.78        534,770.55  \n",
              "103 746,721.78    185.15    925.75        747,832.69  \n",
              "113 462,089.45    573.78  2,868.92        465,532.15  \n",
              "121     225.36     26.42     56.33            308.13  "
            ],
            "text/html": [
              "\n",
              "  <div id=\"df-0641e8f1-05c9-41ef-bda4-7debdd2073b0\">\n",
              "    <div class=\"colab-df-container\">\n",
              "      <div>\n",
              "<style scoped>\n",
              "    .dataframe tbody tr th:only-of-type {\n",
              "        vertical-align: middle;\n",
              "    }\n",
              "\n",
              "    .dataframe tbody tr th {\n",
              "        vertical-align: top;\n",
              "    }\n",
              "\n",
              "    .dataframe thead th {\n",
              "        text-align: right;\n",
              "    }\n",
              "</style>\n",
              "<table border=\"1\" class=\"dataframe\">\n",
              "  <thead>\n",
              "    <tr style=\"text-align: right;\">\n",
              "      <th></th>\n",
              "      <th>Name</th>\n",
              "      <th>Taxable Amount</th>\n",
              "      <th>Tax Due</th>\n",
              "      <th>Interest</th>\n",
              "      <th>Penalty</th>\n",
              "      <th>Total Amount Due</th>\n",
              "    </tr>\n",
              "  </thead>\n",
              "  <tbody>\n",
              "    <tr>\n",
              "      <th>0</th>\n",
              "      <td>5520 Wisconsin Assoc</td>\n",
              "      <td>11,999,117.67</td>\n",
              "      <td>839,938.17</td>\n",
              "      <td>63.84</td>\n",
              "      <td>319.23</td>\n",
              "      <td>840,321.25</td>\n",
              "    </tr>\n",
              "    <tr>\n",
              "      <th>3</th>\n",
              "      <td>AIL Hospitality LLC dba Radisson Hotel</td>\n",
              "      <td>7,323,949.88</td>\n",
              "      <td>512,676.27</td>\n",
              "      <td>282.76</td>\n",
              "      <td>1,413.82</td>\n",
              "      <td>514,372.87</td>\n",
              "    </tr>\n",
              "    <tr>\n",
              "      <th>4</th>\n",
              "      <td>AIL Hospitality LLC dba Sleep Inn Hotel</td>\n",
              "      <td>5,039,427.09</td>\n",
              "      <td>352,759.65</td>\n",
              "      <td>137.41</td>\n",
              "      <td>687.08</td>\n",
              "      <td>353,584.16</td>\n",
              "    </tr>\n",
              "    <tr>\n",
              "      <th>9</th>\n",
              "      <td>American Inn Bethesda</td>\n",
              "      <td>4,977,462.34</td>\n",
              "      <td>348,422.18</td>\n",
              "      <td>79.56</td>\n",
              "      <td>397.81</td>\n",
              "      <td>348,899.55</td>\n",
              "    </tr>\n",
              "    <tr>\n",
              "      <th>13</th>\n",
              "      <td>BW RRI III</td>\n",
              "      <td>12,332,050.92</td>\n",
              "      <td>863,243.35</td>\n",
              "      <td>132.32</td>\n",
              "      <td>661.62</td>\n",
              "      <td>864,037.31</td>\n",
              "    </tr>\n",
              "    <tr>\n",
              "      <th>16</th>\n",
              "      <td>Best Western Hotel</td>\n",
              "      <td>1,458,177.03</td>\n",
              "      <td>102,072.36</td>\n",
              "      <td>3,199.26</td>\n",
              "      <td>11,720.79</td>\n",
              "      <td>116,992.45</td>\n",
              "    </tr>\n",
              "    <tr>\n",
              "      <th>25</th>\n",
              "      <td>Churchill Corporate Services Inc</td>\n",
              "      <td>290,533.83</td>\n",
              "      <td>20,337.33</td>\n",
              "      <td>32.62</td>\n",
              "      <td>163.14</td>\n",
              "      <td>20,533.10</td>\n",
              "    </tr>\n",
              "    <tr>\n",
              "      <th>28</th>\n",
              "      <td>Courtyard by Marriott Bethesda/Chevy Chase</td>\n",
              "      <td>10,189,720.19</td>\n",
              "      <td>713,280.31</td>\n",
              "      <td>115.98</td>\n",
              "      <td>579.92</td>\n",
              "      <td>713,976.22</td>\n",
              "    </tr>\n",
              "    <tr>\n",
              "      <th>33</th>\n",
              "      <td>Daniel Greenspan Airbnb</td>\n",
              "      <td>7,192.03</td>\n",
              "      <td>503.43</td>\n",
              "      <td>53.98</td>\n",
              "      <td>125.86</td>\n",
              "      <td>683.27</td>\n",
              "    </tr>\n",
              "    <tr>\n",
              "      <th>34</th>\n",
              "      <td>Des Affiches Bed and Breakfast</td>\n",
              "      <td>675.00</td>\n",
              "      <td>47.25</td>\n",
              "      <td>7.56</td>\n",
              "      <td>11.81</td>\n",
              "      <td>66.62</td>\n",
              "    </tr>\n",
              "    <tr>\n",
              "      <th>35</th>\n",
              "      <td>Dini Sari Djalal</td>\n",
              "      <td>89,320.27</td>\n",
              "      <td>6,252.40</td>\n",
              "      <td>121.97</td>\n",
              "      <td>407.46</td>\n",
              "      <td>6,781.86</td>\n",
              "    </tr>\n",
              "    <tr>\n",
              "      <th>47</th>\n",
              "      <td>Elizabeth Burgess</td>\n",
              "      <td>26,736.11</td>\n",
              "      <td>1,871.51</td>\n",
              "      <td>12.43</td>\n",
              "      <td>62.14</td>\n",
              "      <td>1,946.08</td>\n",
              "    </tr>\n",
              "    <tr>\n",
              "      <th>49</th>\n",
              "      <td>Fairfield Inn &amp; Suites - Germantown</td>\n",
              "      <td>8,157,453.61</td>\n",
              "      <td>571,021.51</td>\n",
              "      <td>163.45</td>\n",
              "      <td>817.25</td>\n",
              "      <td>572,002.22</td>\n",
              "    </tr>\n",
              "    <tr>\n",
              "      <th>51</th>\n",
              "      <td>GAI Enterprises, LLC. DBA - Motel 6</td>\n",
              "      <td>5,568,450.63</td>\n",
              "      <td>389,791.32</td>\n",
              "      <td>189.23</td>\n",
              "      <td>946.20</td>\n",
              "      <td>390,926.76</td>\n",
              "    </tr>\n",
              "    <tr>\n",
              "      <th>57</th>\n",
              "      <td>Hampton Inn &amp; Suites</td>\n",
              "      <td>10,424,926.92</td>\n",
              "      <td>729,744.65</td>\n",
              "      <td>188.82</td>\n",
              "      <td>944.13</td>\n",
              "      <td>730,877.61</td>\n",
              "    </tr>\n",
              "    <tr>\n",
              "      <th>58</th>\n",
              "      <td>Hampton Inn Silver Spring</td>\n",
              "      <td>5,273,491.62</td>\n",
              "      <td>369,144.29</td>\n",
              "      <td>17.93</td>\n",
              "      <td>89.72</td>\n",
              "      <td>369,251.96</td>\n",
              "    </tr>\n",
              "    <tr>\n",
              "      <th>67</th>\n",
              "      <td>Homewood Suites Silver Spring</td>\n",
              "      <td>5,169,158.94</td>\n",
              "      <td>361,840.98</td>\n",
              "      <td>200.09</td>\n",
              "      <td>1,000.50</td>\n",
              "      <td>363,041.59</td>\n",
              "    </tr>\n",
              "    <tr>\n",
              "      <th>71</th>\n",
              "      <td>INK Lessee, LLC DBA Sheraton Rockville</td>\n",
              "      <td>4,053,322.07</td>\n",
              "      <td>283,732.45</td>\n",
              "      <td>13,337.21</td>\n",
              "      <td>37,871.97</td>\n",
              "      <td>334,941.64</td>\n",
              "    </tr>\n",
              "    <tr>\n",
              "      <th>77</th>\n",
              "      <td>Jennifer A. Lukas</td>\n",
              "      <td>750.00</td>\n",
              "      <td>52.50</td>\n",
              "      <td>0.52</td>\n",
              "      <td>2.62</td>\n",
              "      <td>55.65</td>\n",
              "    </tr>\n",
              "    <tr>\n",
              "      <th>78</th>\n",
              "      <td>KENWOOD GOLF &amp; COUNTRY CLUB</td>\n",
              "      <td>70,913.98</td>\n",
              "      <td>4,963.96</td>\n",
              "      <td>16.81</td>\n",
              "      <td>84.07</td>\n",
              "      <td>5,064.85</td>\n",
              "    </tr>\n",
              "    <tr>\n",
              "      <th>84</th>\n",
              "      <td>Maryland National Capital Park &amp; Planning Comm...</td>\n",
              "      <td>140,642.72</td>\n",
              "      <td>9,844.91</td>\n",
              "      <td>15.64</td>\n",
              "      <td>78.18</td>\n",
              "      <td>9,938.73</td>\n",
              "    </tr>\n",
              "    <tr>\n",
              "      <th>88</th>\n",
              "      <td>Nancy Cedar</td>\n",
              "      <td>698.40</td>\n",
              "      <td>48.88</td>\n",
              "      <td>1.95</td>\n",
              "      <td>9.77</td>\n",
              "      <td>60.62</td>\n",
              "    </tr>\n",
              "    <tr>\n",
              "      <th>89</th>\n",
              "      <td>Nicole Schmitt</td>\n",
              "      <td>3,684.06</td>\n",
              "      <td>257.87</td>\n",
              "      <td>0.12</td>\n",
              "      <td>0.62</td>\n",
              "      <td>258.62</td>\n",
              "    </tr>\n",
              "    <tr>\n",
              "      <th>95</th>\n",
              "      <td>RGALTD T/A Comfort Inn</td>\n",
              "      <td>7,601,030.78</td>\n",
              "      <td>532,072.01</td>\n",
              "      <td>449.75</td>\n",
              "      <td>2,248.78</td>\n",
              "      <td>534,770.55</td>\n",
              "    </tr>\n",
              "    <tr>\n",
              "      <th>103</th>\n",
              "      <td>Rockville Hospitality, LLC</td>\n",
              "      <td>10,667,457.74</td>\n",
              "      <td>746,721.78</td>\n",
              "      <td>185.15</td>\n",
              "      <td>925.75</td>\n",
              "      <td>747,832.69</td>\n",
              "    </tr>\n",
              "    <tr>\n",
              "      <th>113</th>\n",
              "      <td>The Bethesdan Hotel</td>\n",
              "      <td>6,601,278.58</td>\n",
              "      <td>462,089.45</td>\n",
              "      <td>573.78</td>\n",
              "      <td>2,868.92</td>\n",
              "      <td>465,532.15</td>\n",
              "    </tr>\n",
              "    <tr>\n",
              "      <th>121</th>\n",
              "      <td>Wellness Hospitality</td>\n",
              "      <td>3,219.68</td>\n",
              "      <td>225.36</td>\n",
              "      <td>26.42</td>\n",
              "      <td>56.33</td>\n",
              "      <td>308.13</td>\n",
              "    </tr>\n",
              "  </tbody>\n",
              "</table>\n",
              "</div>\n",
              "      <button class=\"colab-df-convert\" onclick=\"convertToInteractive('df-0641e8f1-05c9-41ef-bda4-7debdd2073b0')\"\n",
              "              title=\"Convert this dataframe to an interactive table.\"\n",
              "              style=\"display:none;\">\n",
              "        \n",
              "  <svg xmlns=\"http://www.w3.org/2000/svg\" height=\"24px\"viewBox=\"0 0 24 24\"\n",
              "       width=\"24px\">\n",
              "    <path d=\"M0 0h24v24H0V0z\" fill=\"none\"/>\n",
              "    <path d=\"M18.56 5.44l.94 2.06.94-2.06 2.06-.94-2.06-.94-.94-2.06-.94 2.06-2.06.94zm-11 1L8.5 8.5l.94-2.06 2.06-.94-2.06-.94L8.5 2.5l-.94 2.06-2.06.94zm10 10l.94 2.06.94-2.06 2.06-.94-2.06-.94-.94-2.06-.94 2.06-2.06.94z\"/><path d=\"M17.41 7.96l-1.37-1.37c-.4-.4-.92-.59-1.43-.59-.52 0-1.04.2-1.43.59L10.3 9.45l-7.72 7.72c-.78.78-.78 2.05 0 2.83L4 21.41c.39.39.9.59 1.41.59.51 0 1.02-.2 1.41-.59l7.78-7.78 2.81-2.81c.8-.78.8-2.07 0-2.86zM5.41 20L4 18.59l7.72-7.72 1.47 1.35L5.41 20z\"/>\n",
              "  </svg>\n",
              "      </button>\n",
              "      \n",
              "  <style>\n",
              "    .colab-df-container {\n",
              "      display:flex;\n",
              "      flex-wrap:wrap;\n",
              "      gap: 12px;\n",
              "    }\n",
              "\n",
              "    .colab-df-convert {\n",
              "      background-color: #E8F0FE;\n",
              "      border: none;\n",
              "      border-radius: 50%;\n",
              "      cursor: pointer;\n",
              "      display: none;\n",
              "      fill: #1967D2;\n",
              "      height: 32px;\n",
              "      padding: 0 0 0 0;\n",
              "      width: 32px;\n",
              "    }\n",
              "\n",
              "    .colab-df-convert:hover {\n",
              "      background-color: #E2EBFA;\n",
              "      box-shadow: 0px 1px 2px rgba(60, 64, 67, 0.3), 0px 1px 3px 1px rgba(60, 64, 67, 0.15);\n",
              "      fill: #174EA6;\n",
              "    }\n",
              "\n",
              "    [theme=dark] .colab-df-convert {\n",
              "      background-color: #3B4455;\n",
              "      fill: #D2E3FC;\n",
              "    }\n",
              "\n",
              "    [theme=dark] .colab-df-convert:hover {\n",
              "      background-color: #434B5C;\n",
              "      box-shadow: 0px 1px 3px 1px rgba(0, 0, 0, 0.15);\n",
              "      filter: drop-shadow(0px 1px 2px rgba(0, 0, 0, 0.3));\n",
              "      fill: #FFFFFF;\n",
              "    }\n",
              "  </style>\n",
              "\n",
              "      <script>\n",
              "        const buttonEl =\n",
              "          document.querySelector('#df-0641e8f1-05c9-41ef-bda4-7debdd2073b0 button.colab-df-convert');\n",
              "        buttonEl.style.display =\n",
              "          google.colab.kernel.accessAllowed ? 'block' : 'none';\n",
              "\n",
              "        async function convertToInteractive(key) {\n",
              "          const element = document.querySelector('#df-0641e8f1-05c9-41ef-bda4-7debdd2073b0');\n",
              "          const dataTable =\n",
              "            await google.colab.kernel.invokeFunction('convertToInteractive',\n",
              "                                                     [key], {});\n",
              "          if (!dataTable) return;\n",
              "\n",
              "          const docLinkHtml = 'Like what you see? Visit the ' +\n",
              "            '<a target=\"_blank\" href=https://colab.research.google.com/notebooks/data_table.ipynb>data table notebook</a>'\n",
              "            + ' to learn more about interactive tables.';\n",
              "          element.innerHTML = '';\n",
              "          dataTable['output_type'] = 'display_data';\n",
              "          await google.colab.output.renderOutput(dataTable, element);\n",
              "          const docLink = document.createElement('div');\n",
              "          docLink.innerHTML = docLinkHtml;\n",
              "          element.appendChild(docLink);\n",
              "        }\n",
              "      </script>\n",
              "    </div>\n",
              "  </div>\n",
              "  "
            ]
          },
          "metadata": {},
          "execution_count": 44
        }
      ]
    },
    {
      "cell_type": "markdown",
      "source": [
        "**How many times each of these hotels were charged penalties?**\n"
      ],
      "metadata": {
        "id": "QtITrNw-2Drh"
      }
    },
    {
      "cell_type": "code",
      "source": [
        "dfpenaltycountfilter=df2.loc[df2['Penalty'] > 0]\n",
        "dfpenaltycountfilter.shape[0]\n",
        "removcol2= ['Month','Quarter','Year', 'Filing Frequency', 'Due Date', 'Taxable Amount', 'Tax Due', 'Interest','Total Amount Due']\n",
        "dfpenaltycountfilter= dfpenaltycountfilter.drop(columns=removcol2)\n",
        "filterresult = dfpenaltycountfilter.groupby(['Name']).count()\n",
        "#filterresult.shape\n",
        "filterresult.head(27)"
      ],
      "metadata": {
        "colab": {
          "base_uri": "https://localhost:8080/",
          "height": 927
        },
        "id": "nbTNU_UilQyU",
        "outputId": "2482b29b-bc3a-4792-f862-cf508e264d2d"
      },
      "execution_count": null,
      "outputs": [
        {
          "output_type": "execute_result",
          "data": {
            "text/plain": [
              "                                                    Penalty\n",
              "Name                                                       \n",
              "5520 Wisconsin Assoc                                      1\n",
              "AIL Hospitality LLC dba Radisson Hotel                    2\n",
              "AIL Hospitality LLC dba Sleep Inn Hotel                   2\n",
              "American Inn Bethesda                                     1\n",
              "BW RRI III                                                1\n",
              "Best Western Hotel                                        3\n",
              "Churchill Corporate Services Inc                          1\n",
              "Courtyard by Marriott Bethesda/Chevy Chase                1\n",
              "Daniel Greenspan Airbnb                                   3\n",
              "Des Affiches Bed and Breakfast                            1\n",
              "Dini Sari Djalal                                          6\n",
              "Elizabeth Burgess                                         2\n",
              "Fairfield Inn & Suites - Germantown                       1\n",
              "GAI Enterprises, LLC. DBA - Motel 6                       2\n",
              "Hampton Inn & Suites                                      1\n",
              "Hampton Inn Silver Spring                                 2\n",
              "Homewood Suites Silver Spring                             2\n",
              "INK Lessee, LLC DBA Sheraton Rockville                   16\n",
              "Jennifer A. Lukas                                         1\n",
              "KENWOOD GOLF & COUNTRY CLUB                               2\n",
              "Maryland National Capital Park & Planning Commi...        3\n",
              "Nancy Cedar                                               1\n",
              "Nicole Schmitt                                            1\n",
              "RGALTD T/A Comfort Inn                                    2\n",
              "Rockville Hospitality, LLC                                1\n",
              "The Bethesdan Hotel                                       2\n",
              "Wellness Hospitality                                      4"
            ],
            "text/html": [
              "\n",
              "  <div id=\"df-119fb3ac-75af-46e1-989a-5e7d4fd0827d\">\n",
              "    <div class=\"colab-df-container\">\n",
              "      <div>\n",
              "<style scoped>\n",
              "    .dataframe tbody tr th:only-of-type {\n",
              "        vertical-align: middle;\n",
              "    }\n",
              "\n",
              "    .dataframe tbody tr th {\n",
              "        vertical-align: top;\n",
              "    }\n",
              "\n",
              "    .dataframe thead th {\n",
              "        text-align: right;\n",
              "    }\n",
              "</style>\n",
              "<table border=\"1\" class=\"dataframe\">\n",
              "  <thead>\n",
              "    <tr style=\"text-align: right;\">\n",
              "      <th></th>\n",
              "      <th>Penalty</th>\n",
              "    </tr>\n",
              "    <tr>\n",
              "      <th>Name</th>\n",
              "      <th></th>\n",
              "    </tr>\n",
              "  </thead>\n",
              "  <tbody>\n",
              "    <tr>\n",
              "      <th>5520 Wisconsin Assoc</th>\n",
              "      <td>1</td>\n",
              "    </tr>\n",
              "    <tr>\n",
              "      <th>AIL Hospitality LLC dba Radisson Hotel</th>\n",
              "      <td>2</td>\n",
              "    </tr>\n",
              "    <tr>\n",
              "      <th>AIL Hospitality LLC dba Sleep Inn Hotel</th>\n",
              "      <td>2</td>\n",
              "    </tr>\n",
              "    <tr>\n",
              "      <th>American Inn Bethesda</th>\n",
              "      <td>1</td>\n",
              "    </tr>\n",
              "    <tr>\n",
              "      <th>BW RRI III</th>\n",
              "      <td>1</td>\n",
              "    </tr>\n",
              "    <tr>\n",
              "      <th>Best Western Hotel</th>\n",
              "      <td>3</td>\n",
              "    </tr>\n",
              "    <tr>\n",
              "      <th>Churchill Corporate Services Inc</th>\n",
              "      <td>1</td>\n",
              "    </tr>\n",
              "    <tr>\n",
              "      <th>Courtyard by Marriott Bethesda/Chevy Chase</th>\n",
              "      <td>1</td>\n",
              "    </tr>\n",
              "    <tr>\n",
              "      <th>Daniel Greenspan Airbnb</th>\n",
              "      <td>3</td>\n",
              "    </tr>\n",
              "    <tr>\n",
              "      <th>Des Affiches Bed and Breakfast</th>\n",
              "      <td>1</td>\n",
              "    </tr>\n",
              "    <tr>\n",
              "      <th>Dini Sari Djalal</th>\n",
              "      <td>6</td>\n",
              "    </tr>\n",
              "    <tr>\n",
              "      <th>Elizabeth Burgess</th>\n",
              "      <td>2</td>\n",
              "    </tr>\n",
              "    <tr>\n",
              "      <th>Fairfield Inn &amp; Suites - Germantown</th>\n",
              "      <td>1</td>\n",
              "    </tr>\n",
              "    <tr>\n",
              "      <th>GAI Enterprises, LLC. DBA - Motel 6</th>\n",
              "      <td>2</td>\n",
              "    </tr>\n",
              "    <tr>\n",
              "      <th>Hampton Inn &amp; Suites</th>\n",
              "      <td>1</td>\n",
              "    </tr>\n",
              "    <tr>\n",
              "      <th>Hampton Inn Silver Spring</th>\n",
              "      <td>2</td>\n",
              "    </tr>\n",
              "    <tr>\n",
              "      <th>Homewood Suites Silver Spring</th>\n",
              "      <td>2</td>\n",
              "    </tr>\n",
              "    <tr>\n",
              "      <th>INK Lessee, LLC DBA Sheraton Rockville</th>\n",
              "      <td>16</td>\n",
              "    </tr>\n",
              "    <tr>\n",
              "      <th>Jennifer A. Lukas</th>\n",
              "      <td>1</td>\n",
              "    </tr>\n",
              "    <tr>\n",
              "      <th>KENWOOD GOLF &amp; COUNTRY CLUB</th>\n",
              "      <td>2</td>\n",
              "    </tr>\n",
              "    <tr>\n",
              "      <th>Maryland National Capital Park &amp; Planning Commission</th>\n",
              "      <td>3</td>\n",
              "    </tr>\n",
              "    <tr>\n",
              "      <th>Nancy Cedar</th>\n",
              "      <td>1</td>\n",
              "    </tr>\n",
              "    <tr>\n",
              "      <th>Nicole Schmitt</th>\n",
              "      <td>1</td>\n",
              "    </tr>\n",
              "    <tr>\n",
              "      <th>RGALTD T/A Comfort Inn</th>\n",
              "      <td>2</td>\n",
              "    </tr>\n",
              "    <tr>\n",
              "      <th>Rockville Hospitality, LLC</th>\n",
              "      <td>1</td>\n",
              "    </tr>\n",
              "    <tr>\n",
              "      <th>The Bethesdan Hotel</th>\n",
              "      <td>2</td>\n",
              "    </tr>\n",
              "    <tr>\n",
              "      <th>Wellness Hospitality</th>\n",
              "      <td>4</td>\n",
              "    </tr>\n",
              "  </tbody>\n",
              "</table>\n",
              "</div>\n",
              "      <button class=\"colab-df-convert\" onclick=\"convertToInteractive('df-119fb3ac-75af-46e1-989a-5e7d4fd0827d')\"\n",
              "              title=\"Convert this dataframe to an interactive table.\"\n",
              "              style=\"display:none;\">\n",
              "        \n",
              "  <svg xmlns=\"http://www.w3.org/2000/svg\" height=\"24px\"viewBox=\"0 0 24 24\"\n",
              "       width=\"24px\">\n",
              "    <path d=\"M0 0h24v24H0V0z\" fill=\"none\"/>\n",
              "    <path d=\"M18.56 5.44l.94 2.06.94-2.06 2.06-.94-2.06-.94-.94-2.06-.94 2.06-2.06.94zm-11 1L8.5 8.5l.94-2.06 2.06-.94-2.06-.94L8.5 2.5l-.94 2.06-2.06.94zm10 10l.94 2.06.94-2.06 2.06-.94-2.06-.94-.94-2.06-.94 2.06-2.06.94z\"/><path d=\"M17.41 7.96l-1.37-1.37c-.4-.4-.92-.59-1.43-.59-.52 0-1.04.2-1.43.59L10.3 9.45l-7.72 7.72c-.78.78-.78 2.05 0 2.83L4 21.41c.39.39.9.59 1.41.59.51 0 1.02-.2 1.41-.59l7.78-7.78 2.81-2.81c.8-.78.8-2.07 0-2.86zM5.41 20L4 18.59l7.72-7.72 1.47 1.35L5.41 20z\"/>\n",
              "  </svg>\n",
              "      </button>\n",
              "      \n",
              "  <style>\n",
              "    .colab-df-container {\n",
              "      display:flex;\n",
              "      flex-wrap:wrap;\n",
              "      gap: 12px;\n",
              "    }\n",
              "\n",
              "    .colab-df-convert {\n",
              "      background-color: #E8F0FE;\n",
              "      border: none;\n",
              "      border-radius: 50%;\n",
              "      cursor: pointer;\n",
              "      display: none;\n",
              "      fill: #1967D2;\n",
              "      height: 32px;\n",
              "      padding: 0 0 0 0;\n",
              "      width: 32px;\n",
              "    }\n",
              "\n",
              "    .colab-df-convert:hover {\n",
              "      background-color: #E2EBFA;\n",
              "      box-shadow: 0px 1px 2px rgba(60, 64, 67, 0.3), 0px 1px 3px 1px rgba(60, 64, 67, 0.15);\n",
              "      fill: #174EA6;\n",
              "    }\n",
              "\n",
              "    [theme=dark] .colab-df-convert {\n",
              "      background-color: #3B4455;\n",
              "      fill: #D2E3FC;\n",
              "    }\n",
              "\n",
              "    [theme=dark] .colab-df-convert:hover {\n",
              "      background-color: #434B5C;\n",
              "      box-shadow: 0px 1px 3px 1px rgba(0, 0, 0, 0.15);\n",
              "      filter: drop-shadow(0px 1px 2px rgba(0, 0, 0, 0.3));\n",
              "      fill: #FFFFFF;\n",
              "    }\n",
              "  </style>\n",
              "\n",
              "      <script>\n",
              "        const buttonEl =\n",
              "          document.querySelector('#df-119fb3ac-75af-46e1-989a-5e7d4fd0827d button.colab-df-convert');\n",
              "        buttonEl.style.display =\n",
              "          google.colab.kernel.accessAllowed ? 'block' : 'none';\n",
              "\n",
              "        async function convertToInteractive(key) {\n",
              "          const element = document.querySelector('#df-119fb3ac-75af-46e1-989a-5e7d4fd0827d');\n",
              "          const dataTable =\n",
              "            await google.colab.kernel.invokeFunction('convertToInteractive',\n",
              "                                                     [key], {});\n",
              "          if (!dataTable) return;\n",
              "\n",
              "          const docLinkHtml = 'Like what you see? Visit the ' +\n",
              "            '<a target=\"_blank\" href=https://colab.research.google.com/notebooks/data_table.ipynb>data table notebook</a>'\n",
              "            + ' to learn more about interactive tables.';\n",
              "          element.innerHTML = '';\n",
              "          dataTable['output_type'] = 'display_data';\n",
              "          await google.colab.output.renderOutput(dataTable, element);\n",
              "          const docLink = document.createElement('div');\n",
              "          docLink.innerHTML = docLinkHtml;\n",
              "          element.appendChild(docLink);\n",
              "        }\n",
              "      </script>\n",
              "    </div>\n",
              "  </div>\n",
              "  "
            ]
          },
          "metadata": {},
          "execution_count": 45
        }
      ]
    },
    {
      "cell_type": "markdown",
      "source": [
        "#***What is the Filing Frequency for the hotels that paid penalties?***"
      ],
      "metadata": {
        "id": "wvg43iiz-xkp"
      }
    },
    {
      "cell_type": "code",
      "source": [
        "#dfpenaltycountfilter['Filing Frequency'].value_counts()\n",
        "dfp1=df2.loc[df2['Penalty'] > 0]\n",
        "removcol3= ['Month','Quarter','Year']\n",
        "dfp1= dfp1.drop(columns=removcol3)\n",
        "dfp1.head()\n",
        "dfp2=dfp1.groupby(['Name', 'Filing Frequency']).sum()\n",
        "dfp2=dfp2.reset_index()\n",
        "dfp2.head()\n",
        "dfp2['Name'].nunique()\n",
        "dfp2['Filing Frequency'].value_counts()\n",
        "#list_names = list(set(dfpenaltycountfilter['Name']))\n",
        "#list_names"
      ],
      "metadata": {
        "colab": {
          "base_uri": "https://localhost:8080/"
        },
        "id": "AtAiLHk4_nlB",
        "outputId": "26d3298f-d2db-4529-cfbf-45a0b32535ba"
      },
      "execution_count": null,
      "outputs": [
        {
          "output_type": "stream",
          "name": "stderr",
          "text": [
            "<ipython-input-46-6d4860e7c54b>:6: FutureWarning: The default value of numeric_only in DataFrameGroupBy.sum is deprecated. In a future version, numeric_only will default to False. Either specify numeric_only or select only columns which should be valid for the function.\n",
            "  dfp2=dfp1.groupby(['Name', 'Filing Frequency']).sum()\n"
          ]
        },
        {
          "output_type": "execute_result",
          "data": {
            "text/plain": [
              "M    25\n",
              "Q     2\n",
              "Name: Filing Frequency, dtype: int64"
            ]
          },
          "metadata": {},
          "execution_count": 46
        }
      ]
    },
    {
      "cell_type": "markdown",
      "source": [
        "The above shows that most hotels that paid late (25 of 27) had chosen to pay their taxes on a monthly basis.  This suggests that perhaps that \"Filing Frequency\" plays a role in whether a hotel pays penalty."
      ],
      "metadata": {
        "id": "4PjnRkJvJkP7"
      }
    },
    {
      "cell_type": "code",
      "source": [
        "#Create a dataframe with all hotels that paid their taxes on a monthly basis\n",
        "dfMonth=df[df[\"Filing Frequency\"] == 'M'] \n",
        "dfMonth['Name'].nunique()"
      ],
      "metadata": {
        "colab": {
          "base_uri": "https://localhost:8080/"
        },
        "id": "_5ad5TCqmTtq",
        "outputId": "9609eb28-ebc1-43a4-ef32-2627025bcb7e"
      },
      "execution_count": null,
      "outputs": [
        {
          "output_type": "execute_result",
          "data": {
            "text/plain": [
              "111"
            ]
          },
          "metadata": {},
          "execution_count": 90
        }
      ]
    },
    {
      "cell_type": "code",
      "source": [
        "#Create a dataframe with all hotels that paid their taxes quarterly\n",
        "dfMonth=df[df[\"Filing Frequency\"] == 'Q'] \n",
        "dfMonth['Name'].nunique()"
      ],
      "metadata": {
        "colab": {
          "base_uri": "https://localhost:8080/"
        },
        "id": "j_lbRhZxoURb",
        "outputId": "c61e1972-f0e5-4e5a-84d4-072e6906eecf"
      },
      "execution_count": null,
      "outputs": [
        {
          "output_type": "execute_result",
          "data": {
            "text/plain": [
              "27"
            ]
          },
          "metadata": {},
          "execution_count": 91
        }
      ]
    },
    {
      "cell_type": "markdown",
      "source": [
        "# **Which month is the busiest for hotels?**\n"
      ],
      "metadata": {
        "id": "QbmlKVweZ7Vw"
      }
    },
    {
      "cell_type": "code",
      "source": [
        "# Sum of taxes due by Month\n",
        "dfsumM = df2.groupby(['Month']).sum()\n",
        "removcol1= ['Year','Quarter','Taxable Amount', 'Tax Due', 'Interest', 'Penalty']\n",
        "dfsumM1= dfsumM.drop(columns=removcol1)\n",
        "dfsumM1.head(12)"
      ],
      "metadata": {
        "colab": {
          "base_uri": "https://localhost:8080/",
          "height": 512
        },
        "id": "IZhd714-aOqK",
        "outputId": "2460d275-ba3e-4848-b222-cd304d078901"
      },
      "execution_count": null,
      "outputs": [
        {
          "output_type": "stream",
          "name": "stderr",
          "text": [
            "<ipython-input-64-5bd3d66c63e1>:1: FutureWarning: The default value of numeric_only in DataFrameGroupBy.sum is deprecated. In a future version, numeric_only will default to False. Either specify numeric_only or select only columns which should be valid for the function.\n",
            "  dfsumM = df2.groupby(['Month']).sum()\n"
          ]
        },
        {
          "output_type": "execute_result",
          "data": {
            "text/plain": [
              "       Total Amount Due\n",
              "Month                  \n",
              "1.00       2,698,669.85\n",
              "2.00       3,444,079.11\n",
              "3.00       4,107,219.93\n",
              "4.00       4,050,413.53\n",
              "5.00       5,045,346.80\n",
              "6.00       5,128,678.34\n",
              "7.00       4,776,748.44\n",
              "8.00       4,104,939.48\n",
              "9.00       4,824,755.94\n",
              "10.00      5,664,127.70\n",
              "11.00      4,603,671.92\n",
              "12.00      2,301,880.43"
            ],
            "text/html": [
              "\n",
              "  <div id=\"df-783fde8f-f10c-49ae-80c5-8f32bf7f2c7e\">\n",
              "    <div class=\"colab-df-container\">\n",
              "      <div>\n",
              "<style scoped>\n",
              "    .dataframe tbody tr th:only-of-type {\n",
              "        vertical-align: middle;\n",
              "    }\n",
              "\n",
              "    .dataframe tbody tr th {\n",
              "        vertical-align: top;\n",
              "    }\n",
              "\n",
              "    .dataframe thead th {\n",
              "        text-align: right;\n",
              "    }\n",
              "</style>\n",
              "<table border=\"1\" class=\"dataframe\">\n",
              "  <thead>\n",
              "    <tr style=\"text-align: right;\">\n",
              "      <th></th>\n",
              "      <th>Total Amount Due</th>\n",
              "    </tr>\n",
              "    <tr>\n",
              "      <th>Month</th>\n",
              "      <th></th>\n",
              "    </tr>\n",
              "  </thead>\n",
              "  <tbody>\n",
              "    <tr>\n",
              "      <th>1.00</th>\n",
              "      <td>2,698,669.85</td>\n",
              "    </tr>\n",
              "    <tr>\n",
              "      <th>2.00</th>\n",
              "      <td>3,444,079.11</td>\n",
              "    </tr>\n",
              "    <tr>\n",
              "      <th>3.00</th>\n",
              "      <td>4,107,219.93</td>\n",
              "    </tr>\n",
              "    <tr>\n",
              "      <th>4.00</th>\n",
              "      <td>4,050,413.53</td>\n",
              "    </tr>\n",
              "    <tr>\n",
              "      <th>5.00</th>\n",
              "      <td>5,045,346.80</td>\n",
              "    </tr>\n",
              "    <tr>\n",
              "      <th>6.00</th>\n",
              "      <td>5,128,678.34</td>\n",
              "    </tr>\n",
              "    <tr>\n",
              "      <th>7.00</th>\n",
              "      <td>4,776,748.44</td>\n",
              "    </tr>\n",
              "    <tr>\n",
              "      <th>8.00</th>\n",
              "      <td>4,104,939.48</td>\n",
              "    </tr>\n",
              "    <tr>\n",
              "      <th>9.00</th>\n",
              "      <td>4,824,755.94</td>\n",
              "    </tr>\n",
              "    <tr>\n",
              "      <th>10.00</th>\n",
              "      <td>5,664,127.70</td>\n",
              "    </tr>\n",
              "    <tr>\n",
              "      <th>11.00</th>\n",
              "      <td>4,603,671.92</td>\n",
              "    </tr>\n",
              "    <tr>\n",
              "      <th>12.00</th>\n",
              "      <td>2,301,880.43</td>\n",
              "    </tr>\n",
              "  </tbody>\n",
              "</table>\n",
              "</div>\n",
              "      <button class=\"colab-df-convert\" onclick=\"convertToInteractive('df-783fde8f-f10c-49ae-80c5-8f32bf7f2c7e')\"\n",
              "              title=\"Convert this dataframe to an interactive table.\"\n",
              "              style=\"display:none;\">\n",
              "        \n",
              "  <svg xmlns=\"http://www.w3.org/2000/svg\" height=\"24px\"viewBox=\"0 0 24 24\"\n",
              "       width=\"24px\">\n",
              "    <path d=\"M0 0h24v24H0V0z\" fill=\"none\"/>\n",
              "    <path d=\"M18.56 5.44l.94 2.06.94-2.06 2.06-.94-2.06-.94-.94-2.06-.94 2.06-2.06.94zm-11 1L8.5 8.5l.94-2.06 2.06-.94-2.06-.94L8.5 2.5l-.94 2.06-2.06.94zm10 10l.94 2.06.94-2.06 2.06-.94-2.06-.94-.94-2.06-.94 2.06-2.06.94z\"/><path d=\"M17.41 7.96l-1.37-1.37c-.4-.4-.92-.59-1.43-.59-.52 0-1.04.2-1.43.59L10.3 9.45l-7.72 7.72c-.78.78-.78 2.05 0 2.83L4 21.41c.39.39.9.59 1.41.59.51 0 1.02-.2 1.41-.59l7.78-7.78 2.81-2.81c.8-.78.8-2.07 0-2.86zM5.41 20L4 18.59l7.72-7.72 1.47 1.35L5.41 20z\"/>\n",
              "  </svg>\n",
              "      </button>\n",
              "      \n",
              "  <style>\n",
              "    .colab-df-container {\n",
              "      display:flex;\n",
              "      flex-wrap:wrap;\n",
              "      gap: 12px;\n",
              "    }\n",
              "\n",
              "    .colab-df-convert {\n",
              "      background-color: #E8F0FE;\n",
              "      border: none;\n",
              "      border-radius: 50%;\n",
              "      cursor: pointer;\n",
              "      display: none;\n",
              "      fill: #1967D2;\n",
              "      height: 32px;\n",
              "      padding: 0 0 0 0;\n",
              "      width: 32px;\n",
              "    }\n",
              "\n",
              "    .colab-df-convert:hover {\n",
              "      background-color: #E2EBFA;\n",
              "      box-shadow: 0px 1px 2px rgba(60, 64, 67, 0.3), 0px 1px 3px 1px rgba(60, 64, 67, 0.15);\n",
              "      fill: #174EA6;\n",
              "    }\n",
              "\n",
              "    [theme=dark] .colab-df-convert {\n",
              "      background-color: #3B4455;\n",
              "      fill: #D2E3FC;\n",
              "    }\n",
              "\n",
              "    [theme=dark] .colab-df-convert:hover {\n",
              "      background-color: #434B5C;\n",
              "      box-shadow: 0px 1px 3px 1px rgba(0, 0, 0, 0.15);\n",
              "      filter: drop-shadow(0px 1px 2px rgba(0, 0, 0, 0.3));\n",
              "      fill: #FFFFFF;\n",
              "    }\n",
              "  </style>\n",
              "\n",
              "      <script>\n",
              "        const buttonEl =\n",
              "          document.querySelector('#df-783fde8f-f10c-49ae-80c5-8f32bf7f2c7e button.colab-df-convert');\n",
              "        buttonEl.style.display =\n",
              "          google.colab.kernel.accessAllowed ? 'block' : 'none';\n",
              "\n",
              "        async function convertToInteractive(key) {\n",
              "          const element = document.querySelector('#df-783fde8f-f10c-49ae-80c5-8f32bf7f2c7e');\n",
              "          const dataTable =\n",
              "            await google.colab.kernel.invokeFunction('convertToInteractive',\n",
              "                                                     [key], {});\n",
              "          if (!dataTable) return;\n",
              "\n",
              "          const docLinkHtml = 'Like what you see? Visit the ' +\n",
              "            '<a target=\"_blank\" href=https://colab.research.google.com/notebooks/data_table.ipynb>data table notebook</a>'\n",
              "            + ' to learn more about interactive tables.';\n",
              "          element.innerHTML = '';\n",
              "          dataTable['output_type'] = 'display_data';\n",
              "          await google.colab.output.renderOutput(dataTable, element);\n",
              "          const docLink = document.createElement('div');\n",
              "          docLink.innerHTML = docLinkHtml;\n",
              "          element.appendChild(docLink);\n",
              "        }\n",
              "      </script>\n",
              "    </div>\n",
              "  </div>\n",
              "  "
            ]
          },
          "metadata": {},
          "execution_count": 64
        }
      ]
    },
    {
      "cell_type": "code",
      "source": [
        "sns.set_style('whitegrid')\n",
        "sns.set(rc={'figure.figsize':(12,6)})\n",
        "sns.set_theme(style=\"whitegrid\", palette=\"pastel\")\n",
        "\n",
        "labels = [1, 2, 3, 4, 5, 6, 7, 8, 9, 10, 11, 12]\n",
        "ylabels = [2000000,3000000,4000000,5000000,6000000]\n",
        "\n",
        "ax = sns.lineplot(data=dfsumM1, x ='Month', y = 'Total Amount Due',                \n",
        "                  legend='full', lw=3, color='red', marker='o', markersize=10)\n",
        "\n",
        "ax = plt.gca()\n",
        "#ax.set_facecolor(\"Transparent\")\n",
        "ax.patch.set_alpha(1.0)\n",
        "ax.set_xticklabels(['Jan', 'Feb', 'Mar', 'Apr', 'May', 'Jun', 'Jul', 'Aug', 'Sep', 'Oct', 'Nov', 'Dec'])\n",
        "\n",
        "plt.suptitle(\"Montgomery County Hotel Taxes to Be Collected (Month)\",fontsize=16,fontweight='bold')\n",
        "plt.title(\"2019 - 2022\", fontsize = 16,fontweight='bold')\n",
        "plt.ylabel(\"Total Amount in 10 Million ($)\", fontweight='bold')\n",
        "plt.xticks(labels, rotation='vertical')\n",
        "plt.yticks(ylabels, rotation='vertical')\n",
        "plt.xlabel('Month', fontsize=16,fontweight='bold')\n",
        "plt.grid(True)\n",
        "plt.show()"
      ],
      "metadata": {
        "colab": {
          "base_uri": "https://localhost:8080/",
          "height": 550
        },
        "id": "Yg_dkcJVbgtA",
        "outputId": "954e456e-feed-4c14-c4d3-3cc8830b4f67"
      },
      "execution_count": null,
      "outputs": [
        {
          "output_type": "stream",
          "name": "stderr",
          "text": [
            "<ipython-input-94-b5b32bddd3e2>:14: UserWarning: FixedFormatter should only be used together with FixedLocator\n",
            "  ax.set_xticklabels(['Jan', 'Feb', 'Mar', 'Apr', 'May', 'Jun', 'Jul', 'Aug', 'Sep', 'Oct', 'Nov', 'Dec'])\n"
          ]
        },
        {
          "output_type": "display_data",
          "data": {
            "text/plain": [
              "<Figure size 960x480 with 1 Axes>"
            ],
            "image/png": "[encoded data removed]"
          },
          "metadata": {}
        }
      ]
    },
    {
      "cell_type": "code",
      "source": [
        "#Sum of taxes due by Quarter\n",
        "dfsumQ = df2.groupby(['Quarter']).sum()\n",
        "removcol1= ['Year','Month','Taxable Amount', 'Tax Due', 'Interest', 'Penalty']\n",
        "dfsumQ1= dfsumQ.drop(columns=removcol1)\n",
        "dfsumQ1.head(12)"
      ],
      "metadata": {
        "colab": {
          "base_uri": "https://localhost:8080/",
          "height": 261
        },
        "id": "S6Ijf9rGjqI5",
        "outputId": "15051aa1-99e3-40f0-b62b-8636136b6221"
      },
      "execution_count": null,
      "outputs": [
        {
          "output_type": "stream",
          "name": "stderr",
          "text": [
            "<ipython-input-85-3fd460b8a3e8>:1: FutureWarning: The default value of numeric_only in DataFrameGroupBy.sum is deprecated. In a future version, numeric_only will default to False. Either specify numeric_only or select only columns which should be valid for the function.\n",
            "  dfsumQ = df2.groupby(['Quarter']).sum()\n"
          ]
        },
        {
          "output_type": "execute_result",
          "data": {
            "text/plain": [
              "         Total Amount Due\n",
              "Quarter                  \n",
              "1.00           605,832.26\n",
              "2.00         1,013,111.84\n",
              "3.00         1,004,719.74\n",
              "4.00           694,666.34"
            ],
            "text/html": [
              "\n",
              "  <div id=\"df-4491b08c-8222-409a-89cd-2c714405f728\">\n",
              "    <div class=\"colab-df-container\">\n",
              "      <div>\n",
              "<style scoped>\n",
              "    .dataframe tbody tr th:only-of-type {\n",
              "        vertical-align: middle;\n",
              "    }\n",
              "\n",
              "    .dataframe tbody tr th {\n",
              "        vertical-align: top;\n",
              "    }\n",
              "\n",
              "    .dataframe thead th {\n",
              "        text-align: right;\n",
              "    }\n",
              "</style>\n",
              "<table border=\"1\" class=\"dataframe\">\n",
              "  <thead>\n",
              "    <tr style=\"text-align: right;\">\n",
              "      <th></th>\n",
              "      <th>Total Amount Due</th>\n",
              "    </tr>\n",
              "    <tr>\n",
              "      <th>Quarter</th>\n",
              "      <th></th>\n",
              "    </tr>\n",
              "  </thead>\n",
              "  <tbody>\n",
              "    <tr>\n",
              "      <th>1.00</th>\n",
              "      <td>605,832.26</td>\n",
              "    </tr>\n",
              "    <tr>\n",
              "      <th>2.00</th>\n",
              "      <td>1,013,111.84</td>\n",
              "    </tr>\n",
              "    <tr>\n",
              "      <th>3.00</th>\n",
              "      <td>1,004,719.74</td>\n",
              "    </tr>\n",
              "    <tr>\n",
              "      <th>4.00</th>\n",
              "      <td>694,666.34</td>\n",
              "    </tr>\n",
              "  </tbody>\n",
              "</table>\n",
              "</div>\n",
              "      <button class=\"colab-df-convert\" onclick=\"convertToInteractive('df-4491b08c-8222-409a-89cd-2c714405f728')\"\n",
              "              title=\"Convert this dataframe to an interactive table.\"\n",
              "              style=\"display:none;\">\n",
              "        \n",
              "  <svg xmlns=\"http://www.w3.org/2000/svg\" height=\"24px\"viewBox=\"0 0 24 24\"\n",
              "       width=\"24px\">\n",
              "    <path d=\"M0 0h24v24H0V0z\" fill=\"none\"/>\n",
              "    <path d=\"M18.56 5.44l.94 2.06.94-2.06 2.06-.94-2.06-.94-.94-2.06-.94 2.06-2.06.94zm-11 1L8.5 8.5l.94-2.06 2.06-.94-2.06-.94L8.5 2.5l-.94 2.06-2.06.94zm10 10l.94 2.06.94-2.06 2.06-.94-2.06-.94-.94-2.06-.94 2.06-2.06.94z\"/><path d=\"M17.41 7.96l-1.37-1.37c-.4-.4-.92-.59-1.43-.59-.52 0-1.04.2-1.43.59L10.3 9.45l-7.72 7.72c-.78.78-.78 2.05 0 2.83L4 21.41c.39.39.9.59 1.41.59.51 0 1.02-.2 1.41-.59l7.78-7.78 2.81-2.81c.8-.78.8-2.07 0-2.86zM5.41 20L4 18.59l7.72-7.72 1.47 1.35L5.41 20z\"/>\n",
              "  </svg>\n",
              "      </button>\n",
              "      \n",
              "  <style>\n",
              "    .colab-df-container {\n",
              "      display:flex;\n",
              "      flex-wrap:wrap;\n",
              "      gap: 12px;\n",
              "    }\n",
              "\n",
              "    .colab-df-convert {\n",
              "      background-color: #E8F0FE;\n",
              "      border: none;\n",
              "      border-radius: 50%;\n",
              "      cursor: pointer;\n",
              "      display: none;\n",
              "      fill: #1967D2;\n",
              "      height: 32px;\n",
              "      padding: 0 0 0 0;\n",
              "      width: 32px;\n",
              "    }\n",
              "\n",
              "    .colab-df-convert:hover {\n",
              "      background-color: #E2EBFA;\n",
              "      box-shadow: 0px 1px 2px rgba(60, 64, 67, 0.3), 0px 1px 3px 1px rgba(60, 64, 67, 0.15);\n",
              "      fill: #174EA6;\n",
              "    }\n",
              "\n",
              "    [theme=dark] .colab-df-convert {\n",
              "      background-color: #3B4455;\n",
              "      fill: #D2E3FC;\n",
              "    }\n",
              "\n",
              "    [theme=dark] .colab-df-convert:hover {\n",
              "      background-color: #434B5C;\n",
              "      box-shadow: 0px 1px 3px 1px rgba(0, 0, 0, 0.15);\n",
              "      filter: drop-shadow(0px 1px 2px rgba(0, 0, 0, 0.3));\n",
              "      fill: #FFFFFF;\n",
              "    }\n",
              "  </style>\n",
              "\n",
              "      <script>\n",
              "        const buttonEl =\n",
              "          document.querySelector('#df-4491b08c-8222-409a-89cd-2c714405f728 button.colab-df-convert');\n",
              "        buttonEl.style.display =\n",
              "          google.colab.kernel.accessAllowed ? 'block' : 'none';\n",
              "\n",
              "        async function convertToInteractive(key) {\n",
              "          const element = document.querySelector('#df-4491b08c-8222-409a-89cd-2c714405f728');\n",
              "          const dataTable =\n",
              "            await google.colab.kernel.invokeFunction('convertToInteractive',\n",
              "                                                     [key], {});\n",
              "          if (!dataTable) return;\n",
              "\n",
              "          const docLinkHtml = 'Like what you see? Visit the ' +\n",
              "            '<a target=\"_blank\" href=https://colab.research.google.com/notebooks/data_table.ipynb>data table notebook</a>'\n",
              "            + ' to learn more about interactive tables.';\n",
              "          element.innerHTML = '';\n",
              "          dataTable['output_type'] = 'display_data';\n",
              "          await google.colab.output.renderOutput(dataTable, element);\n",
              "          const docLink = document.createElement('div');\n",
              "          docLink.innerHTML = docLinkHtml;\n",
              "          element.appendChild(docLink);\n",
              "        }\n",
              "      </script>\n",
              "    </div>\n",
              "  </div>\n",
              "  "
            ]
          },
          "metadata": {},
          "execution_count": 85
        }
      ]
    },
    {
      "cell_type": "code",
      "source": [
        "sns.set_style('whitegrid')\n",
        "sns.set(rc={'figure.figsize':(12,6)})\n",
        "sns.set_theme(style=\"whitegrid\", palette=\"pastel\")\n",
        "\n",
        "labels = [1, 2, 3, 4]\n",
        "ylabels = [2000000,3000000,4000000,5000000,6000000]\n",
        "\n",
        "ax = sns.lineplot(data=dfsumQ1, x ='Quarter', y = 'Total Amount Due',                \n",
        "                  legend='full', lw=3, color='red', marker='o', markersize=10)\n",
        "\n",
        "ax = plt.gca()\n",
        "#ax.set_facecolor(\"Transparent\")\n",
        "ax.patch.set_alpha(1.0)\n",
        "#ax.set_xticklabels(['Jan', 'Feb', 'Mar', 'Apr', 'May', 'Jun', 'Jul', 'Aug', 'Sep', 'Oct', 'Nov', 'Dec'])\n",
        "\n",
        "plt.suptitle(\"Montgomery County Hotel Taxes to Be Collected (Quarter)\",fontsize=16,fontweight='bold')\n",
        "plt.title(\"2019 - 2022\", fontsize = 16,fontweight='bold')\n",
        "plt.ylabel(\"Total Amount in 10 Million ($)\", fontweight='bold')\n",
        "plt.xticks(labels, rotation='vertical')\n",
        "plt.yticks(ylabels, rotation='vertical')\n",
        "plt.xlabel('Quarter', fontsize=16,fontweight='bold')\n",
        "plt.grid(True)\n",
        "plt.show()"
      ],
      "metadata": {
        "colab": {
          "base_uri": "https://localhost:8080/",
          "height": 497
        },
        "id": "W6MfkCZAkTrj",
        "outputId": "319cb113-6923-4b52-817f-88bdd0bfcb27"
      },
      "execution_count": null,
      "outputs": [
        {
          "output_type": "display_data",
          "data": {
            "text/plain": [
              "<Figure size 960x480 with 1 Axes>"
            ],
            "image/png": "[encoded data removed]"
          },
          "metadata": {}
        }
      ]
    },
    {
      "cell_type": "markdown",
      "source": [
        "# **Building a model**\n",
        "\n",
        "**Use scikit-learn logistic regression to train, test and predict Penalty.**\n"
      ],
      "metadata": {
        "id": "iB67A3r9hPel"
      }
    },
    {
      "cell_type": "markdown",
      "source": [
        "Train Test Split: Creating and Training a Model in Scikit-Learn"
      ],
      "metadata": {
        "id": "Y-6imK41vorf"
      }
    },
    {
      "cell_type": "markdown",
      "source": [
        "#Getting dataset ready "
      ],
      "metadata": {
        "id": "fholoNrg--78"
      }
    },
    {
      "cell_type": "code",
      "source": [
        "# Arrange the data into features and target\n",
        "dfsumodel = dfsumf.reset_index()\n",
        "\n",
        "dfsumodel.head()\n",
        "dfsumodel.shape"
      ],
      "metadata": {
        "colab": {
          "base_uri": "https://localhost:8080/"
        },
        "id": "0-f2Ts58ErX4",
        "outputId": "e8fb52f1-12c8-4a42-d453-6f0e00e945ef"
      },
      "execution_count": null,
      "outputs": [
        {
          "output_type": "execute_result",
          "data": {
            "text/plain": [
              "(134, 7)"
            ]
          },
          "metadata": {},
          "execution_count": 47
        }
      ]
    },
    {
      "cell_type": "code",
      "source": [
        "# Adding a new column using the np.select() function\n",
        "# create a list of our conditions\n",
        "conditions = [\n",
        "    (dfsumodel['Penalty'] == 0.00),\n",
        "    (dfsumodel['Penalty'] > 0) \n",
        "    ]\n",
        "\n",
        "# create a list of the values we want to assign for each condition\n",
        "values = [0,1]\n",
        "\n",
        "# create a new column and use np.select to assign values to it using our lists as arguments\n",
        "dfsumodel['Outcome'] = np.select(conditions, values)\n",
        "\n",
        "\n"
      ],
      "metadata": {
        "id": "wAiIbsIuAzlu"
      },
      "execution_count": null,
      "outputs": []
    },
    {
      "cell_type": "code",
      "source": [
        "# Replace Filing Frequency Values with Numbers\n",
        "# Adding a new column using the np.select() function\n",
        "# create a list of our conditions\n",
        "conditions = [\n",
        "    (dfsumodel['Filing Frequency'] == 'M'),\n",
        "    (dfsumodel['Filing Frequency'] == 'Q') \n",
        "    ]\n",
        "\n",
        "# create a list of the values we want to assign for each condition\n",
        "values = [0,1]\n",
        "\n",
        "# create a new column and use np.select to assign values to it using our lists as arguments\n",
        "dfsumodel['Mode'] = np.select(conditions, values)\n",
        "\n",
        "dfsumodel.head(5)"
      ],
      "metadata": {
        "colab": {
          "base_uri": "https://localhost:8080/",
          "height": 206
        },
        "id": "T56KkVQL9vr8",
        "outputId": "f00a4c2f-efc8-4f29-b46d-cebe41127243"
      },
      "execution_count": null,
      "outputs": [
        {
          "output_type": "execute_result",
          "data": {
            "text/plain": [
              "                                                Name Filing Frequency  \\\n",
              "0                               5520 Wisconsin Assoc                M   \n",
              "1                         7359 Wisconsin Avenue, LLC                M   \n",
              "2  A-TBC Bethesda Owner, LLC dba Doubletree Bethe...                M   \n",
              "3             AIL Hospitality LLC dba Radisson Hotel                M   \n",
              "4            AIL Hospitality LLC dba Sleep Inn Hotel                M   \n",
              "\n",
              "   Taxable Amount      Tax Due  Interest  Penalty  Total Amount Due  Outcome  \\\n",
              "0   11,999,117.67   839,938.17     63.84   319.23        840,321.25        1   \n",
              "1    2,340,139.48   163,809.74      0.00     0.00        163,809.74        0   \n",
              "2   15,686,991.14 1,098,089.23      0.00     0.00      1,098,089.23        0   \n",
              "3    7,323,949.88   512,676.27    282.76 1,413.82        514,372.87        1   \n",
              "4    5,039,427.09   352,759.65    137.41   687.08        353,584.16        1   \n",
              "\n",
              "   Mode  \n",
              "0     0  \n",
              "1     0  \n",
              "2     0  \n",
              "3     0  \n",
              "4     0  "
            ],
            "text/html": [
              "\n",
              "  <div id=\"df-46154eaa-66ab-4d59-9994-437747e6d11b\">\n",
              "    <div class=\"colab-df-container\">\n",
              "      <div>\n",
              "<style scoped>\n",
              "    .dataframe tbody tr th:only-of-type {\n",
              "        vertical-align: middle;\n",
              "    }\n",
              "\n",
              "    .dataframe tbody tr th {\n",
              "        vertical-align: top;\n",
              "    }\n",
              "\n",
              "    .dataframe thead th {\n",
              "        text-align: right;\n",
              "    }\n",
              "</style>\n",
              "<table border=\"1\" class=\"dataframe\">\n",
              "  <thead>\n",
              "    <tr style=\"text-align: right;\">\n",
              "      <th></th>\n",
              "      <th>Name</th>\n",
              "      <th>Filing Frequency</th>\n",
              "      <th>Taxable Amount</th>\n",
              "      <th>Tax Due</th>\n",
              "      <th>Interest</th>\n",
              "      <th>Penalty</th>\n",
              "      <th>Total Amount Due</th>\n",
              "      <th>Outcome</th>\n",
              "      <th>Mode</th>\n",
              "    </tr>\n",
              "  </thead>\n",
              "  <tbody>\n",
              "    <tr>\n",
              "      <th>0</th>\n",
              "      <td>5520 Wisconsin Assoc</td>\n",
              "      <td>M</td>\n",
              "      <td>11,999,117.67</td>\n",
              "      <td>839,938.17</td>\n",
              "      <td>63.84</td>\n",
              "      <td>319.23</td>\n",
              "      <td>840,321.25</td>\n",
              "      <td>1</td>\n",
              "      <td>0</td>\n",
              "    </tr>\n",
              "    <tr>\n",
              "      <th>1</th>\n",
              "      <td>7359 Wisconsin Avenue, LLC</td>\n",
              "      <td>M</td>\n",
              "      <td>2,340,139.48</td>\n",
              "      <td>163,809.74</td>\n",
              "      <td>0.00</td>\n",
              "      <td>0.00</td>\n",
              "      <td>163,809.74</td>\n",
              "      <td>0</td>\n",
              "      <td>0</td>\n",
              "    </tr>\n",
              "    <tr>\n",
              "      <th>2</th>\n",
              "      <td>A-TBC Bethesda Owner, LLC dba Doubletree Bethe...</td>\n",
              "      <td>M</td>\n",
              "      <td>15,686,991.14</td>\n",
              "      <td>1,098,089.23</td>\n",
              "      <td>0.00</td>\n",
              "      <td>0.00</td>\n",
              "      <td>1,098,089.23</td>\n",
              "      <td>0</td>\n",
              "      <td>0</td>\n",
              "    </tr>\n",
              "    <tr>\n",
              "      <th>3</th>\n",
              "      <td>AIL Hospitality LLC dba Radisson Hotel</td>\n",
              "      <td>M</td>\n",
              "      <td>7,323,949.88</td>\n",
              "      <td>512,676.27</td>\n",
              "      <td>282.76</td>\n",
              "      <td>1,413.82</td>\n",
              "      <td>514,372.87</td>\n",
              "      <td>1</td>\n",
              "      <td>0</td>\n",
              "    </tr>\n",
              "    <tr>\n",
              "      <th>4</th>\n",
              "      <td>AIL Hospitality LLC dba Sleep Inn Hotel</td>\n",
              "      <td>M</td>\n",
              "      <td>5,039,427.09</td>\n",
              "      <td>352,759.65</td>\n",
              "      <td>137.41</td>\n",
              "      <td>687.08</td>\n",
              "      <td>353,584.16</td>\n",
              "      <td>1</td>\n",
              "      <td>0</td>\n",
              "    </tr>\n",
              "  </tbody>\n",
              "</table>\n",
              "</div>\n",
              "      <button class=\"colab-df-convert\" onclick=\"convertToInteractive('df-46154eaa-66ab-4d59-9994-437747e6d11b')\"\n",
              "              title=\"Convert this dataframe to an interactive table.\"\n",
              "              style=\"display:none;\">\n",
              "        \n",
              "  <svg xmlns=\"http://www.w3.org/2000/svg\" height=\"24px\"viewBox=\"0 0 24 24\"\n",
              "       width=\"24px\">\n",
              "    <path d=\"M0 0h24v24H0V0z\" fill=\"none\"/>\n",
              "    <path d=\"M18.56 5.44l.94 2.06.94-2.06 2.06-.94-2.06-.94-.94-2.06-.94 2.06-2.06.94zm-11 1L8.5 8.5l.94-2.06 2.06-.94-2.06-.94L8.5 2.5l-.94 2.06-2.06.94zm10 10l.94 2.06.94-2.06 2.06-.94-2.06-.94-.94-2.06-.94 2.06-2.06.94z\"/><path d=\"M17.41 7.96l-1.37-1.37c-.4-.4-.92-.59-1.43-.59-.52 0-1.04.2-1.43.59L10.3 9.45l-7.72 7.72c-.78.78-.78 2.05 0 2.83L4 21.41c.39.39.9.59 1.41.59.51 0 1.02-.2 1.41-.59l7.78-7.78 2.81-2.81c.8-.78.8-2.07 0-2.86zM5.41 20L4 18.59l7.72-7.72 1.47 1.35L5.41 20z\"/>\n",
              "  </svg>\n",
              "      </button>\n",
              "      \n",
              "  <style>\n",
              "    .colab-df-container {\n",
              "      display:flex;\n",
              "      flex-wrap:wrap;\n",
              "      gap: 12px;\n",
              "    }\n",
              "\n",
              "    .colab-df-convert {\n",
              "      background-color: #E8F0FE;\n",
              "      border: none;\n",
              "      border-radius: 50%;\n",
              "      cursor: pointer;\n",
              "      display: none;\n",
              "      fill: #1967D2;\n",
              "      height: 32px;\n",
              "      padding: 0 0 0 0;\n",
              "      width: 32px;\n",
              "    }\n",
              "\n",
              "    .colab-df-convert:hover {\n",
              "      background-color: #E2EBFA;\n",
              "      box-shadow: 0px 1px 2px rgba(60, 64, 67, 0.3), 0px 1px 3px 1px rgba(60, 64, 67, 0.15);\n",
              "      fill: #174EA6;\n",
              "    }\n",
              "\n",
              "    [theme=dark] .colab-df-convert {\n",
              "      background-color: #3B4455;\n",
              "      fill: #D2E3FC;\n",
              "    }\n",
              "\n",
              "    [theme=dark] .colab-df-convert:hover {\n",
              "      background-color: #434B5C;\n",
              "      box-shadow: 0px 1px 3px 1px rgba(0, 0, 0, 0.15);\n",
              "      filter: drop-shadow(0px 1px 2px rgba(0, 0, 0, 0.3));\n",
              "      fill: #FFFFFF;\n",
              "    }\n",
              "  </style>\n",
              "\n",
              "      <script>\n",
              "        const buttonEl =\n",
              "          document.querySelector('#df-46154eaa-66ab-4d59-9994-437747e6d11b button.colab-df-convert');\n",
              "        buttonEl.style.display =\n",
              "          google.colab.kernel.accessAllowed ? 'block' : 'none';\n",
              "\n",
              "        async function convertToInteractive(key) {\n",
              "          const element = document.querySelector('#df-46154eaa-66ab-4d59-9994-437747e6d11b');\n",
              "          const dataTable =\n",
              "            await google.colab.kernel.invokeFunction('convertToInteractive',\n",
              "                                                     [key], {});\n",
              "          if (!dataTable) return;\n",
              "\n",
              "          const docLinkHtml = 'Like what you see? Visit the ' +\n",
              "            '<a target=\"_blank\" href=https://colab.research.google.com/notebooks/data_table.ipynb>data table notebook</a>'\n",
              "            + ' to learn more about interactive tables.';\n",
              "          element.innerHTML = '';\n",
              "          dataTable['output_type'] = 'display_data';\n",
              "          await google.colab.output.renderOutput(dataTable, element);\n",
              "          const docLink = document.createElement('div');\n",
              "          docLink.innerHTML = docLinkHtml;\n",
              "          element.appendChild(docLink);\n",
              "        }\n",
              "      </script>\n",
              "    </div>\n",
              "  </div>\n",
              "  "
            ]
          },
          "metadata": {},
          "execution_count": 49
        }
      ]
    },
    {
      "cell_type": "code",
      "source": [
        "dfsumodel.shape"
      ],
      "metadata": {
        "colab": {
          "base_uri": "https://localhost:8080/"
        },
        "id": "kyzPs5Ai6I2U",
        "outputId": "2b9c47b6-b540-41af-fe4e-a3dac1f66b77"
      },
      "execution_count": null,
      "outputs": [
        {
          "output_type": "execute_result",
          "data": {
            "text/plain": [
              "(134, 9)"
            ]
          },
          "metadata": {},
          "execution_count": 50
        }
      ]
    },
    {
      "cell_type": "markdown",
      "source": [
        "#Selecting Features and Test/Train"
      ],
      "metadata": {
        "id": "H3ryXs5r_OuL"
      }
    },
    {
      "cell_type": "code",
      "source": [
        "features = [ 'Mode']\n",
        "X = dfsumodel.loc[:,features]\n",
        "target = ['Outcome']\n",
        "y = dfsumodel.loc[:, target]"
      ],
      "metadata": {
        "id": "-nPLQ1o2AmTt"
      },
      "execution_count": null,
      "outputs": []
    },
    {
      "cell_type": "markdown",
      "source": [
        "In the code below, train_test_split splits the data and returns a list which contains four NumPy arrays, while train_size = .70 puts 70 percent of the data into a training set and the remaining 30 percent into a testing set."
      ],
      "metadata": {
        "id": "Cw_hQkWpYqQI"
      }
    },
    {
      "cell_type": "code",
      "source": [
        "#Split the data into training and testing\n",
        "\n",
        "X_train, X_test, y_train, y_test = train_test_split( X, y, test_size=0.30)"
      ],
      "metadata": {
        "id": "0LT1qCvlY2yo"
      },
      "execution_count": null,
      "outputs": []
    },
    {
      "cell_type": "code",
      "source": [
        "# Shows the number of rows and columns for each variable\n",
        "X_train.shape, y_train.shape"
      ],
      "metadata": {
        "colab": {
          "base_uri": "https://localhost:8080/"
        },
        "id": "d2fkrU__wEnM",
        "outputId": "7dd16669-5d81-4073-e280-3924b222c8f4"
      },
      "execution_count": null,
      "outputs": [
        {
          "output_type": "execute_result",
          "data": {
            "text/plain": [
              "((93, 1), (93, 1))"
            ]
          },
          "metadata": {},
          "execution_count": 53
        }
      ]
    },
    {
      "cell_type": "code",
      "source": [
        "X_test.shape, y_test.shape"
      ],
      "metadata": {
        "colab": {
          "base_uri": "https://localhost:8080/"
        },
        "id": "AL3qIJcR_9NE",
        "outputId": "4293fca3-4a77-40b4-cd0f-812880e9516c"
      },
      "execution_count": null,
      "outputs": [
        {
          "output_type": "execute_result",
          "data": {
            "text/plain": [
              "((41, 1), (41, 1))"
            ]
          },
          "metadata": {},
          "execution_count": 54
        }
      ]
    },
    {
      "cell_type": "markdown",
      "source": [
        "#Instantiate, preprocess, train, and predict (test)"
      ],
      "metadata": {
        "id": "swPloEosAIBJ"
      }
    },
    {
      "cell_type": "code",
      "source": [
        "LogReg = LogisticRegression()\n",
        "\n",
        "\n",
        "scaler = preprocessing.StandardScaler()\n",
        "X_train = scaler.fit_transform(X_train)\n",
        "X_test = scaler.transform(X_test)\n",
        "\n",
        "\n",
        "#TRAIN THE MODEL ON THE DATA\n",
        "LogReg.fit(X_train,y_train)\n",
        "\n",
        "#PREDICT LABELS OF UNSEEN TEST DATA\n",
        "y_pred=LogReg.predict(X_test)"
      ],
      "metadata": {
        "colab": {
          "base_uri": "https://localhost:8080/"
        },
        "id": "KfFXkR0kAGfE",
        "outputId": "9bb0a533-9934-49c7-bac6-e6a3563c470e"
      },
      "execution_count": null,
      "outputs": [
        {
          "output_type": "stream",
          "name": "stderr",
          "text": [
            "/usr/local/lib/python3.10/dist-packages/sklearn/utils/validation.py:1143: DataConversionWarning: A column-vector y was passed when a 1d array was expected. Please change the shape of y to (n_samples, ), for example using ravel().\n",
            "  y = column_or_1d(y, warn=True)\n"
          ]
        }
      ]
    },
    {
      "cell_type": "code",
      "source": [
        "print('Classes', LogReg.classes_)\n",
        "print(\"\")\n",
        "print('Intercept',LogReg.intercept_)\n",
        "print(\"\")\n",
        "print(\"Coefficients\", LogReg.coef_ )"
      ],
      "metadata": {
        "colab": {
          "base_uri": "https://localhost:8080/"
        },
        "id": "HJ9GWp8zArvK",
        "outputId": "773ada60-8d97-4b8e-a9e5-dca081c681ba"
      },
      "execution_count": null,
      "outputs": [
        {
          "output_type": "stream",
          "name": "stdout",
          "text": [
            "Classes [0 1]\n",
            "\n",
            "Intercept [-1.57549727]\n",
            "\n",
            "Coefficients [[-0.51885592]]\n"
          ]
        }
      ]
    },
    {
      "cell_type": "markdown",
      "source": [
        "#Accuracy Score and Classification Report"
      ],
      "metadata": {
        "id": "sEr9VrcvA0LD"
      }
    },
    {
      "cell_type": "code",
      "source": [
        "print(\"Accuracy\", LogReg.score(X_test, y_test))\n",
        "print(classification_report(y_test, LogReg.predict(X_test)))"
      ],
      "metadata": {
        "colab": {
          "base_uri": "https://localhost:8080/"
        },
        "id": "BhthzCg2Ay6F",
        "outputId": "21e005d3-92e0-4caa-e979-7b74eefacd92"
      },
      "execution_count": null,
      "outputs": [
        {
          "output_type": "stream",
          "name": "stdout",
          "text": [
            "Accuracy 0.7560975609756098\n",
            "              precision    recall  f1-score   support\n",
            "\n",
            "           0       0.76      1.00      0.86        31\n",
            "           1       0.00      0.00      0.00        10\n",
            "\n",
            "    accuracy                           0.76        41\n",
            "   macro avg       0.38      0.50      0.43        41\n",
            "weighted avg       0.57      0.76      0.65        41\n",
            "\n"
          ]
        },
        {
          "output_type": "stream",
          "name": "stderr",
          "text": [
            "/usr/local/lib/python3.10/dist-packages/sklearn/metrics/_classification.py:1344: UndefinedMetricWarning: Precision and F-score are ill-defined and being set to 0.0 in labels with no predicted samples. Use `zero_division` parameter to control this behavior.\n",
            "  _warn_prf(average, modifier, msg_start, len(result))\n",
            "/usr/local/lib/python3.10/dist-packages/sklearn/metrics/_classification.py:1344: UndefinedMetricWarning: Precision and F-score are ill-defined and being set to 0.0 in labels with no predicted samples. Use `zero_division` parameter to control this behavior.\n",
            "  _warn_prf(average, modifier, msg_start, len(result))\n",
            "/usr/local/lib/python3.10/dist-packages/sklearn/metrics/_classification.py:1344: UndefinedMetricWarning: Precision and F-score are ill-defined and being set to 0.0 in labels with no predicted samples. Use `zero_division` parameter to control this behavior.\n",
            "  _warn_prf(average, modifier, msg_start, len(result))\n"
          ]
        }
      ]
    },
    {
      "cell_type": "code",
      "source": [
        "conf_mat = confusion_matrix(y_test, y_pred)\n",
        "conf_mat"
      ],
      "metadata": {
        "colab": {
          "base_uri": "https://localhost:8080/"
        },
        "id": "sUq-FSlHWmjU",
        "outputId": "bcbcd17c-2487-4a9f-bde5-d5c2c10beb65"
      },
      "execution_count": null,
      "outputs": [
        {
          "output_type": "execute_result",
          "data": {
            "text/plain": [
              "array([[31,  0],\n",
              "       [10,  0]])"
            ]
          },
          "metadata": {},
          "execution_count": 58
        }
      ]
    },
    {
      "cell_type": "code",
      "source": [
        "# Create chart for confusion matrix\n",
        "categories = [0,1] \n",
        "fig, ax = plt.subplots()\n",
        "plt.xticks([0,1], categories)\n",
        "plt.yticks([0,1], categories)\n",
        "# create heatmap\n",
        "sns.heatmap(pd.DataFrame(conf_mat), annot=True, cmap=\"YlGnBu\" ,fmt='g')\n",
        "ax.xaxis.set_label_position(\"bottom\")\n",
        "plt.tight_layout()\n",
        "plt.title('Confusion matrix', y=1.1)\n",
        "plt.ylabel('Actual label')\n",
        "plt.xlabel('Predicted label')"
      ],
      "metadata": {
        "colab": {
          "base_uri": "https://localhost:8080/",
          "height": 580
        },
        "id": "Ioa6anjMXsEL",
        "outputId": "d31a7805-258d-4901-aa79-a6807ba60d84"
      },
      "execution_count": null,
      "outputs": [
        {
          "output_type": "execute_result",
          "data": {
            "text/plain": [
              "Text(0.5, 24.999999999999986, 'Predicted label')"
            ]
          },
          "metadata": {},
          "execution_count": 59
        },
        {
          "output_type": "display_data",
          "data": {
            "text/plain": [
              "<Figure size 640x480 with 2 Axes>"
            ],
            "image/png": "[encoded data removed]"
          },
          "metadata": {}
        }
      ]
    },
    {
      "cell_type": "markdown",
      "source": [
        "True Positive (TP) which refers to a sample belonging to the positive class being classified correctly.\n",
        "\n",
        "The True Negative (TN) refers to a sample belonging to the negative class being classified correctly.\n",
        "\n",
        "The False Positive (FP) refers to a sample belonging to the negative class but being classified wrongly as belonging to the positive class.\n",
        "\n",
        "The False Negative (FN) refers to a sample belonging to the positive class but being classified wrongly as belonging to the negative class."
      ],
      "metadata": {
        "id": "IvC_PDxkYL3A"
      }
    },
    {
      "cell_type": "markdown",
      "source": [
        "# **Conclusion**"
      ],
      "metadata": {
        "id": "VpHR7QHDgLr_"
      }
    },
    {
      "cell_type": "markdown",
      "source": [
        "Our analysis shows that businesses that are paying taxes monthly are more likely to incur penalties. In addition, hotels worldwide have struggled to stay open during the pandemic and the ones in Montgomery County were no exception. In fact, we have observed a net loss of 9 hotels during the pandemic.  Perhaps, these closures could be explained by some confounding factors. Nonetheless, in 2022, hotel taxes revenues have increased in Montgomery County as economies rebounded from the pandemic, but they have not reached pre-pandemic levels yet.\n"
      ],
      "metadata": {
        "id": "Fr1QdBrpxZ7-"
      }
    }
  ]
}